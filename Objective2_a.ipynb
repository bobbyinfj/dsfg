{
 "cells": [
  {
   "cell_type": "markdown",
   "metadata": {},
   "source": [
    "# Data Cleaning: Normalization"
   ]
  },
  {
   "cell_type": "code",
   "execution_count": 1,
   "metadata": {},
   "outputs": [],
   "source": [
    "# Import relevant modules\n",
    "import os           # interface with the underlying OS\n",
    "import numpy as np  # linear algebra\n",
    "import pandas as pd # dataframe\n",
    "import re           # regular expression"
   ]
  },
  {
   "cell_type": "code",
   "execution_count": 5,
   "metadata": {},
   "outputs": [],
   "source": [
    "# Define path to look at\n",
    "path = 'CityofLA/Job Bulletins/'\n",
    "\n",
    "# Get a list of all txt files in this path\n",
    "all_jobs = os.listdir(path)\n",
    "all_jobs.sort() # WARNING: this mutates the list"
   ]
  },
  {
   "cell_type": "code",
   "execution_count": 8,
   "metadata": {},
   "outputs": [
    {
     "name": "stdout",
     "output_type": "stream",
     "text": [
      "683\n",
      "683\n",
      "True\n"
     ]
    }
   ],
   "source": [
    "# Do some checks here\n",
    "print(len(all_jobs))      # length should be 683 as manually verified\n",
    "print(len(set(all_jobs))) # see if each file is unique. hopefully 683 as well!\n",
    "print('SYSTEMS ANALYST 1596 102717.txt' in all_jobs) # should be True"
   ]
  },
  {
   "cell_type": "markdown",
   "metadata": {},
   "source": [
    "## First, Normalize `REQUIREMENTS/MINIMUM QUALIFICATIONS`\n",
    "The idea is to check with code and **manually** insert this phrase into the job descriptions if they don't have it.\n",
    "\n",
    "Let's start with `SYSTEMS ANALYST 1596 102717.txt` to see what approach will work, since we've known so well about it."
   ]
  },
  {
   "cell_type": "code",
   "execution_count": 9,
   "metadata": {},
   "outputs": [
    {
     "name": "stdout",
     "output_type": "stream",
     "text": [
      "609\n"
     ]
    }
   ],
   "source": [
    "# Find `SYSTEMS ANALYST 1596 102717.txt` (which exists). This is legit since we prove above that each file is unqiue\n",
    "print(all_jobs.index('SYSTEMS ANALYST 1596 102717.txt'))"
   ]
  },
  {
   "cell_type": "code",
   "execution_count": 11,
   "metadata": {},
   "outputs": [],
   "source": [
    "# Import this text as string\n",
    "sa_path = path + all_jobs[609]\n",
    "sa = open(sa_path, 'rt').read()"
   ]
  },
  {
   "cell_type": "code",
   "execution_count": 43,
   "metadata": {},
   "outputs": [
    {
     "name": "stdout",
     "output_type": "stream",
     "text": [
      "True\n",
      "True\n",
      "\n",
      "\n",
      "True\n",
      "False\n"
     ]
    }
   ],
   "source": [
    "# Compare these\n",
    "print('REQUIREMENTS/MINIMUM QUALIFICATIONS' in sa)\n",
    "print('REQUIREMENTS' in sa)\n",
    "print()\n",
    "\n",
    "# Versus these\n",
    "print()\n",
    "print('REQUIREMENTS/MINIMUM QUALIFICATIONS' in sa.split('\\n'))\n",
    "print('REQUIREMENTS' in sa.split('\\n'))"
   ]
  },
  {
   "cell_type": "markdown",
   "metadata": {},
   "source": [
    "Thus, well pick the approach in the \"Versus these\" part."
   ]
  },
  {
   "cell_type": "code",
   "execution_count": 47,
   "metadata": {},
   "outputs": [
    {
     "name": "stdout",
     "output_type": "stream",
     "text": [
      "CityofLA/Job Bulletins/311 DIRECTOR  9206 041814.txt\n",
      "CityofLA/Job Bulletins/ACCOUNTANT 1513 062218.txt\n",
      "CityofLA/Job Bulletins/ACCOUNTING CLERK 1223 071318.txt\n",
      "CityofLA/Job Bulletins/ACCOUNTING RECORDS SUPERVISOR 1119 072718.txt\n",
      "CityofLA/Job Bulletins/ADMINISTRATIVE CLERK 1358 033018 (2).txt\n",
      "CityofLA/Job Bulletins/ADMINISTRATIVE HEARING EXAMINER 9135 100915.txt\n",
      "CityofLA/Job Bulletins/ADVANCE PRACTICE PROVIDER CORRECTIONAL CARE 2325 020808 REV 111214.txt\n",
      "CityofLA/Job Bulletins/AIR CONDITIONING MECHANIC SUPERVISOR 3781 111618 2.txt\n",
      "CityofLA/Job Bulletins/AIRPORT AIDE 1540 081018.txt\n",
      "CityofLA/Job Bulletins/AIRPORT CHIEF INFORMATION SECURITY OFFICER 1404 120415_Modified.txt\n",
      "CityofLA/Job Bulletins/AIRPORT ENGINEER 7256 070618.txt\n",
      "CityofLA/Job Bulletins/AIRPORT GUIDE 0845 042018.txt\n",
      "CityofLA/Job Bulletins/AIRPORT INFORMATION SPECIALIST 1783 121115.txt\n",
      "CityofLA/Job Bulletins/AIRPORT POLICE CAPTAIN 3228 021618.txt\n",
      "CityofLA/Job Bulletins/AIRPORT POLICE LIEUTENANT 3227 091616.txt\n",
      "CityofLA/Job Bulletins/AIRPORT POLICE OFFICER 3225 110906 Rev 060115.txt\n",
      "CityofLA/Job Bulletins/AIRPORT POLICE SPECIALIST 3236 063017 (2).txt\n",
      "CityofLA/Job Bulletins/AIRPORT SUPERINTENDENT OF OPERATIONS 7268 121815 (1).txt\n",
      "CityofLA/Job Bulletins/ANIMAL CARE TECHNICIAN 4310 040116 REV 041416.txt\n",
      "CityofLA/Job Bulletins/ANIMAL CARE TECHNICIAN SUPERVISOR 4313 122118.txt\n",
      "CityofLA/Job Bulletins/APPRENTICE - METAL TRADES 3789 070816.txt\n",
      "CityofLA/Job Bulletins/APPRENTICE MACHINIST 3764 071516.txt\n",
      "CityofLA/Job Bulletins/AQUARIST 2400 050214.txt\n",
      "CityofLA/Job Bulletins/AQUARIUM EDUCATOR 2493 010816.txt\n",
      "CityofLA/Job Bulletins/AQUATIC FACILITY MANAGER 2423 052915 REVISED 060915.txt\n",
      "CityofLA/Job Bulletins/AQUEDUCT AND RESERVOIR KEEPER 5813 063017 (1).txt\n",
      "CityofLA/Job Bulletins/AQUEDUCT AND RESERVOIR SUPERVISOR 5816 091115.txt\n",
      "CityofLA/Job Bulletins/ARCHITECTURAL ASSOCIATE 7926 013114 REV 032916.txt\n",
      "CityofLA/Job Bulletins/ARCHIVIST 1191 020918.txt\n",
      "CityofLA/Job Bulletins/ART CENTER DIRECTOR 2478 053014.txt\n",
      "CityofLA/Job Bulletins/ART INSTRUCTOR 2447 051316.txt\n",
      "CityofLA/Job Bulletins/ASBESTOS SUPERVISOR 3440 012916.txt\n",
      "CityofLA/Job Bulletins/ASPHALT PLANT OPERATOR 4143 102414.txt\n",
      "CityofLA/Job Bulletins/ASPHALT PLANT SUPERVISOR 4145 110317.txt\n",
      "CityofLA/Job Bulletins/ASSISTANT DIRECTOR INFORMATION SYSTEMS 9377 030218.txt\n",
      "CityofLA/Job Bulletins/ASSISTANT INSPECTOR 4208 111315.txt\n",
      "CityofLA/Job Bulletins/ASSISTANT RETIREMENT PLAN MANAGER 9415 050616.txt\n",
      "CityofLA/Job Bulletins/ASSISTANT SIGNAL SYSTEMS ELECTRICIAN 3818 073115_REVISED.txt\n",
      "CityofLA/Job Bulletins/ASSISTANT STREET LIGHTING ELECTRICIAN 3809 072117 REV 080818.txt\n",
      "CityofLA/Job Bulletins/AUDIO VISUAL TECHNICIAN 6147 062014.txt\n",
      "CityofLA/Job Bulletins/AUDITOR 1517 031816 (1).txt\n",
      "CityofLA/Job Bulletins/AUTO BODY REPAIR SUPERVISOR 3706 051515.txt\n",
      "CityofLA/Job Bulletins/AUTO ELECTRICIAN 3707 052215.txt\n",
      "CityofLA/Job Bulletins/AUTOMOTIVE DISPATCHER 3595 102017 revised.txt\n",
      "CityofLA/Job Bulletins/AUTOMOTIVE SUPERVISOR 3714 062416.txt\n",
      "CityofLA/Job Bulletins/AVIONICS SPECIALIST 3565 103114revised.txt\n",
      "CityofLA/Job Bulletins/BENEFITS SPECIALIST 1203 011918.txt\n",
      "CityofLA/Job Bulletins/BOILERMAKER 3735 110714.txt\n",
      "CityofLA/Job Bulletins/BOILERMAKER SUPERVISOR 3737 101714.txt\n",
      "CityofLA/Job Bulletins/BUILDING CIVIL ENGINEER 7244 032318.txt\n",
      "CityofLA/Job Bulletins/BUILDING CONSTRUCTION AND MAINTENANCE SUPERINTENDENT 3124 122818.txt\n",
      "CityofLA/Job Bulletins/BUILDING ELECTRICAL ENGINEER 7543 071516 REV 071816.txt\n",
      "CityofLA/Job Bulletins/BUILDING OPERATING ENGINEER 5923 111618 REV 112818.txt\n",
      "CityofLA/Job Bulletins/BUILDING REPAIR SUPERVISOR 3338 111816.txt\n",
      "CityofLA/Job Bulletins/BUILDING REPAIRER 3333 030218.txt\n",
      "CityofLA/Job Bulletins/BUS OPERATOR 3588 090216.txt\n",
      "CityofLA/Job Bulletins/BUS OPERATOR SUPERVISOR 3589 012216.txt\n",
      "CityofLA/Job Bulletins/CARPENTER SUPERVISOR 3346 051316.txt\n",
      "CityofLA/Job Bulletins/CARPET LAYER 3418 061915.txt\n",
      "CityofLA/Job Bulletins/CEMENT FINISHER SUPERVISOR 3354 120916.txt\n",
      "CityofLA/Job Bulletins/CEMENT FINISHER WORKER 3351 103015.txt\n",
      "CityofLA/Job Bulletins/CHIEF ADMINISTRATIVE ANALYST 1554 062416.txt\n",
      "CityofLA/Job Bulletins/CHIEF AIRPORTS ENGINEER 7274 051515 (1).txt\n",
      "CityofLA/Job Bulletins/CHIEF BUILDING OPERATING ENGINEER 5927 080516.txt\n",
      "CityofLA/Job Bulletins/CHIEF CLERK PERSONNEL 1260 042117.txt\n",
      "CityofLA/Job Bulletins/CHIEF CLERK POLICE 1219 061215.txt\n",
      "CityofLA/Job Bulletins/CHIEF CLERK POLICE 1249 083118.txt\n",
      "CityofLA/Job Bulletins/CHIEF CONSTRUCTION INSPECTOR 7296 122818.txt\n",
      "CityofLA/Job Bulletins/CHIEF CUSTODIAN SUPERVISOR 3182 041015.txt\n",
      "CityofLA/Job Bulletins/CHIEF ELECTRIC PLANT OPERATOR 5237 121115.txt\n",
      "CityofLA/Job Bulletins/CHIEF ENVIRONMENTAL COMPLIANCE INSPECTOR 4289 033018.txt\n",
      "CityofLA/Job Bulletins/CHIEF FINANCIAL OFFICER 9230 041114.txt\n",
      "CityofLA/Job Bulletins/CHIEF HARBOR ENGINEER 9286 112015.txt\n",
      "CityofLA/Job Bulletins/CHIEF INSPECTOR 4254 082517.txt\n",
      "CityofLA/Job Bulletins/CHIEF INTERNAL AUDITOR 1619 090916 (5).txt\n",
      "CityofLA/Job Bulletins/CHIEF MANAGEMENT ANALYST 9182 020918.txt\n",
      "CityofLA/Job Bulletins/CHIEF OF DRAFTING OPERATIONS 7271  042018.txt\n",
      "CityofLA/Job Bulletins/CHIEF OF PARKING ENFORCEMENT OPERATIONS 9180 031618.txt\n",
      "CityofLA/Job Bulletins/CHIEF PARK RANGER 1968 120106 REV 121306.txt\n",
      "CityofLA/Job Bulletins/CHIEF PORT PILOT 5154 031816.txt\n",
      "CityofLA/Job Bulletins/CHIEF STREET SERVICES INVESTIGATOR 4286 2017Revised 11.21.txt\n",
      "CityofLA/Job Bulletins/CHIEF TAX COMPLIANCE OFFICER 1211 041814.txt\n",
      "CityofLA/Job Bulletins/CHIEF TRANSPORTATION INVESTIGATOR 4275 103114.txt\n",
      "CityofLA/Job Bulletins/CIVIL ENGINEER 7237 020918.txt\n",
      "CityofLA/Job Bulletins/CLAIMS AGENT 1767 020317.txt\n",
      "CityofLA/Job Bulletins/COMMERCIAL SERVICE SUPERVISOR  1213 061617.txt\n",
      "CityofLA/Job Bulletins/COMMISSION EXECUTIVE ASSISTANT 9734 092118.txt\n",
      "CityofLA/Job Bulletins/COMMUNICATIONS CABLE SUPERVISOR 3800 051917 REVISED 060117.txt\n",
      "CityofLA/Job Bulletins/COMMUNICATIONS CABLE WORKER 3802 11816.txt\n",
      "CityofLA/Job Bulletins/COMMUNITY AFFAIRS ADVOCATE 2496 111414.txt\n",
      "CityofLA/Job Bulletins/COMMUNITY HOUSING PROGRAMS MANAGER 8500 072018 REV 080918 (2).txt\n",
      "CityofLA/Job Bulletins/CONSTRUCTION AND MAINTENANCE SUPERINTENDENT 3129 082616 REV 090816.txt\n",
      "CityofLA/Job Bulletins/CONSTRUCTION AND MAINTENANCE SUPERVISOR 3127 030416.txt\n",
      "CityofLA/Job Bulletins/CONSTRUCTION ESTIMATOR 3341 070816 REVISED 072116 (1).txt\n",
      "CityofLA/Job Bulletins/CORRECTIONAL NURSE 2317 101615.txt\n",
      "CityofLA/Job Bulletins/CRIMINALIST 2234 030918.txt\n",
      "CityofLA/Job Bulletins/CUSTODIAN SUPERVISOR 3176 042817 051117 REV.txt\n",
      "CityofLA/Job Bulletins/CUSTOMER SERVICE REPRESENTATIVE 1230 020918.txt\n",
      "CityofLA/Job Bulletins/DECK HAND 5131 093016.txt\n",
      "CityofLA/Job Bulletins/DEPARTMENTAL CHIEF ACCOUNTANT 1593 111717 revised 11.21.txt\n",
      "CityofLA/Job Bulletins/DIRECTOR OF HOUSING 1568 062317.txt\n",
      "CityofLA/Job Bulletins/DIRECTOR OF MAINTENANCE AIRPORTS 7270 041516.txt\n",
      "CityofLA/Job Bulletins/DIRECTOR OF POLICE TRANSPORTATION 3722 061915.txt\n",
      "CityofLA/Job Bulletins/DIRECTOR OF PORT CONSTRUCTION AND MAINTENANCE 3123 030416.txt\n",
      "CityofLA/Job Bulletins/ELECTRIC DISTRIBUTION MECHANIC SUPERVISOR 3873 102816.txt\n",
      "CityofLA/Job Bulletins/ELECTRIC SERVICE REPRESENTATIVE 7520 020317.txt\n",
      "CityofLA/Job Bulletins/ELECTRIC TROUBLE DISPATCHER 3828 063017 (1).txt\n",
      "CityofLA/Job Bulletins/ELECTRICAL ENGINEERING DRAFTING TECHNICIAN 7532 113018.txt\n",
      "CityofLA/Job Bulletins/ELECTRICAL INSPECTOR 4221 030218.txt\n",
      "CityofLA/Job Bulletins/ELECTRICAL MECHANIC SUPERVISOR 3835 072216 REVISED 080416.txt\n",
      "CityofLA/Job Bulletins/ELECTRICAL REPAIR SUPERVISOR 3855 092217 (7).txt\n",
      "CityofLA/Job Bulletins/ELEVATOR MECHANIC 3866 012717 REV 080718.txt\n",
      "CityofLA/Job Bulletins/ELEVATOR REPAIR SUPERVISOR 032516 REVISED 040516.txt\n",
      "CityofLA/Job Bulletins/EMERGENCY MEDICAL SERVICES EDUCATOR  2322 110615 REV 112515.txt\n",
      "CityofLA/Job Bulletins/EMS NURSE PRACTITIONER SUPERVISOR 2340 031116 REV 032316 (1).txt\n",
      "CityofLA/Job Bulletins/ENGINEER OF SURVEYS 9486 101615.txt\n",
      "CityofLA/Job Bulletins/ENGINEERING DESIGNER 7217 082517 REV 090717.txt\n",
      "CityofLA/Job Bulletins/ENGINEERING GEOLOGIST 7255 022318.txt\n",
      "CityofLA/Job Bulletins/ENGINEERING GEOLOGIST ASSOCIATE 7253 082517.txt\n",
      "CityofLA/Job Bulletins/ENVIRONMENTAL COMPLIANCE INSPECTOR 4292 080516 REV 081616.txt\n",
      "CityofLA/Job Bulletins/ENVIRONMENTAL ENGINEER  7872 082616 REV 090116.txt\n",
      "CityofLA/Job Bulletins/ENVIRONMENTAL ENGINEERING ASSOCIATE  7871 020113 REV 032916.txt\n",
      "CityofLA/Job Bulletins/ENVIRONMENTAL SPECIALIST 7310 012916.txt\n",
      "CityofLA/Job Bulletins/ENVIRONMENTAL SUPERVISOR 7304 052518 (1).txt\n",
      "CityofLA/Job Bulletins/EQUIPMENT REPAIR SUPERVISOR 3746 012717.txt\n",
      "CityofLA/Job Bulletins/EQUIPMENT SUPERINTENDENT 3750 121914.txt\n",
      "CityofLA/Job Bulletins/EQUIPMENT SUPERVISOR 3527 041318.txt\n",
      "CityofLA/Job Bulletins/EXAMINER OF QUESTIONED DOCUMENTS 3229 120415.txt\n",
      "CityofLA/Job Bulletins/EXECUTIVE ADMINISTRATIVE ASSISTANT 1117 083118.txt\n",
      "CityofLA/Job Bulletins/EXECUTIVE ASSISTANT AIRPORTS 9186 060917 (1).txt\n",
      "CityofLA/Job Bulletins/EXHIBIT PREPARATOR 2444 062416.txt\n",
      "CityofLA/Job Bulletins/FINANCIAL MANAGER 1557 070116 Rev.txt\n",
      "CityofLA/Job Bulletins/FINGERPRINT IDENTIFICATION EXPERT 1157 052915.txt\n",
      "CityofLA/Job Bulletins/FIRE BATTALION CHIEF 2152 030918.txt\n"
     ]
    },
    {
     "name": "stdout",
     "output_type": "stream",
     "text": [
      "CityofLA/Job Bulletins/FIRE CAPTAIN 2142 033018.txt\n",
      "CityofLA/Job Bulletins/FIRE HELICOPTER PILOT 3563 081415 REV. 081815.txt\n",
      "CityofLA/Job Bulletins/FIRE INSPECTOR 2128 031717.txt\n",
      "CityofLA/Job Bulletins/FIRE PROTECTION ENGINEERING ASSOCIATE 7978 041318.txt\n",
      "CityofLA/Job Bulletins/FIRE SPECIAL INVESTIGATOR 1632 021216.txt\n",
      "CityofLA/Job Bulletins/FIREARMS EXAMINER 2233 062416.txt\n",
      "CityofLA/Job Bulletins/FIREBOAT MATE 5125 102315 rev110515.txt\n",
      "CityofLA/Job Bulletins/FIREBOAT PILOT 5127 102315 rev110515 (1).txt\n",
      "CityofLA/Job Bulletins/GALLERY ATTENDANT 2442 092515.txt\n",
      "CityofLA/Job Bulletins/GARAGE ASSISTANT 3538 012017.txt\n",
      "CityofLA/Job Bulletins/GARAGE ATTENDANT 3531 013015.txt\n",
      "CityofLA/Job Bulletins/GENERAL AUTOMOTIVE SUPERVISOR 3718 061915.txt\n",
      "CityofLA/Job Bulletins/GENERAL SERVICES MANAGER  9601 042117.txt\n",
      "CityofLA/Job Bulletins/GEOGRAPHIC INFORMATION SYSTEMS CHIEF  7211 030416.txt\n",
      "CityofLA/Job Bulletins/GEOGRAPHIC INFORMATION SYSTEMS SPECIALIST 7213 012414 revised.txt\n",
      "CityofLA/Job Bulletins/GEOTECHNICAL ENGINEER 7239 090718 REV 092018.txt\n",
      "CityofLA/Job Bulletins/GOLF STARTER 2453 121115.txt\n",
      "CityofLA/Job Bulletins/GOLF STARTER SUPERVISOR 2479 120817.txt\n",
      "CityofLA/Job Bulletins/GRAPHICS SUPERVISOR 7935 052617 (4).txt\n",
      "CityofLA/Job Bulletins/HARBOR PLANNING AND ECONOMIC ANALYST 9224 111816 REV 112916.txt\n",
      "CityofLA/Job Bulletins/HEATING AND REFRIGERATION INSPECTOR 4245 121115.txt\n",
      "CityofLA/Job Bulletins/HEAVY DUTY EQUIPMENT MECHANIC 3743 021717.txt\n",
      "CityofLA/Job Bulletins/HELICOPTER MECHANIC 3742 072206 REV 020818.txt\n",
      "CityofLA/Job Bulletins/HELICOPTER MECHANIC SUPERVISOR 3749 121616 REV 122216.txt\n",
      "CityofLA/Job Bulletins/HYDROGRAPHER 7263 012717.txt\n",
      "CityofLA/Job Bulletins/IMPROVEMENT ASSESSOR SUPERVISOR 1564 100215.txt\n",
      "CityofLA/Job Bulletins/INDUSTRIAL AND COMMERCIAL FINANCE OFFICER 9191 rev051515.txt\n",
      "CityofLA/Job Bulletins/INDUSTRIAL CHEMIST 7834 020714.txt\n",
      "CityofLA/Job Bulletins/INFORMATION SYSTEMS MANAGER 1409 090117 (2).txt\n",
      "CityofLA/Job Bulletins/INSTRUMENT MECHANIC SUPERVISOR 3844 051917 final.txt\n",
      "CityofLA/Job Bulletins/INTERNAL AUDITOR 1625 011918.txt\n",
      "CityofLA/Job Bulletins/IRRIGATION SPECIALIST 3913 020615.txt\n",
      "CityofLA/Job Bulletins/LABOR SUPERVISOR 3126 121815.txt\n",
      "CityofLA/Job Bulletins/LABORATORY TECHNICIAN 7854 030416.txt\n",
      "CityofLA/Job Bulletins/LAND SURVEYING ASSISTANT 7283 120817.txt\n",
      "CityofLA/Job Bulletins/LANDSCAPE ARCHITECT 7929 090718.txt\n",
      "CityofLA/Job Bulletins/LANDSCAPE ARCHITECTURAL ASSOCIATE  7933 07222016.txt\n",
      "CityofLA/Job Bulletins/LEGISLATIVE ASSISTANT 1182 091815.txt\n",
      "CityofLA/Job Bulletins/LIBRARIAN 6152 051217 REV 020218.txt\n",
      "CityofLA/Job Bulletins/LIBRARY ASSISTANT 1172 051118 (2).txt\n",
      "CityofLA/Job Bulletins/LICENSED VOCATIONAL NURSE  2332 042415.txt\n",
      "CityofLA/Job Bulletins/LINE MAINTENANCE ASSISTANT 3882 122818.txt\n",
      "CityofLA/Job Bulletins/MACHINIST 3763 061016.txt\n",
      "CityofLA/Job Bulletins/MACHINIST SUPERVISOR 3766 121815.txt\n",
      "CityofLA/Job Bulletins/MANAGEMENT ASSISTANT 1539 032318.txt\n",
      "CityofLA/Job Bulletins/MARINE AQUARIUM PROGRAM DIRECTOR 2403 082517.txt\n",
      "CityofLA/Job Bulletins/MARINE ENVIRONMENTAL MANAGER 9437 060614.txt\n",
      "CityofLA/Job Bulletins/MARINE ENVIRONMENTAL SUPERVISOR 9433 071114 (1).txt\n",
      "CityofLA/Job Bulletins/MATERIALS TESTING TECHNICIAN 7968 081318.txt\n",
      "CityofLA/Job Bulletins/MECHANICAL HELPER 3771 011317.txt\n",
      "CityofLA/Job Bulletins/MECHANICAL REPAIR GENERAL SUPERVISOR 3731 040116 REV 041416.txt\n",
      "CityofLA/Job Bulletins/MECHANICAL REPAIR SUPERVISOR 3795 051818.txt\n",
      "CityofLA/Job Bulletins/MECHANICAL REPAIRER 3773 092118.txt\n",
      "CityofLA/Job Bulletins/METER READER 1611 080715.txt\n",
      "CityofLA/Job Bulletins/MOTOR SWEEPER OPERATOR 3585 031618.txt\n",
      "CityofLA/Job Bulletins/OCCUPATIONAL HEALTH NURSE  2314 020317 REV 022317 (1).txt\n",
      "CityofLA/Job Bulletins/OFFICE ENGINEERING TECHNICIAN 7212 110218.txt\n",
      "CityofLA/Job Bulletins/OFFICE TRAINEE 1101 012017.txt\n",
      "CityofLA/Job Bulletins/PAINTER SUPERVISOR 3426 120514.txt\n",
      "CityofLA/Job Bulletins/PARK SERVICES ATTENDANT 2412 032219.txt\n",
      "CityofLA/Job Bulletins/PARK SERVICES SUPERVISOR 2426 072018.txt\n",
      "CityofLA/Job Bulletins/PARKING ENFORCEMENT MANAGER 9025 021916 rev022516.txt\n",
      "CityofLA/Job Bulletins/PARKING MANAGER 9170 020714.txt\n",
      "CityofLA/Job Bulletins/PARKING METER TECHNICIAN 3738 110615 (1).txt\n",
      "CityofLA/Job Bulletins/PARKING METER TECHNICIAN SUPERVISOR 3757 2017.txt\n",
      "CityofLA/Job Bulletins/PAYROLL ANALYST 1630 031816.txt\n",
      "CityofLA/Job Bulletins/PAYROLL SUPERVISOR 1170 102618.txt\n",
      "CityofLA/Job Bulletins/PERSONNEL DIRECTOR 1714 050418.txt\n",
      "CityofLA/Job Bulletins/PERSONNEL RECORDS SUPERVISOR 1129 041318.txt\n",
      "CityofLA/Job Bulletins/PHOTOGRAPHER 1793 041516.txt\n",
      "CityofLA/Job Bulletins/PILE DRIVER WORKER 3553 041417.txt\n",
      "CityofLA/Job Bulletins/PIPEFITTER SUPERVISOR 3438 081216.txt\n",
      "CityofLA/Job Bulletins/PLUMBER 3443 113018.txt\n"
     ]
    },
    {
     "ename": "UnicodeDecodeError",
     "evalue": "'utf-8' codec can't decode byte 0xe9 in position 951: invalid continuation byte",
     "output_type": "error",
     "traceback": [
      "\u001b[0;31m---------------------------------------------------------------------------\u001b[0m",
      "\u001b[0;31mUnicodeDecodeError\u001b[0m                        Traceback (most recent call last)",
      "\u001b[0;32m<ipython-input-47-79c723c0c7ab>\u001b[0m in \u001b[0;36m<module>\u001b[0;34m\u001b[0m\n\u001b[1;32m      3\u001b[0m     \u001b[0mjob_path\u001b[0m \u001b[0;34m=\u001b[0m \u001b[0mpath\u001b[0m \u001b[0;34m+\u001b[0m \u001b[0mfile_name\u001b[0m\u001b[0;34m\u001b[0m\u001b[0;34m\u001b[0m\u001b[0m\n\u001b[1;32m      4\u001b[0m     \u001b[0;31m# Read in job as string based on job_path\u001b[0m\u001b[0;34m\u001b[0m\u001b[0;34m\u001b[0m\u001b[0;34m\u001b[0m\u001b[0m\n\u001b[0;32m----> 5\u001b[0;31m     \u001b[0mjob\u001b[0m      \u001b[0;34m=\u001b[0m \u001b[0mopen\u001b[0m\u001b[0;34m(\u001b[0m\u001b[0mjob_path\u001b[0m\u001b[0;34m,\u001b[0m \u001b[0;34m'rt'\u001b[0m\u001b[0;34m)\u001b[0m\u001b[0;34m.\u001b[0m\u001b[0mread\u001b[0m\u001b[0;34m(\u001b[0m\u001b[0;34m)\u001b[0m\u001b[0;34m\u001b[0m\u001b[0;34m\u001b[0m\u001b[0m\n\u001b[0m\u001b[1;32m      6\u001b[0m     \u001b[0;31m# Verify if 'REQUIREMENTS/MINIMUM QUALIFICATIONS' in job\u001b[0m\u001b[0;34m\u001b[0m\u001b[0;34m\u001b[0m\u001b[0;34m\u001b[0m\u001b[0m\n\u001b[1;32m      7\u001b[0m     \u001b[0;32mif\u001b[0m \u001b[0;34m'REQUIREMENTS/MINIMUM QUALIFICATIONS'\u001b[0m \u001b[0;32mnot\u001b[0m \u001b[0;32min\u001b[0m \u001b[0mjob\u001b[0m\u001b[0;34m.\u001b[0m\u001b[0msplit\u001b[0m\u001b[0;34m(\u001b[0m\u001b[0;34m'\\n'\u001b[0m\u001b[0;34m)\u001b[0m\u001b[0;34m:\u001b[0m\u001b[0;34m\u001b[0m\u001b[0;34m\u001b[0m\u001b[0m\n",
      "\u001b[0;32m/anaconda3/lib/python3.7/codecs.py\u001b[0m in \u001b[0;36mdecode\u001b[0;34m(self, input, final)\u001b[0m\n\u001b[1;32m    320\u001b[0m         \u001b[0;31m# decode input (taking the buffer into account)\u001b[0m\u001b[0;34m\u001b[0m\u001b[0;34m\u001b[0m\u001b[0;34m\u001b[0m\u001b[0m\n\u001b[1;32m    321\u001b[0m         \u001b[0mdata\u001b[0m \u001b[0;34m=\u001b[0m \u001b[0mself\u001b[0m\u001b[0;34m.\u001b[0m\u001b[0mbuffer\u001b[0m \u001b[0;34m+\u001b[0m \u001b[0minput\u001b[0m\u001b[0;34m\u001b[0m\u001b[0;34m\u001b[0m\u001b[0m\n\u001b[0;32m--> 322\u001b[0;31m         \u001b[0;34m(\u001b[0m\u001b[0mresult\u001b[0m\u001b[0;34m,\u001b[0m \u001b[0mconsumed\u001b[0m\u001b[0;34m)\u001b[0m \u001b[0;34m=\u001b[0m \u001b[0mself\u001b[0m\u001b[0;34m.\u001b[0m\u001b[0m_buffer_decode\u001b[0m\u001b[0;34m(\u001b[0m\u001b[0mdata\u001b[0m\u001b[0;34m,\u001b[0m \u001b[0mself\u001b[0m\u001b[0;34m.\u001b[0m\u001b[0merrors\u001b[0m\u001b[0;34m,\u001b[0m \u001b[0mfinal\u001b[0m\u001b[0;34m)\u001b[0m\u001b[0;34m\u001b[0m\u001b[0;34m\u001b[0m\u001b[0m\n\u001b[0m\u001b[1;32m    323\u001b[0m         \u001b[0;31m# keep undecoded input until the next call\u001b[0m\u001b[0;34m\u001b[0m\u001b[0;34m\u001b[0m\u001b[0;34m\u001b[0m\u001b[0m\n\u001b[1;32m    324\u001b[0m         \u001b[0mself\u001b[0m\u001b[0;34m.\u001b[0m\u001b[0mbuffer\u001b[0m \u001b[0;34m=\u001b[0m \u001b[0mdata\u001b[0m\u001b[0;34m[\u001b[0m\u001b[0mconsumed\u001b[0m\u001b[0;34m:\u001b[0m\u001b[0;34m]\u001b[0m\u001b[0;34m\u001b[0m\u001b[0;34m\u001b[0m\u001b[0m\n",
      "\u001b[0;31mUnicodeDecodeError\u001b[0m: 'utf-8' codec can't decode byte 0xe9 in position 951: invalid continuation byte"
     ]
    }
   ],
   "source": [
    "for file_name in all_jobs:\n",
    "    # Find path\n",
    "    job_path = path + file_name\n",
    "    # Read in job as string based on job_path\n",
    "    job      = open(job_path, 'rt').read()\n",
    "    # Verify if 'REQUIREMENTS/MINIMUM QUALIFICATIONS' in job\n",
    "    if 'REQUIREMENTS/MINIMUM QUALIFICATIONS' not in job.split('\\n'):\n",
    "        print(job_path)"
   ]
  },
  {
   "cell_type": "markdown",
   "metadata": {},
   "source": [
    "<font color='red'> Note that we even have some errors in reading some of these files! </font>"
   ]
  },
  {
   "cell_type": "code",
   "execution_count": null,
   "metadata": {},
   "outputs": [],
   "source": []
  },
  {
   "cell_type": "code",
   "execution_count": null,
   "metadata": {},
   "outputs": [],
   "source": []
  },
  {
   "cell_type": "code",
   "execution_count": null,
   "metadata": {},
   "outputs": [],
   "source": []
  },
  {
   "cell_type": "code",
   "execution_count": null,
   "metadata": {},
   "outputs": [],
   "source": []
  }
 ],
 "metadata": {
  "kernelspec": {
   "display_name": "Python 3",
   "language": "python",
   "name": "python3"
  },
  "language_info": {
   "codemirror_mode": {
    "name": "ipython",
    "version": 3
   },
   "file_extension": ".py",
   "mimetype": "text/x-python",
   "name": "python",
   "nbconvert_exporter": "python",
   "pygments_lexer": "ipython3",
   "version": "3.7.1"
  }
 },
 "nbformat": 4,
 "nbformat_minor": 2
}
