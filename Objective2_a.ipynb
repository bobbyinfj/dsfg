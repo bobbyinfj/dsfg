{
 "cells": [
  {
   "cell_type": "markdown",
   "metadata": {},
   "source": [
    "# Data Cleaning: Setup\n",
    "Write two helper functions that we'll use to get the list of all jobs, both raw and clean, more efficient.\n",
    "\n",
    "Note that these two functions were transferred to `toolkits.py` for the convenience of calling modules later."
   ]
  },
  {
   "cell_type": "code",
   "execution_count": 1,
   "metadata": {},
   "outputs": [],
   "source": [
    "# Import relevant modules\n",
    "import os                       # interface with the underlying OS"
   ]
  },
  {
   "cell_type": "markdown",
   "metadata": {},
   "source": [
    "## Helper functions\n",
    "These functions help achieve the task quicker, instead of copying/pasting the same piece of code every time we test out new ideas"
   ]
  },
  {
   "cell_type": "code",
   "execution_count": 15,
   "metadata": {},
   "outputs": [],
   "source": [
    "def get_raw_jobs():\n",
    "    '''\n",
    "    GET_RAW_JOBS returns the list of all jobs in the Job Bulletins folder.\n",
    "    Keep in mind that these are just file names.\n",
    "    '''\n",
    "    \n",
    "    # Define path to look at\n",
    "    path = 'CityofLA/Job Bulletins/'\n",
    "    \n",
    "    # Get a list of all txt files in this path\n",
    "    raw_jobs = os.listdir(path)\n",
    "    raw_jobs.sort() # WARNING: this mutates the list\n",
    "    \n",
    "    # Remove `Vocational Worker  DEPARTMENT OF PUBLIC WORKS.txt` \n",
    "    # as it doesn't share the same job description pattern of the City of LA\n",
    "    raw_jobs.remove('Vocational Worker  DEPARTMENT OF PUBLIC WORKS.txt')\n",
    "    \n",
    "    # Sanity check\n",
    "    assert len(raw_jobs) == 682 # this number comes from already trying this code individually\n",
    "    \n",
    "    # Returns\n",
    "    return raw_jobs"
   ]
  },
  {
   "cell_type": "code",
   "execution_count": 16,
   "metadata": {},
   "outputs": [],
   "source": [
    "# Test\n",
    "raw_jobs = get_raw_jobs()"
   ]
  },
  {
   "cell_type": "code",
   "execution_count": 17,
   "metadata": {},
   "outputs": [],
   "source": [
    "def get_clean_jobs():\n",
    "    '''\n",
    "    \n",
    "    '''\n",
    "    # Define path to look at\n",
    "    path = 'CityofLA/JobBulletins_cleaned/'\n",
    "\n",
    "    # Get a list of all txt files in this path\n",
    "    clean_jobs = os.listdir(path)\n",
    "    clean_jobs.sort() # WARNING: this mutates the list\n",
    "    \n",
    "    # Remove `Vocational Worker  DEPARTMENT OF PUBLIC WORKS.txt` \n",
    "    # as it doesn't share the same job description pattern of the City of LA\n",
    "    clean_jobs.remove('Vocational Worker  DEPARTMENT OF PUBLIC WORKS.txt')\n",
    "    \n",
    "    # Sanity check\n",
    "    assert len(clean_jobs) == 682 # this number comes from already trying this code individually\n",
    "    \n",
    "    # Returns\n",
    "    return clean_jobs"
   ]
  },
  {
   "cell_type": "code",
   "execution_count": 18,
   "metadata": {},
   "outputs": [],
   "source": [
    "# Test\n",
    "clean_jobs = get_clean_jobs()"
   ]
  },
  {
   "cell_type": "code",
   "execution_count": null,
   "metadata": {},
   "outputs": [],
   "source": []
  }
 ],
 "metadata": {
  "kernelspec": {
   "display_name": "Python 3",
   "language": "python",
   "name": "python3"
  },
  "language_info": {
   "codemirror_mode": {
    "name": "ipython",
    "version": 3
   },
   "file_extension": ".py",
   "mimetype": "text/x-python",
   "name": "python",
   "nbconvert_exporter": "python",
   "pygments_lexer": "ipython3",
   "version": "3.7.1"
  }
 },
 "nbformat": 4,
 "nbformat_minor": 2
}
