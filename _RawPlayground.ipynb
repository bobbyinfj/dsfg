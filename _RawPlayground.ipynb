{
 "cells": [
  {
   "cell_type": "markdown",
   "metadata": {},
   "source": [
    "## Import relevant modules"
   ]
  },
  {
   "cell_type": "code",
   "execution_count": 1,
   "metadata": {},
   "outputs": [],
   "source": [
    "import os                       # module to interface with the underlying OS\n",
    "import numpy as np              # linear algebra\n",
    "import pandas as pd             # dataframe\n",
    "import re                       # regular expression\n",
    "import matplotlib.pyplot as plt # data visualization\n",
    "%matplotlib inline\n",
    "import toolkits as tk           # user-define module for efficiently reading files"
   ]
  },
  {
   "cell_type": "markdown",
   "metadata": {},
   "source": [
    "## Get paths and names of files in each path"
   ]
  },
  {
   "cell_type": "code",
   "execution_count": 4,
   "metadata": {},
   "outputs": [],
   "source": [
    "# Path and list of jobs in Job Bulletins.\n",
    "# NOTE 1: These are raw data\n",
    "(raw_path, raw_jobs) = tk.get_raw_jobs() # tk is a user-define module\n",
    "\n",
    "# # Path and list of jobs in JobBulletins_cleaned\n",
    "# # NOTE 2: These are cleaned data\n",
    "# (cleaned_path, cleaned_jobs) = tk.get_cleaned_jobs()"
   ]
  },
  {
   "cell_type": "code",
   "execution_count": null,
   "metadata": {},
   "outputs": [],
   "source": []
  },
  {
   "cell_type": "code",
   "execution_count": null,
   "metadata": {},
   "outputs": [],
   "source": []
  },
  {
   "cell_type": "code",
   "execution_count": null,
   "metadata": {},
   "outputs": [],
   "source": []
  },
  {
   "cell_type": "markdown",
   "metadata": {},
   "source": [
    "## Normalize OPEN_DATE (od)"
   ]
  },
  {
   "cell_type": "code",
   "execution_count": 18,
   "metadata": {
    "scrolled": true
   },
   "outputs": [],
   "source": [
    "i = raw_jobs.index('APPARATUS OPERATOR 2121 071417 (1).txt')\n",
    "job_path = raw_path + raw_jobs[i]\n",
    "sa  = open(job_path, 'rt').read()"
   ]
  },
  {
   "cell_type": "code",
   "execution_count": 19,
   "metadata": {},
   "outputs": [
    {
     "data": {
      "text/plain": [
       "104"
      ]
     },
     "execution_count": 19,
     "metadata": {},
     "output_type": "execute_result"
    }
   ],
   "source": [
    "sa.index('ANNUAL SALARY')"
   ]
  },
  {
   "cell_type": "code",
   "execution_count": 20,
   "metadata": {},
   "outputs": [
    {
     "ename": "ValueError",
     "evalue": "substring not found",
     "output_type": "error",
     "traceback": [
      "\u001b[0;31m---------------------------------------------------------------------------\u001b[0m",
      "\u001b[0;31mValueError\u001b[0m                                Traceback (most recent call last)",
      "\u001b[0;32m<ipython-input-20-a8baa3cb8c9c>\u001b[0m in \u001b[0;36m<module>\u001b[0;34m\u001b[0m\n\u001b[0;32m----> 1\u001b[0;31m \u001b[0msa\u001b[0m\u001b[0;34m.\u001b[0m\u001b[0mindex\u001b[0m\u001b[0;34m(\u001b[0m\u001b[0;34m'DUTIES'\u001b[0m\u001b[0;34m)\u001b[0m\u001b[0;34m\u001b[0m\u001b[0;34m\u001b[0m\u001b[0m\n\u001b[0m",
      "\u001b[0;31mValueError\u001b[0m: substring not found"
     ]
    }
   ],
   "source": [
    "sa.index('DUTIES')"
   ]
  },
  {
   "cell_type": "code",
   "execution_count": null,
   "metadata": {},
   "outputs": [],
   "source": []
  },
  {
   "cell_type": "code",
   "execution_count": null,
   "metadata": {},
   "outputs": [],
   "source": []
  },
  {
   "cell_type": "code",
   "execution_count": null,
   "metadata": {},
   "outputs": [],
   "source": []
  },
  {
   "cell_type": "code",
   "execution_count": 17,
   "metadata": {
    "scrolled": false
   },
   "outputs": [
    {
     "name": "stdout",
     "output_type": "stream",
     "text": [
      "CityofLA/Job Bulletins/311 DIRECTOR  9206 041814.txt\n",
      "CityofLA/Job Bulletins/ACCOUNTING CLERK 1223 071318.txt\n",
      "CityofLA/Job Bulletins/ADMINISTRATIVE HEARING EXAMINER 9135 100915.txt\n",
      "CityofLA/Job Bulletins/ADVANCE PRACTICE PROVIDER CORRECTIONAL CARE 2325 020808 REV 111214.txt\n",
      "CityofLA/Job Bulletins/AIRPORT AIDE 1540 081018.txt\n",
      "CityofLA/Job Bulletins/AIRPORT CHIEF INFORMATION SECURITY OFFICER 1404 120415_Modified.txt\n",
      "CityofLA/Job Bulletins/AIRPORT LABOR RELATIONS ADVOCATE 9210 020119.txt\n",
      "CityofLA/Job Bulletins/AIRPORT POLICE CAPTAIN 3228 021618.txt\n",
      "CityofLA/Job Bulletins/AIRPORT POLICE LIEUTENANT 3227 091616.txt\n",
      "CityofLA/Job Bulletins/AIRPORT POLICE OFFICER 3225 110906 Rev 060115.txt\n",
      "CityofLA/Job Bulletins/AIRPORT POLICE SPECIALIST 3236 063017 (2).txt\n",
      "CityofLA/Job Bulletins/AIRPORTS MAINTENANCE SUPERINTENDENT 3331 021518.txt\n",
      "CityofLA/Job Bulletins/AIRPORTS PUBLIC AND COMMUNITY RELATIONS DIRECTOR 1788 120817.txt\n",
      "CityofLA/Job Bulletins/ANIMAL CARE ASSISTANT 4323 020119.txt\n",
      "CityofLA/Job Bulletins/ANIMAL CONTROL OFFICER  4311 061518.txt\n",
      "CityofLA/Job Bulletins/ANIMAL KEEPER 4304 083118.txt\n",
      "##############################################################################################\n",
      "################CityofLA/Job Bulletins/APPARATUS OPERATOR 2121 071417 (1).txt################\n",
      "##############################################################################################\n",
      "CityofLA/Job Bulletins/AQUARIST 2400 050214.txt\n",
      "CityofLA/Job Bulletins/AQUATIC DIRECTOR 2419  082517 REV 0090717.txt\n",
      "CityofLA/Job Bulletins/AQUATIC FACILITY MANAGER 2423 052915 REVISED 060915.txt\n",
      "CityofLA/Job Bulletins/ART CENTER DIRECTOR 2478 053014.txt\n",
      "CityofLA/Job Bulletins/ART CURATOR 2448 071516 REV 072816.txt\n",
      "CityofLA/Job Bulletins/ASPHALT PLANT OPERATOR 4143 102414.txt\n",
      "CityofLA/Job Bulletins/ASSISTANT AIRPORT MANAGER 7259 012618.txt\n",
      "CityofLA/Job Bulletins/ASSISTANT COMMUNICATIONS ELECTRICIAN 3684 090916.txt\n",
      "CityofLA/Job Bulletins/ASSISTANT SIGNAL SYSTEMS ELECTRICIAN 3818 073115_REVISED.txt\n",
      "CityofLA/Job Bulletins/ASSISTANT STREET LIGHTING ELECTRICIAN 3809 072117 REV 080818.txt\n",
      "CityofLA/Job Bulletins/ASSOCIATE ZONING ADMINISTRATOR 7998 102618 REV 110818.txt\n",
      "CityofLA/Job Bulletins/AUDIO VISUAL TECHNICIAN 6147 062014.txt\n",
      "CityofLA/Job Bulletins/AVIONICS SPECIALIST 3565 103114revised.txt\n",
      "CityofLA/Job Bulletins/BOILERMAKER SUPERVISOR 3737 101714.txt\n",
      "CityofLA/Job Bulletins/BUILDING CONSTRUCTION AND MAINTENANCE SUPERINTENDENT 3124 122818.txt\n",
      "CityofLA/Job Bulletins/BUILDING INSPECTOR 4211 101918.txt\n",
      "CityofLA/Job Bulletins/BUILDING MAINTENANCE DISTRICT SUPERVISOR 3190 042817 (1).txt\n",
      "CityofLA/Job Bulletins/BUILDING MECHANICAL INSPECTOR 4251 082815 REV 080818.txt\n",
      "CityofLA/Job Bulletins/BUS OPERATOR SUPERVISOR 3589 012216.txt\n",
      "CityofLA/Job Bulletins/CARPET LAYER 3418 061915.txt\n",
      "CityofLA/Job Bulletins/CEMENT FINISHER WORKER 3351 103015.txt\n",
      "CityofLA/Job Bulletins/CHIEF BENEFITS ANALYST 9151 092316 REV 100616.txt\n",
      "CityofLA/Job Bulletins/CHIEF BUILDING OPERATING ENGINEER 5927 080516.txt\n",
      "CityofLA/Job Bulletins/CHIEF CLERK POLICE 1219 061215.txt\n",
      "CityofLA/Job Bulletins/CHIEF CLERK POLICE 1249 083118.txt\n",
      "CityofLA/Job Bulletins/CHIEF CONSTRUCTION INSPECTOR 7296 122818.txt\n",
      "CityofLA/Job Bulletins/CHIEF CUSTODIAN SUPERVISOR 3182 041015.txt\n",
      "CityofLA/Job Bulletins/CHIEF FINANCIAL OFFICER 9230 041114.txt\n",
      "CityofLA/Job Bulletins/CHIEF HARBOR ENGINEER 9286 112015.txt\n",
      "CityofLA/Job Bulletins/CHIEF INTERNAL AUDITOR 1619 090916 (5).txt\n",
      "CityofLA/Job Bulletins/CHIEF MANAGEMENT ANALYST 9182 020918.txt\n",
      "CityofLA/Job Bulletins/CHIEF PARK RANGER 1968 120106 REV 121306.txt\n",
      "CityofLA/Job Bulletins/CHIEF TAX COMPLIANCE OFFICER 1211 041814.txt\n",
      "CityofLA/Job Bulletins/CHIEF TRANSPORTATION INVESTIGATOR 4275 103114.txt\n",
      "CityofLA/Job Bulletins/CITY PLANNER 7944 120718.txt\n",
      "CityofLA/Job Bulletins/COMMUNITY HOUSING PROGRAMS MANAGER 8500 072018 REV 080918 (2).txt\n",
      "CityofLA/Job Bulletins/CUSTODIAN 3156 111618.txt\n",
      "CityofLA/Job Bulletins/DIRECTOR OF AIRPORT OPERATIONS 9304 062317 (3).txt\n",
      "CityofLA/Job Bulletins/DIRECTOR OF COMMUNICATIONS SERVICES 7625 042718.txt\n",
      "CityofLA/Job Bulletins/DIRECTOR OF ENFORCEMENT OPERATIONS 4266 012618.txt\n",
      "CityofLA/Job Bulletins/DIRECTOR OF FIELD OPERATIONS 4321 040618.txt\n",
      "CityofLA/Job Bulletins/DIRECTOR OF HOUSING 1568 062317.txt\n",
      "CityofLA/Job Bulletins/DIRECTOR OF PRINTING SERVICES 1488 101218 REV 102418 (3).txt\n",
      "CityofLA/Job Bulletins/DIVISION LIBRARIAN 6157 012717 REV 022217.txt\n",
      "CityofLA/Job Bulletins/DRILL RIG OPERATOR 3521 033018.txt\n",
      "CityofLA/Job Bulletins/ELECTRICAL INSPECTOR 4221 030218.txt\n",
      "CityofLA/Job Bulletins/ELECTRICIAN SUPERVISOR 3865 091616  REV 092916.txt\n",
      "CityofLA/Job Bulletins/ELEVATOR MECHANIC HELPER 3860 071417.txt\n",
      "CityofLA/Job Bulletins/EMS ADVANCED PROVIDER 2341 111618 REV 122018.txt\n",
      "CityofLA/Job Bulletins/EMS NURSE PRACTITIONER SUPERVISOR 2340 031116 REV 032316 (1).txt\n",
      "##############################################################################################\n",
      "##############CityofLA/Job Bulletins/ENGINEER OF FIRE DEPARTMENT 2131 111116.txt##############\n",
      "##############################################################################################\n",
      "CityofLA/Job Bulletins/ENGINEER OF SURVEYS 9486 101615.txt\n",
      "CityofLA/Job Bulletins/EQUIPMENT SUPERINTENDENT 3750 121914.txt\n",
      "CityofLA/Job Bulletins/EXAMINER OF QUESTIONED DOCUMENTS 3229 120415.txt\n",
      "CityofLA/Job Bulletins/EXHIBIT PREPARATOR 2444 062416.txt\n",
      "CityofLA/Job Bulletins/FINGERPRINT IDENTIFICATION EXPERT 1157 052915.txt\n",
      "##############################################################################################\n",
      "#################CityofLA/Job Bulletins/FIRE ASSISTANT CHIEF 2166 011218.txt#################\n",
      "##############################################################################################\n",
      "##############################################################################################\n",
      "#################CityofLA/Job Bulletins/FIRE BATTALION CHIEF 2152 030918.txt#################\n",
      "##############################################################################################\n",
      "CityofLA/Job Bulletins/FIRE CAPTAIN 2142 033018.txt\n",
      "##############################################################################################\n",
      "###########CityofLA/Job Bulletins/FIRE HELICOPTER PILOT 3563 081415 REV. 081815.txt###########\n",
      "##############################################################################################\n",
      "##############################################################################################\n",
      "####################CityofLA/Job Bulletins/FIRE INSPECTOR 2128 031717.txt####################\n",
      "##############################################################################################\n",
      "CityofLA/Job Bulletins/FIRE SPRINKLER INSPECTOR 4240 062317 REVISED 070617 (2).txt\n",
      "CityofLA/Job Bulletins/FIREBOAT MATE 5125 102315 rev110515.txt\n",
      "CityofLA/Job Bulletins/FIREBOAT PILOT 5127 102315 rev110515 (1).txt\n",
      "CityofLA/Job Bulletins/FIREFIGHTER 2112 011918.txt\n",
      "CityofLA/Job Bulletins/FORENSIC  PRINT SPECIALIST 2200 062218.txt\n",
      "CityofLA/Job Bulletins/GALLERY ATTENDANT 2442 092515.txt\n",
      "CityofLA/Job Bulletins/GARAGE ASSISTANT 3538 012017.txt\n",
      "CityofLA/Job Bulletins/GENERAL AUTOMOTIVE SUPERVISOR 3718 061915.txt\n",
      "CityofLA/Job Bulletins/GEOGRAPHIC INFORMATION SYSTEMS CHIEF  7211 030416.txt\n",
      "CityofLA/Job Bulletins/GEOGRAPHIC INFORMATION SYSTEMS SPECIALIST 7213 012414 revised.txt\n",
      "CityofLA/Job Bulletins/GOLF STARTER 2453 121115.txt\n",
      "CityofLA/Job Bulletins/HELICOPTER MECHANIC 3742 072206 REV 020818.txt\n",
      "CityofLA/Job Bulletins/HELICOPTER MECHANIC SUPERVISOR 3749 121616 REV 122216.txt\n",
      "CityofLA/Job Bulletins/HOUSING PLANNING AND ECONOMIC ANALYST 8504 Bulletin FINAL DRAFT.txt\n",
      "CityofLA/Job Bulletins/HUMAN RELATIONS ADVOCATE 9207 122217.txt\n",
      "CityofLA/Job Bulletins/INDUSTRIAL CHEMIST 7834 020714.txt\n",
      "CityofLA/Job Bulletins/IRRIGATION SPECIALIST 3913 020615.txt\n",
      "CityofLA/Job Bulletins/LICENSED VOCATIONAL NURSE  2332 042415.txt\n",
      "CityofLA/Job Bulletins/MAINTENANCE LABORER 3112 111618.txt\n",
      "CityofLA/Job Bulletins/MARINE AQUARIUM PROGRAM DIRECTOR 2403 082517.txt\n",
      "CityofLA/Job Bulletins/MARINE ENVIRONMENTAL MANAGER 9437 060614.txt\n",
      "CityofLA/Job Bulletins/MECHANICAL REPAIR SUPERVISOR 3795 051818.txt\n",
      "CityofLA/Job Bulletins/MEDICAL ASSISTANT 2310 030918.txt\n",
      "CityofLA/Job Bulletins/PARK RANGER 1966 072718 REV 073118 (1).txt\n",
      "CityofLA/Job Bulletins/PARK SERVICES SUPERVISOR 2426 072018.txt\n",
      "CityofLA/Job Bulletins/PARKING MANAGER 9170 020714.txt\n",
      "CityofLA/Job Bulletins/PARKING METER TECHNICIAN SUPERVISOR 3757 2017.txt\n",
      "CityofLA/Job Bulletins/PERFORMING ARTS DIRECTOR 2449 020317 REV 020817.txt\n",
      "CityofLA/Job Bulletins/PLANNING ASSISTANT 7939 071417 REV 072617 (1).txt\n",
      "CityofLA/Job Bulletins/PLUMBING INSPECTOR 4231 042817 REV 051117.txt\n",
      "CityofLA/Job Bulletins/POLICE COMMANDER 2251 092917.txt\n",
      "CityofLA/Job Bulletins/POLICE LIEUTENANT 2232 020918.txt\n",
      "CityofLA/Job Bulletins/POLICE OFFICER 2214 110906 Rev 060115.txt\n",
      "CityofLA/Job Bulletins/POLICE SERGEANT 2227 102116.txt\n",
      "CityofLA/Job Bulletins/POLICE SPECIALIST 2217 110906 Rev 060115.txt\n",
      "CityofLA/Job Bulletins/POLICE SURVEILLANCE SPECIALIST 3687 052215.txt\n",
      "CityofLA/Job Bulletins/PORT PILOT 5151 081817 REV 090717.txt\n",
      "CityofLA/Job Bulletins/PORT POLICE CAPTAIN 3224 110416.txt\n",
      "CityofLA/Job Bulletins/PORT POLICE LIEUTENANT 3223 120916.txt\n",
      "CityofLA/Job Bulletins/PORT POLICE OFFICER 3221 110906 Rev 060115.txt\n",
      "CityofLA/Job Bulletins/PORT POLICE SERGEANT 3222 121616.txt\n",
      "CityofLA/Job Bulletins/PORTFOLIO MANAGER 9143 082517.txt\n",
      "CityofLA/Job Bulletins/PRINCIPAL ANIMAL KEEPER 4312 070618.txt\n",
      "CityofLA/Job Bulletins/PRINCIPAL CITY PLANNER 7946 030218.txt\n",
      "CityofLA/Job Bulletins/PRINCIPAL CIVIL ENGINEER 9489 022318.txt\n",
      "CityofLA/Job Bulletins/PRINCIPAL CLERK 1201 021618.txt\n",
      "CityofLA/Job Bulletins/PRINCIPAL DEPUTY CONTROLLER 7260 032814.txt\n",
      "CityofLA/Job Bulletins/PRINCIPAL DETENTION OFFICER 3215 101218.txt\n",
      "CityofLA/Job Bulletins/PRINCIPAL ENVIRONMENTAL ENGINEER 7875 092118.txt\n",
      "CityofLA/Job Bulletins/PRINCIPAL GROUNDS MAINTENANCE SUPERVISOR  3147 111315.txt\n",
      "CityofLA/Job Bulletins/PRINCIPAL INSPECTOR 4226 061617.txt\n",
      "CityofLA/Job Bulletins/PRINCIPAL LIBRARIAN 6155 032417 REV 040417.txt\n",
      "CityofLA/Job Bulletins/PRINCIPAL TRANSPORTATION ENGINEER 9266 101317.txt\n",
      "CityofLA/Job Bulletins/PRINTING PRESS OPERATOR 1494 092515.txt\n",
      "CityofLA/Job Bulletins/PROPERTY OFFICER 3207 071417 (1).txt\n",
      "CityofLA/Job Bulletins/PUBLIC SAFETY RISK MANAGER 7976 102618.txt\n",
      "CityofLA/Job Bulletins/REFUSE COLLECTION SUPERVISOR 4101 033117.txt\n",
      "CityofLA/Job Bulletins/RETIREMENT PLAN MANAGER 9149 052314 (1).txt\n",
      "CityofLA/Job Bulletins/RIDESHARE PROGRAM ADMINISTRATOR 2485 020918.txt\n",
      "CityofLA/Job Bulletins/RISK AND INSURANCE ASSISTANT 1645 072718.txt\n",
      "CityofLA/Job Bulletins/RISK MANAGEMENT AND PREVENTION PROGRAM SPECIALIST 7980 030317.txt\n",
      "CityofLA/Job Bulletins/ROOFER SUPERVISOR 3478 062218.txt\n",
      "CityofLA/Job Bulletins/SAFETY ENGINEER ELEVATORS 4263 112015 REV 120215.txt\n",
      "CityofLA/Job Bulletins/SECRETARY 1116 030317.txt\n",
      "CityofLA/Job Bulletins/SENIOR ANIMAL CONTROL OFFICER 4316 111618.txt\n",
      "CityofLA/Job Bulletins/SENIOR AUDITOR 1518 102618.txt\n",
      "CityofLA/Job Bulletins/SENIOR AUTOMOTIVE SUPERVISOR 3716 112015.txt\n",
      "CityofLA/Job Bulletins/SENIOR BUILDING INSPECTOR 4213 010816.txt\n",
      "CityofLA/Job Bulletins/SENIOR BUILDING MECHANICAL INSPECTOR 4253 2017 REV (1).txt\n",
      "CityofLA/Job Bulletins/SENIOR BUILDING OPERATING ENGINEER 5925 011615 (1).txt\n",
      "CityofLA/Job Bulletins/SENIOR CHEMIST 7830 030416.txt\n",
      "CityofLA/Job Bulletins/SENIOR CONSTRUCTION ENGINEER 7289 042514.txt\n",
      "CityofLA/Job Bulletins/SENIOR CONSTRUCTION ESTIMATOR 3347 041318.txt\n",
      "CityofLA/Job Bulletins/SENIOR DETENTION OFFICER 3212 012017.txt\n",
      "CityofLA/Job Bulletins/SENIOR ELECTRICAL INSPECTOR 4223 042718.txt\n",
      "CityofLA/Job Bulletins/SENIOR ELECTRICIAN  3864 102116 Rev 110216.txt\n",
      "CityofLA/Job Bulletins/SENIOR ENVIRONMENTAL ENGINEER 7874 121815.txt\n",
      "CityofLA/Job Bulletins/SENIOR HOUSING INSPECTOR 4244 042718.txt\n",
      "CityofLA/Job Bulletins/SENIOR HYDROGRAPHER 7264 030714.txt\n",
      "CityofLA/Job Bulletins/SENIOR LIBRARIAN 6153 033117.txt\n",
      "CityofLA/Job Bulletins/SENIOR PARK RANGER 1967 091815.txt\n",
      "CityofLA/Job Bulletins/SENIOR PARK SERVICES ATTENDANT 2422 102717.txt\n",
      "CityofLA/Job Bulletins/SENIOR PLUMBING INSPECTOR 4233 051818.txt\n",
      "CityofLA/Job Bulletins/SENIOR POLICE SERVICE REPRESENTATIVE 2209 020918.txt\n",
      "CityofLA/Job Bulletins/SENIOR PORT ELECTRICAL MECHANIC 3847 072916 REV 081116 (1).txt\n",
      "##############################################################################################\n",
      "############CityofLA/Job Bulletins/SENIOR REAL ESTATE OFFICER 1961 0413018 (2).txt############\n",
      "##############################################################################################\n",
      "CityofLA/Job Bulletins/SENIOR RECREATION DIRECTOR 2446 050517 REV 051117.txt\n",
      "CityofLA/Job Bulletins/SENIOR ROOFER 3477 101708 REV 110608.txt\n",
      "CityofLA/Job Bulletins/SENIOR SAFETY ENGINEER ELEVATORS 4264  042718.txt\n",
      "CityofLA/Job Bulletins/SENIOR TITLE EXAMINER 1947 121517.txt\n",
      "CityofLA/Job Bulletins/SENIOR TRANSPORTATION ENGINEER 9262 102017.txt\n",
      "CityofLA/Job Bulletins/SENIOR TRANSPORTATION INVESTIGATOR 4273 070717 (2).txt\n",
      "CityofLA/Job Bulletins/SENIOR WINDOW CLEANER 3174 013114 Rev021314.txt\n",
      "CityofLA/Job Bulletins/SHEET METAL SUPERVISOR 3777 061314.txt\n",
      "CityofLA/Job Bulletins/SHIP CARPENTER 3348 093016.txt\n",
      "CityofLA/Job Bulletins/SIGN SHOP SUPERVISOR 3419 030615.txt\n",
      "CityofLA/Job Bulletins/SIGNAL SYSTEMS ELECTRICIAN 3819 042018.txt\n",
      "CityofLA/Job Bulletins/SR CRIME _ INTELLIGENCE ANALYST 2241 011516.txt\n",
      "CityofLA/Job Bulletins/STREET LIGHTING ELECTRICIAN  3811 022318.txt\n",
      "CityofLA/Job Bulletins/STREET LIGHTING ENGINEER 7537 052617 (4).txt\n",
      "CityofLA/Job Bulletins/SUPERINTENDENT OF RECREATION AND PARKS OPERATIONS 2472 012618.txt\n",
      "CityofLA/Job Bulletins/SUPPLY SERVICES PAYMENT CLERK 1214 031017-.txt\n",
      "CityofLA/Job Bulletins/TAX COMPLIANCE AIDE 1173 061215 (1).txt\n",
      "CityofLA/Job Bulletins/TELECOMMUNICATIONS PLANNING AND UTILIZATION OFFICER 7640 122217.txt\n",
      "CityofLA/Job Bulletins/TILE SETTER 3493 090415.txt\n",
      "CityofLA/Job Bulletins/TRANSPORTATION ENGINEER 7278 092917.txt\n",
      "CityofLA/Job Bulletins/VETERINARY TECHNICIAN 2369 020599 REV 120417.txt\n",
      "CityofLA/Job Bulletins/VIDEO PRODUCTION COORDINATOR 1802 012717.txt\n",
      "CityofLA/Job Bulletins/VOLUNTEER COORDINATOR 2495 030218.txt\n",
      "CityofLA/Job Bulletins/WASTEWATER TREATMENT MECHANIC 5614 021712 REV 120417.txt\n",
      "CityofLA/Job Bulletins/WASTEWATER TREATMENT MECHANIC SUPERVISOR 5617 072117 (1).txt\n",
      "CityofLA/Job Bulletins/WATERWORKS MECHANIC SUPERVISOR 3987 051614 (1).txt\n",
      "CityofLA/Job Bulletins/WINDOW CLEANER 3173 032417.txt\n",
      "CityofLA/Job Bulletins/WORKERS_ COMPENSATION CLAIMS ASSISTANT 1775 041114.txt\n",
      "CityofLA/Job Bulletins/ZOO CURATOR 4297 040816.txt\n",
      "CityofLA/Job Bulletins/ZOO REGISTRAR 4290 070618.txt\n"
     ]
    }
   ],
   "source": [
    "# Second, make sure the word 'REQUIREMENTS/MINIMUM QUALIFICATIONS' can be found in the job postings.\n",
    "# Do an index() in the try clause, not find(), to catch the errors\n",
    "k = []\n",
    "for file_name in raw_jobs:\n",
    "    job_path = raw_path + file_name        # define path to file_name\n",
    "    raw_job  = open(job_path, 'rt').read() # read in job as a string\n",
    "    try:\n",
    "        temp = raw_job[raw_job.index('ANNUAL SALARY'):raw_job.index('DUTIES')]\n",
    "        if 'NOTES:' not in temp:\n",
    "            print(job_path)\n",
    "    except:                                # do some pretty printings here to help our eyes from pain\n",
    "        ## define some useful variables\n",
    "        border_line = '##############################################################################################'\n",
    "        how_many    = int((len(border_line) - len(job_path))/2)\n",
    "        print(border_line)\n",
    "        ## do pretty printings\n",
    "        print('#'*how_many + job_path + '#'*how_many)\n",
    "        print(border_line)"
   ]
  },
  {
   "cell_type": "code",
   "execution_count": 16,
   "metadata": {},
   "outputs": [],
   "source": [
    "# for i in k:\n",
    "#     print(i)"
   ]
  },
  {
   "cell_type": "code",
   "execution_count": null,
   "metadata": {},
   "outputs": [],
   "source": []
  },
  {
   "cell_type": "code",
   "execution_count": null,
   "metadata": {},
   "outputs": [],
   "source": []
  },
  {
   "cell_type": "code",
   "execution_count": null,
   "metadata": {},
   "outputs": [],
   "source": []
  },
  {
   "cell_type": "code",
   "execution_count": null,
   "metadata": {},
   "outputs": [],
   "source": []
  },
  {
   "cell_type": "code",
   "execution_count": null,
   "metadata": {},
   "outputs": [],
   "source": []
  },
  {
   "cell_type": "code",
   "execution_count": null,
   "metadata": {},
   "outputs": [],
   "source": []
  },
  {
   "cell_type": "code",
   "execution_count": null,
   "metadata": {},
   "outputs": [],
   "source": []
  },
  {
   "cell_type": "code",
   "execution_count": null,
   "metadata": {},
   "outputs": [],
   "source": []
  },
  {
   "cell_type": "code",
   "execution_count": null,
   "metadata": {},
   "outputs": [],
   "source": []
  },
  {
   "cell_type": "code",
   "execution_count": null,
   "metadata": {},
   "outputs": [],
   "source": []
  },
  {
   "cell_type": "code",
   "execution_count": null,
   "metadata": {},
   "outputs": [],
   "source": []
  },
  {
   "cell_type": "code",
   "execution_count": null,
   "metadata": {},
   "outputs": [],
   "source": []
  },
  {
   "cell_type": "code",
   "execution_count": null,
   "metadata": {},
   "outputs": [],
   "source": []
  },
  {
   "cell_type": "code",
   "execution_count": null,
   "metadata": {},
   "outputs": [],
   "source": []
  }
 ],
 "metadata": {
  "kernelspec": {
   "display_name": "Python 3",
   "language": "python",
   "name": "python3"
  },
  "language_info": {
   "codemirror_mode": {
    "name": "ipython",
    "version": 3
   },
   "file_extension": ".py",
   "mimetype": "text/x-python",
   "name": "python",
   "nbconvert_exporter": "python",
   "pygments_lexer": "ipython3",
   "version": "3.7.1"
  }
 },
 "nbformat": 4,
 "nbformat_minor": 2
}
