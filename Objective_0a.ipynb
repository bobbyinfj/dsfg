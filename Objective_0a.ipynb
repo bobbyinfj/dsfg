{
 "cells": [
  {
   "cell_type": "code",
   "execution_count": 1,
   "metadata": {},
   "outputs": [],
   "source": [
    "# First, import relevant modules\n",
    "import numpy as np\n",
    "import pandas as pd"
   ]
  },
  {
   "cell_type": "code",
   "execution_count": 2,
   "metadata": {},
   "outputs": [],
   "source": [
    "# Import os module to allow us to interface with the underlying operating system that python is running on\n",
    "import os\n",
    "\n",
    "# Define path to look at\n",
    "path = 'CityofLA/Job Bulletins/'\n",
    "\n",
    "# Get a list of all txt files in this path\n",
    "all_txt_files = os.listdir(path) # files won't be in the order shown in their actual folders\n",
    "all_txt_files.sort() # sort files alphabetically. WARNING: this mutates the list. sorted(all_txt_files) won't\n",
    "\n",
    "# Note2self: Some people use os.walk which goes through every root, and their directories, to list all files.\n",
    "# We probably don't need it for now"
   ]
  },
  {
   "cell_type": "code",
   "execution_count": 3,
   "metadata": {},
   "outputs": [
    {
     "name": "stdout",
     "output_type": "stream",
     "text": [
      "683\n",
      "683\n",
      "True\n"
     ]
    }
   ],
   "source": [
    "# Do some checks here\n",
    "print(len(all_txt_files))      # length should be 683 as manually verified\n",
    "print(len(set(all_txt_files))) # see if each file is unique. hopefully 683 as well!\n",
    "print('SYSTEMS ANALYST 1596 102717.txt' in all_txt_files) # should be True"
   ]
  },
  {
   "cell_type": "markdown",
   "metadata": {},
   "source": [
    "# Note 1\n",
    "I suddenly remembered that there is a csv file called `job_titles` that listed all the job titles. However, there were only 668 records here while there were 683 txt files in `Job Bulletins`. The difference told me that there was something wrong with these txt files. Thus, I build my own a pd dataframe to inspect the conflict. \n",
    "\n",
    "This dataframe consists of all the job titles extracted from the txt files. Later on, I will place it side-by-side with the `job_titles` dataframe (built by importing the csv file), probably through outer join, to see what the problem is. \n",
    "\n",
    "To this end, below are the steps to build the `self_build_job_titles` dataframe:\n",
    "1. For each element *i* in `all_txt_file`, which is a string, split them at white space.\n",
    "2. Use try/except to build a list of indices of elements in *i* that **cannot** be cast into integers.\n",
    "3. Build a list of breaks based on the integer sequence (given by the `range` function) and get the first element of this list. This element is the first element that can be converted to a string (it's actually the JOB_CLASS_NO).\n",
    "4. Join this list with white space.\n",
    "5. Convert this final list to a dataframe `self_build_job_titles`\n",
    "\n",
    "All these steps are done through a helper function."
   ]
  },
  {
   "cell_type": "code",
   "execution_count": 4,
   "metadata": {},
   "outputs": [],
   "source": [
    "def build_job_titles(list_of_titles):\n",
    "    '''\n",
    "    BUILD_JOB_TITLES creates a pandas dataframe based on titles listed in list_of_titles. This function strips away\n",
    "    all the unnecessary details in each element of list_of_titles, such as JOB_CLASS_NO\n",
    "    '''\n",
    "    # Check if input given is a list\n",
    "    assert isinstance(list_of_titles, (list, np.ndarray))\n",
    "    \n",
    "    # Build a list of all job titles\n",
    "    all_job_titles = []\n",
    "    for messy_title in list_of_titles:\n",
    "        #print(messy_title) # to manually correct inconsisten names in the txt files. See Note 2.\n",
    "        ## Split at white space\n",
    "        messy_title = messy_title.split()\n",
    "        ## Build a list of indices of elements, which CANNOT be cast into integers.\n",
    "        indices_of_nonint_words = []\n",
    "        for element in messy_title:\n",
    "            try:\n",
    "                int(element)\n",
    "            except:\n",
    "                indices_of_nonint_words.append(messy_title.index(element))\n",
    "        ## Build a list of breaks and get the first element of this list. This element is actually the JOB_CLASS_NO\n",
    "        job_class_no = [idx for idx in range(len(messy_title)) if idx not in indices_of_nonint_words][0]\n",
    "        ## Get the job title by subsetting messy_title, marking where to stop with job_class_no\n",
    "        job_title = ' '.join(messy_title[:job_class_no])\n",
    "        ## Finally, append job_title to all_job_titles\n",
    "        all_job_titles.append(job_title)\n",
    "\n",
    "    # Returns\n",
    "    return pd.DataFrame(data=all_job_titles, columns=['job_title'])"
   ]
  },
  {
   "cell_type": "markdown",
   "metadata": {},
   "source": [
    "# Note 2\n",
    "Interestingly, when executing this code, I found that a lot of these text files were not named in a consistent manner. The general format for them should be, \"Job Title, Class Code, Open Date in one word, Miscelaneous details.txt\". However, quite a few of them did not follow this format. Here's the list:\n",
    "* \"COMMUNITY AFFAIRS ADVOCATE  111414.txt\" to \"COMMUNITY AFFAIRS ADVOCATE 2496 111414.txt\"\n",
    "* \"ELECTRIC SERVICE REPRESENTATIVE 020317.txt\" to ELECTRIC SERVICE REPRESENTATIVE 7520 020317.txt\"\n",
    "* \"FIRE SPECIAL INVESTIGATOR 021216.txt\" to \"FIRE SPECIAL INVESTIGATOR 1632 021216.txt\"\n",
    "* \"REFUSE COLLECTION TRUCK OPERATOR 021717.txt\" to REFUSE COLLECTION TRUCK OPERATOR 3580 021717.txt\"\n",
    "* \"REHABILITATION CONSTRUCTION SPECIALIST 072718.txt\" to \"REHABILITATION CONSTRUCTION SPECIALIST 1569 072718.txt\"\n",
    "* \"Vocational Worker  DEPARTMENT OF PUBLIC WORKS.txt\" to \"Vocational Worker DEPARTMENT OF PUBLIC 0 WORKS.txt\". <font color='red'>Note that this job is quite strange as it doesn't contain class code at all. So I had to insert an artificial number to it, so it won't break my code.</font>\n",
    "* \"WASTEWATER TREATMENT OPERATOR 120718.txt\" to \"WASTEWATER TREATMENT OPERATOR 4123 120718.txt\"\n",
    "\n",
    "I already fixed all of them manually, i.e., renamed these text files appropriately."
   ]
  },
  {
   "cell_type": "code",
   "execution_count": 5,
   "metadata": {},
   "outputs": [],
   "source": [
    "self_build_job_titles = build_job_titles(all_txt_files)"
   ]
  },
  {
   "cell_type": "markdown",
   "metadata": {},
   "source": [
    "# To Be Continued\n",
    "As discussed in note 1"
   ]
  }
 ],
 "metadata": {
  "kernelspec": {
   "display_name": "Python 3",
   "language": "python",
   "name": "python3"
  },
  "language_info": {
   "codemirror_mode": {
    "name": "ipython",
    "version": 3
   },
   "file_extension": ".py",
   "mimetype": "text/x-python",
   "name": "python",
   "nbconvert_exporter": "python",
   "pygments_lexer": "ipython3",
   "version": "3.7.1"
  }
 },
 "nbformat": 4,
 "nbformat_minor": 2
}
