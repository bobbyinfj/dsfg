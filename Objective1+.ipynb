{
 "cells": [
  {
   "cell_type": "markdown",
   "metadata": {},
   "source": [
    "# EDA for `SYSTEMS ANALYST 1596 102717.txt`"
   ]
  },
  {
   "cell_type": "code",
   "execution_count": 1,
   "metadata": {},
   "outputs": [],
   "source": [
    "# First, import relevant modules\n",
    "import os\n",
    "import numpy as np\n",
    "import pandas as pd"
   ]
  },
  {
   "cell_type": "code",
   "execution_count": 2,
   "metadata": {},
   "outputs": [],
   "source": [
    "# Import os module to allow us to interface with the underlying operating system that python is running on\n",
    "import os\n",
    "\n",
    "# Define path to look at\n",
    "path = 'CityofLA/Job Bulletins/'\n",
    "\n",
    "# Get a list of all txt files in this path\n",
    "all_txt_files = os.listdir(path) # files won't be in the order shown in their actual folders\n",
    "all_txt_files.sort() # sort files alphabetically. WARNING: this mutates the list. sorted(all_txt_files) won't\n",
    "\n",
    "# Note2self: Some people use os.walk which goes through every root, and their directories, to list all files.\n",
    "# We probably don't need it for now"
   ]
  },
  {
   "cell_type": "code",
   "execution_count": 3,
   "metadata": {},
   "outputs": [
    {
     "name": "stdout",
     "output_type": "stream",
     "text": [
      "683\n",
      "683\n",
      "True\n"
     ]
    }
   ],
   "source": [
    "# Do some checks here\n",
    "print(len(all_txt_files))      # length should be 683 as manually verified\n",
    "print(len(set(all_txt_files))) # see if each file is unique. hopefully 683 as well!\n",
    "print('SYSTEMS ANALYST 1596 102717.txt' in all_txt_files) # should be True"
   ]
  },
  {
   "cell_type": "code",
   "execution_count": 4,
   "metadata": {
    "scrolled": true
   },
   "outputs": [
    {
     "name": "stdout",
     "output_type": "stream",
     "text": [
      "609\n"
     ]
    }
   ],
   "source": [
    "# Find `SYSTEMS ANALYST 1596 102717.txt` (which exists). This is legit since we prove above that each file is unqiue\n",
    "print(all_txt_files.index('SYSTEMS ANALYST 1596 102717.txt'))"
   ]
  },
  {
   "cell_type": "markdown",
   "metadata": {},
   "source": [
    "## Import this text file as a string.\n",
    "`sa` stands for systems analyst"
   ]
  },
  {
   "cell_type": "code",
   "execution_count": 5,
   "metadata": {},
   "outputs": [
    {
     "data": {
      "text/plain": [
       "'SYSTEMS ANALYST\\n\\nClass Code: 1596\\nOpen Date: 10-27-17\\n(Exam Open to All, including Current City Employees)\\n\\nANNUAL SALARY\\n\\n$68,611 to $100,307\\nThe salary in the Department of Water and Power is $70,908 to $88,092 and $83,770 to $104,065.\\n\\nNOTES:\\n\\n1. Candidates from the eligible list are normally appointed to vacancies in the lower pay grade positions.  \\n2. Annual salary is at the start of the pay range. The current salary range is subject to change. Please confirm the starting salary with the hiring department before accepting a job offer.\\n3. For information regarding reciprocity between the City of Los Angeles departments and LADWP, go to http://per.lacity.org/Reciprocity_CityDepts_and_DWP.pdf.\\n\\n\\nDUTIES\\n\\nA Systems Analyst analyzes procedures, methods and operations of computer-based information systems; designs, implements, and recommends information systems to improve the efficiency and economy of City operations; performs cost benefit and feasibility analyses related to the modification of existing computer-based information systems, the maintenance and support of information systems, or the implementation of new computer-based systems; accesses and analyzes information from automated files using high-level retrieval languages.\\n\\nREQUIREMENTS/MINIMUM QUALIFICATIONS\\n\\n1. Graduation from an accredited four-year college or university with a major in Computer Science, Information Systems, or Geographical Information Systems; or\\n2. Graduation from an accredited four-year college or university and two years of full-time paid experience in a class at the level of Management Assistant which provides experience in:\\na. the development, analysis, implementation or major modification of new or existing computer-based information systems or relational databases; or\\nb. performing cost benefit, feasibility and requirements analysis for a large-scale computer-based information system; or\\nc. performing system implementation and support activities including software and hardware acquisition, installation, modifications to system configuration, system and application upgrade installation; or\\n3. Two years of full-time paid experience as a Systems Aide with the City of Los Angeles; and\\na. Satisfactory completion of four courses, of at least three semester or four quarter units each, in Information Systems, Systems Analysis, or a closely related degree program, professional designation, or certificate program from an accredited college or university.\\nb. At least three of the courses must be from the core courses required in the program, and one course may be from either the required core courses or the prescribed elective courses of the program.  A course in systems analysis and design is especially desired, but not required. \\n\\nPROCESS NOTES\\n\\n1. Some positions may require a valid California driver\\'s license. Candidates may not be eligible for appointment to these positions if their record within the last 36 months reflects three or more moving violations and/or at-fault accidents, or a conviction of a major moving violation (such as DUI).\\n2. Please note that qualifying education must be from a college or university accredited by a City of Los Angeles recognized agency. A list of approved accrediting agencies can be found at http://per.lacity.org/Accredited%20Institutions%2008-21-08.pdf.\\n3. Applicants qualifying under Requirement #2 above must identify in the Supplemental Questions section of the application the specific projects that provide qualifying experience. The minor application, modification or use of existing systems is not considered to be qualifying experience.\\n4. Four years of full-time paid experience in any of the areas noted in Requirement #2 above may be substituted for the required degree only. The two years\\' experience in the areas noted is still required to fully meet Requirement #2.\\n5. Applicants qualifying under Requirement #3 above must list in the Supplemental Question section of the application the name of the school attended, course titles, number of units, completion dates, and grades. General education courses will not meet the education requirement outlined in Requirement #3. A copy of the offering institution\\'s catalog program description and course list must be attached to the on-line application and submitted to the Personnel Department at the time of filing. Failure to submit the requested documents may result in processing delays and/or disqualification.\\n6. Candidates completing the exam process will be contacted by the Personnel Department to provide required proof of qualifying four-year degree.\\n\\n\\nSELECTIVE CERTIFICATION\\n\\nIn accordance with Charter Section 1010 (b) and Civil Service Rule 5.31, selective certification will be used for some positions that require special skills and/or training. For such positions, only applicants possessing the specific professional certification(s) at the time of filing may be considered. Some positions will require a professional industry certification(s) in one or more of the following:\\n\\n1. Adobe Dreamweaver CS6 ACE\\n2. Adobe Photoshop CS5 or CS6 ACE\\n3. ArcGIS Desktop Developer Associate\\n4. BMC Certified Administrator\\n5. Cisco Certified Entry Networking Technician (CCENT) \\n6. Cisco Certified Network Associate (CCNA)\\n7. Citrix Certified Associate - Virtualization (CCA-V)\\n8. CompTIA A+ \\n9. Delphi Developer Certification\\n10. Enterprise Administration Associate \\n11. Enterprise System Design Associate\\n12. Enterprise Geodata Management Associate\\n13. Enterprise Geodata Management Professional\\n14. HP Service Manager \\n15. IBM Certified Solutions Expert \\n16. IBM Certified Operator\\n17. IBM Certified Systems Administrator\\n18. JAVA SE Programmer Certification\\n19. Linux Foundation Certified System Administrator  (LFCS) \\n20. Linux Foundation Certified Engineer (LFCE)\\n21. MCTS: Administering and Deploying System Center 2012 Configuration Manager\\n1. \\n22. Microsoft Certified Solutions Associate (MCSA)\\n23. Microsoft Certified Solutions Developer (MCSD) \\n24. Microsoft Certified Solutions Expert (MCSE)\\n25. Microsoft Certified Systems Administrator (MCSA) \\n26. Microsoft Certified Systems Engineer (MCSE)\\n27. Microsoft Technology Associate (MTA)\\n28. Microsoft Technology Associate: IT Infrastructure\\n29. Microsoft: Core Solutions of Microsoft SharePoint Server 2013\\n30. Microsoft: Programming in HTML5 with JavaScript and CSS3\\n31. Microsoft: Programming in C#\\n32. Microsoft: Developing ASP.NET MVC Web Applications\\n33. Microsoft: Windows Server 2008 Active Directory, Configuring \\n34. Microsoft: Windows Server 2008, Server Administrator\\n35. Microsoft: Windows 7, Configuring\\n36. Microsoft: Windows 7, Enterprise Desktop Support Technician\\n37. Microsoft: Installing and Configuring Windows 10\\n38. Microsoft: Installation, Storage, and Compute with Windows Server 2016\\n39. Microsoft: Database Fundamentals\\n40. Certified Novell Administrator (CNA)\\n41. Oracle E-Business Suite R12: E-Business Essentials\\n42. Oracle Database SQL Certified Associate \\n43. Red Hat Certified System Administrator (RHCSA)\\n44. Unix System Administration\\n45. VMware Certified Associate 6 - Data Center Virtualization\\n46. VMware Certified Professional 6.5 - Data Center Virtualization\\n\\t\\t\\nApplicants must attach a copy of the certificate(s) to the on-line application at the time of filing. The certificate(s) must be attached to the on-line application BEFORE the application is submitted. If the certificate(s) is attached AFTER the on-line application has been submitted, it will not be available to the City and applicants WILL NOT be credited with having submitted the certificate(s). Applicants who fail to submit the certificate(s) at the time of filing by not attaching it to the on-line application will not be considered for this part of selective certification.\\n\\nWHERE TO APPLY\\n\\nApplications will only be accepted on-line. When you are viewing the on-line job bulletin of your choice, simply scroll to the top of the page and select the \"Apply\" icon. On-line job bulletins are also available at https://www.governmentjobs.com/careers/lacity for Open Competitive Examinations and at https://www.governmentjobs.com/careers/lacity/promotionaljobs for Promotional Examinations.\\n\\nNOTE:\\n\\nApplicants are urged to apply early to ensure you have time to resolve any technical issues you may encounter.\\n\\nAPPLICATION DEADLINE\\n\\nThe examination may close without prior notice at any time after a sufficient number of applications have been received. For administrative purposes, filing may close periodically and reopen periodically.\\n\\nIn accordance with Civil Service Rule 4.2, all applicants who apply may not be tested in this examination. To meet anticipated hiring needs, only a limited number of qualified applicants will be invited to participate in the weighted multiple-choice test in the following order: 1) Los Angeles City Promotional applicants who meet the minimum requirements. You must have received a regular appointment to a City position or be on a reserve list to apply for this examination as a promotional candidate; 2) Applicants currently employed by the City of Los Angeles on a part-time or exempt basis who meet the minimum requirements; 3) Remaining applicants who meet the minimum requirements in sufficient numbers to meet hiring needs in the order that applications were received. Applications submitted during the filing period will be kept on file for two years from the date of filing in the event that additional applicants need to be tested to meet hiring needs.\\nSELECTION PROCESS\\n\\nAfter meeting minimum qualifications, and in accordance with Rule 4.2 as stated above, candidates will be scheduled for the following:\\n\\nExamination Weight: Multiple-Choice Test . . . . . . . . . . . . . . . . . . . . . . . . . . . . . . . . . . . . . . . . . . . . . . . . . . . . . . . . . . . . . . . . . . . . . . . . . . . . . . . . . . . . . . . . . . . . . . . . . . . . . . . . . . . . . . . . . . . . . . . . .100%\\n\\t\\t\\nThe examination will consist entirely of a weighted multiple-choice test administered and proctored online. In the online multiple-choice test, the following competencies may be evaluated: Analytical Ability, Interpersonal Skills, Teamwork, Written Communication, and Technology Application, including: office productivity tools and/or software; local area network (LAN) configurations and communication protocols; computer hardware and their use, networking devices, and software tools; various operating systems including their use, interoperability, capabilities, and limitations; basic principles and concepts of database design; systems development life cycle (SDLC) methodology including the associated steps and phases; cloud-based computing services and their use; disaster recovery systems, procedures, and/or best practices; Information Technology Service Management (ITSM) frameworks and methodologies; and other necessary skills, knowledge, and abilities.\\n\\nAdditional information can be obtained by going to http://per.lacity.org/index.cfm?content=jobanalyses and clicking on Competencies under Systems Analyst.\\n\\nThe multiple-choice test will be proctored and administered on-line during a single session. Candidates invited to participate in the online multiple-choice test will be able to take the test from any location using a computer with a webcam and a reliable internet connection. Candidates will receive an email from the City of Los Angeles outlining the dates and specific steps on how to take the multiple-choice test on-line. It is anticipated that candidates invited to participate in the first administration of the weighted multiple-choice test will be able to take the multiple-choice test online starting SATURDAY, JANUARY 6, 2018 THROUGH SATURDAY, JANUARY 13, 2018. Candidates who do not complete and submit the multiple-choice test on-line by SATURDAY, JANUARY 13, 2018 at 11:59 p.m., Pacific Standard Time, will not be considered further in this examination. Additional test dates may be added as needed.\\n\\n\\nNOTES:\\t\\n\\n1. This examination is based on a validation study, and as provided by Civil Service Commission Rule 4.20, the multiple-choice test will not be subject to candidate inspection.\\n2. As a covered entity under the Fair Employment and Housing Act and Title II of the Americans with Disabilities Act, the City of Los Angeles does not discriminate on the basis of disability and upon request, will provide reasonable accommodations to ensure equal access to its programs, services, and activities.  To request a disability accommodation, please complete the Disability Accommodation Form within 14 calendar days of the submittal of the City application.  The Disability Accommodation Form can be obtained at http://per.lacity.org/exams/verify_disability.pdf.\\n3. A final average score of 70% or higher is required to be placed on the eligible list.\\n4. Applications are accepted subject to review to ensure that minimum qualifications are met. Candidates may be disqualified at any time if is determined that they do not possess the minimum qualifications stated on this bulletin.\\n5. In accordance with Civil Service Rule, Sec. 4.24, review periods may be combined. Candidates in the examination process may file protests as provided in Sec. 4.20, 4.22 and 4.23 as applicable and within the required time frame; however, the Personnel Department may respond to and resolve protests prior to the establishment of the eligible list.\\n6. In conjunction with Civil Service Rules, applicants who have received a regular appointment to a City position or are on a reserve list will be considered Promotional candidates while all other applicants will be considered Open candidates.\\n7. The promotional list will ordinarily be used ahead of the open competitive list. However, if open competitive candidates receive a higher score, without military credits, than the highest available promotional candidate, after adding 0.25 of a point seniority credit for each year of continuous classified City service, the Civil Service Commission, upon request of the appointing authority, may approve certification of such open competitive candidates ahead of the promotional candidates.\\n8. You may take this examination only once every 365 days. Your name may be removed from the eligible list after six (6) months.\\n9. Your rank on the employment list may change as scores of candidates from other administrations of this examination are merged onto one list.\\n\\n\\nNOTICE: \\n\\nIf you receive and accept an offer of employment to a regular position with the City of Los Angeles, your employee benefit coverage (including health and dental coverage as well as life insurance) will commence approximately six weeks after your original regular appointment. Not all positions in the City receive benefit coverage; you should inquire regarding the availability of employee benefits prior to accepting a position.\\nTHIS EXAMINATION IS TO BE GIVEN BOTH ON AN\\nINTERDEPARTMENTAL PROMOTIONAL AND AN OPEN COMPETITIVE BASIS\\n\\nThe City of Los Angeles does not discriminate on the basis of race, religion, national origin, sex, age, marital status, sexual orientation, gender identity, gender expression, disability, creed, color, ancestry, medical condition (cancer), or Acquired Immune Deficiency Syndrome.\\nClass Code 1596 CONT. . . . . . . . . . . . . . . . . . . . . . . . . . . . . . . . . . . . . . . . . . . . . . . . . . . . . . . . . . . . . . . . . . . . . . . . . . . . . . . . . . . . . . . . . . . . . . . . . . . . . . . . . . . . . . . .10-27-17\\n\\n\\nAN EQUAL EMPLOYMENT OPPORTUNITY EMPLOYER\\nFor additional information and FAQs regarding the City\\'s hiring process, please go to: http://per.lacity.org/index.cfm?content=employmenttestingprocess\\n\\n'"
      ]
     },
     "execution_count": 5,
     "metadata": {},
     "output_type": "execute_result"
    }
   ],
   "source": [
    "sa_path = path + all_txt_files[609]\n",
    "sa = open(sa_path, 'rt').read()\n",
    "sa # display"
   ]
  },
  {
   "cell_type": "markdown",
   "metadata": {},
   "source": [
    "## Get required columns"
   ]
  },
  {
   "cell_type": "code",
   "execution_count": 6,
   "metadata": {},
   "outputs": [],
   "source": [
    "# Create markers from one part to another\n",
    "job_title = 'SYSTEMS ANALYST'\n",
    "mask = [job_title, \n",
    "        'Class Code',\n",
    "        'Open Date',\n",
    "        '(',\n",
    "        'ANNUAL SALARY',\n",
    "        'NOTES',\n",
    "        'DUTIES',\n",
    "        'REQUIREMENTS/MINIMUM QUALIFICATIONS',\n",
    "        'PROCESS NOTES']"
   ]
  },
  {
   "cell_type": "markdown",
   "metadata": {},
   "source": [
    "### Get the job_title"
   ]
  },
  {
   "cell_type": "code",
   "execution_count": 7,
   "metadata": {},
   "outputs": [
    {
     "data": {
      "text/plain": [
       "'SYSTEMS ANALYST'"
      ]
     },
     "execution_count": 7,
     "metadata": {},
     "output_type": "execute_result"
    }
   ],
   "source": [
    "temp = sa[sa.find(job_title):sa.find('Class Code')]\n",
    "jt   = temp.split('\\n')[0]\n",
    "jt"
   ]
  },
  {
   "cell_type": "markdown",
   "metadata": {},
   "source": [
    "### Get the JOB_CLASS_NO"
   ]
  },
  {
   "cell_type": "code",
   "execution_count": 8,
   "metadata": {},
   "outputs": [
    {
     "data": {
      "text/plain": [
       "1596"
      ]
     },
     "execution_count": 8,
     "metadata": {},
     "output_type": "execute_result"
    }
   ],
   "source": [
    "# Good thing is that str.split() ignores newline characters!\n",
    "temp = sa[sa.find('Class Code'):sa.find('Open Date')]\n",
    "jcn  = [int(string_num) for string_num in temp.split() if string_num.isdigit()][0]\n",
    "jcn"
   ]
  },
  {
   "cell_type": "markdown",
   "metadata": {},
   "source": [
    "### Get Open Date - od"
   ]
  },
  {
   "cell_type": "code",
   "execution_count": 9,
   "metadata": {},
   "outputs": [
    {
     "data": {
      "text/plain": [
       "'10-27-17'"
      ]
     },
     "execution_count": 9,
     "metadata": {},
     "output_type": "execute_result"
    }
   ],
   "source": [
    "temp = sa[sa.find('Open Date'):sa.find('(')]\n",
    "od   = temp.split()[-1]\n",
    "od"
   ]
  },
  {
   "cell_type": "markdown",
   "metadata": {},
   "source": [
    "### Get salary"
   ]
  },
  {
   "cell_type": "code",
   "execution_count": 10,
   "metadata": {},
   "outputs": [
    {
     "name": "stdout",
     "output_type": "stream",
     "text": [
      "['68,611', '100,307', '70,908', '88,092', '83,770', '104,065']\n",
      "[]\n"
     ]
    }
   ],
   "source": [
    "# Locate the info location\n",
    "temp = sa[sa.find('ANNUAL SALARY'):sa.find('NOTES')]\n",
    "# Next, we'll replace '.' and '$' with white spaces, before splitting this string at white space.\n",
    "# Luckily, we can chain these operations for readability.\n",
    "temp = temp.replace('.', ' ').replace('$', ' ').split()\n",
    "# Finally, let's get the salary range using the same approach that isolated\n",
    "# job_titles. Per Bob's suggestion, let's have a catch list manual_check.\n",
    "salary_range = []\n",
    "manual_check = []\n",
    "for word in temp:\n",
    "    ## Some jobs are like this: $##,### to $##,###, $##,### to $##,###.\n",
    "    ## Also, watch out for ROOFER!\n",
    "    if (',' in word):\n",
    "        try: # This is like an extra layer of checking: avoiding, e.g., \"t,o\"\n",
    "            int(word.replace(',', ''))\n",
    "            salary_range.append(word)\n",
    "        except:\n",
    "            manual_check.append(word)\n",
    "print(salary_range)\n",
    "print(manual_check)"
   ]
  },
  {
   "cell_type": "markdown",
   "metadata": {},
   "source": [
    "### Get duties"
   ]
  },
  {
   "cell_type": "code",
   "execution_count": 11,
   "metadata": {},
   "outputs": [
    {
     "data": {
      "text/plain": [
       "'A Systems Analyst analyzes procedures, methods and operations of computer-based information systems; designs, implements, and recommends information systems to improve the efficiency and economy of City operations; performs cost benefit and feasibility analyses related to the modification of existing computer-based information systems, the maintenance and support of information systems, or the implementation of new computer-based systems; accesses and analyzes information from automated files using high-level retrieval languages.'"
      ]
     },
     "execution_count": 11,
     "metadata": {},
     "output_type": "execute_result"
    }
   ],
   "source": [
    "temp = sa[sa.find('DUTIES'):sa.find('REQUIREMENTS/MINIMUM QUALIFICATIONS')]\n",
    "temp = temp.split()[1:]\n",
    "duties = ' '.join(temp)\n",
    "duties"
   ]
  },
  {
   "cell_type": "markdown",
   "metadata": {},
   "source": [
    "### Get requirements\n",
    "<font color='red'>For now, just treat every txt has the word PROCESS NOTES</font>"
   ]
  },
  {
   "cell_type": "code",
   "execution_count": 12,
   "metadata": {},
   "outputs": [
    {
     "data": {
      "text/plain": [
       "'REQUIREMENTS/MINIMUM QUALIFICATIONS\\n\\n1. Graduation from an accredited four-year college or university with a major in Computer Science, Information Systems, or Geographical Information Systems; or\\n2. Graduation from an accredited four-year college or university and two years of full-time paid experience in a class at the level of Management Assistant which provides experience in:\\na. the development, analysis, implementation or major modification of new or existing computer-based information systems or relational databases; or\\nb. performing cost benefit, feasibility and requirements analysis for a large-scale computer-based information system; or\\nc. performing system implementation and support activities including software and hardware acquisition, installation, modifications to system configuration, system and application upgrade installation; or\\n3. Two years of full-time paid experience as a Systems Aide with the City of Los Angeles; and\\na. Satisfactory completion of four courses, of at least three semester or four quarter units each, in Information Systems, Systems Analysis, or a closely related degree program, professional designation, or certificate program from an accredited college or university.\\nb. At least three of the courses must be from the core courses required in the program, and one course may be from either the required core courses or the prescribed elective courses of the program.  A course in systems analysis and design is especially desired, but not required. \\n\\n'"
      ]
     },
     "execution_count": 12,
     "metadata": {},
     "output_type": "execute_result"
    }
   ],
   "source": [
    "# Locate the information\n",
    "temp = sa[sa.find('REQUIREMENTS/MINIMUM QUALIFICATIONS'):sa.find('PROCESS NOTES')]\n",
    "temp"
   ]
  },
  {
   "cell_type": "code",
   "execution_count": 13,
   "metadata": {},
   "outputs": [
    {
     "data": {
      "text/plain": [
       "'REQUIREMENTS/MINIMUM QUALIFICATIONS\\n\\n1 Graduation from an accredited four-year college or university with a major in Computer Science, Information Systems, or Geographical Information Systems; or\\n2 Graduation from an accredited four-year college or university and two years of full-time paid experience in a class at the level of Management Assistant which provides experience in:\\na the development, analysis, implementation or major modification of new or existing computer-based information systems or relational databases; or\\nb performing cost benefit, feasibility and requirements analysis for a large-scale computer-based information system; or\\nc performing system implementation and support activities including software and hardware acquisition, installation, modifications to system configuration, system and application upgrade installation; or\\n3 Two years of full-time paid experience as a Systems Aide with the City of Los Angeles; and\\na Satisfactory completion of four courses, of at least three semester or four quarter units each, in Information Systems, Systems Analysis, or a closely related degree program, professional designation, or certificate program from an accredited college or university\\nb At least three of the courses must be from the core courses required in the program, and one course may be from either the required core courses or the prescribed elective courses of the program  A course in systems analysis and design is especially desired, but not required \\n\\n'"
      ]
     },
     "execution_count": 13,
     "metadata": {},
     "output_type": "execute_result"
    }
   ],
   "source": [
    "# Remove the dots in 1., 2., a., etc.\n",
    "temp = temp.replace('.', '')\n",
    "temp"
   ]
  },
  {
   "cell_type": "code",
   "execution_count": 14,
   "metadata": {},
   "outputs": [
    {
     "data": {
      "text/plain": [
       "['1', '2', '3']"
      ]
     },
     "execution_count": 14,
     "metadata": {},
     "output_type": "execute_result"
    }
   ],
   "source": [
    "# Get the digits that marks one part from the other\n",
    "digits = [str(int(string_num)) for string_num in temp.split() if string_num.isdigit()]\n",
    "digits"
   ]
  },
  {
   "cell_type": "code",
   "execution_count": 15,
   "metadata": {},
   "outputs": [
    {
     "data": {
      "text/plain": [
       "['1 Graduation from an accredited four-year college or university with a major in Computer Science, Information Systems, or Geographical Information Systems; or\\n',\n",
       " '2 Graduation from an accredited four-year college or university and two years of full-time paid experience in a class at the level of Management Assistant which provides experience in:\\na the development, analysis, implementation or major modification of new or existing computer-based information systems or relational databases; or\\nb performing cost benefit, feasibility and requirements analysis for a large-scale computer-based information system; or\\nc performing system implementation and support activities including software and hardware acquisition, installation, modifications to system configuration, system and application upgrade installation; or\\n',\n",
       " '3 Two years of full-time paid experience as a Systems Aide with the City of Los Angeles; and\\na Satisfactory completion of four courses, of at least three semester or four quarter units each, in Information Systems, Systems Analysis, or a closely related degree program, professional designation, or certificate program from an accredited college or university\\nb At least three of the courses must be from the core courses required in the program, and one course may be from either the required core courses or the prescribed elective courses of the program  A course in systems analysis and design is especially desired, but not required \\n\\n']"
      ]
     },
     "execution_count": 15,
     "metadata": {},
     "output_type": "execute_result"
    }
   ],
   "source": [
    "# Separate requirements one from the others\n",
    "requirement_set = []\n",
    "for idx in range(len(digits)):\n",
    "    try:                                                # this works fine until the last index as it can't move on\n",
    "        mask1 = digits[idx]                             # mark the first position\n",
    "        mask2 = digits[idx+1]                           # mark the second position\n",
    "        req   = temp[temp.find(mask1):temp.find(mask2)] # get the part from the first pos. to the second pos.\n",
    "        requirement_set.append(req)                     # put that part into the container\n",
    "    except:                                             # a pythonic way to get the last part w/o excessive coing\n",
    "        mask  = digits[idx]              \n",
    "        req   = temp[temp.find(mask):]\n",
    "        requirement_set.append(req)\n",
    "\n",
    "requirement_set # display results"
   ]
  },
  {
   "cell_type": "markdown",
   "metadata": {},
   "source": [
    "For now, put things into the following format: `[('1'), ('2a', '2b', '2c'), ('3ab')]`"
   ]
  },
  {
   "cell_type": "code",
   "execution_count": 16,
   "metadata": {},
   "outputs": [
    {
     "data": {
      "text/plain": [
       "[['1 Graduation from an accredited four-year college or university with a major in Computer Science, Information Systems, or Geographical Information Systems; or'],\n",
       " ['2 Graduation from an accredited four-year college or university and two years of full-time paid experience in a class at the level of Management Assistant which provides experience in:',\n",
       "  'a the development, analysis, implementation or major modification of new or existing computer-based information systems or relational databases; or',\n",
       "  'b performing cost benefit, feasibility and requirements analysis for a large-scale computer-based information system; or',\n",
       "  'c performing system implementation and support activities including software and hardware acquisition, installation, modifications to system configuration, system and application upgrade installation; or'],\n",
       " ['3 Two years of full-time paid experience as a Systems Aide with the City of Los Angeles; and',\n",
       "  'a Satisfactory completion of four courses, of at least three semester or four quarter units each, in Information Systems, Systems Analysis, or a closely related degree program, professional designation, or certificate program from an accredited college or university',\n",
       "  'b At least three of the courses must be from the core courses required in the program, and one course may be from either the required core courses or the prescribed elective courses of the program  A course in systems analysis and design is especially desired, but not required ']]"
      ]
     },
     "execution_count": 16,
     "metadata": {},
     "output_type": "execute_result"
    }
   ],
   "source": [
    "# First, let's simplify requirement_set. We still need to keep the newline characters (\\n) as a mark from one sentence\n",
    "# to another. However, we also need to remove those \\n at the end of the sentences to foster easier analysis.\n",
    "simplified_requirement_set = [[item for item in element.split('\\n') if len(item) > 1] for element in requirement_set]\n",
    "simplified_requirement_set\n",
    "\n",
    "## Note: nested list is exactly what I need because it provides a natural mark from the sentences with digits"
   ]
  },
  {
   "cell_type": "markdown",
   "metadata": {},
   "source": [
    "Algorithm:\n",
    "\n",
    "for `aList` in the list of `simplified_requirement_set`:\n",
    "* Step 1: if length is 1, then it *may be* a requirement_id. This is to handle situations: \"1. and 2.\" or \"1. or 2.\"\n",
    "    * Step 1a: if it ends with \"and\", then this line is related to the next line\n",
    "    * Step 1b: else, then it is indeed a requirement_id\n",
    "* Step 2: if length is more than 1, then it defines a sub-requirement. This is to handle situations: \"2a or 2b\" or \"3 and a or b\"\n",
    "    * Step 2a: if all the sub-requirements end with 'or', then each defines a sub_requirement_id\n",
    "    * Step 2b: else, then if defines a *nested* sub_requirement_id, such as 3ab."
   ]
  },
  {
   "cell_type": "code",
   "execution_count": 17,
   "metadata": {},
   "outputs": [
    {
     "name": "stdout",
     "output_type": "stream",
     "text": [
      "[('1',), ('2', 'a'), ('2', 'b'), ('2', 'c'), ('3', 'a', 'b')]\n"
     ]
    }
   ],
   "source": [
    "r = []\n",
    "for aList in simplified_requirement_set:\n",
    "    if len(aList) == 1:\n",
    "        possibly_a_requirement = aList[0]\n",
    "        if possibly_a_requirement.endswith('and'):\n",
    "            next_item_idx = simplified_requirement_set.index(aList) + 1\n",
    "            next_digit    = simplified_requirement_set[next_item_idx][0]\n",
    "            nested_requirement = possibly_a_requirement[0] + next_digit\n",
    "            r.append(tuple(nested_requirement))\n",
    "        else:\n",
    "            requirement_id = possibly_a_requirement[0]\n",
    "            r.append(tuple(requirement_id))\n",
    "    elif len(aList) > 1:\n",
    "        main_sentence  = aList[0]\n",
    "        requirement_id = main_sentence[0]\n",
    "        requirement_subset = aList[1:]\n",
    "        if all([sub.endswith('or') for sub in aList[1:]]):\n",
    "            for sub_requirement in requirement_subset:\n",
    "                sub_requirement_id = sub_requirement[0]\n",
    "                nested_requirement = requirement_id + sub_requirement_id\n",
    "                r.append(tuple(nested_requirement))\n",
    "        else:\n",
    "            for sub_requirement in requirement_subset:\n",
    "                sub_requirement_id = sub_requirement[0]\n",
    "                requirement_id    += sub_requirement_id\n",
    "            r.append(tuple(requirement_id))\n",
    "\n",
    "print(r)"
   ]
  },
  {
   "cell_type": "markdown",
   "metadata": {},
   "source": [
    "### Get eduation years\n",
    "I haven't done it yet, but I think this task is fairly easy."
   ]
  },
  {
   "cell_type": "markdown",
   "metadata": {},
   "source": [
    "### Get school type\n",
    "Not too hard"
   ]
  },
  {
   "cell_type": "markdown",
   "metadata": {},
   "source": [
    "### Get education major\n",
    "Idea: build a list of majors and just look things up"
   ]
  },
  {
   "cell_type": "markdown",
   "metadata": {},
   "source": [
    "### Get experience length\n",
    "Idea: Build a dictionary such as,\n",
    "{'one': 1, 'two': two,...} and look up the word in each sentence. So shouldn't be too hard"
   ]
  },
  {
   "cell_type": "markdown",
   "metadata": {},
   "source": [
    "### Get full time part time\n",
    "Isn't that \"annual\" means full time?"
   ]
  },
  {
   "cell_type": "markdown",
   "metadata": {},
   "source": [
    "### Get experience job class title\n",
    "See Notebook `Objective1_a`"
   ]
  },
  {
   "cell_type": "code",
   "execution_count": null,
   "metadata": {},
   "outputs": [],
   "source": []
  }
 ],
 "metadata": {
  "kernelspec": {
   "display_name": "Python 3",
   "language": "python",
   "name": "python3"
  },
  "language_info": {
   "codemirror_mode": {
    "name": "ipython",
    "version": 3
   },
   "file_extension": ".py",
   "mimetype": "text/x-python",
   "name": "python",
   "nbconvert_exporter": "python",
   "pygments_lexer": "ipython3",
   "version": "3.7.1"
  }
 },
 "nbformat": 4,
 "nbformat_minor": 2
}
