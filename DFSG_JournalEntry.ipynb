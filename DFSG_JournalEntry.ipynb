{
 "cells": [
  {
   "cell_type": "markdown",
   "metadata": {},
   "source": [
    "# `Objective_0a`: Current focus\n",
    "* Purpose: Inspect inconsistent naming in the provided txt files\n",
    "* Date modified:\n",
    "    * Sunday, 5/19/2019: \n",
    "        * Created\n",
    "        * See Note 1 and Note 2 in this notebook"
   ]
  },
  {
   "cell_type": "markdown",
   "metadata": {},
   "source": [
    "# `Objective1`\n",
    "* Purpose: Build a csv file for `SYSTEMS ANALYST 1596 102717.txt`\n",
    "* Date modified:\n",
    "    * Thursday, 5/23/2019:\n",
    "        * I successfully resolve `EXP_JOB_CLASS_TITLE` problem now. The idea is to build a list of titles that the city has and then we can look it up. This list is obtained by going through the `City Job Path` folder, convert each pdf file into a text file, and then build a list of key words. See Notebook `Objective1_a`.\n",
    "    * Wednesday, 5/22/2019:\n",
    "        * I was able to went all the way to `requirement_id` and `requirement_subset_id`\n",
    "        * For education year, school type, education major, experience length, and full-time/part-time, I didn't solve them yet because I thought they were quite predictable. See the notebook for ideas/thought processes.\n",
    "        * I got stuck the most with `EXP_JOB_CLASS_TITLE` because I had no clue what title the city had. For example, System Aide or Chief Clerk.\n",
    "    * Sunday, 5/19/2019\n",
    "        * Created"
   ]
  },
  {
   "cell_type": "markdown",
   "metadata": {},
   "source": [
    "# `Objective1_a`\n",
    "* Purpose: Build a list of key words for `EXP_JOB_CLASS_TITLE`\n",
    "* Date modified:\n",
    "    * Thursday, 5/23/2019:\n",
    "        * Created\n",
    "        * I had to manually copy/paste the list in a word-processing app (pages) and read and edit the list to have a cleaner one. Not just Bob can do it!"
   ]
  },
  {
   "cell_type": "code",
   "execution_count": null,
   "metadata": {},
   "outputs": [],
   "source": []
  }
 ],
 "metadata": {
  "kernelspec": {
   "display_name": "Python 3",
   "language": "python",
   "name": "python3"
  },
  "language_info": {
   "codemirror_mode": {
    "name": "ipython",
    "version": 3
   },
   "file_extension": ".py",
   "mimetype": "text/x-python",
   "name": "python",
   "nbconvert_exporter": "python",
   "pygments_lexer": "ipython3",
   "version": "3.7.1"
  }
 },
 "nbformat": 4,
 "nbformat_minor": 2
}
