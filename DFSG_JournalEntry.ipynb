{
 "cells": [
  {
   "cell_type": "markdown",
   "metadata": {},
   "source": [
    "# `Objective_0a`: Current focus\n",
    "* Purpose: Inspect inconsistent naming in the provided txt files\n",
    "* Date modified:\n",
    "    * Sunday, 5/19/2019: \n",
    "        * Created\n",
    "        * See Note 1 and Note 2 in this notebook"
   ]
  },
  {
   "cell_type": "markdown",
   "metadata": {},
   "source": [
    "# `Objective1`\n",
    "* Purpose: Build a csv file for `SYSTEMS ANALYST 1596 102717.txt`\n",
    "* Date modified:\n",
    "    * Sunday, 5/19/2019\n",
    "        * Created"
   ]
  }
 ],
 "metadata": {
  "kernelspec": {
   "display_name": "Python 3",
   "language": "python",
   "name": "python3"
  },
  "language_info": {
   "codemirror_mode": {
    "name": "ipython",
    "version": 3
   },
   "file_extension": ".py",
   "mimetype": "text/x-python",
   "name": "python",
   "nbconvert_exporter": "python",
   "pygments_lexer": "ipython3",
   "version": "3.7.1"
  }
 },
 "nbformat": 4,
 "nbformat_minor": 2
}
