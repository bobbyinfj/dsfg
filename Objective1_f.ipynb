{
 "cells": [
  {
   "cell_type": "markdown",
   "metadata": {},
   "source": [
    "# Refine other functions that use `_base`"
   ]
  },
  {
   "cell_type": "code",
   "execution_count": 1,
   "metadata": {},
   "outputs": [],
   "source": [
    "# Import relevant modules\n",
    "import os           # interface with the underlying OS\n",
    "import numpy as np  # linear algebra\n",
    "import pandas as pd # dataframe\n",
    "import re           # regular expression"
   ]
  },
  {
   "cell_type": "code",
   "execution_count": 2,
   "metadata": {},
   "outputs": [],
   "source": [
    "# Import os module to allow us to interface with the underlying operating system that python is running on\n",
    "import os\n",
    "\n",
    "# Define path to look at\n",
    "path = 'CityofLA/Job Bulletins/'\n",
    "\n",
    "# Get a list of all txt files in this path\n",
    "all_txt_files = os.listdir(path) # files won't be in the order shown in their actual folders\n",
    "all_txt_files.sort() # sort files alphabetically. WARNING: this mutates the list. sorted(all_txt_files) won't\n",
    "\n",
    "# Note2self: Some people use os.walk which goes through every root, and their directories, to list all files.\n",
    "# We probably don't need it for now"
   ]
  },
  {
   "cell_type": "code",
   "execution_count": 3,
   "metadata": {},
   "outputs": [
    {
     "name": "stdout",
     "output_type": "stream",
     "text": [
      "683\n",
      "683\n",
      "True\n"
     ]
    }
   ],
   "source": [
    "# Do some checks here\n",
    "print(len(all_txt_files))      # length should be 683 as manually verified\n",
    "print(len(set(all_txt_files))) # see if each file is unique. hopefully 683 as well!\n",
    "print('SYSTEMS ANALYST 1596 102717.txt' in all_txt_files) # should be True"
   ]
  },
  {
   "cell_type": "code",
   "execution_count": 4,
   "metadata": {
    "scrolled": true
   },
   "outputs": [
    {
     "name": "stdout",
     "output_type": "stream",
     "text": [
      "609\n"
     ]
    }
   ],
   "source": [
    "# Find `SYSTEMS ANALYST 1596 102717.txt` (which exists). This is legit since we prove above that each file is unqiue\n",
    "print(all_txt_files.index('SYSTEMS ANALYST 1596 102717.txt'))"
   ]
  },
  {
   "cell_type": "markdown",
   "metadata": {},
   "source": [
    "## Import this text file as a string.\n",
    "`sa` stands for systems analyst"
   ]
  },
  {
   "cell_type": "code",
   "execution_count": 5,
   "metadata": {},
   "outputs": [
    {
     "data": {
      "text/plain": [
       "'SYSTEMS ANALYST\\n\\nClass Code: 1596\\nOpen Date: 10-27-17\\n(Exam Open to All, including Current City Employees)\\n\\nANNUAL SALARY\\n\\n$68,611 to $100,307\\nThe salary in the Department of Water and Power is $70,908 to $88,092 and $83,770 to $104,065.\\n\\nNOTES:\\n\\n1. Candidates from the eligible list are normally appointed to vacancies in the lower pay grade positions.  \\n2. Annual salary is at the start of the pay range. The current salary range is subject to change. Please confirm the starting salary with the hiring department before accepting a job offer.\\n3. For information regarding reciprocity between the City of Los Angeles departments and LADWP, go to http://per.lacity.org/Reciprocity_CityDepts_and_DWP.pdf.\\n\\n\\nDUTIES\\n\\nA Systems Analyst analyzes procedures, methods and operations of computer-based information systems; designs, implements, and recommends information systems to improve the efficiency and economy of City operations; performs cost benefit and feasibility analyses related to the modification of existing computer-based information systems, the maintenance and support of information systems, or the implementation of new computer-based systems; accesses and analyzes information from automated files using high-level retrieval languages.\\n\\nREQUIREMENTS/MINIMUM QUALIFICATIONS\\n\\n1. Graduation from an accredited four-year college or university with a major in Computer Science, Information Systems, or Geographical Information Systems; or\\n2. Graduation from an accredited four-year college or university and two years of full-time paid experience in a class at the level of Management Assistant which provides experience in:\\na. the development, analysis, implementation or major modification of new or existing computer-based information systems or relational databases; or\\nb. performing cost benefit, feasibility and requirements analysis for a large-scale computer-based information system; or\\nc. performing system implementation and support activities including software and hardware acquisition, installation, modifications to system configuration, system and application upgrade installation; or\\n3. Two years of full-time paid experience as a Systems Aide with the City of Los Angeles; and\\na. Satisfactory completion of four courses, of at least three semester or four quarter units each, in Information Systems, Systems Analysis, or a closely related degree program, professional designation, or certificate program from an accredited college or university.\\nb. At least three of the courses must be from the core courses required in the program, and one course may be from either the required core courses or the prescribed elective courses of the program.  A course in systems analysis and design is especially desired, but not required. \\n\\nPROCESS NOTES\\n\\n1. Some positions may require a valid California driver\\'s license. Candidates may not be eligible for appointment to these positions if their record within the last 36 months reflects three or more moving violations and/or at-fault accidents, or a conviction of a major moving violation (such as DUI).\\n2. Please note that qualifying education must be from a college or university accredited by a City of Los Angeles recognized agency. A list of approved accrediting agencies can be found at http://per.lacity.org/Accredited%20Institutions%2008-21-08.pdf.\\n3. Applicants qualifying under Requirement #2 above must identify in the Supplemental Questions section of the application the specific projects that provide qualifying experience. The minor application, modification or use of existing systems is not considered to be qualifying experience.\\n4. Four years of full-time paid experience in any of the areas noted in Requirement #2 above may be substituted for the required degree only. The two years\\' experience in the areas noted is still required to fully meet Requirement #2.\\n5. Applicants qualifying under Requirement #3 above must list in the Supplemental Question section of the application the name of the school attended, course titles, number of units, completion dates, and grades. General education courses will not meet the education requirement outlined in Requirement #3. A copy of the offering institution\\'s catalog program description and course list must be attached to the on-line application and submitted to the Personnel Department at the time of filing. Failure to submit the requested documents may result in processing delays and/or disqualification.\\n6. Candidates completing the exam process will be contacted by the Personnel Department to provide required proof of qualifying four-year degree.\\n\\n\\nSELECTIVE CERTIFICATION\\n\\nIn accordance with Charter Section 1010 (b) and Civil Service Rule 5.31, selective certification will be used for some positions that require special skills and/or training. For such positions, only applicants possessing the specific professional certification(s) at the time of filing may be considered. Some positions will require a professional industry certification(s) in one or more of the following:\\n\\n1. Adobe Dreamweaver CS6 ACE\\n2. Adobe Photoshop CS5 or CS6 ACE\\n3. ArcGIS Desktop Developer Associate\\n4. BMC Certified Administrator\\n5. Cisco Certified Entry Networking Technician (CCENT) \\n6. Cisco Certified Network Associate (CCNA)\\n7. Citrix Certified Associate - Virtualization (CCA-V)\\n8. CompTIA A+ \\n9. Delphi Developer Certification\\n10. Enterprise Administration Associate \\n11. Enterprise System Design Associate\\n12. Enterprise Geodata Management Associate\\n13. Enterprise Geodata Management Professional\\n14. HP Service Manager \\n15. IBM Certified Solutions Expert \\n16. IBM Certified Operator\\n17. IBM Certified Systems Administrator\\n18. JAVA SE Programmer Certification\\n19. Linux Foundation Certified System Administrator  (LFCS) \\n20. Linux Foundation Certified Engineer (LFCE)\\n21. MCTS: Administering and Deploying System Center 2012 Configuration Manager\\n1. \\n22. Microsoft Certified Solutions Associate (MCSA)\\n23. Microsoft Certified Solutions Developer (MCSD) \\n24. Microsoft Certified Solutions Expert (MCSE)\\n25. Microsoft Certified Systems Administrator (MCSA) \\n26. Microsoft Certified Systems Engineer (MCSE)\\n27. Microsoft Technology Associate (MTA)\\n28. Microsoft Technology Associate: IT Infrastructure\\n29. Microsoft: Core Solutions of Microsoft SharePoint Server 2013\\n30. Microsoft: Programming in HTML5 with JavaScript and CSS3\\n31. Microsoft: Programming in C#\\n32. Microsoft: Developing ASP.NET MVC Web Applications\\n33. Microsoft: Windows Server 2008 Active Directory, Configuring \\n34. Microsoft: Windows Server 2008, Server Administrator\\n35. Microsoft: Windows 7, Configuring\\n36. Microsoft: Windows 7, Enterprise Desktop Support Technician\\n37. Microsoft: Installing and Configuring Windows 10\\n38. Microsoft: Installation, Storage, and Compute with Windows Server 2016\\n39. Microsoft: Database Fundamentals\\n40. Certified Novell Administrator (CNA)\\n41. Oracle E-Business Suite R12: E-Business Essentials\\n42. Oracle Database SQL Certified Associate \\n43. Red Hat Certified System Administrator (RHCSA)\\n44. Unix System Administration\\n45. VMware Certified Associate 6 - Data Center Virtualization\\n46. VMware Certified Professional 6.5 - Data Center Virtualization\\n\\t\\t\\nApplicants must attach a copy of the certificate(s) to the on-line application at the time of filing. The certificate(s) must be attached to the on-line application BEFORE the application is submitted. If the certificate(s) is attached AFTER the on-line application has been submitted, it will not be available to the City and applicants WILL NOT be credited with having submitted the certificate(s). Applicants who fail to submit the certificate(s) at the time of filing by not attaching it to the on-line application will not be considered for this part of selective certification.\\n\\nWHERE TO APPLY\\n\\nApplications will only be accepted on-line. When you are viewing the on-line job bulletin of your choice, simply scroll to the top of the page and select the \"Apply\" icon. On-line job bulletins are also available at https://www.governmentjobs.com/careers/lacity for Open Competitive Examinations and at https://www.governmentjobs.com/careers/lacity/promotionaljobs for Promotional Examinations.\\n\\nNOTE:\\n\\nApplicants are urged to apply early to ensure you have time to resolve any technical issues you may encounter.\\n\\nAPPLICATION DEADLINE\\n\\nThe examination may close without prior notice at any time after a sufficient number of applications have been received. For administrative purposes, filing may close periodically and reopen periodically.\\n\\nIn accordance with Civil Service Rule 4.2, all applicants who apply may not be tested in this examination. To meet anticipated hiring needs, only a limited number of qualified applicants will be invited to participate in the weighted multiple-choice test in the following order: 1) Los Angeles City Promotional applicants who meet the minimum requirements. You must have received a regular appointment to a City position or be on a reserve list to apply for this examination as a promotional candidate; 2) Applicants currently employed by the City of Los Angeles on a part-time or exempt basis who meet the minimum requirements; 3) Remaining applicants who meet the minimum requirements in sufficient numbers to meet hiring needs in the order that applications were received. Applications submitted during the filing period will be kept on file for two years from the date of filing in the event that additional applicants need to be tested to meet hiring needs.\\nSELECTION PROCESS\\n\\nAfter meeting minimum qualifications, and in accordance with Rule 4.2 as stated above, candidates will be scheduled for the following:\\n\\nExamination Weight: Multiple-Choice Test . . . . . . . . . . . . . . . . . . . . . . . . . . . . . . . . . . . . . . . . . . . . . . . . . . . . . . . . . . . . . . . . . . . . . . . . . . . . . . . . . . . . . . . . . . . . . . . . . . . . . . . . . . . . . . . . . . . . . . . . .100%\\n\\t\\t\\nThe examination will consist entirely of a weighted multiple-choice test administered and proctored online. In the online multiple-choice test, the following competencies may be evaluated: Analytical Ability, Interpersonal Skills, Teamwork, Written Communication, and Technology Application, including: office productivity tools and/or software; local area network (LAN) configurations and communication protocols; computer hardware and their use, networking devices, and software tools; various operating systems including their use, interoperability, capabilities, and limitations; basic principles and concepts of database design; systems development life cycle (SDLC) methodology including the associated steps and phases; cloud-based computing services and their use; disaster recovery systems, procedures, and/or best practices; Information Technology Service Management (ITSM) frameworks and methodologies; and other necessary skills, knowledge, and abilities.\\n\\nAdditional information can be obtained by going to http://per.lacity.org/index.cfm?content=jobanalyses and clicking on Competencies under Systems Analyst.\\n\\nThe multiple-choice test will be proctored and administered on-line during a single session. Candidates invited to participate in the online multiple-choice test will be able to take the test from any location using a computer with a webcam and a reliable internet connection. Candidates will receive an email from the City of Los Angeles outlining the dates and specific steps on how to take the multiple-choice test on-line. It is anticipated that candidates invited to participate in the first administration of the weighted multiple-choice test will be able to take the multiple-choice test online starting SATURDAY, JANUARY 6, 2018 THROUGH SATURDAY, JANUARY 13, 2018. Candidates who do not complete and submit the multiple-choice test on-line by SATURDAY, JANUARY 13, 2018 at 11:59 p.m., Pacific Standard Time, will not be considered further in this examination. Additional test dates may be added as needed.\\n\\n\\nNOTES:\\t\\n\\n1. This examination is based on a validation study, and as provided by Civil Service Commission Rule 4.20, the multiple-choice test will not be subject to candidate inspection.\\n2. As a covered entity under the Fair Employment and Housing Act and Title II of the Americans with Disabilities Act, the City of Los Angeles does not discriminate on the basis of disability and upon request, will provide reasonable accommodations to ensure equal access to its programs, services, and activities.  To request a disability accommodation, please complete the Disability Accommodation Form within 14 calendar days of the submittal of the City application.  The Disability Accommodation Form can be obtained at http://per.lacity.org/exams/verify_disability.pdf.\\n3. A final average score of 70% or higher is required to be placed on the eligible list.\\n4. Applications are accepted subject to review to ensure that minimum qualifications are met. Candidates may be disqualified at any time if is determined that they do not possess the minimum qualifications stated on this bulletin.\\n5. In accordance with Civil Service Rule, Sec. 4.24, review periods may be combined. Candidates in the examination process may file protests as provided in Sec. 4.20, 4.22 and 4.23 as applicable and within the required time frame; however, the Personnel Department may respond to and resolve protests prior to the establishment of the eligible list.\\n6. In conjunction with Civil Service Rules, applicants who have received a regular appointment to a City position or are on a reserve list will be considered Promotional candidates while all other applicants will be considered Open candidates.\\n7. The promotional list will ordinarily be used ahead of the open competitive list. However, if open competitive candidates receive a higher score, without military credits, than the highest available promotional candidate, after adding 0.25 of a point seniority credit for each year of continuous classified City service, the Civil Service Commission, upon request of the appointing authority, may approve certification of such open competitive candidates ahead of the promotional candidates.\\n8. You may take this examination only once every 365 days. Your name may be removed from the eligible list after six (6) months.\\n9. Your rank on the employment list may change as scores of candidates from other administrations of this examination are merged onto one list.\\n\\n\\nNOTICE: \\n\\nIf you receive and accept an offer of employment to a regular position with the City of Los Angeles, your employee benefit coverage (including health and dental coverage as well as life insurance) will commence approximately six weeks after your original regular appointment. Not all positions in the City receive benefit coverage; you should inquire regarding the availability of employee benefits prior to accepting a position.\\nTHIS EXAMINATION IS TO BE GIVEN BOTH ON AN\\nINTERDEPARTMENTAL PROMOTIONAL AND AN OPEN COMPETITIVE BASIS\\n\\nThe City of Los Angeles does not discriminate on the basis of race, religion, national origin, sex, age, marital status, sexual orientation, gender identity, gender expression, disability, creed, color, ancestry, medical condition (cancer), or Acquired Immune Deficiency Syndrome.\\nClass Code 1596 CONT. . . . . . . . . . . . . . . . . . . . . . . . . . . . . . . . . . . . . . . . . . . . . . . . . . . . . . . . . . . . . . . . . . . . . . . . . . . . . . . . . . . . . . . . . . . . . . . . . . . . . . . . . . . . . . . .10-27-17\\n\\n\\nAN EQUAL EMPLOYMENT OPPORTUNITY EMPLOYER\\nFor additional information and FAQs regarding the City\\'s hiring process, please go to: http://per.lacity.org/index.cfm?content=employmenttestingprocess\\n\\n'"
      ]
     },
     "execution_count": 5,
     "metadata": {},
     "output_type": "execute_result"
    }
   ],
   "source": [
    "sa_path = path + all_txt_files[609]\n",
    "sa = open(sa_path, 'rt').read()\n",
    "sa # display"
   ]
  },
  {
   "cell_type": "code",
   "execution_count": 6,
   "metadata": {},
   "outputs": [
    {
     "name": "stdout",
     "output_type": "stream",
     "text": [
      "(5, 5)\n"
     ]
    },
    {
     "data": {
      "text/html": [
       "<div>\n",
       "<style scoped>\n",
       "    .dataframe tbody tr th:only-of-type {\n",
       "        vertical-align: middle;\n",
       "    }\n",
       "\n",
       "    .dataframe tbody tr th {\n",
       "        vertical-align: top;\n",
       "    }\n",
       "\n",
       "    .dataframe thead th {\n",
       "        text-align: right;\n",
       "    }\n",
       "</style>\n",
       "<table border=\"1\" class=\"dataframe\">\n",
       "  <thead>\n",
       "    <tr style=\"text-align: right;\">\n",
       "      <th></th>\n",
       "      <th>REQUIREMENT_SET_ID</th>\n",
       "      <th>requirement_txt</th>\n",
       "      <th>REQUIREMENT_SUBSET_ID</th>\n",
       "      <th>requirement_subset_txt</th>\n",
       "      <th>mis</th>\n",
       "    </tr>\n",
       "  </thead>\n",
       "  <tbody>\n",
       "    <tr>\n",
       "      <th>0</th>\n",
       "      <td>1</td>\n",
       "      <td>Graduation from an accredited four-year colle...</td>\n",
       "      <td>A</td>\n",
       "      <td>None</td>\n",
       "      <td>None</td>\n",
       "    </tr>\n",
       "    <tr>\n",
       "      <th>1</th>\n",
       "      <td>2</td>\n",
       "      <td>Graduation from an accredited four-year colle...</td>\n",
       "      <td>A</td>\n",
       "      <td>the development, analysis, implementation or ...</td>\n",
       "      <td>None</td>\n",
       "    </tr>\n",
       "    <tr>\n",
       "      <th>2</th>\n",
       "      <td>2</td>\n",
       "      <td>Graduation from an accredited four-year colle...</td>\n",
       "      <td>B</td>\n",
       "      <td>performing cost benefit, feasibility and requ...</td>\n",
       "      <td>None</td>\n",
       "    </tr>\n",
       "    <tr>\n",
       "      <th>3</th>\n",
       "      <td>2</td>\n",
       "      <td>Graduation from an accredited four-year colle...</td>\n",
       "      <td>C</td>\n",
       "      <td>performing system implementation and support ...</td>\n",
       "      <td>None</td>\n",
       "    </tr>\n",
       "    <tr>\n",
       "      <th>4</th>\n",
       "      <td>3</td>\n",
       "      <td>Two years of full-time paid experience as a S...</td>\n",
       "      <td>A</td>\n",
       "      <td>None</td>\n",
       "      <td>[a. Satisfactory completion of four courses, o...</td>\n",
       "    </tr>\n",
       "  </tbody>\n",
       "</table>\n",
       "</div>"
      ],
      "text/plain": [
       "  REQUIREMENT_SET_ID                                    requirement_txt  \\\n",
       "0                  1   Graduation from an accredited four-year colle...   \n",
       "1                  2   Graduation from an accredited four-year colle...   \n",
       "2                  2   Graduation from an accredited four-year colle...   \n",
       "3                  2   Graduation from an accredited four-year colle...   \n",
       "4                  3   Two years of full-time paid experience as a S...   \n",
       "\n",
       "  REQUIREMENT_SUBSET_ID                             requirement_subset_txt  \\\n",
       "0                     A                                               None   \n",
       "1                     A   the development, analysis, implementation or ...   \n",
       "2                     B   performing cost benefit, feasibility and requ...   \n",
       "3                     C   performing system implementation and support ...   \n",
       "4                     A                                               None   \n",
       "\n",
       "                                                 mis  \n",
       "0                                               None  \n",
       "1                                               None  \n",
       "2                                               None  \n",
       "3                                               None  \n",
       "4  [a. Satisfactory completion of four courses, o...  "
      ]
     },
     "execution_count": 6,
     "metadata": {},
     "output_type": "execute_result"
    }
   ],
   "source": [
    "# Define a helper function\n",
    "def _base(job, use_df=True):\n",
    "    '''\n",
    "    _BASE attempts to parse the structure in REQUIREMENTS/MINIMUM QUALIFICATIONS. \n",
    "    It takes in a job and returns a dataframe of information, which supports other functions.\n",
    "    \n",
    "    It is intended to use inside other functions (hence started with an underscore), not for stand-alone use.\n",
    "    '''\n",
    "    # Each hash # below is the code in one of the cell above. For output/logic, see above cells.\n",
    "    \n",
    "    # From REQUIREMENTS/MINIMUM QUALIFICATIONS to PROCESS NOTES is where the information located\n",
    "    temp = job[job.find('REQUIREMENTS/MINIMUM QUALIFICATIONS'):job.find('PROCESS NOTES')]\n",
    "    \n",
    "    # Get the digits that mark one part from the other\n",
    "    digits_as_str = [sentence[-1] for sentence in temp.split('.') if sentence[-1].isdigit()]\n",
    "    \n",
    "    # Separate requirements one from the other.\n",
    "    line_item = [] # borrow from accounting term. means items in a list\n",
    "    ## Loop through idx of digits_as_str to get the text from one digit to the other\n",
    "    for idx in range(len(digits_as_str)-1):\n",
    "        start = digits_as_str[idx]  ; pos1 = temp.index(start)\n",
    "        end   = digits_as_str[idx+1]; pos2 = temp.index(end)\n",
    "        item  = temp[pos1:pos2]     ; line_item.append(item)\n",
    "    ## Put the last part into the list of all possible requirements\n",
    "    final_dig    = digits_as_str[-1]; final_pos = temp.index(final_dig)\n",
    "    final_item = temp[final_pos:] ; line_item.append(final_item)\n",
    "\n",
    "    # Split further by newline characters\n",
    "    line_item = [[line for line in item.split('\\n') if len(line) > 1] for item in line_item]\n",
    "    \n",
    "    # Simplify line_item by throwing away anything after the punctuation \n",
    "    # of the main sentence, if the main sentence endswith a punctuation\n",
    "    for aList in line_item:\n",
    "        for item in list(aList):\n",
    "            if len(item) > 5:\n",
    "                if item.split()[0][1] != '.':\n",
    "                    aList.remove(item)\n",
    "    \n",
    "    # Implementation of the algorithm\n",
    "    requirement_list = []\n",
    "    for aList in line_item:\n",
    "        # First item in the list aList may be a requirement\n",
    "        # requirement_id is the first element in the string\n",
    "        # requirement_txt is anything after, for example, 1., 2., 3., etc. (2 characters, that's why 2:)\n",
    "        main_information = aList[0]\n",
    "        requirement_id   = main_information[0]; requirement_txt = main_information[2:main_information.find(';')]\n",
    "        # Step 1\n",
    "        if len(aList) == 1:\n",
    "            ## Step 1a: Handle case \"1. and 2.\", \"1. or 2.\"\n",
    "            if main_information.endswith('and'):\n",
    "                ### Find next item's requirement id and the text associated with it\n",
    "                next_list_idx   = line_item.index(aList)+1; next_list     = line_item[next_list_idx]\n",
    "                next_info       = next_list[0]            ; next_info_txt = next_info[2:next_info.find(';')]\n",
    "                ### Form a nested requirement and put into requirement list\n",
    "                nested_reqmnt   = (requirement_id, requirement_txt, next_digit, next_req_txt)\n",
    "                requirement_list.append(nested_reqmnt)\n",
    "            ## Step 1b: Handle case \"1. or 2.\"\n",
    "            else:\n",
    "                requirement = (requirement_id, requirement_txt, 'A', None)\n",
    "                requirement_list.append(requirement)\n",
    "        # Step 2\n",
    "        elif len(aList) > 1:\n",
    "            # Step 2a: Handle case \"1. a. or b.\"\n",
    "            if all([sub_item.endswith('or') for sub_item in aList[1:-1]]):\n",
    "                all_sub_requirements = aList[1:]\n",
    "                for sub_requirement in all_sub_requirements:\n",
    "                    requirement_subset_id  = sub_requirement[0].upper()\n",
    "                    requirement_subset_txt = sub_requirement[2:sub_requirement.find(';')]\n",
    "                    nested_reqmnt = (requirement_id, requirement_txt, requirement_subset_id, requirement_subset_txt)\n",
    "                    requirement_list.append(nested_reqmnt)\n",
    "            # Step 2b: Handle case \"3. a. and b.\"\n",
    "            else:\n",
    "                nested_reqmnt = (requirement_id, requirement_txt, 'A', None, aList[1:])\n",
    "                requirement_list.append(nested_reqmnt)\n",
    "\n",
    "    # Normalize each element in requirement list to length 5\n",
    "    requirement_list = [tup+(None, )*(5-len(tup)) for tup in requirement_list]\n",
    "\n",
    "    # Returns\n",
    "    df = pd.DataFrame(data=requirement_list, columns=['REQUIREMENT_SET_ID',\n",
    "                                                      'requirement_txt',\n",
    "                                                      'REQUIREMENT_SUBSET_ID',\n",
    "                                                      'requirement_subset_txt',\n",
    "                                                      'mis'])\n",
    "    return df\n",
    "\n",
    "# Test\n",
    "baseline = _base(job=sa)\n",
    "print(baseline.shape)\n",
    "baseline"
   ]
  },
  {
   "cell_type": "markdown",
   "metadata": {},
   "source": [
    "### Get REQUIREMENT_SET_ID"
   ]
  },
  {
   "cell_type": "code",
   "execution_count": 7,
   "metadata": {},
   "outputs": [
    {
     "data": {
      "text/plain": [
       "[1, 2, 2, 2, 3]"
      ]
     },
     "execution_count": 7,
     "metadata": {},
     "output_type": "execute_result"
    }
   ],
   "source": [
    "# Define a function\n",
    "def requirement_set_id():\n",
    "    '''Returns REQUIREMENT_SET_ID (rsid)'''\n",
    "    # Get requirement_set_id's. Need to be int type per requirement\n",
    "    rsid = list(pd.to_numeric(baseline['REQUIREMENT_SET_ID']))\n",
    "    \n",
    "    return rsid\n",
    "\n",
    "# Test\n",
    "requirement_set_id()"
   ]
  },
  {
   "cell_type": "markdown",
   "metadata": {},
   "source": [
    "### Get REQUIREMENT_SUBSET_ID"
   ]
  },
  {
   "cell_type": "code",
   "execution_count": 8,
   "metadata": {},
   "outputs": [
    {
     "data": {
      "text/plain": [
       "['A', 'A', 'B', 'C', 'A']"
      ]
     },
     "execution_count": 8,
     "metadata": {},
     "output_type": "execute_result"
    }
   ],
   "source": [
    "# Define a function\n",
    "def requirement_subset_id():\n",
    "    '''Returns REQUIREMENT_SUBSET_ID (rsubsetid)'''\n",
    "    # Get requirement_subset_id's\n",
    "    rsubsetid = list(baseline['REQUIREMENT_SUBSET_ID'])\n",
    "    \n",
    "    return rsubsetid\n",
    "\n",
    "# Test\n",
    "requirement_subset_id()"
   ]
  },
  {
   "cell_type": "markdown",
   "metadata": {},
   "source": [
    "### Get EDUCATION_YEARS"
   ]
  },
  {
   "cell_type": "code",
   "execution_count": 9,
   "metadata": {},
   "outputs": [],
   "source": [
    "# Build a (word, number) dictionary\n",
    "number_dict = {'one': 1, 'two': 2, 'three': 3, 'four': 4, 'five': 5, \n",
    "               'six': 6, 'seven': 7, 'eight': 8, 'nine': 9, 'ten': 10,\n",
    "               'eighteen': 18}"
   ]
  },
  {
   "cell_type": "code",
   "execution_count": 55,
   "metadata": {},
   "outputs": [
    {
     "data": {
      "text/plain": [
       "[4, 4, 4, 4, None]"
      ]
     },
     "execution_count": 55,
     "metadata": {},
     "output_type": "execute_result"
    }
   ],
   "source": [
    "# Defind a function\n",
    "def education_years():\n",
    "    '''Returns EDUCATION_YEARS (ey)'''\n",
    "    temp = list(baseline['requirement_txt'])              # locate information\n",
    "    ey= []                                                # ey = EDUCATION_YEARS\n",
    "    for possibly_contains_ey in temp:\n",
    "        processed_string = (possibly_contains_ey.lower()\n",
    "                                                .split()) # normalize the string\n",
    "        flag = 0                                          # for flagging when match word found\n",
    "        for word in processed_string:                     # Ex: ['graduation', 'four-year']\n",
    "            if word == \"associate's\":\n",
    "                flag = 1\n",
    "                ey.append(2)\n",
    "            elif word == \"bachelor's\":\n",
    "                flag = 1\n",
    "                ey.append(4)\n",
    "            elif '-' in word:                             # Ex: 'four-year', 'full-time'\n",
    "                term = word.split('-')                    # Ex: ['four', 'year'], ['full', 'time']\n",
    "                if term[0] in number_dict.keys():         # Ex: 'four'\n",
    "                    flag     = 1\n",
    "                    unit     = term[1]                    # define unit. Ex: month, year,\n",
    "                    duration = number_dict[term[0]]       # define duration of education. Ex: 'four', 'six'\n",
    "                    if unit  == 'year':             \n",
    "                        ey.append(duration)\n",
    "                    elif unit == 'month': \n",
    "                        ey.append(duration/12)            # 6 months = 0.5 year\n",
    "        \n",
    "        if not flag:\n",
    "            ey.append(None)                                # nullify when flag was not raised\n",
    "    # Returns\n",
    "    return ey\n",
    "\n",
    "# Test\n",
    "education_years()"
   ]
  },
  {
   "cell_type": "markdown",
   "metadata": {},
   "source": [
    "### Get SCHOOL_TYPE"
   ]
  },
  {
   "cell_type": "code",
   "execution_count": 57,
   "metadata": {},
   "outputs": [],
   "source": [
    "# Build a list of school type\n",
    "types_of_school = ['college', 'university', 'high', 'trade', 'apprenticeship', 'certificate', 'law']"
   ]
  },
  {
   "cell_type": "code",
   "execution_count": 75,
   "metadata": {},
   "outputs": [
    {
     "data": {
      "text/plain": [
       "['College OR University',\n",
       " 'College OR University',\n",
       " 'College OR University',\n",
       " 'College OR University',\n",
       " None]"
      ]
     },
     "execution_count": 75,
     "metadata": {},
     "output_type": "execute_result"
    }
   ],
   "source": [
    "# Define a function\n",
    "def school_type(job):\n",
    "    '''Returns SCHOOL_TYPE st'''\n",
    "    temp = list(baseline['requirement_txt'])                 # locate information\n",
    "    st = []                                                  # st = school type\n",
    "    for possibly_contains_st in temp:\n",
    "        processed_string = (possibly_contains_st.lower()\n",
    "                                                .split())    # normalize the string\n",
    "        flag = 0                                             # for flagging when match word found\n",
    "        if 'graduation' in processed_string:\n",
    "            flag = 1\n",
    "            all_type_of_school = [st.title() \n",
    "                                  for st in processed_string \n",
    "                                  if st in types_of_school]  # Ex: ['COLLEGE', 'UNIVERSITY']\n",
    "            st.append(' OR '.join(all_type_of_school))       # Ex: 'COLLEGE OR 'UNIVERSITY'\n",
    "        \n",
    "        if not flag:\n",
    "            st.append(None)\n",
    "    # Returns\n",
    "    return st\n",
    "\n",
    "# Test\n",
    "school_type(job=sa)"
   ]
  },
  {
   "cell_type": "markdown",
   "metadata": {},
   "source": [
    "### Get EDUCATION_MAJOR\n",
    "The idea is "
   ]
  },
  {
   "cell_type": "code",
   "execution_count": null,
   "metadata": {},
   "outputs": [],
   "source": [
    "# Build a list of majors. To be expanded later\n",
    "majors_byhand = ['computer science', 'information systems', 'geographical information systems','fine arts', \n",
    "                 'performing arts', 'art history', 'architectural history', 'art education', 'journalism', 'english', \n",
    "                 'public relations', 'communications', 'natural science', 'education', 'architecture', \n",
    "                 'architectural engineering', 'environmental design', 'building science', 'accounting', \n",
    "                 'media management', 'television/film production', 'business administration', 'information systems',\n",
    "                 'civil, structural', 'traffic engineering', 'environmental studies', 'planning', 'transportation',\n",
    "                 'urban planning', 'urban studies', 'urban design', 'landscape architecture', 'geography', \n",
    "                 'engineering', 'crime and intelligence analysis', 'physical or natural science', 'geology',\n",
    "                 'emergency management', 'homeland security', 'public health', 'public administration', \n",
    "                 'engineering geology', 'environmental', 'ecological', 'biological', 'chemical', 'atmospheric', \n",
    "                 'environmental health', 'earth science', 'geography', 'ecological geography', \n",
    "                 'geology', 'oceanography', 'environmental policy', 'sustainability', 'environmental planning', \n",
    "                 'environmental engineering', 'urban planning and design', 'landscape architecture', 'finance', \n",
    "                 'economics', 'business administration', 'finance', 'accounting', 'economics', 'mathematics', \n",
    "                 'business administration', 'business', Industrial Hygiene, Environmental & Occupational Health, Occupational Safety & Health, Environmental Health & Safety, or Safety Engineering\n",
    "          \n",
    "          \n",
    "         ]"
   ]
  },
  {
   "cell_type": "code",
   "execution_count": 76,
   "metadata": {},
   "outputs": [
    {
     "data": {
      "text/plain": [
       "13"
      ]
     },
     "execution_count": 76,
     "metadata": {},
     "output_type": "execute_result"
    }
   ],
   "source": [
    "'geographical information systems'.find('information systems')"
   ]
  },
  {
   "cell_type": "code",
   "execution_count": 81,
   "metadata": {},
   "outputs": [
    {
     "data": {
      "text/plain": [
       "7"
      ]
     },
     "execution_count": 81,
     "metadata": {},
     "output_type": "execute_result"
    }
   ],
   "source": [
    "'design computer engineering'.find('computer engineering')"
   ]
  },
  {
   "cell_type": "code",
   "execution_count": 82,
   "metadata": {},
   "outputs": [
    {
     "data": {
      "text/plain": [
       "'ll'"
      ]
     },
     "execution_count": 82,
     "metadata": {},
     "output_type": "execute_result"
    }
   ],
   "source": [
    "'hello'[2:-1]"
   ]
  },
  {
   "cell_type": "code",
   "execution_count": null,
   "metadata": {},
   "outputs": [],
   "source": []
  },
  {
   "cell_type": "code",
   "execution_count": null,
   "metadata": {},
   "outputs": [],
   "source": [
    "# Get major by looking it up.\n",
    "\n",
    "## Extract a list of related sentences\n",
    "temp = [l[1] for l in r]\n",
    "## Main code for education majors\n",
    "em = []                                                  # initialization: em = education majors\n",
    "for possibly_contains_em in temp:                        # loop through each sentence in temp\n",
    "    all_type_of_majors = []                              # initialization: a container that holds everything found\n",
    "    try:                                                 # use try/except because we have None in our data\n",
    "        for major in majors:                             # for each major in major list. Ex: 'Computer Science'\n",
    "            if possibly_contains_em.find(major) != -1:   # if major is found\n",
    "                all_type_of_majors.append(major.upper()) # append to the inside-loop list\n",
    "        if len(all_type_of_majors) > 0:                  # if there is a major in all_type_of_majors container\n",
    "            em.append('|'.join(all_type_of_majors))      # then, join as required and append to em list\n",
    "        else:\n",
    "            em.append(None)                              # otherwise, no major, so append None\n",
    "    except:\n",
    "        pass\n",
    "\n",
    "em"
   ]
  },
  {
   "cell_type": "code",
   "execution_count": null,
   "metadata": {},
   "outputs": [],
   "source": [
    "# Define a function\n",
    "def education_majors(job):\n",
    "    '''Returns EDUCATION_MAJORS (em)'''\n",
    "    # Invoke _base function to obtain raw information\n",
    "    temp = _base(job)\n",
    "    # Extract a list of related sentencees. This information is in the 'MINE_1' column\n",
    "    temp = list(temp['MINE_1'])\n",
    "    # Get education majors based on cell above\n",
    "    em = []                                                  # initialization: em = education majors\n",
    "    for possibly_contains_em in temp:                        # loop through each sentence in temp\n",
    "        all_type_of_majors = []                              # initialization: a container that holds everything found\n",
    "        try:                                                 # use try/except because we have None in our data\n",
    "            for major in majors:                             # for each major in major list. Ex: 'Computer Science'\n",
    "                if possibly_contains_em.find(major) != -1:   # if major is found\n",
    "                    all_type_of_majors.append(major.upper()) # append to the inside-loop list\n",
    "            if len(all_type_of_majors) > 0:                  # if there is a major in all_type_of_majors container\n",
    "                em.append('|'.join(all_type_of_majors))      # then, join as required and append to em list\n",
    "            else:\n",
    "                em.append(None)                              # otherwise, no major, so append None\n",
    "        except:\n",
    "            pass\n",
    "\n",
    "    # Returns\n",
    "    return em\n",
    "\n",
    "# Test\n",
    "education_majors(job=sa)"
   ]
  },
  {
   "cell_type": "markdown",
   "metadata": {},
   "source": [
    "### Get EXPERIENCE_LENGTH\n",
    "Idea: Build a dictionary such as,\n",
    "{'one': 1, 'two': two,...} and look up the word in each sentence. So shouldn't be too hard"
   ]
  },
  {
   "cell_type": "code",
   "execution_count": null,
   "metadata": {},
   "outputs": [],
   "source": [
    "# Get length of having experience by looking it up. The idea is that they have the format two years (space between)\n",
    "\n",
    "## Extract a list of related sentences\n",
    "temp = [l[1] for l in r]\n",
    "## Main code for experience length\n",
    "el = []                                                       # initialization: el=experience_length\n",
    "for possibly_contains_el in temp:                             # for each sentence in temp\n",
    "    flag = 0                                                  # initialization: flag. see flag = 1\n",
    "    possibly_contains_el_lower = possibly_contains_el.lower() # lower case a word. So 'Two' becomes 'two'\n",
    "    for word in possibly_contains_el_lower.split():           # for each word. Ex: '1', 'Graduation', etc.\n",
    "        if word in number_dict.keys():                        # if word found in number_dict.keys(). Ex: 'one', 'two'\n",
    "            flag = 1                                          # signal that setence has been looped through\n",
    "            if 'year' in possibly_contains_el_lower:          # if 'year' is found,...\n",
    "                el.append(number_dict[word])                  # put in el\n",
    "            elif 'month' in possibly_contains_el_lower:\n",
    "                el.append(number_dict[word]/12)               # else, convert to fractions of year     \n",
    "    if not flag:                                              # if sentence has not been looped through...\n",
    "        el.append(None)                                       # append None because no key in number_dict can be found\n",
    "\n",
    "el"
   ]
  },
  {
   "cell_type": "code",
   "execution_count": null,
   "metadata": {},
   "outputs": [],
   "source": [
    "# Define a function\n",
    "def experience_length(job):\n",
    "    '''Returns EXPERIENCE_LENGTH (el)'''\n",
    "    # Invoke _base function to obtain raw information\n",
    "    temp = _base(job)\n",
    "    # Extract a list of related sentencees. This information is in the 'MINE_1' column\n",
    "    temp = list(temp['MINE_1'])\n",
    "    # Get length of experience based on cell above\n",
    "    el = []                                                       # initialization: el=experience_length\n",
    "    for possibly_contains_el in temp:                             # for each sentence in temp\n",
    "        flag = 0                                                  # initialization: flag. see flag = 1\n",
    "        possibly_contains_el_lower = possibly_contains_el.lower() # lower case a word. So 'Two' becomes 'two'\n",
    "        for word in possibly_contains_el_lower.split():           # for each word. Ex: '1', 'Graduation', etc.\n",
    "            if word in number_dict.keys():                        # if word found in number_dict. Ex: 'one', 'two'\n",
    "                flag = 1                                          # signal that setence has been looped through\n",
    "                if 'year' in possibly_contains_el_lower:          # if 'year' is found,...\n",
    "                    el.append(number_dict[word])                  # put in el\n",
    "                elif 'month' in possibly_contains_el_lower:\n",
    "                    el.append(number_dict[word]/12)               # else, convert to fractions of year     \n",
    "        if not flag:                                              # if sentence has not been looped through...\n",
    "            el.append(None)                                       # append None: no key in number_dict can be found\n",
    "    \n",
    "    # Returns\n",
    "    return el\n",
    "\n",
    "# Test\n",
    "experience_length(job=sa)"
   ]
  },
  {
   "cell_type": "markdown",
   "metadata": {},
   "source": [
    "### Get FULL_TIME_PART_TIME\n",
    "Isn't that \"annual\" means full time?\n",
    "\n",
    "<font color=red> NOOOOO!!! It's the required experience.</font>"
   ]
  },
  {
   "cell_type": "code",
   "execution_count": null,
   "metadata": {},
   "outputs": [],
   "source": [
    "# Extract a list of related sentences\n",
    "temp = [l[1] for l in r]\n",
    "# Get full_time/part_time\n",
    "ftpt = []                                                         # initialization: ftpt=FULL_TIME_PART_TIME\n",
    "for possibly_contains_ftpt in temp:                               # for each sentence in temp\n",
    "    possibly_contains_ftpt_lower = possibly_contains_ftpt.lower() # lower case to make sure things are right\n",
    "    if 'experience' in possibly_contains_ftpt_lower:              # only look for ones that have the word 'experience'\n",
    "        if 'full-time' in possibly_contains_ftpt_lower:           # if 'full-time' found...\n",
    "            ftpt.append('full-time'.upper())                      # append to ftpt\n",
    "        elif 'part-time' in possibly_contains_ftpt_lower:\n",
    "            ftpt.append('part-time'.upper())                      # elif 'part-time', append to ftpt\n",
    "    else:\n",
    "        ftpt.append(None)                                         # else: No experience required\n",
    "    \n",
    "ftpt"
   ]
  },
  {
   "cell_type": "code",
   "execution_count": null,
   "metadata": {},
   "outputs": [],
   "source": [
    "# Define a functioin\n",
    "def full_time_part_time(job):\n",
    "    '''Returns FULL_TIME_PART_TIME (ftpt)'''\n",
    "    # Invoke _base function to know how many rows needed\n",
    "    temp = _base(job)\n",
    "    # Extract a list of related sentencees. This information is in the 'MINE_1' column\n",
    "    temp = list(temp['MINE_1'])\n",
    "    # Get full_time/part_time based on cell above\n",
    "    ftpt = []                                                         # initialization: ftpt=FULL_TIME_PART_TIME\n",
    "    for possibly_contains_ftpt in temp:                               # for each sentence in temp\n",
    "        possibly_contains_ftpt_lower = possibly_contains_ftpt.lower() # lower case to make sure things are right\n",
    "        if 'experience' in possibly_contains_ftpt_lower:              # only search for 'experience'\n",
    "            if 'full-time' in possibly_contains_ftpt_lower:           # if 'full-time' found...\n",
    "                ftpt.append('full-time'.upper())                      # append to ftpt\n",
    "            elif 'part-time' in possibly_contains_ftpt_lower:\n",
    "                ftpt.append('part-time'.upper())                      # elif 'part-time', append to ftpt\n",
    "        else:\n",
    "            ftpt.append(None)                                         # else: No experience required\n",
    "    \n",
    "    # Returns\n",
    "    return ftpt\n",
    "\n",
    "# Test\n",
    "full_time_part_time(job=sa)"
   ]
  },
  {
   "cell_type": "markdown",
   "metadata": {},
   "source": [
    "### Get EXP_JOB_CLASS_TITLE\n",
    "See Notebook `Objective1_a`"
   ]
  },
  {
   "cell_type": "code",
   "execution_count": null,
   "metadata": {},
   "outputs": [],
   "source": [
    "exp_job_class_title_keywords = ['Body', 'Stenographer', 'Advisor', 'Specialist', 'Electrician', 'I', \n",
    "                                'Director', 'Occupational', 'Motor', 'Representative', 'Garage', 'Signal', \n",
    "                                'Manager', 'Painter', 'Marking', 'Vehicle', 'Auditor', 'Superintendent', \n",
    "                                'Management', 'Mate', 'Helicopter', 'Vessel', 'Personnel', 'IT', 'Processing', \n",
    "                                'Procurement', 'Control', 'Sales', 'Zoo', 'Coordinator', 'Geologist', 'Attendant', \n",
    "                                'Information', 'Examiner', 'Polygraph', 'Refuse', 'Laboratory', 'Stores', 'Steam', \n",
    "                                'Fleet', 'Fiscal', 'Claims', 'Quality', 'Community', 'Carpenter', 'Duty', \n",
    "                                'Applications', 'Press', 'Executive', 'Surveying', 'Sweeper', 'Technician', 'Port', \n",
    "                                'Instructor', 'Internal', 'Principal', 'Security', 'Machine', 'Recreation', \n",
    "                                'Compensation', 'Operating', 'Deck', 'Zoning', 'Distribution', 'Street', \n",
    "                                'Lieutenant', 'Operator', 'Commander', 'Water', 'Officer', 'Special', 'Detention', \n",
    "                                'Relations', 'Land', 'Maintenance', 'Auto', 'Trainee', 'Examiner', 'Typist', \n",
    "                                'Housing', 'Dispatcher', 'Aid', 'Craft', 'Treatment', 'Aide', 'Utility', 'General', \n",
    "                                'Controller', 'Fire', 'Assistant', 'IV', 'Heating', 'Collection', 'Wharfinger', \n",
    "                                'Health', 'Automotive', 'Supply', 'Messenger', 'Industrial', 'Departmental', \n",
    "                                'Laborer', 'Print', 'Window', 'Instrument', 'Construction', 'Plumbing', 'Commercial', \n",
    "                                'Cabinet', 'Accountant', 'Resources', 'Communications', 'Worker', 'Administrator', \n",
    "                                'Designer', 'Secretary', 'Keeper', 'Metal', 'V', 'Conditioning', 'Chief', 'Events', \n",
    "                                'Cartographer', 'Architectural', 'Waterworks', 'III', 'Field', 'Repairer', 'Project', \n",
    "                                'Polygraph', 'Repair', 'Drafting', 'Hand', 'Computer', 'Environmental', 'Electric', \n",
    "                                'Inspector', 'Estate', 'Programs', 'Custodian', 'Supervising', 'Technical', \n",
    "                                'Pumping', 'Starter', 'Material', 'Services', 'Bindery', 'Surveys', 'Education', \n",
    "                                'Research', 'Engineering', 'Technician', 'Environmental', 'Driver', 'Apparatus', \n",
    "                                'Real', 'Grounds', 'Truck', 'Accounting', 'Solid', 'Firefighter', 'Labor', \n",
    "                                'Geographic', 'Bus', 'Biologist', 'Machinist', 'Caretaker', 'Shovel', 'Pipefitter', \n",
    "                                'Division', 'Clerk', 'Fireboat', 'Gardener', 'Equipment', 'Development', \n",
    "                                'Compliance', 'Helper', 'Lot', 'Apprentice', 'II', 'Wastewater', 'Payroll', \n",
    "                                'Traffic', 'Poster', 'Load', 'Nurse', 'Pressure', 'Records', 'Service', 'Locksmith', \n",
    "                                'Building', 'Sheet', 'Boat', 'Captain', 'Party', 'Planner', 'Workers', 'Park', \n",
    "                                'Station', 'Compressor', 'Event', 'Structural', 'Reptiles', 'Sergeant', 'Airport', \n",
    "                                'Refrigeration', 'Delivery', 'Facility', 'Storekeeper', 'Public', 'Deputy', \n",
    "                                'Engineer', 'Administrative', 'Head', 'Lighting', 'Senior', 'Testing', 'Toolroom', \n",
    "                                'Civil', 'Worker', 'Airports', 'Rehabilitation', 'Power', 'Harbor', 'Cleaning', \n",
    "                                'Sign', 'Data', 'Meter', 'Transmission', 'System', 'Battalion', 'Librarian', \n",
    "                                'Warehouse', 'Bureau', 'Forensic', 'Builder', 'Elevators', 'Tax', 'Property', \n",
    "                                'Airports', 'Veterinary', 'Photographer', 'Curator', 'Elevator', 'Financial', \n",
    "                                'Light', 'Mechanic', 'Heavy', 'Irrigation', 'Telecommunications', 'Buyer', \n",
    "                                'Supervisor', 'Graphics', 'Cement', 'Materials', 'Plant', 'Reader', \n",
    "                                'Planning', 'District', 'Associate', 'Air', 'Parking', 'Building', 'Custodial', \n",
    "                                'Printing', 'Marketing', 'Transportation', 'Plumber', 'Detective', 'Police', \n",
    "                                'Ranger', 'Systems', 'Mechanical', 'Vessels', 'Birds', 'Managing', 'Duplicating', \n",
    "                                'Finisher', 'Analyst', 'Survey', 'Waste', 'Protection', 'Shop', \n",
    "                                'Commission', 'Cleaner', 'Electrical', 'Safety', 'Maker', 'Office', 'Golf', \n",
    "                                'Operations', 'Auditor', 'Senior', 'Operator', 'Senior', 'Sanitation', 'Line', \n",
    "                                'Crew', 'Surgeon', 'Animal', 'Title', 'Disposal', 'Tree', 'Care', 'Masonry', \n",
    "                                'Pilot', 'Programmer', 'Utilization']\n",
    "print(len(exp_job_class_title_keywords))\n",
    "exp_job_class_title_keywords = list(set(exp_job_class_title_keywords))\n",
    "print(len(exp_job_class_title_keywords))"
   ]
  },
  {
   "cell_type": "code",
   "execution_count": null,
   "metadata": {},
   "outputs": [],
   "source": [
    "occupations = ['Stenographer', 'Advisor', 'Specialist', 'Electrician', 'Director', 'Representative', 'Manager', \n",
    "               'Painter', 'Auditor', 'Superintendent', 'Hand', 'Coordinator', 'Geologist', 'Lieutenant', 'Reptiles',\n",
    "               'Attendant', 'Examiner', 'Carpenter', 'Personnel', 'Technician', 'Instructor', 'Vessels', 'Vessel',\n",
    "               'Security', 'Operator', 'Commander', 'Officer', 'Trainee', 'Examiner', 'Typist', 'Dispatcher', 'Aide', \n",
    "               'Controller', 'Assistant', 'Wharfinger', 'Messenger', 'Laborer', 'Accountant', 'Worker', 'Operations',\n",
    "               'Administrator', 'Designer', 'Secretary', 'Keeper', 'Cartographer', 'Architect', 'Repairer', 'Aid',\n",
    "               'Inspector', 'Starter', 'Technician', 'Driver', 'Firefighter', 'Biologist', 'Machinist', 'Caretaker', \n",
    "               'Pipefitter', 'Clerk', 'Gardener', 'Helper', 'Apprentice', 'Poster', 'Nurse', 'Locksmith', 'Captain', \n",
    "               'Planner', 'Sergeant', 'Storekeeper', 'Deputy', 'Engineer', 'Worker', 'Elevator', 'Elevators', 'Birds',\n",
    "               'Librarian', 'Builder', 'Photographer', 'Curator', 'Mechanic', 'Buyer', 'Supervisor', \n",
    "               'Reader', 'Associate', 'Custodian', 'Plumber', 'Detective', 'Police', 'Ranger', 'Finisher', 'Analyst',  \n",
    "               'Cleaner', 'Safety', 'Maker', 'Auditor', 'Operator', 'Senior', 'Surgeon', 'Pilot', 'Programmer'\n",
    "              ]\n",
    "print(len(occupations))\n",
    "# Drop duplicates\n",
    "occupations = list(set(occupations))\n",
    "print(len(occupations))"
   ]
  },
  {
   "cell_type": "code",
   "execution_count": null,
   "metadata": {},
   "outputs": [],
   "source": [
    "seniority_levels = ['I', 'II', 'III', 'IV', 'V']"
   ]
  },
  {
   "cell_type": "code",
   "execution_count": null,
   "metadata": {},
   "outputs": [],
   "source": [
    "# Get title of the job class that requires experience associated with\n",
    "\n",
    "## Extract a list of related sentences\n",
    "temp = [l[1] for l in r]\n",
    "## Main code for getting title\n",
    "ejct = []                                                        # initialization: ejct=experience_job_class_title\n",
    "for possibly_contains_ejct in temp:                              # for each sentence in temp\n",
    "    # Fill all relevant words in a container l\n",
    "    l = []                                                       # initialize a container that holds relevant words in title\n",
    "    flag = 0                                                     # initialize a flag. see flag = 1\n",
    "    possibly_contains_ejct = (possibly_contains_ejct             # strip off unwanted symbos\n",
    "                              .replace('.', '')                  # is there a way to do this in one line?\n",
    "                              .replace(',', '')\n",
    "                              .replace(';', '')\n",
    "                              .replace(':', '')\n",
    "                             )\n",
    "    for word in possibly_contains_ejct.split():                  # for each word in the splitter. Ex: '1', 'Graduation'\n",
    "        if word in exp_job_class_title_keywords:                 # if word is in list of keywords. Ex: Systems, Information\n",
    "            l.append(word)                                       # then append to l\n",
    "    # Analyze list l and get title\n",
    "    temp_list = list(l); temp_list.reverse()                     # reverse l. list(l) for actual copy since reverse mutates l\n",
    "    for possibly_an_occupation in temp_list:                     # for each word in temp_list. Ex: 'Assitant', 'Management'\n",
    "        if possibly_an_occupation in occupations:                # see if that word is in the exhausted list of occupations\n",
    "            flag = 1                                             # if it is, change flag to signal that\n",
    "            title = l[:l.index(possibly_an_occupation)+1]        # get title. Ex: ['Management', 'Assitant']. Need +1.\n",
    "            seniority  = [s for s in l if s in seniority_levels] # get seniority. Ex: 'I', 'II'\n",
    "            full_title = ' '.join(title + seniority)             # get full title: title and seniority\n",
    "            ejct.append(full_title)                              # append full title to ejct\n",
    "        else:\n",
    "            continue                                             # otherwise, jump to the next word\n",
    "    if not flag:\n",
    "        ejct.append(None)                                        # if never found an occupation, then None for no occupation\n",
    "\n",
    "ejct"
   ]
  },
  {
   "cell_type": "code",
   "execution_count": null,
   "metadata": {},
   "outputs": [],
   "source": [
    "# Define a function\n",
    "def exp_job_class_title(job):\n",
    "    '''Returns EXP_JOB_CLASS_TITLE (ejct)'''\n",
    "    # Invoke _base function to know how many rows needed\n",
    "    temp = _base(job)\n",
    "    # Extract a list of related sentencees. This information is in the 'MINE_1' column\n",
    "    temp = list(temp['MINE_1'])\n",
    "    # Get title of the job class based on code above\n",
    "    ejct = []                                                        # initialization: ejct=experience_job_class_title\n",
    "    for possibly_contains_ejct in temp:                              # for each sentence in temp\n",
    "        # Fill all relevant words in a container l\n",
    "        l = []                                                       # initialize container that holds relevant words in title\n",
    "        flag = 0                                                     # initialize a flag. see flag = 1\n",
    "        possibly_contains_ejct = (possibly_contains_ejct.            # strip off unwanted symbols\n",
    "                                  replace('.', '').\n",
    "                                  replace(',', '').\n",
    "                                  replace(';', '').\n",
    "                                  replace(':', ''))                   \n",
    "        for word in possibly_contains_ejct.split():                  # for each word in the splitter. Ex: '1', 'Graduation'\n",
    "            if word in exp_job_class_title_keywords:                 # if word is in list of keywords. Ex: Systems, Information\n",
    "                l.append(word)                                       # then append to l\n",
    "        # Analyze list l and get title\n",
    "        temp_list = list(l); temp_list.reverse()                     # list(l) for actual copy since reverse mutates l\n",
    "        for possibly_an_occupation in temp_list:                     # for each word in temp_list. Ex: 'Assitant', 'Management'\n",
    "            if possibly_an_occupation in occupations:                # see if that word is in the exhausted list of occupations\n",
    "                flag = 1                                             # if it is, change flag to signal that\n",
    "                title = l[:l.index(possibly_an_occupation)+1]        # get title. Ex: ['Management', 'Assitant']. Need +1.\n",
    "                seniority  = [s for s in l if s in seniority_levels] # get seniority. Ex: 'I', 'II'\n",
    "                full_title = ' '.join(title + seniority)             # get full title: title and seniority\n",
    "                ejct.append(full_title)                              # append full title to ejct\n",
    "            else:\n",
    "                continue                                             # otherwise, jump to the next word\n",
    "        if not flag:\n",
    "            ejct.append(None)                                        # never found an occupation, then None for no occupation\n",
    "    \n",
    "    # Returns\n",
    "    return ejct\n",
    "\n",
    "# Test\n",
    "exp_job_class_title(job=sa)"
   ]
  },
  {
   "cell_type": "markdown",
   "metadata": {},
   "source": [
    "### Get EXP_JOB_CLASS_ALT_RESP\n",
    "I have no idea how it would look like since Systems Analyst doesn't have it (see annotations), so, just return `None` for now."
   ]
  },
  {
   "cell_type": "code",
   "execution_count": null,
   "metadata": {},
   "outputs": [],
   "source": [
    "# Define a function\n",
    "def exp_job_class_alt_resp(job):\n",
    "    '''Returns EXP_JOB_CLASS_ALT_RESP (ejcar)'''\n",
    "    # Invoke _base function to know how many rows needed\n",
    "    temp = _base(job)\n",
    "    # Extract a list of related sentencees. This information is in the 'MINE_1' column\n",
    "    temp = list(temp['MINE_1'])\n",
    "    \n",
    "    n = len(temp)\n",
    "    ejcar = [None]*n\n",
    "    \n",
    "    return ejcar\n",
    "\n",
    "# Test\n",
    "exp_job_class_alt_resp(job=sa)"
   ]
  },
  {
   "cell_type": "markdown",
   "metadata": {},
   "source": [
    "### Get EXP_JOB_CLASS_FUNCTION"
   ]
  },
  {
   "cell_type": "code",
   "execution_count": null,
   "metadata": {},
   "outputs": [],
   "source": [
    "# Define a function\n",
    "def exp_job_class_function(job):\n",
    "    '''Returns EXP_JOB_CLASS_FUNCTION (ejcf)'''\n",
    "    # Invoke _base function to know how many rows needed\n",
    "    temp = _base(job)\n",
    "    # Extract a list of related sentencees.\n",
    "    temp = list(temp['EXP_JOB_CLASS_FUNCTION'])\n",
    "    \n",
    "    # Returns\n",
    "    return temp\n",
    "\n",
    "# Test\n",
    "exp_job_class_function(job=sa)"
   ]
  },
  {
   "cell_type": "markdown",
   "metadata": {},
   "source": [
    "### Get COURSE_COUNT"
   ]
  },
  {
   "cell_type": "code",
   "execution_count": null,
   "metadata": {},
   "outputs": [],
   "source": [
    "#Define a function\n",
    "def course_count(job):\n",
    "    '''Returns COURSE_COUNT (cc)'''\n",
    "    # Invoke _base function to know how many rows needed\n",
    "    temp = _base(job)\n",
    "    # Extract a list of related sentencees. This information is in the 'MINE_2' column\n",
    "    temp = list(temp['MINE_2'])\n",
    "    # Main code for getting the counts of courses\n",
    "    cc = []                                                     # intialization: cc=course_count\n",
    "    for possibly_contains_cc in temp:                           # for each sentence. Ex: None, 'Satisfactory...'\n",
    "        flag = 0                                                # Create a flag. see flag=1\n",
    "        if possibly_contains_cc!=None:                          # if sentence is not None, so can be stripped. \n",
    "                                                                # avoid using try/except\n",
    "            possibly_contains_cc = (possibly_contains_cc.       # strip off unwanted symbols\n",
    "                                    replace('.', '').\n",
    "                                    replace(',', '').\n",
    "                                    replace(';', '').\n",
    "                                    replace(':', ''))\n",
    "            possibly_contains_cc = possibly_contains_cc.split() # split the sentence...\n",
    "            if 'courses' in possibly_contains_cc:               # to look for the word courses\n",
    "                flag = 1                                        # if there is, flag to signal\n",
    "                for word in possibly_contains_cc:               # for each word in splitted sentence\n",
    "                    if word in number_dict.keys():              # if that word can be found in number_dict\n",
    "                        cc.append(number_dict[word])            # append to cc...\n",
    "                        break                                   # and then break loop because of, e.g, three semesters\n",
    "        if not flag:\n",
    "            cc.append(None)                                     # append 0 if never flagged\n",
    "            \n",
    "    # Returns\n",
    "    return cc\n",
    "\n",
    "# Test\n",
    "course_count(job=sa)"
   ]
  },
  {
   "cell_type": "markdown",
   "metadata": {},
   "source": [
    "### Get COURSE_LENGTH"
   ]
  },
  {
   "cell_type": "code",
   "execution_count": null,
   "metadata": {},
   "outputs": [],
   "source": [
    "temp = [r[4][4]]\n",
    "cl = []\n",
    "for possibly_contains_cl in temp:\n",
    "    flag = 0\n",
    "    if possibly_contains_cl!=None:\n",
    "        possibly_contains_cl = (possibly_contains_cl. \n",
    "                        replace('.', '').\n",
    "                        replace(',', '').\n",
    "                        replace(';', '').\n",
    "                        replace(':', ''))\n",
    "        possibly_contains_cl = possibly_contains_cl.split()\n",
    "        if ('semester' in possibly_contains_cl) | ('quarter' in possibly_contains_cl):\n",
    "            flag = 1\n",
    "            l    = []\n",
    "            semester_index = possibly_contains_cl.index('semester')\n",
    "            quarter_index  = possibly_contains_cl.index('quarter')\n",
    "            relevant_info  = possibly_contains_cl[semester_index-2:quarter_index+2] # 2 just to make sure\n",
    "            for word in relevant_info:\n",
    "                if word in number_dict.keys():\n",
    "                    l.append(number_dict[word])\n",
    "            cl.append('|'.join([str(l[0])+'S', str(l[1])+'Q']))\n",
    "            print(cl)\n",
    "    \n",
    "    if not flag:\n",
    "        cl.append(None)"
   ]
  },
  {
   "cell_type": "code",
   "execution_count": null,
   "metadata": {},
   "outputs": [],
   "source": [
    "# Define a function\n",
    "def course_length(job):\n",
    "    '''Returns COURSE_LENGTH (cl)'''\n",
    "    # Invoke _base function to know how many rows needed\n",
    "    temp = _base(job)\n",
    "    # Extract a list of related sentencees. This information is in the 'MINE_2' column\n",
    "    temp = list(temp['MINE_2'])\n",
    "    # Main code for getting the length of courses\n",
    "    cl = []\n",
    "    for possibly_contains_cl in temp:\n",
    "        flag = 0\n",
    "        if possibly_contains_cl!=None:\n",
    "            possibly_contains_cl = (possibly_contains_cl. \n",
    "                            replace('.', '').\n",
    "                            replace(',', '').\n",
    "                            replace(';', '').\n",
    "                            replace(':', ''))\n",
    "            possibly_contains_cl = possibly_contains_cl.split()\n",
    "            if ('semester' in possibly_contains_cl) | ('quarter' in possibly_contains_cl):\n",
    "                flag = 1\n",
    "                l    = []\n",
    "                semester_index = possibly_contains_cl.index('semester')\n",
    "                quarter_index  = possibly_contains_cl.index('quarter')\n",
    "                relevant_info  = possibly_contains_cl[semester_index-2:quarter_index+2] # 2 just to make sure\n",
    "                for word in relevant_info:\n",
    "                    if word in number_dict.keys():\n",
    "                        l.append(number_dict[word])\n",
    "                cl.append('|'.join([str(l[0])+'S', str(l[1])+'Q']))\n",
    "\n",
    "        if not flag:\n",
    "            cl.append(None)\n",
    "    # Returns\n",
    "    return cl\n",
    "# Test\n",
    "course_length(cl)"
   ]
  },
  {
   "cell_type": "markdown",
   "metadata": {},
   "source": [
    "### Get COURSE_SUBJECT\n",
    "The approach is very similar to setting up EDUCATION_MAJORS"
   ]
  },
  {
   "cell_type": "code",
   "execution_count": null,
   "metadata": {},
   "outputs": [],
   "source": [
    "courses = ['information systems', 'systems analysis'] # there are MANY jobs with lower case courses"
   ]
  },
  {
   "cell_type": "code",
   "execution_count": null,
   "metadata": {},
   "outputs": [],
   "source": [
    "temp = [r[4][4]]\n",
    "cs = []\n",
    "for possibly_contains_cs in temp:\n",
    "    flag = 0\n",
    "    all_types_of_courses = []\n",
    "    if possibly_contains_cs != None:\n",
    "        possibly_contains_cs = (possibly_contains_cs. \n",
    "                                replace('.', '').\n",
    "                                replace(',', '').\n",
    "                                replace(';', '').\n",
    "                                replace(':', ''))\n",
    "        possibly_contains_cs = possibly_contains_cs.lower()\n",
    "        if 'courses' in possibly_contains_cs.split():\n",
    "            flag = 1\n",
    "            for course_name in courses:\n",
    "                if possibly_contains_cs.find(course_name) != -1:\n",
    "                    all_types_of_courses.append(course_name.upper())\n",
    "            if 'closely' in possibly_contains_cs.split():\n",
    "                possibly_contains_cs = possibly_contains_cs.split()\n",
    "                mask = possibly_contains_cs.index('closely')\n",
    "                all_types_of_courses.append(' '.join(possibly_contains_cs[mask:]))\n",
    "            if len(all_types_of_courses) > 0:\n",
    "                cs.append('|'.join(all_types_of_courses))\n",
    "    if not flag:\n",
    "        cs.append(None)\n",
    "        \n",
    "cs"
   ]
  },
  {
   "cell_type": "code",
   "execution_count": null,
   "metadata": {},
   "outputs": [],
   "source": [
    "# Define a function\n",
    "def course_subject(job):\n",
    "    '''Returns COURSE_SUBJECT (cs)'''\n",
    "    # Invoke _base function to know how many rows needed\n",
    "    temp = _base(job)\n",
    "    # Extract a list of related sentencees. This information is in the 'MINE_2' column\n",
    "    temp = list(temp['MINE_2'])\n",
    "    # Main code for getting the subjects of courses\n",
    "    cs = []\n",
    "    for possibly_contains_cs in temp:\n",
    "        flag = 0\n",
    "        all_types_of_courses = []\n",
    "        if possibly_contains_cs != None:\n",
    "            possibly_contains_cs = (possibly_contains_cs. \n",
    "                                    replace('.', '').\n",
    "                                    replace(',', '').\n",
    "                                    replace(';', '').\n",
    "                                    replace(':', ''))\n",
    "            possibly_contains_cs = possibly_contains_cs.lower()\n",
    "            if 'courses' in possibly_contains_cs.split():\n",
    "                flag = 1\n",
    "                for course_name in courses:\n",
    "                    if possibly_contains_cs.find(course_name) != -1:\n",
    "                        all_types_of_courses.append(course_name.upper())\n",
    "                if 'closely' in possibly_contains_cs.split():\n",
    "                    possibly_contains_cs = possibly_contains_cs.split()\n",
    "                    mask = possibly_contains_cs.index('closely')\n",
    "                    all_types_of_courses.append(' '.join(possibly_contains_cs[mask:]))\n",
    "                if len(all_types_of_courses) > 0:\n",
    "                    cs.append('|'.join(all_types_of_courses))\n",
    "        if not flag:\n",
    "            cs.append(None)\n",
    "        \n",
    "    # Returns\n",
    "    return cs\n",
    "\n",
    "# Test\n",
    "course_subject(job=sa)"
   ]
  },
  {
   "cell_type": "markdown",
   "metadata": {},
   "source": [
    "### Get MISC_COURSE_DETAILS"
   ]
  },
  {
   "cell_type": "code",
   "execution_count": null,
   "metadata": {},
   "outputs": [],
   "source": [
    "# Define a function\n",
    "def misc_course_details( job):\n",
    "    '''Returns MISC_COURSE_DETAILS (mcd)'''\n",
    "    # Invoke _base function to know how many rows needed\n",
    "    temp = _base(job)\n",
    "    # Extract a list of related sentencees. This information is in the 'MINE_2' column\n",
    "    temp = list(temp['MISC'])\n",
    "    \n",
    "    # Returns\n",
    "    return temp\n",
    "\n",
    "# Test\n",
    "misc_course_details(job=sa)"
   ]
  },
  {
   "cell_type": "markdown",
   "metadata": {},
   "source": [
    "### Get DRIVERS_LICENSE_REQ\n",
    "This is quite tricky because sometimes, this information is given at the end of the job description."
   ]
  },
  {
   "cell_type": "code",
   "execution_count": null,
   "metadata": {},
   "outputs": [],
   "source": [
    "# Locate the information\n",
    "temp = sa[sa.find('PROCESS NOTES'):]\n",
    "temp = temp.split('\\n')\n",
    "\n",
    "# Determine whether driver license is required for the job\n",
    "# The approach I took here was to look at each sentence based on their index in temp.\n",
    "dlr = []\n",
    "for idx in range(len(temp)):\n",
    "    if 'driver' in temp[idx]:\n",
    "        print(temp[idx])\n",
    "        splitted_sentence = temp[idx].split()\n",
    "        if 'require' in splitted_sentence:\n",
    "            dlr.append('P')\n",
    "        elif 'required' in splitted_sentence:\n",
    "            dlr.append('R')\n",
    "        break\n",
    "\n",
    "dlr"
   ]
  },
  {
   "cell_type": "code",
   "execution_count": null,
   "metadata": {
    "scrolled": false
   },
   "outputs": [],
   "source": [
    "# Define a function\n",
    "def drivers_license_req(job):\n",
    "    '''Returns DRIVERS_LICENSE_REQ(dlr)'''\n",
    "    # Locate the information\n",
    "    temp = sa[sa.find('PROCESS NOTES'):]\n",
    "    temp = temp.split('\\n')\n",
    "\n",
    "    # Determine whether driver license is required for the job\n",
    "    # The approach I took here was to look at each sentence based on their index in temp.\n",
    "    dlr = []\n",
    "    for idx in range(len(temp)):\n",
    "        if 'driver' in temp[idx]:\n",
    "            splitted_sentence = temp[idx].split()\n",
    "            if 'require' in splitted_sentence:\n",
    "                dlr.append('P')\n",
    "            elif 'required' in splitted_sentence:\n",
    "                dlr.append('R')\n",
    "            break\n",
    "    \n",
    "    # Returns\n",
    "    return dlr\n",
    "\n",
    "# Test\n",
    "drivers_license_req(job=sa)"
   ]
  },
  {
   "cell_type": "markdown",
   "metadata": {},
   "source": [
    "### Get DRIV_LIC_TYPE\n",
    "* This depends on the information mined from DRIVERS_LICENSE_REQ, so first we have to invoke that function.\n",
    "* For now, I just want to take it easy. Thus the function below will need to be modified to accomodate, for example, `TRUCK OPERATOR 3583 012618.txt`. Hopefully, this will not be too difficult."
   ]
  },
  {
   "cell_type": "code",
   "execution_count": null,
   "metadata": {},
   "outputs": [],
   "source": [
    "# Define a function\n",
    "def driv_lic_type(job):\n",
    "    '''Returns DRIVE_LIC_TYPE (dlt)'''\n",
    "    # Invoke drivers_license_req to obtain relevant information\n",
    "    temp = drivers_license_req(job)\n",
    "    # Get type of driver license based on the information \n",
    "    dlt=[]\n",
    "    if temp[0]=='P':\n",
    "        dlt.append(None)\n",
    "    else:\n",
    "        pass\n",
    "    \n",
    "    # Returns\n",
    "    return dlt\n",
    "\n",
    "# Test\n",
    "driv_lic_type(job=sa)"
   ]
  },
  {
   "cell_type": "markdown",
   "metadata": {},
   "source": [
    "### Get ADDTL_LIC\n",
    "For now, just give Nones."
   ]
  },
  {
   "cell_type": "code",
   "execution_count": null,
   "metadata": {},
   "outputs": [],
   "source": [
    "# Define a function\n",
    "def addtl_lic(job):\n",
    "    '''Returns ADDTL_LIC (al)'''\n",
    "    al = []\n",
    "    al.append(None)\n",
    "    \n",
    "    return al\n",
    "\n",
    "# Test\n",
    "addtl_lic(job=sa)"
   ]
  },
  {
   "cell_type": "markdown",
   "metadata": {},
   "source": [
    "### Get EXAM_TYPE\n",
    "We have two options:\n",
    "* Copy the code on Kaggle. I remember there was a guy who did a very good job at this, but used regular expression. The downside of this option is that I have to learn what he wrote. I got stuck in writing my own function, so here's the link [danielbecker](https://www.kaggle.com/danielbecker/l-a-jobs-data-exctraction-eda).\n",
    "* Write my own function. The upside of this option is that it's fairly easy to understand.\n",
    "\n",
    "Let's use Kaggle because I'm too tired now. Actually, it's quite similar to option 1. Fundamentally, it uses a dictionary to look up the key words. The difference is, on the other hand, reg ex manipulations rather than string manipulations."
   ]
  },
  {
   "cell_type": "code",
   "execution_count": null,
   "metadata": {},
   "outputs": [],
   "source": [
    "def exam_type(job):\n",
    "    '''\n",
    "    Returns EXAM_TYPE (et). \n",
    "    This code is borrowed from Daniel Becker on Kaggle, with some variables' renaming \n",
    "    to fit into my code style for this project.\n",
    "    ''' \n",
    "    regex_dic = {'OPEN_INT_PROM':r'BOTH.*INTERDEPARTMENTAL.*PROMOTIONAL', \n",
    "                 'INT_DEPT_PROM':r'INTERDEPARTMENTAL.*PROMOTIONAL', \n",
    "                 'DEPT_PROM':r'DEPARTMENTAL.*PROMOTIONAL',\n",
    "                 'OPEN':r'OPEN.*COMPETITIVE.*BASIS'\n",
    "                }\n",
    "    et = []\n",
    "    for key, value in regex_dic.items():\n",
    "        regex = value\n",
    "        regex_find = re.findall(regex, job, re.DOTALL)\n",
    "        if regex_find:\n",
    "            et.append(key)\n",
    "            break\n",
    "    return et\n",
    "\n",
    "# Test\n",
    "exam_type(job=sa)"
   ]
  },
  {
   "cell_type": "markdown",
   "metadata": {},
   "source": [
    "### Get ENTRY_SALARY_GEN"
   ]
  },
  {
   "cell_type": "code",
   "execution_count": null,
   "metadata": {},
   "outputs": [],
   "source": [
    "# Locate the info location\n",
    "temp = sa[sa.find('ANNUAL SALARY'):sa.find('NOTES')]\n",
    "# Next, we'll replace '.' and '$' with white spaces, before splitting this string at white space.\n",
    "# Luckily, we can chain these operations for readability.\n",
    "temp = temp.replace('.', ' ').replace('$', ' ').split()\n",
    "# Finally, let's get the salary range using the same approach that isolated\n",
    "# job_titles. Per Bob's suggestion, let's have a catch list manual_check.\n",
    "salary_range = []\n",
    "manual_check = []\n",
    "for word in temp:\n",
    "    ## Some jobs are like this: $##,### to $##,###, $##,### to $##,###.\n",
    "    ## Also, watch out for ROOFER!\n",
    "    if (',' in word):\n",
    "        try: # This is like an extra layer of checking: avoiding, e.g., \"t,o\"\n",
    "            int(word.replace(',', ''))\n",
    "            salary_range.append(word)\n",
    "        except:\n",
    "            manual_check.append(word)\n",
    "print(salary_range)\n",
    "print(manual_check)"
   ]
  },
  {
   "cell_type": "code",
   "execution_count": null,
   "metadata": {},
   "outputs": [],
   "source": [
    "# Define functions\n",
    "# Need to modify to account for flat-rated salary (ROOFER)\n",
    "def get_all_salaries(job):\n",
    "    '''Returns all salaries that can be found'''\n",
    "    # From ANNUAL SALARY to NOTES is where the information located\n",
    "    temp = job[job.find('ANNUAL SALARY'):job.find('NOTES')]\n",
    "    # Next, we'll replace '.' and '$' with white spaces, before splitting this string at white space.\n",
    "    # Luckily, we can chain these operations for readability.\n",
    "    temp = temp.replace('.', ' ').replace('$', ' ').split()\n",
    "    # Finally, get the salary range by trying to convert each word in temp into an integer\n",
    "    salary_range = []\n",
    "    for word in temp:\n",
    "        ## Some jobs are like this: $##,### to $##,###, $##,### to $##,###.\n",
    "        ## Also, watch out for ROOFER!\n",
    "        if (',' in word):\n",
    "            try: # This is like an extra layer of checking: avoiding, e.g., \"t,o\"\n",
    "                int(word.replace(',', ''))\n",
    "                salary_range.append(word)\n",
    "            except:\n",
    "                manual_check.append(word)\n",
    "    \n",
    "    return salary_range\n",
    "\n",
    "# Test\n",
    "print(get_all_salaries(job=sa))"
   ]
  },
  {
   "cell_type": "markdown",
   "metadata": {},
   "source": [
    "Note that this approach doesn't really work because we have flat-rated salary, general entry level salary ranges, and DWP (Department of Water and Power) salary ranges, while the dataframe requirement is to select only the first listed salary range. Thus, we need to define functions and write very simple but error-traceable code, even though this may mean a lot of repetitions."
   ]
  },
  {
   "cell_type": "code",
   "execution_count": null,
   "metadata": {},
   "outputs": [],
   "source": [
    "# Define a helper function\n",
    "def _get_salary(salary_text):\n",
    "    '''Returns job's salary in the form of $#####-$#####, $##### (flat-rated)'''\n",
    "    # The idea is to use isdigit() function to recognize a number. So need to strip off everthing that fails this.\n",
    "    # Replace '.' with white space. This resolves '#####.' (dot at the end)\n",
    "    # Replace '$' with white space. This resolves '$#####' (dollar sign in the beginning)\n",
    "    # Replace ',' with empty space. This resolves '$##,###' (comma in the middle of the number)\n",
    "    # Empty space because we will split at white space later\n",
    "    temp = salary_text.replace('.', ' ').replace('$', ' ').replace(',', '')\n",
    "    \n",
    "    # Get salaries in temp by using the isdigit() function. \n",
    "    salary_range = []\n",
    "    for word in temp.split():      # split here\n",
    "        if len(salary_range) >= 2: # break to make sure that only the first listed salary range is included\n",
    "            break\n",
    "        else:                      # otherwise, put it in the salary_range list\n",
    "            if word.isdigit():\n",
    "                salary_range.append(word)\n",
    "    \n",
    "    # Returns the required format\n",
    "    return '-'.join(salary_range)"
   ]
  },
  {
   "cell_type": "code",
   "execution_count": null,
   "metadata": {},
   "outputs": [],
   "source": [
    "# Now use helper function to get ENTRY_SALARY_GEN\n",
    "def entry_salary_gen(job):\n",
    "    '''Returns ENTRY_SALARY_GEN (esg)'''\n",
    "    # From ANNUAL SALARY to Department of Water and Power is where the information located\n",
    "    # Instead of find, I switch to index to take advantage of try/except later.\n",
    "    temp = job[job.index('ANNUAL SALARY'):job.index('Department of Water and Power')]\n",
    "    \n",
    "    # Returns\n",
    "    esg = _get_salary(salary_text=temp)\n",
    "    return esg\n",
    "\n",
    "# Test\n",
    "entry_salary_gen(job=sa)"
   ]
  },
  {
   "cell_type": "markdown",
   "metadata": {},
   "source": [
    "### Get ENTRY_SALARY_DWP"
   ]
  },
  {
   "cell_type": "code",
   "execution_count": null,
   "metadata": {},
   "outputs": [],
   "source": [
    "# Now use helper function to get ENTRY_SALARY_DWP\n",
    "def entry_salary_dwp(job):\n",
    "    '''Returns ENTRY_SALARY_DWP (esd)'''\n",
    "    # From Department of Water and Power to NOTES is where the information located\n",
    "    # Instead of find, switch to index to take advantage of try/except later.\n",
    "    temp = job[job.index('Department of Water and Power'):job.index('NOTES')]\n",
    "    \n",
    "    # Returns\n",
    "    esd = _get_salary(salary_text=temp)\n",
    "    return esd\n",
    "\n",
    "# Test\n",
    "entry_salary_dwp(job=sa)"
   ]
  },
  {
   "cell_type": "markdown",
   "metadata": {},
   "source": [
    "Note: Later on, when filling out the dataframe, we'll use `try/except/finally` (try the specific function, except then use get_all_salaries(), finally then return an null value."
   ]
  },
  {
   "cell_type": "markdown",
   "metadata": {},
   "source": [
    "### Get OPEN_DATE"
   ]
  },
  {
   "cell_type": "code",
   "execution_count": null,
   "metadata": {},
   "outputs": [],
   "source": [
    "temp = sa[sa.find('Open Date'):sa.find('(')]\n",
    "od   = temp.split()[-1]\n",
    "od"
   ]
  },
  {
   "cell_type": "code",
   "execution_count": null,
   "metadata": {},
   "outputs": [],
   "source": [
    "# Define a function\n",
    "def open_date(job):\n",
    "    '''Returns OPEN_DATE (od)'''\n",
    "    # Open Date: 10-27-17\\n(Exam Open to All\n",
    "    # From Open Date to the first '(' is where the information located\n",
    "    temp = job[job.find('Open Date'):job.find('(')]\n",
    "    # Get the last element\n",
    "    od   = temp.split()[-1]\n",
    "    \n",
    "    return od\n",
    "\n",
    "# Test\n",
    "open_date(job=sa)"
   ]
  },
  {
   "cell_type": "markdown",
   "metadata": {},
   "source": [
    "# <font color='red'> ~~TO BE CONTINUED~~</font>. <font color='green'>DONE ON Sunday, 6/2/2019.</font>"
   ]
  },
  {
   "cell_type": "code",
   "execution_count": null,
   "metadata": {},
   "outputs": [],
   "source": []
  }
 ],
 "metadata": {
  "kernelspec": {
   "display_name": "Python 3",
   "language": "python",
   "name": "python3"
  },
  "language_info": {
   "codemirror_mode": {
    "name": "ipython",
    "version": 3
   },
   "file_extension": ".py",
   "mimetype": "text/x-python",
   "name": "python",
   "nbconvert_exporter": "python",
   "pygments_lexer": "ipython3",
   "version": "3.7.1"
  }
 },
 "nbformat": 4,
 "nbformat_minor": 2
}
