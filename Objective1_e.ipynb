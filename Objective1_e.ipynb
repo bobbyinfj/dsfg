{
 "cells": [
  {
   "cell_type": "markdown",
   "metadata": {},
   "source": [
    "# Rewrite `_base` function to fit more jobs.\n",
    "Also, start learning to simplify what is needed."
   ]
  },
  {
   "cell_type": "code",
   "execution_count": 1,
   "metadata": {},
   "outputs": [],
   "source": [
    "# Import relevant modules\n",
    "import os           # interface with the underlying OS\n",
    "import numpy as np  # linear algebra\n",
    "import pandas as pd # dataframe\n",
    "import re           # regular expression"
   ]
  },
  {
   "cell_type": "code",
   "execution_count": 2,
   "metadata": {},
   "outputs": [],
   "source": [
    "# Define path to look at\n",
    "path = 'CityofLA/Job Bulletins/'\n",
    "\n",
    "# Get a list of all txt files in this path\n",
    "all_txt_files = os.listdir(path)\n",
    "all_txt_files.sort() # WARNING: this mutates the list"
   ]
  },
  {
   "cell_type": "code",
   "execution_count": 3,
   "metadata": {},
   "outputs": [
    {
     "name": "stdout",
     "output_type": "stream",
     "text": [
      "683\n",
      "683\n",
      "True\n"
     ]
    }
   ],
   "source": [
    "# Do some checks here\n",
    "print(len(all_txt_files))      # length should be 683 as manually verified\n",
    "print(len(set(all_txt_files))) # see if each file is unique. hopefully 683 as well!\n",
    "print('SYSTEMS ANALYST 1596 102717.txt' in all_txt_files) # should be True"
   ]
  },
  {
   "cell_type": "code",
   "execution_count": 4,
   "metadata": {},
   "outputs": [
    {
     "name": "stdout",
     "output_type": "stream",
     "text": [
      "609\n"
     ]
    }
   ],
   "source": [
    "# Find `SYSTEMS ANALYST 1596 102717.txt` (which exists).\n",
    "print(all_txt_files.index('SYSTEMS ANALYST 1596 102717.txt'))"
   ]
  },
  {
   "cell_type": "markdown",
   "metadata": {},
   "source": [
    "## Import file as text\n",
    "`sa` stands for systems analyst"
   ]
  },
  {
   "cell_type": "code",
   "execution_count": 5,
   "metadata": {
    "scrolled": true
   },
   "outputs": [
    {
     "data": {
      "text/plain": [
       "'SYSTEMS ANALYST\\n\\nClass Code: 1596\\nOpen Date: 10-27-17\\n(Exam Open to All, including Current City Employees)\\n\\nANNUAL SALARY\\n\\n$68,611 to $100,307\\nThe salary in the Department of Water and Power is $70,908 to $88,092 and $83,770 to $104,065.\\n\\nNOTES:\\n\\n1. Candidates from the eligible list are normally appointed to vacancies in the lower pay grade positions.  \\n2. Annual salary is at the start of the pay range. The current salary range is subject to change. Please confirm the starting salary with the hiring department before accepting a job offer.\\n3. For information regarding reciprocity between the City of Los Angeles departments and LADWP, go to http://per.lacity.org/Reciprocity_CityDepts_and_DWP.pdf.\\n\\n\\nDUTIES\\n\\nA Systems Analyst analyzes procedures, methods and operations of computer-based information systems; designs, implements, and recommends information systems to improve the efficiency and economy of City operations; performs cost benefit and feasibility analyses related to the modification of existing computer-based information systems, the maintenance and support of information systems, or the implementation of new computer-based systems; accesses and analyzes information from automated files using high-level retrieval languages.\\n\\nREQUIREMENTS/MINIMUM QUALIFICATIONS\\n\\n1. Graduation from an accredited four-year college or university with a major in Computer Science, Information Systems, or Geographical Information Systems; or\\n2. Graduation from an accredited four-year college or university and two years of full-time paid experience in a class at the level of Management Assistant which provides experience in:\\na. the development, analysis, implementation or major modification of new or existing computer-based information systems or relational databases; or\\nb. performing cost benefit, feasibility and requirements analysis for a large-scale computer-based information system; or\\nc. performing system implementation and support activities including software and hardware acquisition, installation, modifications to system configuration, system and application upgrade installation; or\\n3. Two years of full-time paid experience as a Systems Aide with the City of Los Angeles; and\\na. Satisfactory completion of four courses, of at least three semester or four quarter units each, in Information Systems, Systems Analysis, or a closely related degree program, professional designation, or certificate program from an accredited college or university.\\nb. At least three of the courses must be from the core courses required in the program, and one course may be from either the required core courses or the prescribed elective courses of the program.  A course in systems analysis and design is especially desired, but not required. \\n\\nPROCESS NOTES\\n\\n1. Some positions may require a valid California driver\\'s license. Candidates may not be eligible for appointment to these positions if their record within the last 36 months reflects three or more moving violations and/or at-fault accidents, or a conviction of a major moving violation (such as DUI).\\n2. Please note that qualifying education must be from a college or university accredited by a City of Los Angeles recognized agency. A list of approved accrediting agencies can be found at http://per.lacity.org/Accredited%20Institutions%2008-21-08.pdf.\\n3. Applicants qualifying under Requirement #2 above must identify in the Supplemental Questions section of the application the specific projects that provide qualifying experience. The minor application, modification or use of existing systems is not considered to be qualifying experience.\\n4. Four years of full-time paid experience in any of the areas noted in Requirement #2 above may be substituted for the required degree only. The two years\\' experience in the areas noted is still required to fully meet Requirement #2.\\n5. Applicants qualifying under Requirement #3 above must list in the Supplemental Question section of the application the name of the school attended, course titles, number of units, completion dates, and grades. General education courses will not meet the education requirement outlined in Requirement #3. A copy of the offering institution\\'s catalog program description and course list must be attached to the on-line application and submitted to the Personnel Department at the time of filing. Failure to submit the requested documents may result in processing delays and/or disqualification.\\n6. Candidates completing the exam process will be contacted by the Personnel Department to provide required proof of qualifying four-year degree.\\n\\n\\nSELECTIVE CERTIFICATION\\n\\nIn accordance with Charter Section 1010 (b) and Civil Service Rule 5.31, selective certification will be used for some positions that require special skills and/or training. For such positions, only applicants possessing the specific professional certification(s) at the time of filing may be considered. Some positions will require a professional industry certification(s) in one or more of the following:\\n\\n1. Adobe Dreamweaver CS6 ACE\\n2. Adobe Photoshop CS5 or CS6 ACE\\n3. ArcGIS Desktop Developer Associate\\n4. BMC Certified Administrator\\n5. Cisco Certified Entry Networking Technician (CCENT) \\n6. Cisco Certified Network Associate (CCNA)\\n7. Citrix Certified Associate - Virtualization (CCA-V)\\n8. CompTIA A+ \\n9. Delphi Developer Certification\\n10. Enterprise Administration Associate \\n11. Enterprise System Design Associate\\n12. Enterprise Geodata Management Associate\\n13. Enterprise Geodata Management Professional\\n14. HP Service Manager \\n15. IBM Certified Solutions Expert \\n16. IBM Certified Operator\\n17. IBM Certified Systems Administrator\\n18. JAVA SE Programmer Certification\\n19. Linux Foundation Certified System Administrator  (LFCS) \\n20. Linux Foundation Certified Engineer (LFCE)\\n21. MCTS: Administering and Deploying System Center 2012 Configuration Manager\\n1. \\n22. Microsoft Certified Solutions Associate (MCSA)\\n23. Microsoft Certified Solutions Developer (MCSD) \\n24. Microsoft Certified Solutions Expert (MCSE)\\n25. Microsoft Certified Systems Administrator (MCSA) \\n26. Microsoft Certified Systems Engineer (MCSE)\\n27. Microsoft Technology Associate (MTA)\\n28. Microsoft Technology Associate: IT Infrastructure\\n29. Microsoft: Core Solutions of Microsoft SharePoint Server 2013\\n30. Microsoft: Programming in HTML5 with JavaScript and CSS3\\n31. Microsoft: Programming in C#\\n32. Microsoft: Developing ASP.NET MVC Web Applications\\n33. Microsoft: Windows Server 2008 Active Directory, Configuring \\n34. Microsoft: Windows Server 2008, Server Administrator\\n35. Microsoft: Windows 7, Configuring\\n36. Microsoft: Windows 7, Enterprise Desktop Support Technician\\n37. Microsoft: Installing and Configuring Windows 10\\n38. Microsoft: Installation, Storage, and Compute with Windows Server 2016\\n39. Microsoft: Database Fundamentals\\n40. Certified Novell Administrator (CNA)\\n41. Oracle E-Business Suite R12: E-Business Essentials\\n42. Oracle Database SQL Certified Associate \\n43. Red Hat Certified System Administrator (RHCSA)\\n44. Unix System Administration\\n45. VMware Certified Associate 6 - Data Center Virtualization\\n46. VMware Certified Professional 6.5 - Data Center Virtualization\\n\\t\\t\\nApplicants must attach a copy of the certificate(s) to the on-line application at the time of filing. The certificate(s) must be attached to the on-line application BEFORE the application is submitted. If the certificate(s) is attached AFTER the on-line application has been submitted, it will not be available to the City and applicants WILL NOT be credited with having submitted the certificate(s). Applicants who fail to submit the certificate(s) at the time of filing by not attaching it to the on-line application will not be considered for this part of selective certification.\\n\\nWHERE TO APPLY\\n\\nApplications will only be accepted on-line. When you are viewing the on-line job bulletin of your choice, simply scroll to the top of the page and select the \"Apply\" icon. On-line job bulletins are also available at https://www.governmentjobs.com/careers/lacity for Open Competitive Examinations and at https://www.governmentjobs.com/careers/lacity/promotionaljobs for Promotional Examinations.\\n\\nNOTE:\\n\\nApplicants are urged to apply early to ensure you have time to resolve any technical issues you may encounter.\\n\\nAPPLICATION DEADLINE\\n\\nThe examination may close without prior notice at any time after a sufficient number of applications have been received. For administrative purposes, filing may close periodically and reopen periodically.\\n\\nIn accordance with Civil Service Rule 4.2, all applicants who apply may not be tested in this examination. To meet anticipated hiring needs, only a limited number of qualified applicants will be invited to participate in the weighted multiple-choice test in the following order: 1) Los Angeles City Promotional applicants who meet the minimum requirements. You must have received a regular appointment to a City position or be on a reserve list to apply for this examination as a promotional candidate; 2) Applicants currently employed by the City of Los Angeles on a part-time or exempt basis who meet the minimum requirements; 3) Remaining applicants who meet the minimum requirements in sufficient numbers to meet hiring needs in the order that applications were received. Applications submitted during the filing period will be kept on file for two years from the date of filing in the event that additional applicants need to be tested to meet hiring needs.\\nSELECTION PROCESS\\n\\nAfter meeting minimum qualifications, and in accordance with Rule 4.2 as stated above, candidates will be scheduled for the following:\\n\\nExamination Weight: Multiple-Choice Test . . . . . . . . . . . . . . . . . . . . . . . . . . . . . . . . . . . . . . . . . . . . . . . . . . . . . . . . . . . . . . . . . . . . . . . . . . . . . . . . . . . . . . . . . . . . . . . . . . . . . . . . . . . . . . . . . . . . . . . . .100%\\n\\t\\t\\nThe examination will consist entirely of a weighted multiple-choice test administered and proctored online. In the online multiple-choice test, the following competencies may be evaluated: Analytical Ability, Interpersonal Skills, Teamwork, Written Communication, and Technology Application, including: office productivity tools and/or software; local area network (LAN) configurations and communication protocols; computer hardware and their use, networking devices, and software tools; various operating systems including their use, interoperability, capabilities, and limitations; basic principles and concepts of database design; systems development life cycle (SDLC) methodology including the associated steps and phases; cloud-based computing services and their use; disaster recovery systems, procedures, and/or best practices; Information Technology Service Management (ITSM) frameworks and methodologies; and other necessary skills, knowledge, and abilities.\\n\\nAdditional information can be obtained by going to http://per.lacity.org/index.cfm?content=jobanalyses and clicking on Competencies under Systems Analyst.\\n\\nThe multiple-choice test will be proctored and administered on-line during a single session. Candidates invited to participate in the online multiple-choice test will be able to take the test from any location using a computer with a webcam and a reliable internet connection. Candidates will receive an email from the City of Los Angeles outlining the dates and specific steps on how to take the multiple-choice test on-line. It is anticipated that candidates invited to participate in the first administration of the weighted multiple-choice test will be able to take the multiple-choice test online starting SATURDAY, JANUARY 6, 2018 THROUGH SATURDAY, JANUARY 13, 2018. Candidates who do not complete and submit the multiple-choice test on-line by SATURDAY, JANUARY 13, 2018 at 11:59 p.m., Pacific Standard Time, will not be considered further in this examination. Additional test dates may be added as needed.\\n\\n\\nNOTES:\\t\\n\\n1. This examination is based on a validation study, and as provided by Civil Service Commission Rule 4.20, the multiple-choice test will not be subject to candidate inspection.\\n2. As a covered entity under the Fair Employment and Housing Act and Title II of the Americans with Disabilities Act, the City of Los Angeles does not discriminate on the basis of disability and upon request, will provide reasonable accommodations to ensure equal access to its programs, services, and activities.  To request a disability accommodation, please complete the Disability Accommodation Form within 14 calendar days of the submittal of the City application.  The Disability Accommodation Form can be obtained at http://per.lacity.org/exams/verify_disability.pdf.\\n3. A final average score of 70% or higher is required to be placed on the eligible list.\\n4. Applications are accepted subject to review to ensure that minimum qualifications are met. Candidates may be disqualified at any time if is determined that they do not possess the minimum qualifications stated on this bulletin.\\n5. In accordance with Civil Service Rule, Sec. 4.24, review periods may be combined. Candidates in the examination process may file protests as provided in Sec. 4.20, 4.22 and 4.23 as applicable and within the required time frame; however, the Personnel Department may respond to and resolve protests prior to the establishment of the eligible list.\\n6. In conjunction with Civil Service Rules, applicants who have received a regular appointment to a City position or are on a reserve list will be considered Promotional candidates while all other applicants will be considered Open candidates.\\n7. The promotional list will ordinarily be used ahead of the open competitive list. However, if open competitive candidates receive a higher score, without military credits, than the highest available promotional candidate, after adding 0.25 of a point seniority credit for each year of continuous classified City service, the Civil Service Commission, upon request of the appointing authority, may approve certification of such open competitive candidates ahead of the promotional candidates.\\n8. You may take this examination only once every 365 days. Your name may be removed from the eligible list after six (6) months.\\n9. Your rank on the employment list may change as scores of candidates from other administrations of this examination are merged onto one list.\\n\\n\\nNOTICE: \\n\\nIf you receive and accept an offer of employment to a regular position with the City of Los Angeles, your employee benefit coverage (including health and dental coverage as well as life insurance) will commence approximately six weeks after your original regular appointment. Not all positions in the City receive benefit coverage; you should inquire regarding the availability of employee benefits prior to accepting a position.\\nTHIS EXAMINATION IS TO BE GIVEN BOTH ON AN\\nINTERDEPARTMENTAL PROMOTIONAL AND AN OPEN COMPETITIVE BASIS\\n\\nThe City of Los Angeles does not discriminate on the basis of race, religion, national origin, sex, age, marital status, sexual orientation, gender identity, gender expression, disability, creed, color, ancestry, medical condition (cancer), or Acquired Immune Deficiency Syndrome.\\nClass Code 1596 CONT. . . . . . . . . . . . . . . . . . . . . . . . . . . . . . . . . . . . . . . . . . . . . . . . . . . . . . . . . . . . . . . . . . . . . . . . . . . . . . . . . . . . . . . . . . . . . . . . . . . . . . . . . . . . . . . .10-27-17\\n\\n\\nAN EQUAL EMPLOYMENT OPPORTUNITY EMPLOYER\\nFor additional information and FAQs regarding the City\\'s hiring process, please go to: http://per.lacity.org/index.cfm?content=employmenttestingprocess\\n\\n'"
      ]
     },
     "execution_count": 5,
     "metadata": {},
     "output_type": "execute_result"
    }
   ],
   "source": [
    "sa_path = path + all_txt_files[609]\n",
    "sa = open(sa_path, 'rt').read()\n",
    "sa # display"
   ]
  },
  {
   "cell_type": "markdown",
   "metadata": {},
   "source": [
    "## First, do individual parts "
   ]
  },
  {
   "cell_type": "markdown",
   "metadata": {},
   "source": [
    "<font color='red'> Need to use regex for a better information location. </font>"
   ]
  },
  {
   "cell_type": "code",
   "execution_count": 6,
   "metadata": {},
   "outputs": [
    {
     "data": {
      "text/plain": [
       "'REQUIREMENTS/MINIMUM QUALIFICATIONS\\n\\n1. Graduation from an accredited four-year college or university with a major in Computer Science, Information Systems, or Geographical Information Systems; or\\n2. Graduation from an accredited four-year college or university and two years of full-time paid experience in a class at the level of Management Assistant which provides experience in:\\na. the development, analysis, implementation or major modification of new or existing computer-based information systems or relational databases; or\\nb. performing cost benefit, feasibility and requirements analysis for a large-scale computer-based information system; or\\nc. performing system implementation and support activities including software and hardware acquisition, installation, modifications to system configuration, system and application upgrade installation; or\\n3. Two years of full-time paid experience as a Systems Aide with the City of Los Angeles; and\\na. Satisfactory completion of four courses, of at least three semester or four quarter units each, in Information Systems, Systems Analysis, or a closely related degree program, professional designation, or certificate program from an accredited college or university.\\nb. At least three of the courses must be from the core courses required in the program, and one course may be from either the required core courses or the prescribed elective courses of the program.  A course in systems analysis and design is especially desired, but not required. \\n\\n'"
      ]
     },
     "execution_count": 6,
     "metadata": {},
     "output_type": "execute_result"
    }
   ],
   "source": [
    "# Locate the information\n",
    "temp = sa[sa.find('REQUIREMENTS/MINIMUM QUALIFICATIONS'):sa.find('PROCESS NOTES')]\n",
    "temp"
   ]
  },
  {
   "cell_type": "code",
   "execution_count": 7,
   "metadata": {},
   "outputs": [
    {
     "data": {
      "text/plain": [
       "['1', '2', '3']"
      ]
     },
     "execution_count": 7,
     "metadata": {},
     "output_type": "execute_result"
    }
   ],
   "source": [
    "# Get the digits\n",
    "digits_as_str = [sentence[-1] for sentence in temp.split('.') if sentence[-1].isdigit()]\n",
    "digits_as_str"
   ]
  },
  {
   "cell_type": "code",
   "execution_count": 8,
   "metadata": {},
   "outputs": [
    {
     "data": {
      "text/plain": [
       "['1. Graduation from an accredited four-year college or university with a major in Computer Science, Information Systems, or Geographical Information Systems; or\\n',\n",
       " '2. Graduation from an accredited four-year college or university and two years of full-time paid experience in a class at the level of Management Assistant which provides experience in:\\na. the development, analysis, implementation or major modification of new or existing computer-based information systems or relational databases; or\\nb. performing cost benefit, feasibility and requirements analysis for a large-scale computer-based information system; or\\nc. performing system implementation and support activities including software and hardware acquisition, installation, modifications to system configuration, system and application upgrade installation; or\\n',\n",
       " '3. Two years of full-time paid experience as a Systems Aide with the City of Los Angeles; and\\na. Satisfactory completion of four courses, of at least three semester or four quarter units each, in Information Systems, Systems Analysis, or a closely related degree program, professional designation, or certificate program from an accredited college or university.\\nb. At least three of the courses must be from the core courses required in the program, and one course may be from either the required core courses or the prescribed elective courses of the program.  A course in systems analysis and design is especially desired, but not required. \\n\\n']"
      ]
     },
     "execution_count": 8,
     "metadata": {},
     "output_type": "execute_result"
    }
   ],
   "source": [
    "# Separate requirements one from the other.\n",
    "## Initialization\n",
    "line_item = [] # borrow from accounting term. means items in a list\n",
    "## Loop through idx of digits_as_str to get the text from one digit to the other\n",
    "for idx in range(len(digits_as_str)-1):\n",
    "    start = digits_as_str[idx]  ; pos1 = temp.index(start)\n",
    "    end   = digits_as_str[idx+1]; pos2 = temp.index(end)\n",
    "    item  = temp[pos1:pos2]     ; line_item.append(item)\n",
    "## Put the last part into the list of all possible requirements\n",
    "final_dig    = digits_as_str[-1]; final_pos = temp.index(final_dig)\n",
    "final_item = temp[final_pos:] ; line_item.append(final_item)\n",
    "## Display results\n",
    "line_item"
   ]
  },
  {
   "cell_type": "code",
   "execution_count": 9,
   "metadata": {},
   "outputs": [
    {
     "data": {
      "text/plain": [
       "[['1. Graduation from an accredited four-year college or university with a major in Computer Science, Information Systems, or Geographical Information Systems; or'],\n",
       " ['2. Graduation from an accredited four-year college or university and two years of full-time paid experience in a class at the level of Management Assistant which provides experience in:',\n",
       "  'a. the development, analysis, implementation or major modification of new or existing computer-based information systems or relational databases; or',\n",
       "  'b. performing cost benefit, feasibility and requirements analysis for a large-scale computer-based information system; or',\n",
       "  'c. performing system implementation and support activities including software and hardware acquisition, installation, modifications to system configuration, system and application upgrade installation; or'],\n",
       " ['3. Two years of full-time paid experience as a Systems Aide with the City of Los Angeles; and',\n",
       "  'a. Satisfactory completion of four courses, of at least three semester or four quarter units each, in Information Systems, Systems Analysis, or a closely related degree program, professional designation, or certificate program from an accredited college or university.',\n",
       "  'b. At least three of the courses must be from the core courses required in the program, and one course may be from either the required core courses or the prescribed elective courses of the program.  A course in systems analysis and design is especially desired, but not required. ']]"
      ]
     },
     "execution_count": 9,
     "metadata": {},
     "output_type": "execute_result"
    }
   ],
   "source": [
    "# Split further by newline characters\n",
    "line_item = [[line for line in item.split('\\n') if len(line) > 1] for item in line_item]\n",
    "line_item"
   ]
  },
  {
   "cell_type": "code",
   "execution_count": 10,
   "metadata": {},
   "outputs": [],
   "source": [
    "# # Remove one layer of nested list.\n",
    "# # Source: https://stackoverflow.com/questions/952914/how-to-make-a-flat-list-out-of-list-of-lists\n",
    "# line_item = [[item for sublist in l for item in sublist] for l in line_item]\n",
    "# line_item"
   ]
  },
  {
   "cell_type": "code",
   "execution_count": 11,
   "metadata": {},
   "outputs": [
    {
     "data": {
      "text/plain": [
       "[['1. Graduation from an accredited four-year college or university with a major in Computer Science, Information Systems, or Geographical Information Systems; or'],\n",
       " ['2. Graduation from an accredited four-year college or university and two years of full-time paid experience in a class at the level of Management Assistant which provides experience in:',\n",
       "  'a. the development, analysis, implementation or major modification of new or existing computer-based information systems or relational databases; or',\n",
       "  'b. performing cost benefit, feasibility and requirements analysis for a large-scale computer-based information system; or',\n",
       "  'c. performing system implementation and support activities including software and hardware acquisition, installation, modifications to system configuration, system and application upgrade installation; or'],\n",
       " ['3. Two years of full-time paid experience as a Systems Aide with the City of Los Angeles; and',\n",
       "  'a. Satisfactory completion of four courses, of at least three semester or four quarter units each, in Information Systems, Systems Analysis, or a closely related degree program, professional designation, or certificate program from an accredited college or university.',\n",
       "  'b. At least three of the courses must be from the core courses required in the program, and one course may be from either the required core courses or the prescribed elective courses of the program.  A course in systems analysis and design is especially desired, but not required. ']]"
      ]
     },
     "execution_count": 11,
     "metadata": {},
     "output_type": "execute_result"
    }
   ],
   "source": [
    "# Simplify line_item by throwing away anything after the punctuation of the main sentence,\n",
    "# if the main sentence endswith a punctuation. This is to handle `CARPENTER 3344 011218.txt`.\n",
    "## \"Completion of a minimum 18-month or longer program in carpentry or cabinetmaking and millwork \n",
    "### from an accredited institution may be substituted for each year of experience lacking up \n",
    "### to a maximum of two years.\"\"\n",
    "# The idea is that it is different from a subrequirement because it doens't have an itemized initiator, like a. or a)\n",
    "for aList in line_item:\n",
    "    for item in list(aList):\n",
    "        if len(item) > 5:\n",
    "            if item.split()[0][1] != '.':\n",
    "                aList.remove(item)\n",
    "            \n",
    "line_item"
   ]
  },
  {
   "cell_type": "code",
   "execution_count": 52,
   "metadata": {},
   "outputs": [
    {
     "data": {
      "text/plain": [
       "[('1',\n",
       "  ' Graduation from an accredited four-year college or university with a major in Computer Science, Information Systems, or Geographical Information Systems',\n",
       "  'A',\n",
       "  None),\n",
       " ('2',\n",
       "  ' Graduation from an accredited four-year college or university and two years of full-time paid experience in a class at the level of Management Assistant which provides experience in',\n",
       "  'A',\n",
       "  ' the development, analysis, implementation or major modification of new or existing computer-based information systems or relational databases'),\n",
       " ('2',\n",
       "  ' Graduation from an accredited four-year college or university and two years of full-time paid experience in a class at the level of Management Assistant which provides experience in',\n",
       "  'B',\n",
       "  ' performing cost benefit, feasibility and requirements analysis for a large-scale computer-based information system'),\n",
       " ('2',\n",
       "  ' Graduation from an accredited four-year college or university and two years of full-time paid experience in a class at the level of Management Assistant which provides experience in',\n",
       "  'C',\n",
       "  ' performing system implementation and support activities including software and hardware acquisition, installation, modifications to system configuration, system and application upgrade installation'),\n",
       " ('3',\n",
       "  ' Two years of full-time paid experience as a Systems Aide with the City of Los Angeles',\n",
       "  'A',\n",
       "  None,\n",
       "  ['a. Satisfactory completion of four courses, of at least three semester or four quarter units each, in Information Systems, Systems Analysis, or a closely related degree program, professional designation, or certificate program from an accredited college or university.',\n",
       "   'b. At least three of the courses must be from the core courses required in the program, and one course may be from either the required core courses or the prescribed elective courses of the program.  A course in systems analysis and design is especially desired, but not required. '])]"
      ]
     },
     "execution_count": 52,
     "metadata": {},
     "output_type": "execute_result"
    }
   ],
   "source": [
    "requirement_list = []\n",
    "for aList in line_item:\n",
    "    # First item in the list aList may be a requirement\n",
    "    # requirement_id is the first element in the string\n",
    "    # requirement_txt is anything after, for example, 1., 2., 3., etc. (2 characters, that's why 2:)\n",
    "    main_information = aList[0]\n",
    "    requirement_id   = main_information[0]; requirement_txt = main_information[2:main_information.find(';')]\n",
    "    # Step 1\n",
    "    if len(aList) == 1:\n",
    "        ## Step 1a: Handle case \"1. and 2.\", \"1. or 2.\"\n",
    "        if main_information.endswith('and'):\n",
    "            ### Find next item's requirement id and the text associated with it\n",
    "            next_list_idx   = line_item.index(aList)+1; next_list     = line_item[next_list_idx]\n",
    "            next_info       = next_list[0]            ; next_info_txt = next_info[2:next_info.find(';')]\n",
    "            ### Form a nested requirement and put into requirement list\n",
    "            nested_reqmnt   = (requirement_id, requirement_txt, next_digit, next_req_txt)\n",
    "            requirement_list.append(nested_reqmnt)\n",
    "        ## Step 1b: Handle case \"1. or 2.\"\n",
    "        else:\n",
    "            requirement = (requirement_id, requirement_txt, 'A', None)\n",
    "            requirement_list.append(requirement)\n",
    "    # Step 2\n",
    "    elif len(aList) > 1:\n",
    "        # Step 2a: Handle case \"1. a. or b.\"\n",
    "        if all([sub_item.endswith('or') for sub_item in aList[1:-1]]):\n",
    "            all_sub_requirements = aList[1:]\n",
    "            for sub_requirement in all_sub_requirements:\n",
    "                requirement_subset_id  = sub_requirement[0].upper()\n",
    "                requirement_subset_txt = sub_requirement[2:sub_requirement.find(';')]\n",
    "                nested_reqmnt = (requirement_id, requirement_txt, requirement_subset_id, requirement_subset_txt)\n",
    "                requirement_list.append(nested_reqmnt)\n",
    "        # Step 2b: Handle case \"3. a. and b.\"\n",
    "        else:\n",
    "            nested_reqmnt = (requirement_id, requirement_txt, 'A', None, aList[1:])\n",
    "            requirement_list.append(nested_reqmnt)\n",
    "\n",
    "# Normalize each element in requirement list to length 4\n",
    "requirement_list = [tup+(None, )*(4-len(tup)) for tup in requirement_list]\n",
    "\n",
    "# Display result\n",
    "requirement_list"
   ]
  },
  {
   "cell_type": "code",
   "execution_count": 53,
   "metadata": {},
   "outputs": [
    {
     "data": {
      "text/html": [
       "<div>\n",
       "<style scoped>\n",
       "    .dataframe tbody tr th:only-of-type {\n",
       "        vertical-align: middle;\n",
       "    }\n",
       "\n",
       "    .dataframe tbody tr th {\n",
       "        vertical-align: top;\n",
       "    }\n",
       "\n",
       "    .dataframe thead th {\n",
       "        text-align: right;\n",
       "    }\n",
       "</style>\n",
       "<table border=\"1\" class=\"dataframe\">\n",
       "  <thead>\n",
       "    <tr style=\"text-align: right;\">\n",
       "      <th></th>\n",
       "      <th>0</th>\n",
       "      <th>1</th>\n",
       "      <th>2</th>\n",
       "      <th>3</th>\n",
       "      <th>4</th>\n",
       "    </tr>\n",
       "  </thead>\n",
       "  <tbody>\n",
       "    <tr>\n",
       "      <th>0</th>\n",
       "      <td>1</td>\n",
       "      <td>Graduation from an accredited four-year colle...</td>\n",
       "      <td>A</td>\n",
       "      <td>None</td>\n",
       "      <td>None</td>\n",
       "    </tr>\n",
       "    <tr>\n",
       "      <th>1</th>\n",
       "      <td>2</td>\n",
       "      <td>Graduation from an accredited four-year colle...</td>\n",
       "      <td>A</td>\n",
       "      <td>the development, analysis, implementation or ...</td>\n",
       "      <td>None</td>\n",
       "    </tr>\n",
       "    <tr>\n",
       "      <th>2</th>\n",
       "      <td>2</td>\n",
       "      <td>Graduation from an accredited four-year colle...</td>\n",
       "      <td>B</td>\n",
       "      <td>performing cost benefit, feasibility and requ...</td>\n",
       "      <td>None</td>\n",
       "    </tr>\n",
       "    <tr>\n",
       "      <th>3</th>\n",
       "      <td>2</td>\n",
       "      <td>Graduation from an accredited four-year colle...</td>\n",
       "      <td>C</td>\n",
       "      <td>performing system implementation and support ...</td>\n",
       "      <td>None</td>\n",
       "    </tr>\n",
       "    <tr>\n",
       "      <th>4</th>\n",
       "      <td>3</td>\n",
       "      <td>Two years of full-time paid experience as a S...</td>\n",
       "      <td>A</td>\n",
       "      <td>None</td>\n",
       "      <td>[a. Satisfactory completion of four courses, o...</td>\n",
       "    </tr>\n",
       "  </tbody>\n",
       "</table>\n",
       "</div>"
      ],
      "text/plain": [
       "   0                                                  1  2  \\\n",
       "0  1   Graduation from an accredited four-year colle...  A   \n",
       "1  2   Graduation from an accredited four-year colle...  A   \n",
       "2  2   Graduation from an accredited four-year colle...  B   \n",
       "3  2   Graduation from an accredited four-year colle...  C   \n",
       "4  3   Two years of full-time paid experience as a S...  A   \n",
       "\n",
       "                                                   3  \\\n",
       "0                                               None   \n",
       "1   the development, analysis, implementation or ...   \n",
       "2   performing cost benefit, feasibility and requ...   \n",
       "3   performing system implementation and support ...   \n",
       "4                                               None   \n",
       "\n",
       "                                                   4  \n",
       "0                                               None  \n",
       "1                                               None  \n",
       "2                                               None  \n",
       "3                                               None  \n",
       "4  [a. Satisfactory completion of four courses, o...  "
      ]
     },
     "execution_count": 53,
     "metadata": {},
     "output_type": "execute_result"
    }
   ],
   "source": [
    "pd.DataFrame(requirement_list)"
   ]
  },
  {
   "cell_type": "code",
   "execution_count": 66,
   "metadata": {},
   "outputs": [
    {
     "name": "stdout",
     "output_type": "stream",
     "text": [
      "(5, 5)\n"
     ]
    },
    {
     "data": {
      "text/html": [
       "<div>\n",
       "<style scoped>\n",
       "    .dataframe tbody tr th:only-of-type {\n",
       "        vertical-align: middle;\n",
       "    }\n",
       "\n",
       "    .dataframe tbody tr th {\n",
       "        vertical-align: top;\n",
       "    }\n",
       "\n",
       "    .dataframe thead th {\n",
       "        text-align: right;\n",
       "    }\n",
       "</style>\n",
       "<table border=\"1\" class=\"dataframe\">\n",
       "  <thead>\n",
       "    <tr style=\"text-align: right;\">\n",
       "      <th></th>\n",
       "      <th>REQUIREMENT_SET_ID</th>\n",
       "      <th>requirement_txt</th>\n",
       "      <th>REQUIREMENT_SUBSET_ID</th>\n",
       "      <th>requirement_subset_txt</th>\n",
       "      <th>mis</th>\n",
       "    </tr>\n",
       "  </thead>\n",
       "  <tbody>\n",
       "    <tr>\n",
       "      <th>0</th>\n",
       "      <td>1</td>\n",
       "      <td>Graduation from an accredited four-year colle...</td>\n",
       "      <td>A</td>\n",
       "      <td>None</td>\n",
       "      <td>None</td>\n",
       "    </tr>\n",
       "    <tr>\n",
       "      <th>1</th>\n",
       "      <td>2</td>\n",
       "      <td>Graduation from an accredited four-year colle...</td>\n",
       "      <td>A</td>\n",
       "      <td>the development, analysis, implementation or ...</td>\n",
       "      <td>None</td>\n",
       "    </tr>\n",
       "    <tr>\n",
       "      <th>2</th>\n",
       "      <td>2</td>\n",
       "      <td>Graduation from an accredited four-year colle...</td>\n",
       "      <td>B</td>\n",
       "      <td>performing cost benefit, feasibility and requ...</td>\n",
       "      <td>None</td>\n",
       "    </tr>\n",
       "    <tr>\n",
       "      <th>3</th>\n",
       "      <td>2</td>\n",
       "      <td>Graduation from an accredited four-year colle...</td>\n",
       "      <td>C</td>\n",
       "      <td>performing system implementation and support ...</td>\n",
       "      <td>None</td>\n",
       "    </tr>\n",
       "    <tr>\n",
       "      <th>4</th>\n",
       "      <td>3</td>\n",
       "      <td>Two years of full-time paid experience as a S...</td>\n",
       "      <td>A</td>\n",
       "      <td>None</td>\n",
       "      <td>[a. Satisfactory completion of four courses, o...</td>\n",
       "    </tr>\n",
       "  </tbody>\n",
       "</table>\n",
       "</div>"
      ],
      "text/plain": [
       "  REQUIREMENT_SET_ID                                    requirement_txt  \\\n",
       "0                  1   Graduation from an accredited four-year colle...   \n",
       "1                  2   Graduation from an accredited four-year colle...   \n",
       "2                  2   Graduation from an accredited four-year colle...   \n",
       "3                  2   Graduation from an accredited four-year colle...   \n",
       "4                  3   Two years of full-time paid experience as a S...   \n",
       "\n",
       "  REQUIREMENT_SUBSET_ID                             requirement_subset_txt  \\\n",
       "0                     A                                               None   \n",
       "1                     A   the development, analysis, implementation or ...   \n",
       "2                     B   performing cost benefit, feasibility and requ...   \n",
       "3                     C   performing system implementation and support ...   \n",
       "4                     A                                               None   \n",
       "\n",
       "                                                 mis  \n",
       "0                                               None  \n",
       "1                                               None  \n",
       "2                                               None  \n",
       "3                                               None  \n",
       "4  [a. Satisfactory completion of four courses, o...  "
      ]
     },
     "execution_count": 66,
     "metadata": {},
     "output_type": "execute_result"
    }
   ],
   "source": [
    "# Define a helper function\n",
    "def _base(job, use_df=True):\n",
    "    '''\n",
    "    _BASE attempts to parse the structure in REQUIREMENTS/MINIMUM QUALIFICATIONS. \n",
    "    It takes in a job and returns a dataframe of information, which supports other functions.\n",
    "    \n",
    "    It is intended to use inside other functions (hence started with an underscore), not for stand-alone use.\n",
    "    '''\n",
    "    # Each hash # below is the code in one of the cell above. For output/logic, see above cells.\n",
    "    \n",
    "    # From REQUIREMENTS/MINIMUM QUALIFICATIONS to PROCESS NOTES is where the information located\n",
    "    temp = job[job.find('REQUIREMENTS/MINIMUM QUALIFICATIONS'):job.find('PROCESS NOTES')]\n",
    "    \n",
    "    # Get the digits that mark one part from the other\n",
    "    digits_as_str = [sentence[-1] for sentence in temp.split('.') if sentence[-1].isdigit()]\n",
    "    \n",
    "    # Separate requirements one from the other.\n",
    "    line_item = [] # borrow from accounting term. means items in a list\n",
    "    ## Loop through idx of digits_as_str to get the text from one digit to the other\n",
    "    for idx in range(len(digits_as_str)-1):\n",
    "        start = digits_as_str[idx]  ; pos1 = temp.index(start)\n",
    "        end   = digits_as_str[idx+1]; pos2 = temp.index(end)\n",
    "        item  = temp[pos1:pos2]     ; line_item.append(item)\n",
    "    ## Put the last part into the list of all possible requirements\n",
    "    final_dig    = digits_as_str[-1]; final_pos = temp.index(final_dig)\n",
    "    final_item = temp[final_pos:] ; line_item.append(final_item)\n",
    "\n",
    "    # Split further by newline characters\n",
    "    line_item = [[line for line in item.split('\\n') if len(line) > 1] for item in line_item]\n",
    "    \n",
    "    # Simplify line_item by throwing away anything after the punctuation \n",
    "    # of the main sentence, if the main sentence endswith a punctuation\n",
    "    for aList in line_item:\n",
    "        for item in list(aList):\n",
    "            if len(item) > 5:\n",
    "                if item.split()[0][1] != '.':\n",
    "                    aList.remove(item)\n",
    "    \n",
    "    # Implementation of the algorithm\n",
    "    requirement_list = []\n",
    "    for aList in line_item:\n",
    "        # First item in the list aList may be a requirement\n",
    "        # requirement_id is the first element in the string\n",
    "        # requirement_txt is anything after, for example, 1., 2., 3., etc. (2 characters, that's why 2:)\n",
    "        main_information = aList[0]\n",
    "        requirement_id   = main_information[0]; requirement_txt = main_information[2:main_information.find(';')]\n",
    "        # Step 1\n",
    "        if len(aList) == 1:\n",
    "            ## Step 1a: Handle case \"1. and 2.\", \"1. or 2.\"\n",
    "            if main_information.endswith('and'):\n",
    "                ### Find next item's requirement id and the text associated with it\n",
    "                next_list_idx   = line_item.index(aList)+1; next_list     = line_item[next_list_idx]\n",
    "                next_info       = next_list[0]            ; next_info_txt = next_info[2:next_info.find(';')]\n",
    "                ### Form a nested requirement and put into requirement list\n",
    "                nested_reqmnt   = (requirement_id, requirement_txt, next_digit, next_req_txt)\n",
    "                requirement_list.append(nested_reqmnt)\n",
    "            ## Step 1b: Handle case \"1. or 2.\"\n",
    "            else:\n",
    "                requirement = (requirement_id, requirement_txt, 'A', None)\n",
    "                requirement_list.append(requirement)\n",
    "        # Step 2\n",
    "        elif len(aList) > 1:\n",
    "            # Step 2a: Handle case \"1. a. or b.\"\n",
    "            if all([sub_item.endswith('or') for sub_item in aList[1:-1]]):\n",
    "                all_sub_requirements = aList[1:]\n",
    "                for sub_requirement in all_sub_requirements:\n",
    "                    requirement_subset_id  = sub_requirement[0].upper()\n",
    "                    requirement_subset_txt = sub_requirement[2:sub_requirement.find(';')]\n",
    "                    nested_reqmnt = (requirement_id, requirement_txt, requirement_subset_id, requirement_subset_txt)\n",
    "                    requirement_list.append(nested_reqmnt)\n",
    "            # Step 2b: Handle case \"3. a. and b.\"\n",
    "            else:\n",
    "                nested_reqmnt = (requirement_id, requirement_txt, 'A', None, aList[1:])\n",
    "                requirement_list.append(nested_reqmnt)\n",
    "\n",
    "    # Normalize each element in requirement list to length 5\n",
    "    requirement_list = [tup+(None, )*(5-len(tup)) for tup in requirement_list]\n",
    "\n",
    "    # Returns\n",
    "    df = pd.DataFrame(data=requirement_list, columns=['REQUIREMENT_SET_ID',\n",
    "                                                      'requirement_txt',\n",
    "                                                      'REQUIREMENT_SUBSET_ID',\n",
    "                                                      'requirement_subset_txt',\n",
    "                                                      'mis'])\n",
    "    return df\n",
    "\n",
    "# Test\n",
    "print(_base(job=sa).shape)\n",
    "_base(job=sa)"
   ]
  },
  {
   "cell_type": "markdown",
   "metadata": {},
   "source": [
    "## Now, let's test it on some other jobs\n",
    "* ~~CARPENTER 3344 011218.txt~~\n",
    "* ~~TREE SURGEON 3114 081916 REV 080818.txt~~\n",
    "* 311 DIRECTOR  9206 041814.txt\n",
    "* ACCOUNTANT 1513 062218.txt"
   ]
  },
  {
   "cell_type": "markdown",
   "metadata": {},
   "source": [
    "### CARPENTER 3344 011218.txt. <font color='magenta'>YAHOO!</font>"
   ]
  },
  {
   "cell_type": "code",
   "execution_count": 55,
   "metadata": {},
   "outputs": [
    {
     "name": "stdout",
     "output_type": "stream",
     "text": [
      "94\n"
     ]
    }
   ],
   "source": [
    "# Find `CARPENTER 3344 011218.txt`\n",
    "print(all_txt_files.index('CARPENTER 3344 011218.txt'))"
   ]
  },
  {
   "cell_type": "code",
   "execution_count": 56,
   "metadata": {
    "scrolled": true
   },
   "outputs": [
    {
     "data": {
      "text/plain": [
       "'CARPENTER\\n\\nClass Code: 3344\\nOpen Date: 01-12-18\\n\\t                                 (Exam Open to All, including Current City Employees)\\n\\nANNUAL SALARY\\n\\n$86,312 (flat-rated)\\nThe salary in the Department of Water and Power is $93,542 (flat-rated)\\n\\nNOTES:\\n\\n1. For information regarding reciprocity between the City of Los Angeles departments and LADWP, go to: http://per.lacity.org/Reciprocity_CityDepts_and_DWP.pdf.\\n2. Annual salary is at the start of the pay range. The current salary range is subject to change. Please confirm the starting salary with the hiring department before accepting a job offer.\\n\\nDUTIES\\n\\nA Carpenter does skilled rough and finish carpentry in building and repairing wood structures and articles; work may include forming for the placement of concrete.\\n\\nREQUIREMENTS/MINIMUM QUALIFICATIONS\\n\\n1. Completion of an apprenticeship as a carpenter or cabinetmaker; or\\n2. Six years of full-time paid experience performing carpenter or cabinetmaker work.\\n\\nCompletion of a minimum 18-month or longer program in carpentry or cabinetmaking and millwork from an accredited institution may be substituted for each year of experience lacking up to a maximum of two years.\\n\\nPROCESS NOTES\\n\\n1. Applicants who lack six months or less of the required experience may file for this examination. However, they cannot be appointed until the full experience requirement is met.\\n2. Applicants filing under Requirement #1 must submit a copy of their apprenticeship certificate. Applicants must attach a copy of the Apprenticeship Certificate to the on-line application at the time of filing. The certificate must be attached to the on-line application BEFORE the application is submitted. If the certificate is attached AFTER the on-line application has been submitted, it will not be available to the City and applicants WILL NOT be credited with having submitted the certificate. Applicants who fail to submit the Apprenticeship Certificate at the time of filing by not attaching it to the on-line application will not be considered further in this examination. \\n3. Applicants substituting an 18-month or longer carpentry or cabinetmaking and millwork program for each year of experience lacking up to a maximum of two years must attach a copy of their certificate of completion of the program to the on-line application at the time of filing. The certificate must be attached to the on-line application BEFORE the application is submitted. If the certificate is attached AFTER the on-line application has been submitted, it will not be available to the City and applicants WILL NOT be credited with having submitted the certificate. Applicants who fail to submit the applicable certificate at the time of filing by not attaching it to the on-line application will not be considered further in this examination. \\n4. Some positions may require a valid California driver\\'s license. Candidates may not be eligible for appointment to these positions if their record within the last 36 months reflects three or more moving violations and/or at-fault accidents, or a conviction of a major moving violation (such as DUI). \\n\\nWHERE TO APPLY\\n\\nApplications will only be accepted on-line.  When you are viewing the on-line job bulletin of your choice, simply scroll to the top of the page and select the \"Apply\" icon. On-line job bulletins are also available at https://www.governmentjobs.com/careers/lacity for Open Competitive Examinations and at https://www.governmentjobs.com/careers/lacity/promotionaljobs for Promotional Examinations.\\n\\nNOTE:\\n\\nApplicants are urged to apply early to ensure you have time to resolve any technical issues you may encounter.\\nAPPLICATION DEADLINE\\n\\nApplications must be received by THURSDAY, JANUARY 25, 2018.\\n\\nIn accordance with Civil Service Rule 4.2, all applicants who apply may not be tested in this examination. To meet anticipated hiring needs, only a limited number of qualified applicants will be invited to participate in the weighted multiple-choice test in the following order: 1) Los Angeles City Promotional applicants who meet the minimum requirements. You must have received a regular appointment to a City position or be on a reserve list to apply for this examination as a promotional candidate; 2) Applicants currently employed by the City of Los Angeles on a part-time or exempt basis who meet the minimum requirements; 3) Remaining applicants who meet the minimum requirements in sufficient numbers to meet hiring needs in the order that applications were received. Applications submitted during the filing period will be kept on file for two years from January 12, 2018 in the event that additional applicants need to be tested to meet hiring needs.\\n\\nSELECTION PROCESS\\n\\nAfter meeting minimum qualifications, and in accordance with Rule 4.2 as stated above, candidates will be scheduled for the following:\\n\\nExamination Weight: Multiple-Choice Test . . . . . . . . . . . . . . . . . . . . . . . . . . . . . . . . . . . . . . . . . . . . . . . . . . . . . . . . . . . . . . . . . . . . . . . . . . . . . . . . 100%\\n\\nThe examination will consist entirely of a weighted multiple-choice test administered and proctored on-line. In the on-line multiple-choice test, candidates may be examined for knowledge of: the proper use of hand tools used in the field of carpentry; the component parts of wood and chain link fences and gates; symbols and terminology commonly used on carpentry blueprints and sketches; joints, hardware, and parts as used in conjunction with doors, windows, sashes, frames and other items made of wood; types of wood used in the field of cabinetry; tools used in constructing scaffolds and spans; shoring for trenching; how to use a builder\\'s level; adhesives and techniques used to layout various types of floors and ceilings; various types of suspended ceiling components; connectors and fasteners used for heavy construction; terminology used in roofing, including roofing materials and roof framing; how to construct footings; various types of glass, putties and fasteners; how to install steel stud walls; state safety requirements pertaining to stairways and footings; Cal/OSHA safety codes and personal protective equipment; math including algebra and geometry as it relates to the field of carpentry; and the ability to: read, analyze, and work from blueprints and sketches; and other necessary skills, knowledge, and abilities.\\n\\nThe multiple-choice test will be proctored and administered on-line during a single session. Candidates invited to participate in the on-line multiple-choice test will be able to take the test from any location using a computer with a webcam and a reliable internet connection. Candidates will receive an email from the City of Los Angeles outlining the dates and specific steps on how to take the multiple-choice test on-line. It is anticipated that the remote proctored multiple-choice test will be held in APRIL 2018. Candidates who do not complete and submit the remote proctored multiple-choice test on-line using a computer by the specified date and time will not be considered further in this examination.\\n\\nNOTES:\\n\\n1. This examination is based on a validation study, and as provided by Civil Service Commission Rule 4.20, the multiple-choice test will not be subject to candidate inspection.\\n2. As a covered entity under the Fair Employment and Housing Act and Title II of the Americans with Disabilities Act, the City of Los Angeles does not discriminate on the basis of disability and upon request, will provide reasonable accommodations to ensure equal access to its programs, services, and activities. To request a disability accommodation, please complete the Disability Accommodation Form within 14 calendar days of the submittal of the City application. The Disability Accommodation Form can be obtained at http://per.lacity.org/exams/verify_disability.pdf.\\n3. The incumbents of some positions in this class may be required to pass an annual or periodic work fitness evaluation to determine their eligibility for continued employment in this class.\\n4. Based on the Federal Omnibus Transportation Employee Testing Act of 1994, you may be required to undergo mandatory drug and alcohol testing prior to and during employment in this class.\\n5. In conjunction with Civil Service Rules, applicants who have received a regular appointment to a City position or are on a reserve list will be considered Promotional candidates while all other applicants will be considered Open candidates.\\n6. The promotional list will ordinarily be used ahead of the open competitive list. However, if open competitive candidates receive a higher score, without military credits, than the highest available promotional candidate, after adding 0.25 of a point seniority credit for each year of continuous classified City service, the Civil Service Commission, upon request of the appointing authority, may approve certification of such open competitive candidates ahead of the promotional candidates.\\n7. Applications are accepted subject to review to ensure that minimum qualifications are met. Candidates may be disqualified at any time if it is determined that they do not possess the minimum qualifications stated on this bulletin.\\n8. A final average score of 70% or higher is required to be placed on the eligible list.\\n9. In accordance with Civil Service Rule, Sec. 4.24, review periods may be combined. Candidates in the examination process may file protests as provided in Sec. 4.20, 4.22, and 4.23 as applicable and within the required time frame; however, the Personnel Department may respond to and resolve protests prior to the establishment of the eligible list. \\n\\nNOTICE:\\n\\nIf you receive and accept an offer of employment to a regular position with the City of Los Angeles, your employee benefit coverage (including health and dental coverage as well as life insurance) will commence approximately six weeks after your original regular appointment. Not all positions in the City receive benefit coverage; you should inquire regarding the availability of employee benefits prior to accepting a position.\\n\\nTHIS EXAMINATION IS TO BE GIVEN BOTH ON AN\\nINTERDEPARTMENTAL PROMOTIONAL AND AN OPEN COMPETITIVE BASIS\\n\\nThe City of Los Angeles does not discriminate on the basis of race, religion, national origin, sex, age, marital status, sexual orientation, gender identity, gender expression, disability, creed, color, ancestry, medical condition (cancer), or Acquired Immune Deficiency Syndrome.\\nClass Code 3344. . . . . . . . . . . . . . . . . . . . . . . . . . . . . . . . . . . . . . . . . . . . . . . . . . . . . . . . . . . . . . . . . . . . . . . . . . . . . . . . . . . . . . 01-12-18\\n\\nAN EQUAL EMPLOYMENT OPPORTUNITY EMPLOYER\\n\\nAN EQUAL EMPLOYMENT OPPORTUNITY EMPLOYER\\nFor additional information and FAQs regarding the City\\'s hiring process, please go to: http://per.lacity.org/index.cfm?content=employmenttestingprocess\\n\\n\\n\\n\\n\\n'"
      ]
     },
     "execution_count": 56,
     "metadata": {},
     "output_type": "execute_result"
    }
   ],
   "source": [
    "# Import file as text\n",
    "carpenter_path = path + all_txt_files[94]\n",
    "carpenter = open(carpenter_path, 'rt').read()\n",
    "carpenter"
   ]
  },
  {
   "cell_type": "code",
   "execution_count": 58,
   "metadata": {},
   "outputs": [
    {
     "ename": "AssertionError",
     "evalue": "5 columns passed, passed data had 4 columns",
     "output_type": "error",
     "traceback": [
      "\u001b[0;31m---------------------------------------------------------------------------\u001b[0m",
      "\u001b[0;31mAssertionError\u001b[0m                            Traceback (most recent call last)",
      "\u001b[0;32m<ipython-input-58-472a34d8c788>\u001b[0m in \u001b[0;36m<module>\u001b[0;34m\u001b[0m\n\u001b[0;32m----> 1\u001b[0;31m \u001b[0m_base\u001b[0m\u001b[0;34m(\u001b[0m\u001b[0mjob\u001b[0m\u001b[0;34m=\u001b[0m\u001b[0mcarpenter\u001b[0m\u001b[0;34m)\u001b[0m\u001b[0;34m\u001b[0m\u001b[0;34m\u001b[0m\u001b[0m\n\u001b[0m\u001b[1;32m      2\u001b[0m \u001b[0;31m# Oops!\u001b[0m\u001b[0;34m\u001b[0m\u001b[0;34m\u001b[0m\u001b[0;34m\u001b[0m\u001b[0m\n",
      "\u001b[0;32m<ipython-input-54-ac172fb55615>\u001b[0m in \u001b[0;36m_base\u001b[0;34m(job, use_df)\u001b[0m\n\u001b[1;32m     82\u001b[0m                                                       \u001b[0;34m'REQUIREMENT_SUBSET_ID'\u001b[0m\u001b[0;34m,\u001b[0m\u001b[0;34m\u001b[0m\u001b[0;34m\u001b[0m\u001b[0m\n\u001b[1;32m     83\u001b[0m                                                       \u001b[0;34m'requirement_subset_txt'\u001b[0m\u001b[0;34m,\u001b[0m\u001b[0;34m\u001b[0m\u001b[0;34m\u001b[0m\u001b[0m\n\u001b[0;32m---> 84\u001b[0;31m                                                       'mis'])\n\u001b[0m\u001b[1;32m     85\u001b[0m     \u001b[0;32mreturn\u001b[0m \u001b[0mdf\u001b[0m\u001b[0;34m\u001b[0m\u001b[0;34m\u001b[0m\u001b[0m\n\u001b[1;32m     86\u001b[0m \u001b[0;34m\u001b[0m\u001b[0m\n",
      "\u001b[0;32m/anaconda3/lib/python3.7/site-packages/pandas/core/frame.py\u001b[0m in \u001b[0;36m__init__\u001b[0;34m(self, data, index, columns, dtype, copy)\u001b[0m\n\u001b[1;32m    385\u001b[0m                     \u001b[0;32mif\u001b[0m \u001b[0mis_named_tuple\u001b[0m\u001b[0;34m(\u001b[0m\u001b[0mdata\u001b[0m\u001b[0;34m[\u001b[0m\u001b[0;36m0\u001b[0m\u001b[0;34m]\u001b[0m\u001b[0;34m)\u001b[0m \u001b[0;32mand\u001b[0m \u001b[0mcolumns\u001b[0m \u001b[0;32mis\u001b[0m \u001b[0;32mNone\u001b[0m\u001b[0;34m:\u001b[0m\u001b[0;34m\u001b[0m\u001b[0;34m\u001b[0m\u001b[0m\n\u001b[1;32m    386\u001b[0m                         \u001b[0mcolumns\u001b[0m \u001b[0;34m=\u001b[0m \u001b[0mdata\u001b[0m\u001b[0;34m[\u001b[0m\u001b[0;36m0\u001b[0m\u001b[0;34m]\u001b[0m\u001b[0;34m.\u001b[0m\u001b[0m_fields\u001b[0m\u001b[0;34m\u001b[0m\u001b[0;34m\u001b[0m\u001b[0m\n\u001b[0;32m--> 387\u001b[0;31m                     \u001b[0marrays\u001b[0m\u001b[0;34m,\u001b[0m \u001b[0mcolumns\u001b[0m \u001b[0;34m=\u001b[0m \u001b[0m_to_arrays\u001b[0m\u001b[0;34m(\u001b[0m\u001b[0mdata\u001b[0m\u001b[0;34m,\u001b[0m \u001b[0mcolumns\u001b[0m\u001b[0;34m,\u001b[0m \u001b[0mdtype\u001b[0m\u001b[0;34m=\u001b[0m\u001b[0mdtype\u001b[0m\u001b[0;34m)\u001b[0m\u001b[0;34m\u001b[0m\u001b[0;34m\u001b[0m\u001b[0m\n\u001b[0m\u001b[1;32m    388\u001b[0m                     \u001b[0mcolumns\u001b[0m \u001b[0;34m=\u001b[0m \u001b[0m_ensure_index\u001b[0m\u001b[0;34m(\u001b[0m\u001b[0mcolumns\u001b[0m\u001b[0;34m)\u001b[0m\u001b[0;34m\u001b[0m\u001b[0;34m\u001b[0m\u001b[0m\n\u001b[1;32m    389\u001b[0m \u001b[0;34m\u001b[0m\u001b[0m\n",
      "\u001b[0;32m/anaconda3/lib/python3.7/site-packages/pandas/core/frame.py\u001b[0m in \u001b[0;36m_to_arrays\u001b[0;34m(data, columns, coerce_float, dtype)\u001b[0m\n\u001b[1;32m   7473\u001b[0m     \u001b[0;32mif\u001b[0m \u001b[0misinstance\u001b[0m\u001b[0;34m(\u001b[0m\u001b[0mdata\u001b[0m\u001b[0;34m[\u001b[0m\u001b[0;36m0\u001b[0m\u001b[0;34m]\u001b[0m\u001b[0;34m,\u001b[0m \u001b[0;34m(\u001b[0m\u001b[0mlist\u001b[0m\u001b[0;34m,\u001b[0m \u001b[0mtuple\u001b[0m\u001b[0;34m)\u001b[0m\u001b[0;34m)\u001b[0m\u001b[0;34m:\u001b[0m\u001b[0;34m\u001b[0m\u001b[0;34m\u001b[0m\u001b[0m\n\u001b[1;32m   7474\u001b[0m         return _list_to_arrays(data, columns, coerce_float=coerce_float,\n\u001b[0;32m-> 7475\u001b[0;31m                                dtype=dtype)\n\u001b[0m\u001b[1;32m   7476\u001b[0m     \u001b[0;32melif\u001b[0m \u001b[0misinstance\u001b[0m\u001b[0;34m(\u001b[0m\u001b[0mdata\u001b[0m\u001b[0;34m[\u001b[0m\u001b[0;36m0\u001b[0m\u001b[0;34m]\u001b[0m\u001b[0;34m,\u001b[0m \u001b[0mcollections\u001b[0m\u001b[0;34m.\u001b[0m\u001b[0mMapping\u001b[0m\u001b[0;34m)\u001b[0m\u001b[0;34m:\u001b[0m\u001b[0;34m\u001b[0m\u001b[0;34m\u001b[0m\u001b[0m\n\u001b[1;32m   7477\u001b[0m         return _list_of_dict_to_arrays(data, columns,\n",
      "\u001b[0;32m/anaconda3/lib/python3.7/site-packages/pandas/core/frame.py\u001b[0m in \u001b[0;36m_list_to_arrays\u001b[0;34m(data, columns, coerce_float, dtype)\u001b[0m\n\u001b[1;32m   7552\u001b[0m         \u001b[0mcontent\u001b[0m \u001b[0;34m=\u001b[0m \u001b[0mlist\u001b[0m\u001b[0;34m(\u001b[0m\u001b[0mlib\u001b[0m\u001b[0;34m.\u001b[0m\u001b[0mto_object_array\u001b[0m\u001b[0;34m(\u001b[0m\u001b[0mdata\u001b[0m\u001b[0;34m)\u001b[0m\u001b[0;34m.\u001b[0m\u001b[0mT\u001b[0m\u001b[0;34m)\u001b[0m\u001b[0;34m\u001b[0m\u001b[0;34m\u001b[0m\u001b[0m\n\u001b[1;32m   7553\u001b[0m     return _convert_object_array(content, columns, dtype=dtype,\n\u001b[0;32m-> 7554\u001b[0;31m                                  coerce_float=coerce_float)\n\u001b[0m\u001b[1;32m   7555\u001b[0m \u001b[0;34m\u001b[0m\u001b[0m\n\u001b[1;32m   7556\u001b[0m \u001b[0;34m\u001b[0m\u001b[0m\n",
      "\u001b[0;32m/anaconda3/lib/python3.7/site-packages/pandas/core/frame.py\u001b[0m in \u001b[0;36m_convert_object_array\u001b[0;34m(content, columns, coerce_float, dtype)\u001b[0m\n\u001b[1;32m   7610\u001b[0m             raise AssertionError('{col:d} columns passed, passed data had '\n\u001b[1;32m   7611\u001b[0m                                  '{con} columns'.format(col=len(columns),\n\u001b[0;32m-> 7612\u001b[0;31m                                                         con=len(content)))\n\u001b[0m\u001b[1;32m   7613\u001b[0m \u001b[0;34m\u001b[0m\u001b[0m\n\u001b[1;32m   7614\u001b[0m     \u001b[0;31m# provide soft conversion of object dtypes\u001b[0m\u001b[0;34m\u001b[0m\u001b[0;34m\u001b[0m\u001b[0;34m\u001b[0m\u001b[0m\n",
      "\u001b[0;31mAssertionError\u001b[0m: 5 columns passed, passed data had 4 columns"
     ]
    }
   ],
   "source": [
    "_base(job=carpenter)\n",
    "# Oops!"
   ]
  },
  {
   "cell_type": "code",
   "execution_count": 59,
   "metadata": {},
   "outputs": [
    {
     "data": {
      "text/plain": [
       "'REQUIREMENTS/MINIMUM QUALIFICATIONS\\n\\n1. Completion of an apprenticeship as a carpenter or cabinetmaker; or\\n2. Six years of full-time paid experience performing carpenter or cabinetmaker work.\\n\\nCompletion of a minimum 18-month or longer program in carpentry or cabinetmaking and millwork from an accredited institution may be substituted for each year of experience lacking up to a maximum of two years.\\n\\n'"
      ]
     },
     "execution_count": 59,
     "metadata": {},
     "output_type": "execute_result"
    }
   ],
   "source": [
    "# Locate the information\n",
    "temp = carpenter[carpenter.find('REQUIREMENTS/MINIMUM QUALIFICATIONS'):carpenter.find('PROCESS NOTES')]\n",
    "temp"
   ]
  },
  {
   "cell_type": "code",
   "execution_count": 60,
   "metadata": {},
   "outputs": [
    {
     "data": {
      "text/plain": [
       "['1', '2']"
      ]
     },
     "execution_count": 60,
     "metadata": {},
     "output_type": "execute_result"
    }
   ],
   "source": [
    "# Get the digits\n",
    "digits_as_str = [sentence[-1] for sentence in temp.split('.') if sentence[-1].isdigit()]\n",
    "digits_as_str"
   ]
  },
  {
   "cell_type": "code",
   "execution_count": 61,
   "metadata": {},
   "outputs": [
    {
     "data": {
      "text/plain": [
       "['1. Completion of an apprenticeship as a carpenter or cabinetmaker; or\\n',\n",
       " '2. Six years of full-time paid experience performing carpenter or cabinetmaker work.\\n\\nCompletion of a minimum 18-month or longer program in carpentry or cabinetmaking and millwork from an accredited institution may be substituted for each year of experience lacking up to a maximum of two years.\\n\\n']"
      ]
     },
     "execution_count": 61,
     "metadata": {},
     "output_type": "execute_result"
    }
   ],
   "source": [
    "# Separate requirements one from the other.\n",
    "## Initialization\n",
    "line_item = [] # borrow from accounting term. means items in a list\n",
    "## Loop through idx of digits_as_str to get the text from one digit to the other\n",
    "for idx in range(len(digits_as_str)-1):\n",
    "    start = digits_as_str[idx]  ; pos1 = temp.index(start)\n",
    "    end   = digits_as_str[idx+1]; pos2 = temp.index(end)\n",
    "    item  = temp[pos1:pos2]     ; line_item.append(item)\n",
    "## Put the last part into the list of all possible requirements\n",
    "final_dig    = digits_as_str[-1]; final_pos = temp.index(final_dig)\n",
    "final_item = temp[final_pos:] ; line_item.append(final_item)\n",
    "## Display results\n",
    "line_item"
   ]
  },
  {
   "cell_type": "code",
   "execution_count": 62,
   "metadata": {},
   "outputs": [
    {
     "data": {
      "text/plain": [
       "[['1. Completion of an apprenticeship as a carpenter or cabinetmaker; or'],\n",
       " ['2. Six years of full-time paid experience performing carpenter or cabinetmaker work.',\n",
       "  'Completion of a minimum 18-month or longer program in carpentry or cabinetmaking and millwork from an accredited institution may be substituted for each year of experience lacking up to a maximum of two years.']]"
      ]
     },
     "execution_count": 62,
     "metadata": {},
     "output_type": "execute_result"
    }
   ],
   "source": [
    "# Split further by newline characters\n",
    "line_item = [[line for line in item.split('\\n') if len(line) > 1] for item in line_item]\n",
    "line_item"
   ]
  },
  {
   "cell_type": "code",
   "execution_count": 63,
   "metadata": {},
   "outputs": [
    {
     "data": {
      "text/plain": [
       "[['1. Completion of an apprenticeship as a carpenter or cabinetmaker; or'],\n",
       " ['2. Six years of full-time paid experience performing carpenter or cabinetmaker work.']]"
      ]
     },
     "execution_count": 63,
     "metadata": {},
     "output_type": "execute_result"
    }
   ],
   "source": [
    "# Simplify line_item by throwing away anything after the punctuation of the main sentence,\n",
    "# if the main sentence endswith a punctuation. This is to handle `CARPENTER 3344 011218.txt`.\n",
    "## \"Completion of a minimum 18-month or longer program in carpentry or cabinetmaking and millwork \n",
    "### from an accredited institution may be substituted for each year of experience lacking up \n",
    "### to a maximum of two years.\"\"\n",
    "# The idea is that it is different from a subrequirement because it doens't have an itemized initiator, like a. or a)\n",
    "for aList in line_item:\n",
    "    for item in list(aList):\n",
    "        if len(item) > 5:\n",
    "            if item.split()[0][1] != '.':\n",
    "                aList.remove(item)\n",
    "            \n",
    "line_item"
   ]
  },
  {
   "cell_type": "code",
   "execution_count": 67,
   "metadata": {},
   "outputs": [
    {
     "data": {
      "text/plain": [
       "[('1',\n",
       "  ' Completion of an apprenticeship as a carpenter or cabinetmaker',\n",
       "  'A',\n",
       "  None,\n",
       "  None),\n",
       " ('2',\n",
       "  ' Six years of full-time paid experience performing carpenter or cabinetmaker work',\n",
       "  'A',\n",
       "  None,\n",
       "  None)]"
      ]
     },
     "execution_count": 67,
     "metadata": {},
     "output_type": "execute_result"
    }
   ],
   "source": [
    "requirement_list = []\n",
    "for aList in line_item:\n",
    "    # First item in the list aList may be a requirement\n",
    "    # requirement_id is the first element in the string\n",
    "    # requirement_txt is anything after, for example, 1., 2., 3., etc. (2 characters, that's why 2:)\n",
    "    main_information = aList[0]\n",
    "    requirement_id   = main_information[0]; requirement_txt = main_information[2:main_information.find(';')]\n",
    "    # Step 1\n",
    "    if len(aList) == 1:\n",
    "        ## Step 1a: Handle case \"1. and 2.\", \"1. or 2.\"\n",
    "        if main_information.endswith('and'):\n",
    "            ### Find next item's requirement id and the text associated with it\n",
    "            next_list_idx   = line_item.index(aList)+1; next_list     = line_item[next_list_idx]\n",
    "            next_info       = next_list[0]            ; next_info_txt = next_info[2:next_info.find(';')]\n",
    "            ### Form a nested requirement and put into requirement list\n",
    "            nested_reqmnt   = (requirement_id, requirement_txt, next_digit, next_req_txt)\n",
    "            requirement_list.append(nested_reqmnt)\n",
    "        ## Step 1b: Handle case \"1. or 2.\"\n",
    "        else:\n",
    "            requirement = (requirement_id, requirement_txt, 'A', None)\n",
    "            requirement_list.append(requirement)\n",
    "    # Step 2\n",
    "    elif len(aList) > 1:\n",
    "        # Step 2a: Handle case \"1. a. or b.\"\n",
    "        if all([sub_item.endswith('or') for sub_item in aList[1:-1]]):\n",
    "            all_sub_requirements = aList[1:]\n",
    "            for sub_requirement in all_sub_requirements:\n",
    "                requirement_subset_id  = sub_requirement[0].upper()\n",
    "                requirement_subset_txt = sub_requirement[2:sub_requirement.find(';')]\n",
    "                nested_reqmnt = (requirement_id, requirement_txt, requirement_subset_id, requirement_subset_txt)\n",
    "                requirement_list.append(nested_reqmnt)\n",
    "        # Step 2b: Handle case \"3. a. and b.\"\n",
    "        else:\n",
    "            nested_reqmnt = (requirement_id, requirement_txt, 'A', None, aList[1:])\n",
    "            requirement_list.append(nested_reqmnt)\n",
    "\n",
    "# Normalize each element in requirement list to length 5\n",
    "requirement_list = [tup+(None, )*(5-len(tup)) for tup in requirement_list]\n",
    "\n",
    "# Display result\n",
    "requirement_list"
   ]
  },
  {
   "cell_type": "code",
   "execution_count": 68,
   "metadata": {},
   "outputs": [
    {
     "data": {
      "text/html": [
       "<div>\n",
       "<style scoped>\n",
       "    .dataframe tbody tr th:only-of-type {\n",
       "        vertical-align: middle;\n",
       "    }\n",
       "\n",
       "    .dataframe tbody tr th {\n",
       "        vertical-align: top;\n",
       "    }\n",
       "\n",
       "    .dataframe thead th {\n",
       "        text-align: right;\n",
       "    }\n",
       "</style>\n",
       "<table border=\"1\" class=\"dataframe\">\n",
       "  <thead>\n",
       "    <tr style=\"text-align: right;\">\n",
       "      <th></th>\n",
       "      <th>0</th>\n",
       "      <th>1</th>\n",
       "      <th>2</th>\n",
       "      <th>3</th>\n",
       "      <th>4</th>\n",
       "    </tr>\n",
       "  </thead>\n",
       "  <tbody>\n",
       "    <tr>\n",
       "      <th>0</th>\n",
       "      <td>1</td>\n",
       "      <td>Completion of an apprenticeship as a carpente...</td>\n",
       "      <td>A</td>\n",
       "      <td>None</td>\n",
       "      <td>None</td>\n",
       "    </tr>\n",
       "    <tr>\n",
       "      <th>1</th>\n",
       "      <td>2</td>\n",
       "      <td>Six years of full-time paid experience perfor...</td>\n",
       "      <td>A</td>\n",
       "      <td>None</td>\n",
       "      <td>None</td>\n",
       "    </tr>\n",
       "  </tbody>\n",
       "</table>\n",
       "</div>"
      ],
      "text/plain": [
       "   0                                                  1  2     3     4\n",
       "0  1   Completion of an apprenticeship as a carpente...  A  None  None\n",
       "1  2   Six years of full-time paid experience perfor...  A  None  None"
      ]
     },
     "execution_count": 68,
     "metadata": {},
     "output_type": "execute_result"
    }
   ],
   "source": [
    "pd.DataFrame(requirement_list)"
   ]
  },
  {
   "cell_type": "markdown",
   "metadata": {},
   "source": [
    "**Fix the `_base` function: Normalize to length 5**"
   ]
  },
  {
   "cell_type": "code",
   "execution_count": 69,
   "metadata": {},
   "outputs": [
    {
     "data": {
      "text/html": [
       "<div>\n",
       "<style scoped>\n",
       "    .dataframe tbody tr th:only-of-type {\n",
       "        vertical-align: middle;\n",
       "    }\n",
       "\n",
       "    .dataframe tbody tr th {\n",
       "        vertical-align: top;\n",
       "    }\n",
       "\n",
       "    .dataframe thead th {\n",
       "        text-align: right;\n",
       "    }\n",
       "</style>\n",
       "<table border=\"1\" class=\"dataframe\">\n",
       "  <thead>\n",
       "    <tr style=\"text-align: right;\">\n",
       "      <th></th>\n",
       "      <th>REQUIREMENT_SET_ID</th>\n",
       "      <th>requirement_txt</th>\n",
       "      <th>REQUIREMENT_SUBSET_ID</th>\n",
       "      <th>requirement_subset_txt</th>\n",
       "      <th>mis</th>\n",
       "    </tr>\n",
       "  </thead>\n",
       "  <tbody>\n",
       "    <tr>\n",
       "      <th>0</th>\n",
       "      <td>1</td>\n",
       "      <td>Completion of an apprenticeship as a carpente...</td>\n",
       "      <td>A</td>\n",
       "      <td>None</td>\n",
       "      <td>None</td>\n",
       "    </tr>\n",
       "    <tr>\n",
       "      <th>1</th>\n",
       "      <td>2</td>\n",
       "      <td>Six years of full-time paid experience perfor...</td>\n",
       "      <td>A</td>\n",
       "      <td>None</td>\n",
       "      <td>None</td>\n",
       "    </tr>\n",
       "  </tbody>\n",
       "</table>\n",
       "</div>"
      ],
      "text/plain": [
       "  REQUIREMENT_SET_ID                                    requirement_txt  \\\n",
       "0                  1   Completion of an apprenticeship as a carpente...   \n",
       "1                  2   Six years of full-time paid experience perfor...   \n",
       "\n",
       "  REQUIREMENT_SUBSET_ID requirement_subset_txt   mis  \n",
       "0                     A                   None  None  \n",
       "1                     A                   None  None  "
      ]
     },
     "execution_count": 69,
     "metadata": {},
     "output_type": "execute_result"
    }
   ],
   "source": [
    "_base(job=carpenter)"
   ]
  },
  {
   "cell_type": "markdown",
   "metadata": {},
   "source": [
    "### TREE SURGEON 3114 081916 REV 080818.txt <font color='magenta'>YAHOO!</font>"
   ]
  },
  {
   "cell_type": "code",
   "execution_count": 70,
   "metadata": {},
   "outputs": [
    {
     "name": "stdout",
     "output_type": "stream",
     "text": [
      "628\n"
     ]
    }
   ],
   "source": [
    "# Find `TREE SURGEON 3114 081916 REV 080818.txt`\n",
    "print(all_txt_files.index('TREE SURGEON 3114 081916 REV 080818.txt'))"
   ]
  },
  {
   "cell_type": "code",
   "execution_count": 72,
   "metadata": {},
   "outputs": [
    {
     "data": {
      "text/plain": [
       "'TREE SURGEON\\n\\nClass Code:      3114\\nOpen Date:  08-19-16\\nREVISED: 08-08-18\\n(Exam Open to All, including Current City Employees)\\n\\nANNUAL SALARY\\n          \\n$47,898 to $70,052 \\nThe salary range for positions in the Department of Water and Power is $72,328 to $89,864\\n\\nNOTES:\\n\\n1. For information regarding reciprocity between the City of Los Angeles departments and LADWP, go to http://per.lacity.org/Reciprocity_CityDepts_and_DWP.pdf.\\n2. Annual salary is at the start of the pay range. The current salary range is subject to change. Please confirm the starting salary with the hiring department before accepting a job offer.\\n\\nDUTIES\\n\\nA Tree Surgeon climbs, prunes, trims, treats, sprays, plants, fertilizes, transplants and removes trees along City streets and highways, in City parks, over or on private property, and on public grounds to eliminate hazardous conditions; prevent interference with traffic, traffic signals and high and low voltage conductors and equipment; and to preserve and maintain the trees.\\n \\nREQUIREMENTS/MINIMUM QUALIFICATIONS\\n\\n1. One year of full-time paid experience with the City of Los Angeles as a Tree Surgeon Assistant or in a class at that level performing tree trimming or treatment work; or\\n2. One year of full-time paid experience as a tree surgeon, which includes climbing trees using spurs, climbers, ropes and safety belts and using power saws, aerial lifts, power winches, booms or similar equipment.\\n\\nPROCESS NOTES\\n\\n1. A valid California Class B driver\\'s license and valid medical certificate approved by the State of California Department of Motor Vehicles are required for all positions either prior to the appointment or prior to the end of probation. Some positions may require the license and certificate prior to the appointment, while other positions may require the license and certificate to be obtained prior to completion of the six-month probation period.  Candidates may not be eligible for appointment to these positions if their record within the last 36 months reflects three or more moving violations and/or at-fault accidents, or a conviction of a major moving violation (such as DUI). Candidates will be asked to submit a commercial driving history in accordance with the California Department of Motor Vehicles CVS 1808.1.\\n2. Applicants filing under Requirement #1, who are using their City of Los Angeles experience gained while working at the level of a Tree Surgeon Assistant, must submit with their application a City of Los Angeles \"Verification of Work Experience\" (VWE) form with the required signatures, verifying their experience performing tree trimming or treatment work.  The VWE form should indicate the type of work performed and the amount of time spent performing such work.  The VWE form may be obtained on-line at http://per.lacity.org/exams/vwe-sup.pdf.  Applicants may attach the completed VWE form to their on-line application at the time of filing or will have seven (7) calendar days from the online submission date to email a copy of their completed VWE form, including the required signatures to: per.appdocs@lacity.org.  The subject line of your email must include the exam title, your name and indicate it is a VWE. In the body of your email, you must also include your first and last name, last four digits of your Social Security Number and contact phone number.   Applicants who fail to submit their signed VWE form within the time required will not be considered further in this examination and their applications will not be processed.\\n3. Possession of a current International Society of Arboriculture (ISA) Tree Worker Certificate is highly desirable but not required.\\n4. Achievement of a qualifying score on the optional written test for high voltage line clearance work is required if you wish to be considered for such positions with the Department of Water and Power. \\n\\nSELECTIVE CERTIFICATION:\\t\\n\\nIn accordance with Charter Section 1010 (b) and Civil Service Rule 5.31, selective certification will be used for some positions in the Department of Water and Power that require a minimum of 18 months related to training and on-the-job experience and knowledge of special techniques and hazards involved in line clearance tree trimming operations.  Candidates will be considered in the order of standing on the eligible list to fill such positions. Only those persons who meet the additional requirements stated below may be considered for appointment to fill such positions by the Department of Water and Power:\\n\\n1. \"Qualified Line Clearance Tree Trimmer\" certification is required at the time of filing. \\n2. The copy of the Certificate must be attached to the online application BEFORE the application is submitted. If the Certificate is attached AFTER the online application has been submitted, it will not be available to the City and applicants WILL NOT be credited with having submitted it. Applicants who fail to submit a copy of their certification within the time required will not be considered further for positions involving high voltage line clearance work and will not be scheduled for the optional high voltage line clearance multiple-choice written test.\\n \\n\\nNOTES:\\n\\n1. Selective certification requires a passing score on a written multiple-choice skills assessment test. Candidates will be required to take the skills assessment test after the performance test. The written multiple-choice skills assessment test will be held in a single half-day session in Los Angeles. Candidates will be notified later by email of the date, time, and location of the multiple-choice written test. Further details will be forthcoming pertaining to the scheduling of the test. \\n2. If you wish to be considered for positions involving high voltage line clearance work, you must take and pass the written multiple-choice skills assessment test.  If you do not wish to be considered for those positions, you do not have to take the written multiple-choice skills assessment test.\\n\\n\\nWHERE TO APPLY\\n\\nApplications will only be accepted on-line on the dates listed in the \"Application Deadline\" section of this bulletin. Applications submitted before the start of the filing period will not be accepted. When you are viewing the on-line job bulletin of your choice, simply scroll to the top of the page and select the \"Apply\" icon. On-line job bulletins are also available at https://www.governmentjobs.com/careers/lacity.\\n\\nNOTE:\\n\\nApplicants are urged to apply early to ensure you have time to resolve any technical issues you may encounter.\\n\\n\\nAPPLICATION DEADLINE\\n\\nApplications will only be accepted on-line on the dates listed below: \\n\\nFrom 8:00 am Tuesday, November 13, 2018 to 11:59 pm, Thursday, November 15, 2018\\n\\nThe examination may close without prior notice at any time after a sufficient number of applications have been received. Filing periods may change without prior notice or additional dates may be added, as needed, at a later date. For administrative purposes, filing will close periodically and reopen on the dates noted in the \"Application Deadline\" section of this bulletin.\\n\\nIn accordance with Civil Service Rule 4.2, all applicants who apply may not be tested in this examination. To meet anticipated hiring needs, only a limited number of qualified applicants will be invited to participate in the performance test in the following order: 1) Los Angeles City Promotional applicants who meet the minimum requirements. You must have received a regular appointment to a City position or be on a reserve list to apply for this examination as a promotional candidate; 2) Applicants currently employed by the City of Los Angeles on a part-time or exempt basis who meet the minimum requirements; 3) Remaining applicants who meet the minimum requirements in sufficient numbers to meet hiring needs based on a random sampling of those qualified candidates.  Applications submitted during the filing period may be kept on file in the event that additional applicants need to be tested to meet hiring needs.\\n\\n\\nSELECTION PROCESS\\n\\nExamination Weight: Performance Test. . . . . . . . . . . . . . . . . . . . . . . . . . . . . . . . . . . . . . . . . . . . . . . . . . . . . . . . . . . . . . . . . . . . . . . . . . . . . . . . . . . . . . . . . . . . . . . . . . . . . . .100%\\n\\t                              \\nThe examination will consist entirely of a performance test.  In the performance test, emphasis may be placed on the candidate\\'s knowledge of: tree trimming and removal procedures; safety practices and procedures; tools and equipment used in tree work and the proper maintenance of these tools; and the ability to observe, inspect and evaluate a tree in order to determine the proper method to be used to climb the tree, and use the appropriate method of rigging to remove branches from trees; to identify potentially hazardous situations caused by insects, rodents, poison oak, animals or pets in order to take precautionary actions to remedy these hazards; climb trees by various methods; tie various types of knots in rope; communicate job related information to co-workers and supervisors; and other necessary skills, knowledge and abilities.\\n\\nCandidates will be notified later by e-mail of the date, time and location of the performance test, and will be emailed additional information regarding the performance test. The performance test will be held in Los Angeles.\\n\\nSafety Information\\n\\n1. A harness will be provided by the City. However, candidates who wish to do so may bring their own harness, provided it is an approved tree climbing saddle.\\n2.   In the performance test, candidates will be required to demonstrate, while on the ground, the ability to tie various knots and hitches.  If candidates are unable to tie the required knots and hitches properly in two attempts, they will not be permitted to continue and will have failed the performance test.  This is done for the candidate\\'s personal safety. Candidates who tie the knots properly will be required to enter the tree and demonstrate working methods, as well as demonstrating other knots used in tree work.  Candidates are required to wear boots proper for climbing a rope.  No other shoes will be allowed.  Candidates who cannot make this climb satisfactorily in two attempts will have failed the performance test.\\n\\nNOTES:\\n\\n1. You may take this examination only once every 365 days. Your name may be removed from the employment list after 365 days. If you have taken the Tree Surgeon test within the last 12 months, you may not file for this examination at this time. \\n2. This examination is based on a validation study.\\n3. The promotional list will ordinarily be used ahead of the open competitive list. However, if open competitive candidates receive a higher score, without military credits, than the highest available promotional candidate, after adding 0.25 of a point seniority credit for each year of continuous classified service, the Civil Service Commission, upon request of the appointing authority may approve certification of such open competitive candidates ahead of the promotional candidates. \\n4. Applications are accepted subject to review to ensure that minimum qualifications are met. Candidates may be disqualified at any time if it is determined that they do not possess the minimum qualifications stated on this bulletin.\\n5. As a covered entity under the Fair Employment and Housing Act and Title II of the Americans with Disabilities Act, the City of Los Angeles does not discriminate on the basis of disability and upon request, will provide reasonable accommodations to ensure equal access to its programs, services, and activities. To request a disability accommodation, please complete the Disability Accommodation Form within 14 calendar days of the submittal of the City application. The Disability Accommodation Form can be obtained at http://per.lacity.org/exams/verify_disability.pdf. \\n6. A final average score of 70% is required to be placed on the eligible list.\\n7. You must have received a regular appointment to a City position or be on a reserve list to file on a promotional basis.\\n8. Based on City policy, you may be required to undergo mandatory drug and alcohol testing prior to and during employment in this class.\\n9. You may be required to pass an annual or periodic work fitness evaluation to determine your eligibility for continued employment.\\n10. In accordance with Civil Service Rule, Sec. 4.24, review periods may be combined. Candidates in the examination process may file protests as provided in Sec. 4.20, 4.22 and 4.23 as applicable and within the required time frame; however, the Personnel Department may respond to and resolve protests prior to the establishment of the eligible list.\\n11. In conjunction with Civil Service Rules, applicants who are current eligible City employees or are on a reserve list will be considered Promotional candidates while all other applicants will be considered open candidates. \\n\\nNotice:  \\n\\nIf you receive and accept an offer of employment to a regular position with the City of Los Angeles, your employee benefit coverage (including health and dental coverage as well as life insurance) will commence approximately six weeks after your original regular appointment. Not all positions in the City receive benefit coverage; you should inquire regarding the availability of employee benefits prior to accepting a position.\\n\\nTHIS EXAMINATION IS TO BE GIVEN BOTH ON AN \\nINTERDEPARTMENTAL PROMOTIONAL AND OPEN COMPETITIVE BASIS\\n\\nThe City of Los Angeles does not discriminate on the basis of race, religion, national origin, sex, age, marital status, sexual orientation, gender identity, gender expression, disability, creed, color, ancestry, medical condition (cancer), or Acquired Immune Deficiency Syndrome.\\nClass Code 3114 CONT . . . . . . . . . . . . . . . . . . . . . . . . . . . . . . . . . . . . . . . . . . . . . . . . . . . . . . . . . . . . . . . . . . . 08-19-16 REV 08-08-18\\n\\nAN EQUAL EMPLOYMENT OPPORTUNITY EMPLOYER\\nFor additional information and FAQs regarding the City\\'s hiring process, please go to: http://per.lacity.org/index.cfm?content=employmenttestingprocess\\n\\n\\n'"
      ]
     },
     "execution_count": 72,
     "metadata": {},
     "output_type": "execute_result"
    }
   ],
   "source": [
    "# Import file as text\n",
    "tree_surgeon_path = path + all_txt_files[628]\n",
    "tree_sugeon = open(tree_surgeon_path, 'rt').read()\n",
    "tree_sugeon"
   ]
  },
  {
   "cell_type": "code",
   "execution_count": 73,
   "metadata": {},
   "outputs": [
    {
     "data": {
      "text/html": [
       "<div>\n",
       "<style scoped>\n",
       "    .dataframe tbody tr th:only-of-type {\n",
       "        vertical-align: middle;\n",
       "    }\n",
       "\n",
       "    .dataframe tbody tr th {\n",
       "        vertical-align: top;\n",
       "    }\n",
       "\n",
       "    .dataframe thead th {\n",
       "        text-align: right;\n",
       "    }\n",
       "</style>\n",
       "<table border=\"1\" class=\"dataframe\">\n",
       "  <thead>\n",
       "    <tr style=\"text-align: right;\">\n",
       "      <th></th>\n",
       "      <th>REQUIREMENT_SET_ID</th>\n",
       "      <th>requirement_txt</th>\n",
       "      <th>REQUIREMENT_SUBSET_ID</th>\n",
       "      <th>requirement_subset_txt</th>\n",
       "      <th>mis</th>\n",
       "    </tr>\n",
       "  </thead>\n",
       "  <tbody>\n",
       "    <tr>\n",
       "      <th>0</th>\n",
       "      <td>1</td>\n",
       "      <td>One year of full-time paid experience with th...</td>\n",
       "      <td>A</td>\n",
       "      <td>None</td>\n",
       "      <td>None</td>\n",
       "    </tr>\n",
       "    <tr>\n",
       "      <th>1</th>\n",
       "      <td>2</td>\n",
       "      <td>One year of full-time paid experience as a tr...</td>\n",
       "      <td>A</td>\n",
       "      <td>None</td>\n",
       "      <td>None</td>\n",
       "    </tr>\n",
       "  </tbody>\n",
       "</table>\n",
       "</div>"
      ],
      "text/plain": [
       "  REQUIREMENT_SET_ID                                    requirement_txt  \\\n",
       "0                  1   One year of full-time paid experience with th...   \n",
       "1                  2   One year of full-time paid experience as a tr...   \n",
       "\n",
       "  REQUIREMENT_SUBSET_ID requirement_subset_txt   mis  \n",
       "0                     A                   None  None  \n",
       "1                     A                   None  None  "
      ]
     },
     "execution_count": 73,
     "metadata": {},
     "output_type": "execute_result"
    }
   ],
   "source": [
    "_base(job=tree_sugeon)"
   ]
  },
  {
   "cell_type": "markdown",
   "metadata": {},
   "source": [
    "### 311 DIRECTOR  9206 041814.txt"
   ]
  },
  {
   "cell_type": "code",
   "execution_count": 74,
   "metadata": {},
   "outputs": [
    {
     "name": "stdout",
     "output_type": "stream",
     "text": [
      "0\n"
     ]
    }
   ],
   "source": [
    "# Find `311 DIRECTOR  9206 041814.txt`\n",
    "print(all_txt_files.index('311 DIRECTOR  9206 041814.txt'))"
   ]
  },
  {
   "cell_type": "code",
   "execution_count": 75,
   "metadata": {
    "scrolled": true
   },
   "outputs": [
    {
     "data": {
      "text/plain": [
       "'311 DIRECTOR\\nClass Code:       9206\\nOpen Date:  04-18-14\\nANNUAL SALARY \\n\\n$125,175 to $155,514 \\n\\nDUTIES\\n\\nA 311 Director is responsible for the successful operation and expansion of the 311 Call Center in the Information Technology Agency (ITA) which answers call from constituents regarding Citywide services provided by City departments; works to ensure the efficient and effective resolution of any issues that may arise; plans, directs, hires, coaches, and coordinates a large staff of professional, technical and clerical employees engaged in the implementation, administration, and operations of the City\\'s 311 Call Center; applies sound supervisor principles and techniques in building and maintaining and effective work force; fulfills equal opportunity responsibilities; and does related work.\\n\\nREQUIREMENTS\\n\\n1. One year of full-time paid experience as a Senior Management Analyst with the City of Los Angeles or in a class which is at least at the level which provides professional experience in supervisory or managerial work relating to a call center with at least 50 call agents or a call center that receives at least one million calls annually; or\\n2. A Bachelor\\'s degree from a recognized college or university and four years of full-time paid experience in a call center environment with at least 50 call agents or a call center that receives at least one million calls annually, two years of which must be supervising staff working at such a call center; or\\n3. Eight years of full-time paid experience in a call center environment with at least 50 call agents or call center that receives at least one million calls annually, two years of which must be supervising staff working at such a call center.\\n\\nNOTES:\\n\\n1. In addition to the regular City application, all applicants must complete a 311 Director Qualifications Questionnaire at the time of filing.  The 311 Director Qualifications Questionnaire is located within the Qualifications Questions section of the City application.  Applicants who fail to complete the Qualifications Questionnaire will not be considered further in this examination, and their application will not be processed.\\n2. Applicants who lack six months or less of the required experience may file for this examination. However, they cannot be appointed until the full experience requirement is met.\\n3. Call center experience related to sales and telemarketing is excluded.\\n4. Customer Relations Management (CRM) systems expertise, including implementation, integration, and knowledge base creation is highly desired. \\n\\nWHERE TO APPLY\\n\\nApplications will only be accepted online. When you are viewing the online job bulletin of your choice, simply scroll to the top of the page and select the \"Apply\" icon. Online job bulletins are also available at http://agency.governmentjobs.com/lacity/default.cfm for Open Competitive Examinations and at http://agency.governmentjobs.com/lacity/default.cfm?promotionaljobs=1 for Promotional Examinations. \\n\\nNOTE:\\n\\nShould a large number of qualified candidates file for this examination, an expert review committee may be assembled to evaluate each candidate\\'s qualifications for the position of 311 Director. In this evaluation, the expert review committee will assess each applicant\\'s training and experience based upon the information in the applicant\\'s City employment application and the Qualifications Questionnaire. Those candidates considered by the expert review committee as possessing the greatest likelihood of successfully performing the duties of a 311 Director, based solely on the information presented to the committee, will be invited to participate in the interview. \\n\\nAPPLICATION DEADLINE\\n\\nApplications must be received by THURSDAY, MAY 1, 2014.\\n\\nIn accordance with Civil Service Rule 4.2, all applicants who apply may not be tested in this examination. To meet anticipated hiring needs, only a limited number of qualified applicants will be invited to participate in the interview in the following order: 1) Los Angeles City Promotional applicants who meet the minimum requirements. You must have received a regular appointment to a City position or be on a reserve list to apply for this examination as a promotional candidate; 2) Applicants currently employed by the City of Los Angeles on a part-time or exempt basis who meet the minimum requirements; 3) Remaining applicants who meet the minimum requirements in sufficient numbers to meet hiring needs in the order that applications were received. Applications submitted during the filing period will be kept on file for two years from April 18, 2014 in the event that additional applicants need to be tested to meet hiring needs. \\n\\nSELECTION PROCESS\\n\\nExamination Weight: Interview . . .  . . . . . . . . . . . . . . . . . . . . . . . . . . . . . . . . . . . . . . . . . . . . . . . . . . . . . . . . . . . . . . 100%\\n\\nThe examination will consist entirely of an evaluation of qualifications by interview.  In the interview, emphasis may be placed on the candidate\\'s experience and background as they provide the knowledge of: principles, practices, and techniques of managing a large scale call center; City budgetary, administrative, and legislative rules and regulations; safety principles and practices; telephony, voice recording, Interactive Voice Response (IVR), and Customer Relations Management (CRM) systems; mobile application, e-mail, and social media; call center optimization strategies such as process re-engineering, multi-channel strategy, call center consolidation, and technology solution investigation; training techniques, including curriculum development; principles and practices of supervision, including, directing, assigning, motivating, mentoring, training, counseling, disciplining, commending, and evaluating the work of subordinates; pertinent City and Personnel Department rules, policies, and procedures, including Equal Employment Opportunity; and ability to manage the daily operations and coordinate large scale, City-wide projects of a call center; hire, direct, evaluate, and coordinate the work of a large group of professional, technical, and clerical employees; prepare and present effective oral and written reports and recommendations; communicate effectively in public and to groups; deal tactfully and effectively with a variety of individuals; and other necessary skills, knowledge, and abilities.\\n\\nCandidates will be notified later by mail of the date, time, and location of the interview, which will be held in Los Angeles. It is anticipated that the interviews will begin during the period of JULY 7, 2014 through JULY 18, 2014.\\n\\nNOTES:\\n\\n1. As a covered entity under the Fair Employment and Housing Act and Title II of the Americans with Disabilities Act, the City of Los Angeles does not discriminate on the basis of disability and upon request, will provide reasonable accommodations to ensure equal access to its programs, services, and activities.  To request a disability accommodation, please complete the Disability Accommodation Form within 14 calendar days of the submittal of the City application.  The Disability Accommodation Form can be obtained at http://per.lacity.org/exams/verify_disability.pdf.\\n2. Appointment to this position is subject to a one-year probationary period as provided by Section 1011 of the Los Angeles City Charter.\\n3. Promotional candidates will accrue seniority credit at the rate of 0.10 of a point for each year of service for this position.  A maximum of one point will be added to the score of those candidates.  \\n4. The promotional list will ordinarily be used ahead of the open competitive list.  However, if open competitive candidates receive a higher score, without military credits, than the highest available promotional candidate, after adding seniority credit as indicated above, the Civil Service Commission, upon request of the appointing authority, may approve certification of such open competitive candidates ahead of the promotional candidates.\\n5. You must have received a regular appointment to a City position or be on a reserve list to file on a promotional basis.\\n6. In conjunction with Civil Service Rules, applicants who have received a regular appointment to a City position or are on a reserve list will be considered Promotional candidates while all other applicants will be considered Open candidates. \\n7. Applications are accepted subject to review to ensure that minimum qualifications are met.  Candidates may be disqualified at any time if it is determined that they do not possess the minimum qualifications stated on this bulletin.\\n8. A final average score of 70% is required to be placed on the eligible list.\\n9. The successful candidate may be required to complete a medical examination prior to appointment.\\n\\nNotice:  \\n\\nIf you receive and accept an offer of employment to a regular position with the City of Los Angeles, your employee benefit coverage (including health and dental coverage as well as life insurance) will commence approximately six weeks after your original regular appointment. Not all positions in the City receive benefit coverage; you should inquire regarding the availability of employee benefits prior to accepting a position.\\n\\nTHIS EXAMINATION IS TO BE GIVEN ONLY ON \\nAN INTERDEPARTMENTAL PROMOTIONAL AND AN OPEN COMPETITIVE BASIS\\n\\nThe City of Los Angeles does not discriminate on the basis of race, religion, national origin, sex, age, marital status, sexual orientation, gender identity, gender expression, disability, creed, color, ancestry, medical condition (cancer), or Acquired Immune Deficiency Syndrome.\\nAN EQUAL EMPLOYMENT OPPORTUNITY EMPLOYER \\n\\n\\n\\nClass Code 9206 . . . . . . . . . . . . . . . . . . . . . . . . . . . . . . . . . . . . . . . . . . . . . . . . . . . . . . . . . . . . . . . . . . . . . . . . . . . . . . . . . . . . . .04-18-14\\n\\n'"
      ]
     },
     "execution_count": 75,
     "metadata": {},
     "output_type": "execute_result"
    }
   ],
   "source": [
    "# Import file as text\n",
    "director311_path = path + all_txt_files[0]\n",
    "director311 = open(director311_path, 'rt').read()\n",
    "director311"
   ]
  },
  {
   "cell_type": "code",
   "execution_count": 77,
   "metadata": {},
   "outputs": [
    {
     "ename": "IndexError",
     "evalue": "string index out of range",
     "output_type": "error",
     "traceback": [
      "\u001b[0;31m---------------------------------------------------------------------------\u001b[0m",
      "\u001b[0;31mIndexError\u001b[0m                                Traceback (most recent call last)",
      "\u001b[0;32m<ipython-input-77-c79292092a34>\u001b[0m in \u001b[0;36m<module>\u001b[0;34m\u001b[0m\n\u001b[0;32m----> 1\u001b[0;31m \u001b[0m_base\u001b[0m\u001b[0;34m(\u001b[0m\u001b[0mjob\u001b[0m\u001b[0;34m=\u001b[0m\u001b[0mdirector311\u001b[0m\u001b[0;34m)\u001b[0m\u001b[0;34m\u001b[0m\u001b[0;34m\u001b[0m\u001b[0m\n\u001b[0m\u001b[1;32m      2\u001b[0m \u001b[0;31m# Oops!\u001b[0m\u001b[0;34m\u001b[0m\u001b[0;34m\u001b[0m\u001b[0;34m\u001b[0m\u001b[0m\n",
      "\u001b[0;32m<ipython-input-66-aba715181867>\u001b[0m in \u001b[0;36m_base\u001b[0;34m(job, use_df)\u001b[0m\n\u001b[1;32m     13\u001b[0m \u001b[0;34m\u001b[0m\u001b[0m\n\u001b[1;32m     14\u001b[0m     \u001b[0;31m# Get the digits that mark one part from the other\u001b[0m\u001b[0;34m\u001b[0m\u001b[0;34m\u001b[0m\u001b[0;34m\u001b[0m\u001b[0m\n\u001b[0;32m---> 15\u001b[0;31m     \u001b[0mdigits_as_str\u001b[0m \u001b[0;34m=\u001b[0m \u001b[0;34m[\u001b[0m\u001b[0msentence\u001b[0m\u001b[0;34m[\u001b[0m\u001b[0;34m-\u001b[0m\u001b[0;36m1\u001b[0m\u001b[0;34m]\u001b[0m \u001b[0;32mfor\u001b[0m \u001b[0msentence\u001b[0m \u001b[0;32min\u001b[0m \u001b[0mtemp\u001b[0m\u001b[0;34m.\u001b[0m\u001b[0msplit\u001b[0m\u001b[0;34m(\u001b[0m\u001b[0;34m'.'\u001b[0m\u001b[0;34m)\u001b[0m \u001b[0;32mif\u001b[0m \u001b[0msentence\u001b[0m\u001b[0;34m[\u001b[0m\u001b[0;34m-\u001b[0m\u001b[0;36m1\u001b[0m\u001b[0;34m]\u001b[0m\u001b[0;34m.\u001b[0m\u001b[0misdigit\u001b[0m\u001b[0;34m(\u001b[0m\u001b[0;34m)\u001b[0m\u001b[0;34m]\u001b[0m\u001b[0;34m\u001b[0m\u001b[0;34m\u001b[0m\u001b[0m\n\u001b[0m\u001b[1;32m     16\u001b[0m \u001b[0;34m\u001b[0m\u001b[0m\n\u001b[1;32m     17\u001b[0m     \u001b[0;31m# Separate requirements one from the other.\u001b[0m\u001b[0;34m\u001b[0m\u001b[0;34m\u001b[0m\u001b[0;34m\u001b[0m\u001b[0m\n",
      "\u001b[0;32m<ipython-input-66-aba715181867>\u001b[0m in \u001b[0;36m<listcomp>\u001b[0;34m(.0)\u001b[0m\n\u001b[1;32m     13\u001b[0m \u001b[0;34m\u001b[0m\u001b[0m\n\u001b[1;32m     14\u001b[0m     \u001b[0;31m# Get the digits that mark one part from the other\u001b[0m\u001b[0;34m\u001b[0m\u001b[0;34m\u001b[0m\u001b[0;34m\u001b[0m\u001b[0m\n\u001b[0;32m---> 15\u001b[0;31m     \u001b[0mdigits_as_str\u001b[0m \u001b[0;34m=\u001b[0m \u001b[0;34m[\u001b[0m\u001b[0msentence\u001b[0m\u001b[0;34m[\u001b[0m\u001b[0;34m-\u001b[0m\u001b[0;36m1\u001b[0m\u001b[0;34m]\u001b[0m \u001b[0;32mfor\u001b[0m \u001b[0msentence\u001b[0m \u001b[0;32min\u001b[0m \u001b[0mtemp\u001b[0m\u001b[0;34m.\u001b[0m\u001b[0msplit\u001b[0m\u001b[0;34m(\u001b[0m\u001b[0;34m'.'\u001b[0m\u001b[0;34m)\u001b[0m \u001b[0;32mif\u001b[0m \u001b[0msentence\u001b[0m\u001b[0;34m[\u001b[0m\u001b[0;34m-\u001b[0m\u001b[0;36m1\u001b[0m\u001b[0;34m]\u001b[0m\u001b[0;34m.\u001b[0m\u001b[0misdigit\u001b[0m\u001b[0;34m(\u001b[0m\u001b[0;34m)\u001b[0m\u001b[0;34m]\u001b[0m\u001b[0;34m\u001b[0m\u001b[0;34m\u001b[0m\u001b[0m\n\u001b[0m\u001b[1;32m     16\u001b[0m \u001b[0;34m\u001b[0m\u001b[0m\n\u001b[1;32m     17\u001b[0m     \u001b[0;31m# Separate requirements one from the other.\u001b[0m\u001b[0;34m\u001b[0m\u001b[0;34m\u001b[0m\u001b[0;34m\u001b[0m\u001b[0m\n",
      "\u001b[0;31mIndexError\u001b[0m: string index out of range"
     ]
    }
   ],
   "source": [
    "_base(job=director311)\n",
    "# Oops!"
   ]
  },
  {
   "cell_type": "code",
   "execution_count": 85,
   "metadata": {},
   "outputs": [
    {
     "data": {
      "text/plain": [
       "''"
      ]
     },
     "execution_count": 85,
     "metadata": {},
     "output_type": "execute_result"
    }
   ],
   "source": [
    "# Locate the information\n",
    "temp = director311[director311.find('REQUIREMENTS/MINIMUM QUALIFICATIONS'):director311.find('PROCESS NOTES')]\n",
    "temp"
   ]
  },
  {
   "cell_type": "markdown",
   "metadata": {},
   "source": [
    "# <font size=8, color='red'> Culprit found!</font> Need to use regex for information location"
   ]
  },
  {
   "cell_type": "markdown",
   "metadata": {},
   "source": [
    "### ACCOUNTANT 1513 062218.txt"
   ]
  },
  {
   "cell_type": "code",
   "execution_count": 80,
   "metadata": {},
   "outputs": [
    {
     "name": "stdout",
     "output_type": "stream",
     "text": [
      "1\n"
     ]
    }
   ],
   "source": [
    "# Find `ACCOUNTANT 1513 062218.txt`\n",
    "print(all_txt_files.index('ACCOUNTANT 1513 062218.txt'))"
   ]
  },
  {
   "cell_type": "code",
   "execution_count": 82,
   "metadata": {
    "scrolled": true
   },
   "outputs": [
    {
     "data": {
      "text/plain": [
       "'ACCOUNTANT\\n\\nClass Code:       1513\\nOpen Date:  06-22-18\\n(Exam Open to All, including Current City Employees)\\n\\nANNUAL SALARY\\n\\n$49,903 to $72,996 and $55,019 to $80,472\\n\\nNOTES:\\n\\n1. Candidates from the eligible list are normally appointed to vacancies in the lower pay grade positions.\\n2. For information regarding reciprocity between the City of Los Angeles departments and LADWP, go to http://per.lacity.org/Reciprocity_CityDepts_and_DWP.pdf.\\n3. Annual salary is at the start of the pay range. The current salary range is subject to change. Please confirm the starting salary with the hiring department before accepting a job offer.\\n\\nDUTIES\\n\\nAn Accountant does professional accounting work in the analysis, preparation, maintenance, control, and reconciliation of financial records and reports in accordance with the principles of governmental and public accounting.\\n\\nREQUIREMENT/MINIMUM QUALIFICATION\\n\\nGraduation from an accredited four-year college or university and at least 24 semester or 36 quarter units in accounting.\\n\\nPROCESS NOTES\\n\\n1. Please note that qualifying education must be from a college or university accredited by a City of Los Angeles recognized agency. A list of approved accrediting agencies can be found at http://per.lacity.org/Accredited%20Institutions%2008-21-08.pdf.\\n2. Course titles, number of units and completion dates for each course must be listed in the City application, if you did not receive a degree in Accounting.\\n3. Applicants who are within one semester or one quarter of obtaining their degrees may apply. Such applicants cannot be appointed until they have received their degrees.\\n4. Some positions may require a valid California driver\\'s license. Candidates may not be eligible for appointment to these positions if their record within the last 36 months reflects three or more moving violations and/or at-fault accidents, or a conviction of a major moving violation (such as DUI).\\n5. Candidates completing the exam process will be contacted by the Personnel Department to provide required proof of qualifying degree and/or coursework. Applicants who wish to expedite this process may attach a copy of their transcripts (annotated with accounting courses, credit earned, and grade received) or qualifying degree to their on-line application at the time of filing in the Attachments section.\\n\\nWHERE TO APPLY\\n\\nApplications will only be accepted on-line. When you are viewing the on-line job bulletin of your choice, simply scroll to the top of the page and select the \"Apply\" icon. On-line job bulletins are also available at https://www.governmentjobs.com/careers/lacity for Open Competitive Examinations.\\n\\nNOTE:\\n\\nApplicants are urged to apply early to ensure you have time to resolve any technical issues you may encounter.\\n\\nAPPLICATION DEADLINE\\n\\nApplications will only be accepted on-line on the following dates listed below:\\n\\nFrom 8:00 am Friday, June 22, 2018 to 11:59 pm, Thursday, July 5, 2018\\nFrom 8:00 am Friday, June 28, 2019 to 11:59 pm, Thursday, July 11, 2019\\n\\nThe examination may close without prior notice at any time after a sufficient number of applications have been received. Filing periods may change without prior notice or additional dates may be added, as needed, at a later date. For administrative purposes, filing will close periodically and reopen on the dates noted in the \"Application Deadline\" section of this bulletin.\\n\\nIn accordance with Civil Service Rule 4.2, all applicants who apply may not be tested in this examination. To meet anticipated hiring needs, only a limited number of qualified applicants will be invited to participate in the written test in the following order: 1) Applicants currently employed by the City of Los Angeles who meet the minimum requirements, or are on a reserve list; 2) Remaining applicants who meet the minimum requirements in sufficient numbers to meet hiring needs in the order that applications were received. \\n\\nSELECTION PROCESS\\n\\nExamination Weights:  Written Test . . . . . . . . . . . . . . . . . . . . . . . . . . . . . . . . . . . . . . . . . . . . . . . . . . . . . . . . . . . . . . . . . . . . . . . . . . . . . . . .Qualifying\\n        Interview . . . . . . . . . . . . . . . . . . . . . . . . . . . . . . . . . . . . . . . . . . . . . . . . . . . . . . . . . . . . . . . . . . . . . . . . . . . . . . . . . . . . . . 100%\\n\\nIn the qualifying written test, which will consist of multiple choice questions, candidates may be examined for knowledge of: generally accepted accounting principles including governmental, cost and commercial accounting; methods used to prepare various kinds of financial statements and reports; accounting and administrative systems, practices and procedures; principles of internal control and audit procedures; electronic data processing principles as they apply to accounting and other financial work; Generally Accepted Accounting Principles (GAAP), Generally Accepted Auditing Standards (GAAS), and the Financial Accounting Standards Board (FASB); auditing principles and practices; the ability to read, analyze, and interpret complex electronically produced and written financial data, reports, contracts, legal documents, and procedural manuals relating to a wide variety of accounting matters; and other necessary skills, knowledge, and abilities.\\n\\nThe first qualifying written test will be administered in a single half-day session on SATURDAY, AUGUST 25, 2018, in Los Angeles. Candidates will be notified later by e-mail of the time and location of the written test. Additional test dates may be added as needed.\\n\\nPassing Score for the Qualifying Written Test\\n\\nThe passing score for the written test will be determined by Personnel Department staff after the qualifying written test is administered. Consideration will be given to the number of candidates taking the test and the existing and anticipated number of vacancies, such that there are a sufficient number of eligibles on the list to satisfy current and future vacancies for the next two years. Therefore, the passing score for the qualifying multiple-choice written test may be set either above or below 70%.\\n\\nCandidates must achieve a passing score on the qualifying multiple-choice test in order to be invited to the interview. Candidates will be notified later by e-mail of the date, time and location of the interview, which will be held in Los Angeles.\\n\\nThe examination score will be based entirely on the interview. In the interview, emphasis may be placed on the candidate\\'s experience, training, and personal qualifications as they provide the knowledge of: generally accepted accounting principles including governmental, cost and commercial accounting; methods of preparation of various kinds of financial statements and reports; accounting and administrative systems, practices and procedures; principles of internal control and audit procedures; electronic data processing principles as they apply to accounting and other financial work; Generally Accepted Accounting Principles (GAAP), Generally Accepted Auditing Standards (GAAS), and the Financial Accounting Standards Board (FASB); auditing principles and practices; the ability to prepare clear, concise, complete, and accurate narrative and financial reports; read, analyze, and interpret complex electronically produced and written financial data, reports, contracts, legal documents, and procedural manuals relating to a wide variety of accounting matters; work independently under pressure of time, conflicting demands, and unexpected difficulties; communicate effectively with coworkers, supervisors, the public, and others for the purpose of ensuring proper and timely completion of assigned work; get along with co-workers and work effectively as a member of a team; and other necessary skills, knowledge and abilities.\\n\\nNOTES:\\n\\n1. This examination is based on a validation study and, as provided by Civil Service Commission Rule 4.20, the written test will not be subject to candidate inspection.\\n2. Candidates may take the test only once every 365 days during the administration of the examination. Names may be removed from the open competitive eligible list after six months.\\n3. As a covered entity under the Fair Employment and Housing Act and Title II of the Americans with Disabilities Act, the City of Los Angeles does not discriminate on the basis of disability and upon request, will provide reasonable accommodations to ensure equal access to its programs, services, and activities. To request a disability accommodation, please complete the Disability Accommodation Form within 14 calendar days of the submittal of the City application. The Disability Accommodation Form can be obtained at http://per.lacity.org/exams/verify_disability.pdf.\\n4. Applications are accepted subject to review to ensure that minimum qualifications are met. Candidates may be disqualified at any time if it is determined that they do not possess the minimum qualifications stated on this bulletin.\\n5. A final average score of 70% in the interview portion of the examination is required to be placed on the eligible list. This score will be based on each candidate\\'s performance on the interview.\\n\\nNOTICE:\\n\\nIf you receive and accept an offer of employment to a regular position with the City of Los Angeles, your employee benefit coverage (including health and dental coverage as well as life insurance) will commence approximately six weeks after your original regular appointment. Not all positions in the City receive benefit coverage; you should inquire regarding the availability of employee benefits prior to accepting a position.\\n\\nTHIS EXAMINATION IS TO BE GIVEN ONLY\\nON AN OPEN COMPETITIVE BASIS\\n\\nThe City of Los Angeles does not discriminate on the basis of race, religion, national origin, sex, age, marital status, sexual orientation, gender identity, gender expression, disability, creed, color, ancestry, medical condition (cancer), or Acquired Immune Deficiency Syndrome.\\n\\nClass Code 1513 CONT. . . . . . . . . . . . . . . . . . . . . . . . . . . . . . . . . . . . . . . . . . . . . . . . . . . . . . . . . . . . . . . . . . . . . . . . . . . . . . . . 06-22-18\\n\\nAN EQUAL EMPLOYMENT OPPORTUNITY EMPLOYER\\nFor additional information and FAQs regarding the City\\'s hiring process, please go to: http://per.lacity.org/index.cfm?content=employmenttestingprocess\\n\\n'"
      ]
     },
     "execution_count": 82,
     "metadata": {},
     "output_type": "execute_result"
    }
   ],
   "source": [
    "# Import file as text\n",
    "accountant_path = path + all_txt_files[1]\n",
    "accountant = open(accountant_path, 'rt').read()\n",
    "accountant"
   ]
  },
  {
   "cell_type": "code",
   "execution_count": 84,
   "metadata": {},
   "outputs": [
    {
     "ename": "IndexError",
     "evalue": "string index out of range",
     "output_type": "error",
     "traceback": [
      "\u001b[0;31m---------------------------------------------------------------------------\u001b[0m",
      "\u001b[0;31mIndexError\u001b[0m                                Traceback (most recent call last)",
      "\u001b[0;32m<ipython-input-84-61945fb2f531>\u001b[0m in \u001b[0;36m<module>\u001b[0;34m\u001b[0m\n\u001b[0;32m----> 1\u001b[0;31m \u001b[0m_base\u001b[0m\u001b[0;34m(\u001b[0m\u001b[0mjob\u001b[0m\u001b[0;34m=\u001b[0m\u001b[0maccountant\u001b[0m\u001b[0;34m)\u001b[0m\u001b[0;34m\u001b[0m\u001b[0;34m\u001b[0m\u001b[0m\n\u001b[0m\u001b[1;32m      2\u001b[0m \u001b[0;31m# Oops\u001b[0m\u001b[0;34m\u001b[0m\u001b[0;34m\u001b[0m\u001b[0;34m\u001b[0m\u001b[0m\n",
      "\u001b[0;32m<ipython-input-66-aba715181867>\u001b[0m in \u001b[0;36m_base\u001b[0;34m(job, use_df)\u001b[0m\n\u001b[1;32m     13\u001b[0m \u001b[0;34m\u001b[0m\u001b[0m\n\u001b[1;32m     14\u001b[0m     \u001b[0;31m# Get the digits that mark one part from the other\u001b[0m\u001b[0;34m\u001b[0m\u001b[0;34m\u001b[0m\u001b[0;34m\u001b[0m\u001b[0m\n\u001b[0;32m---> 15\u001b[0;31m     \u001b[0mdigits_as_str\u001b[0m \u001b[0;34m=\u001b[0m \u001b[0;34m[\u001b[0m\u001b[0msentence\u001b[0m\u001b[0;34m[\u001b[0m\u001b[0;34m-\u001b[0m\u001b[0;36m1\u001b[0m\u001b[0;34m]\u001b[0m \u001b[0;32mfor\u001b[0m \u001b[0msentence\u001b[0m \u001b[0;32min\u001b[0m \u001b[0mtemp\u001b[0m\u001b[0;34m.\u001b[0m\u001b[0msplit\u001b[0m\u001b[0;34m(\u001b[0m\u001b[0;34m'.'\u001b[0m\u001b[0;34m)\u001b[0m \u001b[0;32mif\u001b[0m \u001b[0msentence\u001b[0m\u001b[0;34m[\u001b[0m\u001b[0;34m-\u001b[0m\u001b[0;36m1\u001b[0m\u001b[0;34m]\u001b[0m\u001b[0;34m.\u001b[0m\u001b[0misdigit\u001b[0m\u001b[0;34m(\u001b[0m\u001b[0;34m)\u001b[0m\u001b[0;34m]\u001b[0m\u001b[0;34m\u001b[0m\u001b[0;34m\u001b[0m\u001b[0m\n\u001b[0m\u001b[1;32m     16\u001b[0m \u001b[0;34m\u001b[0m\u001b[0m\n\u001b[1;32m     17\u001b[0m     \u001b[0;31m# Separate requirements one from the other.\u001b[0m\u001b[0;34m\u001b[0m\u001b[0;34m\u001b[0m\u001b[0;34m\u001b[0m\u001b[0m\n",
      "\u001b[0;32m<ipython-input-66-aba715181867>\u001b[0m in \u001b[0;36m<listcomp>\u001b[0;34m(.0)\u001b[0m\n\u001b[1;32m     13\u001b[0m \u001b[0;34m\u001b[0m\u001b[0m\n\u001b[1;32m     14\u001b[0m     \u001b[0;31m# Get the digits that mark one part from the other\u001b[0m\u001b[0;34m\u001b[0m\u001b[0;34m\u001b[0m\u001b[0;34m\u001b[0m\u001b[0m\n\u001b[0;32m---> 15\u001b[0;31m     \u001b[0mdigits_as_str\u001b[0m \u001b[0;34m=\u001b[0m \u001b[0;34m[\u001b[0m\u001b[0msentence\u001b[0m\u001b[0;34m[\u001b[0m\u001b[0;34m-\u001b[0m\u001b[0;36m1\u001b[0m\u001b[0;34m]\u001b[0m \u001b[0;32mfor\u001b[0m \u001b[0msentence\u001b[0m \u001b[0;32min\u001b[0m \u001b[0mtemp\u001b[0m\u001b[0;34m.\u001b[0m\u001b[0msplit\u001b[0m\u001b[0;34m(\u001b[0m\u001b[0;34m'.'\u001b[0m\u001b[0;34m)\u001b[0m \u001b[0;32mif\u001b[0m \u001b[0msentence\u001b[0m\u001b[0;34m[\u001b[0m\u001b[0;34m-\u001b[0m\u001b[0;36m1\u001b[0m\u001b[0;34m]\u001b[0m\u001b[0;34m.\u001b[0m\u001b[0misdigit\u001b[0m\u001b[0;34m(\u001b[0m\u001b[0;34m)\u001b[0m\u001b[0;34m]\u001b[0m\u001b[0;34m\u001b[0m\u001b[0;34m\u001b[0m\u001b[0m\n\u001b[0m\u001b[1;32m     16\u001b[0m \u001b[0;34m\u001b[0m\u001b[0m\n\u001b[1;32m     17\u001b[0m     \u001b[0;31m# Separate requirements one from the other.\u001b[0m\u001b[0;34m\u001b[0m\u001b[0;34m\u001b[0m\u001b[0;34m\u001b[0m\u001b[0m\n",
      "\u001b[0;31mIndexError\u001b[0m: string index out of range"
     ]
    }
   ],
   "source": [
    "_base(job=accountant)\n",
    "# Oops"
   ]
  },
  {
   "cell_type": "code",
   "execution_count": 126,
   "metadata": {},
   "outputs": [
    {
     "data": {
      "text/plain": [
       "''"
      ]
     },
     "execution_count": 126,
     "metadata": {},
     "output_type": "execute_result"
    }
   ],
   "source": [
    "# Locate the information\n",
    "temp = accountant[accountant.find('REQUIREMENTS/MINIMUM QUALIFICATIONS'):accountant.find('PROCESS NOTES')]\n",
    "temp"
   ]
  },
  {
   "cell_type": "code",
   "execution_count": 123,
   "metadata": {},
   "outputs": [
    {
     "data": {
      "text/plain": [
       "[]"
      ]
     },
     "execution_count": 123,
     "metadata": {},
     "output_type": "execute_result"
    }
   ],
   "source": [
    "# Get the digits\n",
    "digits_as_str = [sentence[-1] for sentence in temp.split('.') if sentence[-1].isdigit()]\n",
    "digits_as_str"
   ]
  },
  {
   "cell_type": "code",
   "execution_count": 124,
   "metadata": {},
   "outputs": [
    {
     "data": {
      "text/plain": [
       "['1', '2']"
      ]
     },
     "execution_count": 124,
     "metadata": {},
     "output_type": "execute_result"
    }
   ],
   "source": [
    "# Note that temp doesn't have itemized initiator in it. So we'll need to manually add a number 1 in it.\n",
    "if len(digits_as_str) == 0:\n",
    "    digits_as_str.append('1')\n",
    "    digits_as_str.append('2')\n",
    "\n",
    "digits_as_str"
   ]
  },
  {
   "cell_type": "code",
   "execution_count": 125,
   "metadata": {},
   "outputs": [
    {
     "name": "stdout",
     "output_type": "stream",
     "text": [
      "0\n"
     ]
    },
    {
     "ename": "ValueError",
     "evalue": "substring not found",
     "output_type": "error",
     "traceback": [
      "\u001b[0;31m---------------------------------------------------------------------------\u001b[0m",
      "\u001b[0;31mValueError\u001b[0m                                Traceback (most recent call last)",
      "\u001b[0;32m<ipython-input-125-2deaa70b1b78>\u001b[0m in \u001b[0;36m<module>\u001b[0;34m\u001b[0m\n\u001b[1;32m      5\u001b[0m \u001b[0;32mfor\u001b[0m \u001b[0midx\u001b[0m \u001b[0;32min\u001b[0m \u001b[0mrange\u001b[0m\u001b[0;34m(\u001b[0m\u001b[0mlen\u001b[0m\u001b[0;34m(\u001b[0m\u001b[0mdigits_as_str\u001b[0m\u001b[0;34m)\u001b[0m\u001b[0;34m-\u001b[0m\u001b[0;36m1\u001b[0m\u001b[0;34m)\u001b[0m\u001b[0;34m:\u001b[0m\u001b[0;34m\u001b[0m\u001b[0;34m\u001b[0m\u001b[0m\n\u001b[1;32m      6\u001b[0m     \u001b[0mprint\u001b[0m\u001b[0;34m(\u001b[0m\u001b[0midx\u001b[0m\u001b[0;34m)\u001b[0m\u001b[0;34m\u001b[0m\u001b[0;34m\u001b[0m\u001b[0m\n\u001b[0;32m----> 7\u001b[0;31m     \u001b[0mstart\u001b[0m \u001b[0;34m=\u001b[0m \u001b[0mdigits_as_str\u001b[0m\u001b[0;34m[\u001b[0m\u001b[0midx\u001b[0m\u001b[0;34m]\u001b[0m  \u001b[0;34m;\u001b[0m \u001b[0mpos1\u001b[0m \u001b[0;34m=\u001b[0m \u001b[0mtemp\u001b[0m\u001b[0;34m.\u001b[0m\u001b[0mindex\u001b[0m\u001b[0;34m(\u001b[0m\u001b[0mstart\u001b[0m\u001b[0;34m)\u001b[0m\u001b[0;34m\u001b[0m\u001b[0;34m\u001b[0m\u001b[0m\n\u001b[0m\u001b[1;32m      8\u001b[0m     \u001b[0mend\u001b[0m   \u001b[0;34m=\u001b[0m \u001b[0mdigits_as_str\u001b[0m\u001b[0;34m[\u001b[0m\u001b[0midx\u001b[0m\u001b[0;34m+\u001b[0m\u001b[0;36m1\u001b[0m\u001b[0;34m]\u001b[0m\u001b[0;34m;\u001b[0m \u001b[0mpos2\u001b[0m \u001b[0;34m=\u001b[0m \u001b[0mtemp\u001b[0m\u001b[0;34m.\u001b[0m\u001b[0mindex\u001b[0m\u001b[0;34m(\u001b[0m\u001b[0mend\u001b[0m\u001b[0;34m)\u001b[0m\u001b[0;34m\u001b[0m\u001b[0;34m\u001b[0m\u001b[0m\n\u001b[1;32m      9\u001b[0m     \u001b[0mitem\u001b[0m  \u001b[0;34m=\u001b[0m \u001b[0mtemp\u001b[0m\u001b[0;34m[\u001b[0m\u001b[0mpos1\u001b[0m\u001b[0;34m:\u001b[0m\u001b[0mpos2\u001b[0m\u001b[0;34m]\u001b[0m     \u001b[0;34m;\u001b[0m \u001b[0mline_item\u001b[0m\u001b[0;34m.\u001b[0m\u001b[0mappend\u001b[0m\u001b[0;34m(\u001b[0m\u001b[0mitem\u001b[0m\u001b[0;34m)\u001b[0m\u001b[0;34m\u001b[0m\u001b[0;34m\u001b[0m\u001b[0m\n",
      "\u001b[0;31mValueError\u001b[0m: substring not found"
     ]
    }
   ],
   "source": [
    "# Separate requirements one from the other.\n",
    "## Initialization\n",
    "line_item = [] # borrow from accounting term. means items in a list\n",
    "## Loop through idx of digits_as_str to get the text from one digit to the other\n",
    "for idx in range(len(digits_as_str)-1):\n",
    "    start = digits_as_str[idx]  ; pos1 = temp.index(start)\n",
    "    end   = digits_as_str[idx+1]; pos2 = temp.index(end)\n",
    "    item  = temp[pos1:pos2]     ; line_item.append(item)\n",
    "## Put the last part into the list of all possible requirements\n",
    "final_dig    = digits_as_str[-1]; final_pos = temp.index(final_dig)\n",
    "final_item = temp[final_pos:] ; line_item.append(final_item)\n",
    "# Display results\n",
    "line_item"
   ]
  },
  {
   "cell_type": "markdown",
   "metadata": {},
   "source": [
    "# <font size='8' color='red'>I'M STUCK HERE. TO BE CONTINUED </font> "
   ]
  },
  {
   "cell_type": "code",
   "execution_count": null,
   "metadata": {},
   "outputs": [],
   "source": []
  }
 ],
 "metadata": {
  "kernelspec": {
   "display_name": "Python 3",
   "language": "python",
   "name": "python3"
  },
  "language_info": {
   "codemirror_mode": {
    "name": "ipython",
    "version": 3
   },
   "file_extension": ".py",
   "mimetype": "text/x-python",
   "name": "python",
   "nbconvert_exporter": "python",
   "pygments_lexer": "ipython3",
   "version": "3.7.1"
  }
 },
 "nbformat": 4,
 "nbformat_minor": 2
}
