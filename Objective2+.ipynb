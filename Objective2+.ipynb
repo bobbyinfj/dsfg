{
 "cells": [
  {
   "cell_type": "markdown",
   "metadata": {},
   "source": [
    "# Data Cleaning: Normalization\n",
    "The purpose of this notebook is to describe the steps taken to clean the given dataset. It starts by normalizing any variation or meaning of the words, <font color='red'>requirement</font> and <font color='red'>process notes</font>. Such variations are deliniated in subsequent sections. Essentially, the steps involve multiple searches and manually-replaces of the variations, thus changing the content of the raw data. There are two points that worth noticing here:\n",
    "\n",
    "1. The raw data in *Job Bulletins* remains intact while cleaned data were generated in a new folder caled *JobBulletins_cleaned*.\n",
    "2. Admittedly, the steps taken here are extremely labor-intensive. However, this was done for a purpose as I learned that it is the best way to get myself familiarized with unstructured data. In particular, **since the source that generated these text file is not known**, we really have no idea on how to retrieve relevant information based on matched pattern. For example, one might attempt to do something such as `job[job.find('REQUIREMENTS/MINIMUM QUALIFICATIONS':job.find('PROCESS NOTES')]` or any similar expressions using regex. Although that this statement may help him retrieve **only** relevant information regarding school type, education majors, etc., this is not guranteed! For instance, I found that in some jobs, the word, PROCESS NOTES, came after the word WHERE TO APPLY, which unarguably causes severe headache later. The only way to avoid this, as far as I realize, is to patiently do some manual data cleaning before any analysis.\n",
    "\n",
    "<font size=4, color='green'> LET'S GET STARTED! </font>"
   ]
  },
  {
   "cell_type": "code",
   "execution_count": 1,
   "metadata": {},
   "outputs": [],
   "source": [
    "# Import relevant modules\n",
    "import os                       # interface with the underlying OS\n",
    "import numpy as np              # linear algebra\n",
    "import pandas as pd             # dataframe\n",
    "import re                       # regular expression\n",
    "import matplotlib.pyplot as plt # data visualization\n",
    "%matplotlib inline"
   ]
  },
  {
   "cell_type": "code",
   "execution_count": 2,
   "metadata": {},
   "outputs": [],
   "source": [
    "# Define path to look at\n",
    "path = 'CityofLA/Job Bulletins/'\n",
    "\n",
    "# Get a list of all txt files in this path\n",
    "all_jobs = os.listdir(path)\n",
    "all_jobs.sort() # WARNING: this mutates the list"
   ]
  },
  {
   "cell_type": "code",
   "execution_count": 3,
   "metadata": {},
   "outputs": [
    {
     "name": "stdout",
     "output_type": "stream",
     "text": [
      "683\n",
      "683\n",
      "True\n"
     ]
    }
   ],
   "source": [
    "# Do some checks here\n",
    "print(len(all_jobs))      # length should be 683 as manually verified\n",
    "print(len(set(all_jobs))) # see if each file is unique. hopefully 683 as well!\n",
    "print('SYSTEMS ANALYST 1596 102717.txt' in all_jobs) # should be True"
   ]
  },
  {
   "cell_type": "markdown",
   "metadata": {},
   "source": [
    "## 1. Normalize variation of the word/meaning of `requirement` as \n",
    "## `REQUIREMENTS/MINIMUM QUALIFICATIONS`\n",
    "Some variations that I found:\n",
    "* REQUIREMENT\n",
    "* REQUIREMENTS\n",
    "* REQUIREMENT/ MINIMUM QUALIFICATION\n",
    "* REQUIREMENT/MINIMUM QUALIFICATIONS\n",
    "* REQUIREMENTS/MINIMUM QUALIFICATIONS\n",
    "* REQUIREMENT:\n",
    "* REQUIREMENTS:\n",
    "\n",
    "Note that they can also come with any combination of redundant whitespaces!"
   ]
  },
  {
   "cell_type": "markdown",
   "metadata": {},
   "source": [
    "Let's start with `SYSTEMS ANALYST 1596 102717.txt` to see what approach will work, since we've known so well about it."
   ]
  },
  {
   "cell_type": "code",
   "execution_count": 4,
   "metadata": {},
   "outputs": [
    {
     "name": "stdout",
     "output_type": "stream",
     "text": [
      "609\n"
     ]
    }
   ],
   "source": [
    "# Find `SYSTEMS ANALYST 1596 102717.txt` (which exists).\n",
    "print(all_jobs.index('SYSTEMS ANALYST 1596 102717.txt'))"
   ]
  },
  {
   "cell_type": "code",
   "execution_count": 5,
   "metadata": {},
   "outputs": [],
   "source": [
    "# Import this text as string\n",
    "sa_path = path + all_jobs[609]\n",
    "sa = open(sa_path, 'rt').read()"
   ]
  },
  {
   "cell_type": "code",
   "execution_count": 6,
   "metadata": {},
   "outputs": [
    {
     "name": "stdout",
     "output_type": "stream",
     "text": [
      "True\n",
      "True\n",
      "\n",
      "\n",
      "True\n",
      "False\n"
     ]
    }
   ],
   "source": [
    "# Compare these\n",
    "print('REQUIREMENTS/MINIMUM QUALIFICATIONS' in sa)\n",
    "print('REQUIREMENTS' in sa)\n",
    "print()\n",
    "\n",
    "# Versus these\n",
    "print()\n",
    "print('REQUIREMENTS/MINIMUM QUALIFICATIONS' in sa.split('\\n'))\n",
    "print('REQUIREMENTS' in sa.split('\\n'))"
   ]
  },
  {
   "cell_type": "markdown",
   "metadata": {},
   "source": [
    "The \"Compare these\" part can't do an exact lookup; <font size=5, color='red'>thus, well pick the approach in the \"Versus these\" part.</font>"
   ]
  },
  {
   "cell_type": "markdown",
   "metadata": {},
   "source": [
    "**Identify the trouble makers, Round 1.**\n",
    "\n",
    "Save the printouts to a word file called, *TroubleMakers_Type1_1*."
   ]
  },
  {
   "cell_type": "code",
   "execution_count": 7,
   "metadata": {
    "scrolled": true
   },
   "outputs": [
    {
     "name": "stdout",
     "output_type": "stream",
     "text": [
      "CityofLA/Job Bulletins/311 DIRECTOR  9206 041814.txt\n",
      "CityofLA/Job Bulletins/ACCOUNTANT 1513 062218.txt\n",
      "CityofLA/Job Bulletins/ACCOUNTING CLERK 1223 071318.txt\n",
      "CityofLA/Job Bulletins/ACCOUNTING RECORDS SUPERVISOR 1119 072718.txt\n",
      "CityofLA/Job Bulletins/ADMINISTRATIVE CLERK 1358 033018 (2).txt\n",
      "CityofLA/Job Bulletins/ADMINISTRATIVE HEARING EXAMINER 9135 100915.txt\n",
      "CityofLA/Job Bulletins/ADVANCE PRACTICE PROVIDER CORRECTIONAL CARE 2325 020808 REV 111214.txt\n",
      "CityofLA/Job Bulletins/AIR CONDITIONING MECHANIC SUPERVISOR 3781 111618 2.txt\n",
      "CityofLA/Job Bulletins/AIRPORT AIDE 1540 081018.txt\n",
      "CityofLA/Job Bulletins/AIRPORT CHIEF INFORMATION SECURITY OFFICER 1404 120415_Modified.txt\n",
      "CityofLA/Job Bulletins/AIRPORT ENGINEER 7256 070618.txt\n",
      "CityofLA/Job Bulletins/AIRPORT GUIDE 0845 042018.txt\n",
      "CityofLA/Job Bulletins/AIRPORT INFORMATION SPECIALIST 1783 121115.txt\n",
      "CityofLA/Job Bulletins/AIRPORT POLICE CAPTAIN 3228 021618.txt\n",
      "CityofLA/Job Bulletins/AIRPORT POLICE LIEUTENANT 3227 091616.txt\n",
      "CityofLA/Job Bulletins/AIRPORT POLICE OFFICER 3225 110906 Rev 060115.txt\n",
      "CityofLA/Job Bulletins/AIRPORT POLICE SPECIALIST 3236 063017 (2).txt\n",
      "CityofLA/Job Bulletins/AIRPORT SUPERINTENDENT OF OPERATIONS 7268 121815 (1).txt\n",
      "CityofLA/Job Bulletins/ANIMAL CARE TECHNICIAN 4310 040116 REV 041416.txt\n",
      "CityofLA/Job Bulletins/ANIMAL CARE TECHNICIAN SUPERVISOR 4313 122118.txt\n",
      "CityofLA/Job Bulletins/APPRENTICE - METAL TRADES 3789 070816.txt\n",
      "CityofLA/Job Bulletins/APPRENTICE MACHINIST 3764 071516.txt\n",
      "CityofLA/Job Bulletins/AQUARIST 2400 050214.txt\n",
      "CityofLA/Job Bulletins/AQUARIUM EDUCATOR 2493 010816.txt\n",
      "CityofLA/Job Bulletins/AQUATIC FACILITY MANAGER 2423 052915 REVISED 060915.txt\n",
      "CityofLA/Job Bulletins/AQUEDUCT AND RESERVOIR KEEPER 5813 063017 (1).txt\n",
      "CityofLA/Job Bulletins/AQUEDUCT AND RESERVOIR SUPERVISOR 5816 091115.txt\n",
      "CityofLA/Job Bulletins/ARCHITECTURAL ASSOCIATE 7926 013114 REV 032916.txt\n",
      "CityofLA/Job Bulletins/ARCHIVIST 1191 020918.txt\n",
      "CityofLA/Job Bulletins/ART CENTER DIRECTOR 2478 053014.txt\n",
      "CityofLA/Job Bulletins/ART INSTRUCTOR 2447 051316.txt\n",
      "CityofLA/Job Bulletins/ASBESTOS SUPERVISOR 3440 012916.txt\n",
      "CityofLA/Job Bulletins/ASPHALT PLANT OPERATOR 4143 102414.txt\n",
      "CityofLA/Job Bulletins/ASPHALT PLANT SUPERVISOR 4145 110317.txt\n",
      "CityofLA/Job Bulletins/ASSISTANT DIRECTOR INFORMATION SYSTEMS 9377 030218.txt\n",
      "CityofLA/Job Bulletins/ASSISTANT INSPECTOR 4208 111315.txt\n",
      "CityofLA/Job Bulletins/ASSISTANT RETIREMENT PLAN MANAGER 9415 050616.txt\n",
      "CityofLA/Job Bulletins/ASSISTANT SIGNAL SYSTEMS ELECTRICIAN 3818 073115_REVISED.txt\n",
      "CityofLA/Job Bulletins/ASSISTANT STREET LIGHTING ELECTRICIAN 3809 072117 REV 080818.txt\n",
      "CityofLA/Job Bulletins/AUDIO VISUAL TECHNICIAN 6147 062014.txt\n",
      "CityofLA/Job Bulletins/AUDITOR 1517 031816 (1).txt\n",
      "CityofLA/Job Bulletins/AUTO BODY REPAIR SUPERVISOR 3706 051515.txt\n",
      "CityofLA/Job Bulletins/AUTO ELECTRICIAN 3707 052215.txt\n",
      "CityofLA/Job Bulletins/AUTOMOTIVE DISPATCHER 3595 102017 revised.txt\n",
      "CityofLA/Job Bulletins/AUTOMOTIVE SUPERVISOR 3714 062416.txt\n",
      "CityofLA/Job Bulletins/AVIONICS SPECIALIST 3565 103114revised.txt\n",
      "CityofLA/Job Bulletins/BENEFITS SPECIALIST 1203 011918.txt\n",
      "CityofLA/Job Bulletins/BOILERMAKER 3735 110714.txt\n",
      "CityofLA/Job Bulletins/BOILERMAKER SUPERVISOR 3737 101714.txt\n",
      "CityofLA/Job Bulletins/BUILDING CIVIL ENGINEER 7244 032318.txt\n",
      "CityofLA/Job Bulletins/BUILDING CONSTRUCTION AND MAINTENANCE SUPERINTENDENT 3124 122818.txt\n",
      "CityofLA/Job Bulletins/BUILDING ELECTRICAL ENGINEER 7543 071516 REV 071816.txt\n",
      "CityofLA/Job Bulletins/BUILDING OPERATING ENGINEER 5923 111618 REV 112818.txt\n",
      "CityofLA/Job Bulletins/BUILDING REPAIR SUPERVISOR 3338 111816.txt\n",
      "CityofLA/Job Bulletins/BUILDING REPAIRER 3333 030218.txt\n",
      "CityofLA/Job Bulletins/BUS OPERATOR 3588 090216.txt\n",
      "CityofLA/Job Bulletins/BUS OPERATOR SUPERVISOR 3589 012216.txt\n",
      "CityofLA/Job Bulletins/CARPENTER SUPERVISOR 3346 051316.txt\n",
      "CityofLA/Job Bulletins/CARPET LAYER 3418 061915.txt\n",
      "CityofLA/Job Bulletins/CEMENT FINISHER SUPERVISOR 3354 120916.txt\n",
      "CityofLA/Job Bulletins/CEMENT FINISHER WORKER 3351 103015.txt\n",
      "CityofLA/Job Bulletins/CHIEF ADMINISTRATIVE ANALYST 1554 062416.txt\n",
      "CityofLA/Job Bulletins/CHIEF AIRPORTS ENGINEER 7274 051515 (1).txt\n",
      "CityofLA/Job Bulletins/CHIEF BUILDING OPERATING ENGINEER 5927 080516.txt\n",
      "CityofLA/Job Bulletins/CHIEF CLERK PERSONNEL 1260 042117.txt\n",
      "CityofLA/Job Bulletins/CHIEF CLERK POLICE 1219 061215.txt\n",
      "CityofLA/Job Bulletins/CHIEF CLERK POLICE 1249 083118.txt\n",
      "CityofLA/Job Bulletins/CHIEF CONSTRUCTION INSPECTOR 7296 122818.txt\n",
      "CityofLA/Job Bulletins/CHIEF CUSTODIAN SUPERVISOR 3182 041015.txt\n",
      "CityofLA/Job Bulletins/CHIEF ELECTRIC PLANT OPERATOR 5237 121115.txt\n",
      "CityofLA/Job Bulletins/CHIEF ENVIRONMENTAL COMPLIANCE INSPECTOR 4289 033018.txt\n",
      "CityofLA/Job Bulletins/CHIEF FINANCIAL OFFICER 9230 041114.txt\n",
      "CityofLA/Job Bulletins/CHIEF HARBOR ENGINEER 9286 112015.txt\n",
      "CityofLA/Job Bulletins/CHIEF INSPECTOR 4254 082517.txt\n",
      "CityofLA/Job Bulletins/CHIEF INTERNAL AUDITOR 1619 090916 (5).txt\n",
      "CityofLA/Job Bulletins/CHIEF MANAGEMENT ANALYST 9182 020918.txt\n",
      "CityofLA/Job Bulletins/CHIEF OF DRAFTING OPERATIONS 7271  042018.txt\n",
      "CityofLA/Job Bulletins/CHIEF OF PARKING ENFORCEMENT OPERATIONS 9180 031618.txt\n",
      "CityofLA/Job Bulletins/CHIEF PARK RANGER 1968 120106 REV 121306.txt\n",
      "CityofLA/Job Bulletins/CHIEF PORT PILOT 5154 031816.txt\n",
      "CityofLA/Job Bulletins/CHIEF STREET SERVICES INVESTIGATOR 4286 2017Revised 11.21.txt\n",
      "CityofLA/Job Bulletins/CHIEF TAX COMPLIANCE OFFICER 1211 041814.txt\n",
      "CityofLA/Job Bulletins/CHIEF TRANSPORTATION INVESTIGATOR 4275 103114.txt\n",
      "CityofLA/Job Bulletins/CIVIL ENGINEER 7237 020918.txt\n",
      "CityofLA/Job Bulletins/CLAIMS AGENT 1767 020317.txt\n",
      "CityofLA/Job Bulletins/COMMERCIAL SERVICE SUPERVISOR  1213 061617.txt\n",
      "CityofLA/Job Bulletins/COMMISSION EXECUTIVE ASSISTANT 9734 092118.txt\n",
      "CityofLA/Job Bulletins/COMMUNICATIONS CABLE SUPERVISOR 3800 051917 REVISED 060117.txt\n",
      "CityofLA/Job Bulletins/COMMUNICATIONS CABLE WORKER 3802 11816.txt\n",
      "CityofLA/Job Bulletins/COMMUNITY AFFAIRS ADVOCATE 2496 111414.txt\n",
      "CityofLA/Job Bulletins/COMMUNITY HOUSING PROGRAMS MANAGER 8500 072018 REV 080918 (2).txt\n",
      "CityofLA/Job Bulletins/CONSTRUCTION AND MAINTENANCE SUPERINTENDENT 3129 082616 REV 090816.txt\n",
      "CityofLA/Job Bulletins/CONSTRUCTION AND MAINTENANCE SUPERVISOR 3127 030416.txt\n",
      "CityofLA/Job Bulletins/CONSTRUCTION ESTIMATOR 3341 070816 REVISED 072116 (1).txt\n",
      "CityofLA/Job Bulletins/CORRECTIONAL NURSE 2317 101615.txt\n",
      "CityofLA/Job Bulletins/CRIMINALIST 2234 030918.txt\n",
      "CityofLA/Job Bulletins/CUSTODIAN SUPERVISOR 3176 042817 051117 REV.txt\n",
      "CityofLA/Job Bulletins/CUSTOMER SERVICE REPRESENTATIVE 1230 020918.txt\n",
      "CityofLA/Job Bulletins/DECK HAND 5131 093016.txt\n",
      "CityofLA/Job Bulletins/DEPARTMENTAL CHIEF ACCOUNTANT 1593 111717 revised 11.21.txt\n",
      "CityofLA/Job Bulletins/DIRECTOR OF HOUSING 1568 062317.txt\n",
      "CityofLA/Job Bulletins/DIRECTOR OF MAINTENANCE AIRPORTS 7270 041516.txt\n",
      "CityofLA/Job Bulletins/DIRECTOR OF POLICE TRANSPORTATION 3722 061915.txt\n",
      "CityofLA/Job Bulletins/DIRECTOR OF PORT CONSTRUCTION AND MAINTENANCE 3123 030416.txt\n",
      "CityofLA/Job Bulletins/ELECTRIC DISTRIBUTION MECHANIC SUPERVISOR 3873 102816.txt\n",
      "CityofLA/Job Bulletins/ELECTRIC SERVICE REPRESENTATIVE 7520 020317.txt\n",
      "CityofLA/Job Bulletins/ELECTRIC TROUBLE DISPATCHER 3828 063017 (1).txt\n",
      "CityofLA/Job Bulletins/ELECTRICAL ENGINEERING DRAFTING TECHNICIAN 7532 113018.txt\n",
      "CityofLA/Job Bulletins/ELECTRICAL INSPECTOR 4221 030218.txt\n",
      "CityofLA/Job Bulletins/ELECTRICAL MECHANIC SUPERVISOR 3835 072216 REVISED 080416.txt\n",
      "CityofLA/Job Bulletins/ELECTRICAL REPAIR SUPERVISOR 3855 092217 (7).txt\n",
      "CityofLA/Job Bulletins/ELEVATOR MECHANIC 3866 012717 REV 080718.txt\n",
      "CityofLA/Job Bulletins/ELEVATOR REPAIR SUPERVISOR 032516 REVISED 040516.txt\n",
      "CityofLA/Job Bulletins/EMERGENCY MEDICAL SERVICES EDUCATOR  2322 110615 REV 112515.txt\n",
      "CityofLA/Job Bulletins/EMS NURSE PRACTITIONER SUPERVISOR 2340 031116 REV 032316 (1).txt\n",
      "CityofLA/Job Bulletins/ENGINEER OF SURVEYS 9486 101615.txt\n",
      "CityofLA/Job Bulletins/ENGINEERING DESIGNER 7217 082517 REV 090717.txt\n",
      "CityofLA/Job Bulletins/ENGINEERING GEOLOGIST 7255 022318.txt\n",
      "CityofLA/Job Bulletins/ENGINEERING GEOLOGIST ASSOCIATE 7253 082517.txt\n",
      "CityofLA/Job Bulletins/ENVIRONMENTAL COMPLIANCE INSPECTOR 4292 080516 REV 081616.txt\n",
      "CityofLA/Job Bulletins/ENVIRONMENTAL ENGINEER  7872 082616 REV 090116.txt\n",
      "CityofLA/Job Bulletins/ENVIRONMENTAL ENGINEERING ASSOCIATE  7871 020113 REV 032916.txt\n",
      "CityofLA/Job Bulletins/ENVIRONMENTAL SPECIALIST 7310 012916.txt\n",
      "CityofLA/Job Bulletins/ENVIRONMENTAL SUPERVISOR 7304 052518 (1).txt\n",
      "CityofLA/Job Bulletins/EQUIPMENT REPAIR SUPERVISOR 3746 012717.txt\n",
      "CityofLA/Job Bulletins/EQUIPMENT SUPERINTENDENT 3750 121914.txt\n",
      "CityofLA/Job Bulletins/EQUIPMENT SUPERVISOR 3527 041318.txt\n",
      "CityofLA/Job Bulletins/EXAMINER OF QUESTIONED DOCUMENTS 3229 120415.txt\n",
      "CityofLA/Job Bulletins/EXECUTIVE ADMINISTRATIVE ASSISTANT 1117 083118.txt\n",
      "CityofLA/Job Bulletins/EXECUTIVE ASSISTANT AIRPORTS 9186 060917 (1).txt\n",
      "CityofLA/Job Bulletins/EXHIBIT PREPARATOR 2444 062416.txt\n",
      "CityofLA/Job Bulletins/FINANCIAL MANAGER 1557 070116 Rev.txt\n",
      "CityofLA/Job Bulletins/FINGERPRINT IDENTIFICATION EXPERT 1157 052915.txt\n",
      "CityofLA/Job Bulletins/FIRE BATTALION CHIEF 2152 030918.txt\n",
      "CityofLA/Job Bulletins/FIRE CAPTAIN 2142 033018.txt\n",
      "CityofLA/Job Bulletins/FIRE HELICOPTER PILOT 3563 081415 REV. 081815.txt\n",
      "CityofLA/Job Bulletins/FIRE INSPECTOR 2128 031717.txt\n",
      "CityofLA/Job Bulletins/FIRE PROTECTION ENGINEERING ASSOCIATE 7978 041318.txt\n",
      "CityofLA/Job Bulletins/FIRE SPECIAL INVESTIGATOR 1632 021216.txt\n",
      "CityofLA/Job Bulletins/FIREARMS EXAMINER 2233 062416.txt\n",
      "CityofLA/Job Bulletins/FIREBOAT MATE 5125 102315 rev110515.txt\n",
      "CityofLA/Job Bulletins/FIREBOAT PILOT 5127 102315 rev110515 (1).txt\n",
      "CityofLA/Job Bulletins/GALLERY ATTENDANT 2442 092515.txt\n",
      "CityofLA/Job Bulletins/GARAGE ASSISTANT 3538 012017.txt\n",
      "CityofLA/Job Bulletins/GARAGE ATTENDANT 3531 013015.txt\n",
      "CityofLA/Job Bulletins/GENERAL AUTOMOTIVE SUPERVISOR 3718 061915.txt\n",
      "CityofLA/Job Bulletins/GENERAL SERVICES MANAGER  9601 042117.txt\n",
      "CityofLA/Job Bulletins/GEOGRAPHIC INFORMATION SYSTEMS CHIEF  7211 030416.txt\n",
      "CityofLA/Job Bulletins/GEOGRAPHIC INFORMATION SYSTEMS SPECIALIST 7213 012414 revised.txt\n",
      "CityofLA/Job Bulletins/GEOTECHNICAL ENGINEER 7239 090718 REV 092018.txt\n",
      "CityofLA/Job Bulletins/GOLF STARTER 2453 121115.txt\n",
      "CityofLA/Job Bulletins/GOLF STARTER SUPERVISOR 2479 120817.txt\n",
      "CityofLA/Job Bulletins/GRAPHICS SUPERVISOR 7935 052617 (4).txt\n",
      "CityofLA/Job Bulletins/HARBOR PLANNING AND ECONOMIC ANALYST 9224 111816 REV 112916.txt\n",
      "CityofLA/Job Bulletins/HEATING AND REFRIGERATION INSPECTOR 4245 121115.txt\n",
      "CityofLA/Job Bulletins/HEAVY DUTY EQUIPMENT MECHANIC 3743 021717.txt\n",
      "CityofLA/Job Bulletins/HELICOPTER MECHANIC 3742 072206 REV 020818.txt\n",
      "CityofLA/Job Bulletins/HELICOPTER MECHANIC SUPERVISOR 3749 121616 REV 122216.txt\n",
      "CityofLA/Job Bulletins/HYDROGRAPHER 7263 012717.txt\n",
      "CityofLA/Job Bulletins/IMPROVEMENT ASSESSOR SUPERVISOR 1564 100215.txt\n",
      "CityofLA/Job Bulletins/INDUSTRIAL AND COMMERCIAL FINANCE OFFICER 9191 rev051515.txt\n",
      "CityofLA/Job Bulletins/INDUSTRIAL CHEMIST 7834 020714.txt\n",
      "CityofLA/Job Bulletins/INFORMATION SYSTEMS MANAGER 1409 090117 (2).txt\n",
      "CityofLA/Job Bulletins/INSTRUMENT MECHANIC SUPERVISOR 3844 051917 final.txt\n",
      "CityofLA/Job Bulletins/INTERNAL AUDITOR 1625 011918.txt\n",
      "CityofLA/Job Bulletins/IRRIGATION SPECIALIST 3913 020615.txt\n",
      "CityofLA/Job Bulletins/LABOR SUPERVISOR 3126 121815.txt\n",
      "CityofLA/Job Bulletins/LABORATORY TECHNICIAN 7854 030416.txt\n",
      "CityofLA/Job Bulletins/LAND SURVEYING ASSISTANT 7283 120817.txt\n",
      "CityofLA/Job Bulletins/LANDSCAPE ARCHITECT 7929 090718.txt\n",
      "CityofLA/Job Bulletins/LANDSCAPE ARCHITECTURAL ASSOCIATE  7933 07222016.txt\n",
      "CityofLA/Job Bulletins/LEGISLATIVE ASSISTANT 1182 091815.txt\n",
      "CityofLA/Job Bulletins/LIBRARIAN 6152 051217 REV 020218.txt\n",
      "CityofLA/Job Bulletins/LIBRARY ASSISTANT 1172 051118 (2).txt\n",
      "CityofLA/Job Bulletins/LICENSED VOCATIONAL NURSE  2332 042415.txt\n",
      "CityofLA/Job Bulletins/LINE MAINTENANCE ASSISTANT 3882 122818.txt\n",
      "CityofLA/Job Bulletins/MACHINIST 3763 061016.txt\n",
      "CityofLA/Job Bulletins/MACHINIST SUPERVISOR 3766 121815.txt\n",
      "CityofLA/Job Bulletins/MANAGEMENT ASSISTANT 1539 032318.txt\n",
      "CityofLA/Job Bulletins/MARINE AQUARIUM PROGRAM DIRECTOR 2403 082517.txt\n",
      "CityofLA/Job Bulletins/MARINE ENVIRONMENTAL MANAGER 9437 060614.txt\n",
      "CityofLA/Job Bulletins/MARINE ENVIRONMENTAL SUPERVISOR 9433 071114 (1).txt\n",
      "CityofLA/Job Bulletins/MATERIALS TESTING TECHNICIAN 7968 081318.txt\n",
      "CityofLA/Job Bulletins/MECHANICAL HELPER 3771 011317.txt\n",
      "CityofLA/Job Bulletins/MECHANICAL REPAIR GENERAL SUPERVISOR 3731 040116 REV 041416.txt\n",
      "CityofLA/Job Bulletins/MECHANICAL REPAIR SUPERVISOR 3795 051818.txt\n",
      "CityofLA/Job Bulletins/MECHANICAL REPAIRER 3773 092118.txt\n",
      "CityofLA/Job Bulletins/METER READER 1611 080715.txt\n",
      "CityofLA/Job Bulletins/MOTOR SWEEPER OPERATOR 3585 031618.txt\n",
      "CityofLA/Job Bulletins/OCCUPATIONAL HEALTH NURSE  2314 020317 REV 022317 (1).txt\n",
      "CityofLA/Job Bulletins/OFFICE ENGINEERING TECHNICIAN 7212 110218.txt\n",
      "CityofLA/Job Bulletins/OFFICE TRAINEE 1101 012017.txt\n",
      "CityofLA/Job Bulletins/PAINTER SUPERVISOR 3426 120514.txt\n",
      "CityofLA/Job Bulletins/PARK SERVICES ATTENDANT 2412 032219.txt\n",
      "CityofLA/Job Bulletins/PARK SERVICES SUPERVISOR 2426 072018.txt\n",
      "CityofLA/Job Bulletins/PARKING ENFORCEMENT MANAGER 9025 021916 rev022516.txt\n",
      "CityofLA/Job Bulletins/PARKING MANAGER 9170 020714.txt\n",
      "CityofLA/Job Bulletins/PARKING METER TECHNICIAN 3738 110615 (1).txt\n",
      "CityofLA/Job Bulletins/PARKING METER TECHNICIAN SUPERVISOR 3757 2017.txt\n",
      "CityofLA/Job Bulletins/PAYROLL ANALYST 1630 031816.txt\n",
      "CityofLA/Job Bulletins/PAYROLL SUPERVISOR 1170 102618.txt\n",
      "CityofLA/Job Bulletins/PERSONNEL DIRECTOR 1714 050418.txt\n",
      "CityofLA/Job Bulletins/PERSONNEL RECORDS SUPERVISOR 1129 041318.txt\n",
      "CityofLA/Job Bulletins/PHOTOGRAPHER 1793 041516.txt\n",
      "CityofLA/Job Bulletins/PILE DRIVER WORKER 3553 041417.txt\n",
      "CityofLA/Job Bulletins/PIPEFITTER SUPERVISOR 3438 081216.txt\n",
      "CityofLA/Job Bulletins/PLUMBER 3443 113018.txt\n",
      "CityofLA/Job Bulletins/POLICE COMMANDER 2251 092917.txt\n",
      "CityofLA/Job Bulletins/POLICE DETECTIVE 2223 033018.txt\n",
      "CityofLA/Job Bulletins/POLICE OFFICER 2214 110906 Rev 060115.txt\n",
      "CityofLA/Job Bulletins/POLICE PERFORMANCE AUDITOR 1627 120216.txt\n",
      "CityofLA/Job Bulletins/POLICE SERGEANT 2227 102116.txt\n",
      "CityofLA/Job Bulletins/POLICE SERVICE REPRESENTATIVE 2207 051316 REV 051716.txt\n",
      "CityofLA/Job Bulletins/POLICE SPECIAL INVESTIGATOR 1640 072018 REV 011019.txt\n",
      "CityofLA/Job Bulletins/POLICE SPECIALIST 2217 110906 Rev 060115.txt\n",
      "CityofLA/Job Bulletins/POLICE SURVEILLANCE SPECIALIST 3687 052215.txt\n",
      "CityofLA/Job Bulletins/POLYGRAPH EXAMINER 2240 121517.txt\n",
      "CityofLA/Job Bulletins/PORT ELECTRICAL MECHANIC 3758 022616.txt\n",
      "CityofLA/Job Bulletins/PORT ELECTRICAL MECHANIC SUPERVISOR 3759 031816.txt\n",
      "CityofLA/Job Bulletins/PORT MAINTENANCE SUPERVISOR 3128 052016 REV 060216.txt\n",
      "CityofLA/Job Bulletins/PORT POLICE CAPTAIN 3224 110416.txt\n",
      "CityofLA/Job Bulletins/PORT POLICE LIEUTENANT 3223 120916.txt\n",
      "CityofLA/Job Bulletins/PORT POLICE OFFICER 3221 110906 Rev 060115.txt\n",
      "CityofLA/Job Bulletins/PORT POLICE SERGEANT 3222 121616.txt\n",
      "CityofLA/Job Bulletins/POWER SHOVEL OPERATOR 3558 062416.txt\n",
      "CityofLA/Job Bulletins/PRE-PRESS OPERATOR 1481 072817 (4).txt\n",
      "CityofLA/Job Bulletins/PRINCIPAL ACCOUNTANT 1525 121517.txt\n",
      "CityofLA/Job Bulletins/PRINCIPAL ANIMAL KEEPER 4312 070618.txt\n",
      "CityofLA/Job Bulletins/PRINCIPAL CIVIL ENGINEER 9489 022318.txt\n",
      "CityofLA/Job Bulletins/PRINCIPAL CIVIL ENGINEERING DRAFTING TECHNICIAN 7219 110218.txt\n",
      "CityofLA/Job Bulletins/PRINCIPAL CLERK 1201 021618.txt\n",
      "CityofLA/Job Bulletins/PRINCIPAL CLERK POLICE 1152 121815.txt\n",
      "CityofLA/Job Bulletins/PRINCIPAL COMMUNICATIONS OPERATOR 1458 072514.txt\n",
      "CityofLA/Job Bulletins/PRINCIPAL CONSTRUCTION INSPECTOR 7297 021618.txt\n",
      "CityofLA/Job Bulletins/PRINCIPAL DEPUTY CONTROLLER 7260 032814.txt\n",
      "CityofLA/Job Bulletins/PRINCIPAL DETENTION OFFICER 3215 101218.txt\n",
      "CityofLA/Job Bulletins/PRINCIPAL ELECTRIC TROUBLE DISPATCHER 3830 022616.txt\n",
      "CityofLA/Job Bulletins/PRINCIPAL ELECTRICAL ENGINEERING DRAFTING TECHNICIAN 7531 090916 TRACK CHANGES.txt\n",
      "CityofLA/Job Bulletins/PRINCIPAL ENVIRONMENTAL ENGINEER 7875 092118.txt\n",
      "CityofLA/Job Bulletins/PRINCIPAL GROUNDS MAINTENANCE SUPERVISOR  3147 111315.txt\n",
      "CityofLA/Job Bulletins/PRINCIPAL INSPECTOR 4226 061617.txt\n",
      "CityofLA/Job Bulletins/PRINCIPAL MECHANICAL ENGINEERING DRAFTING TECHNICIAN 7550 081415.txt\n",
      "CityofLA/Job Bulletins/PRINCIPAL PHOTOGRAPHER 1794 040116.txt\n",
      "CityofLA/Job Bulletins/PRINCIPAL PROPERTY OFFICER 3210 121517.txt\n",
      "CityofLA/Job Bulletins/PRINCIPAL RECREATION SUPERVISOR 2464 021618.txt\n",
      "CityofLA/Job Bulletins/PRINCIPAL STOREKEEPER 1839 072718.txt\n",
      "CityofLA/Job Bulletins/PRINCIPAL TAX AUDITOR 1524 110416.txt\n",
      "CityofLA/Job Bulletins/PRINCIPAL TAX COMPLIANCE OFFICER 1195 030218.txt\n",
      "CityofLA/Job Bulletins/PRINCIPAL UTILITY ACCOUNTANT 1589 030218 updated.txt\n",
      "CityofLA/Job Bulletins/PRINCIPAL WORKERS_ COMPENSATION ANALYST 1777 071814.txt\n",
      "CityofLA/Job Bulletins/PRINTING PRESS OPERATOR 1494 092515.txt\n",
      "CityofLA/Job Bulletins/PROPERTY OFFICER 3207 071417 (1).txt\n",
      "CityofLA/Job Bulletins/PROTECTIVE COATING WORKER 3463 082115.txt\n",
      "CityofLA/Job Bulletins/PUBLIC RELATIONS SPECIALIST 1785 012017.txt\n",
      "CityofLA/Job Bulletins/RATES MANAGER 5601 012017.txt\n",
      "CityofLA/Job Bulletins/REAL ESTATE ASSOCIATE 1941 052716.txt\n",
      "CityofLA/Job Bulletins/REAL ESTATE OFFICER 1960 051118.txt\n",
      "CityofLA/Job Bulletins/RECREATION COORDINATOR 2469 091517(1).txt\n",
      "CityofLA/Job Bulletins/RECREATION SUPERVISOR 2460 101416 REVISED 102716.txt\n",
      "CityofLA/Job Bulletins/REFUSE COLLECTION SUPERVISOR 4101 033117.txt\n",
      "CityofLA/Job Bulletins/REHABILITATION PROJECT COORDINATOR 8502 032715.txt\n",
      "CityofLA/Job Bulletins/REINFORCING STEEL WORKER 3483 022318.txt\n",
      "CityofLA/Job Bulletins/REPROGRAPHICS OPERATOR 3162 110615.txt\n",
      "CityofLA/Job Bulletins/REPROGRAPHICS SUPERVISOR  3163 091517.txt\n",
      "CityofLA/Job Bulletins/RETIREMENT PLAN MANAGER 9149 052314 (1).txt\n",
      "CityofLA/Job Bulletins/RISK AND INSURANCE ASSISTANT 1645 072718.txt\n",
      "CityofLA/Job Bulletins/RISK MANAGER 1530 2016 061716_REVISED.txt\n",
      "CityofLA/Job Bulletins/ROOFER 3476 121214.txt\n",
      "CityofLA/Job Bulletins/SAFETY ADMINISTRATOR 1728 101615.txt\n",
      "CityofLA/Job Bulletins/SAFETY ENGINEER 1727 021717.txt\n",
      "CityofLA/Job Bulletins/SAFETY ENGINEER ELEVATORS 4263 112015 REV 120215.txt\n"
     ]
    },
    {
     "name": "stdout",
     "output_type": "stream",
     "text": [
      "CityofLA/Job Bulletins/SANITATION SOLID RESOURCES MANAGER 4126 060515.txt\n",
      "CityofLA/Job Bulletins/SECRETARY 1116 030317.txt\n",
      "CityofLA/Job Bulletins/SECRETARY LEGAL  1924 081718.txt\n",
      "CityofLA/Job Bulletins/SECURITY AIDE  3199 090415.txt\n",
      "CityofLA/Job Bulletins/SENIOR ACCOUNTANT 1523 030218.txt\n",
      "CityofLA/Job Bulletins/SENIOR ADMINISTRATIVE CLERK 1368 062918 REV 091718.txt\n",
      "CityofLA/Job Bulletins/SENIOR ANIMAL CONTROL OFFICER 4316 111618.txt\n",
      "CityofLA/Job Bulletins/SENIOR ANIMAL KEEPER 4305 022616.txt\n",
      "CityofLA/Job Bulletins/SENIOR ARCHITECTURAL DRAFTING TECHNICIAN 7208 091418.txt\n",
      "CityofLA/Job Bulletins/SENIOR AUDITOR 1518 102618.txt\n",
      "CityofLA/Job Bulletins/SENIOR AUTOMOTIVE SUPERVISOR 3716 112015.txt\n",
      "CityofLA/Job Bulletins/SENIOR BUILDING INSPECTOR 4213 010816.txt\n",
      "CityofLA/Job Bulletins/SENIOR BUILDING MECHANICAL INSPECTOR 4253 2017 REV (1).txt\n",
      "CityofLA/Job Bulletins/SENIOR BUILDING OPERATING ENGINEER 5925 011615 (1).txt\n",
      "CityofLA/Job Bulletins/SENIOR CARPENTER  3345 081117 REV 082417.txt\n",
      "CityofLA/Job Bulletins/SENIOR CHEMIST 7830 030416.txt\n",
      "CityofLA/Job Bulletins/SENIOR CIVIL ENGINEERING DRAFTING TECHNICIAN 7207 081718.txt\n",
      "CityofLA/Job Bulletins/SENIOR CLAIMS REPRESENTATIVE 1770 070717 (1).txt\n",
      "CityofLA/Job Bulletins/SENIOR COMMUNICATIONS CABLE WORKER 3801 102116 draft.txt\n",
      "CityofLA/Job Bulletins/SENIOR COMMUNICATIONS ELECTRICIAN 3638 030317 (1).txt\n",
      "CityofLA/Job Bulletins/SENIOR COMMUNICATIONS ELECTRICIAN SUPERVISOR 3691 041318.txt\n",
      "CityofLA/Job Bulletins/SENIOR COMMUNICATIONS OPERATOR 1467 122118.txt\n",
      "CityofLA/Job Bulletins/SENIOR COMPUTER OPERATOR 1428 102017.txt\n",
      "CityofLA/Job Bulletins/SENIOR CONSTRUCTION ENGINEER 7289 042514.txt\n",
      "CityofLA/Job Bulletins/SENIOR DATA PROCESSING TECHNICIAN 1139 081117.txt\n",
      "CityofLA/Job Bulletins/SENIOR DETENTION OFFICER 3212 012017.txt\n",
      "CityofLA/Job Bulletins/SENIOR ELECTRIC TROUBLE DISPATCHER 3829 100716.txt\n",
      "CityofLA/Job Bulletins/SENIOR ELECTRICAL ENGINEERING DRAFTING TECHNICIAN 7209 042817 REV 051117.txt\n",
      "CityofLA/Job Bulletins/SENIOR ELECTRICAL INSPECTOR 4223 042718.txt\n",
      "CityofLA/Job Bulletins/SENIOR ELECTRICAL MECHANIC 3834 060217 (2) REVISED.txt\n",
      "CityofLA/Job Bulletins/SENIOR ELECTRICAL MECHANIC SUPERVISOR 3836 080417.txt\n",
      "CityofLA/Job Bulletins/SENIOR ELECTRICAL REPAIR SUPERVISOR 3856 060118.txt\n",
      "CityofLA/Job Bulletins/SENIOR ELECTRICAL TEST TECHNICIAN  7515 092917 REV 101117.txt\n",
      "CityofLA/Job Bulletins/SENIOR ELECTRICIAN  3864 102116 Rev 110216.txt\n",
      "CityofLA/Job Bulletins/SENIOR ENVIRONMENTAL COMPLIANCE INSPECTOR 4293 042916 REV 051916.txt\n",
      "CityofLA/Job Bulletins/SENIOR ENVIRONMENTAL ENGINEER 7874 121815.txt\n",
      "CityofLA/Job Bulletins/SENIOR EQUIPMENT MECHANIC 3712 010518 REV 080718.txt\n",
      "CityofLA/Job Bulletins/SENIOR FIRE PROTECTION ENGINEER 7981 021916 rev022516.txt\n",
      "CityofLA/Job Bulletins/SENIOR FORENSIC PRINT SPECIALIST 2201 090718.txt\n",
      "CityofLA/Job Bulletins/SENIOR GARDENER 3143 121517 (1)revised.txt\n",
      "CityofLA/Job Bulletins/SENIOR HEATING AND REFRIGERATION INSPECTOR 4247 121115.txt\n",
      "CityofLA/Job Bulletins/SENIOR HEAVY DUTY EQUIPMENT MECHANIC 3745 012017.txt\n",
      "CityofLA/Job Bulletins/SENIOR HOUSING INSPECTOR 4244 042718.txt\n",
      "CityofLA/Job Bulletins/SENIOR HYDROGRAPHER 7264 030714.txt\n",
      "CityofLA/Job Bulletins/SENIOR LIBRARIAN 6153 033117.txt\n",
      "CityofLA/Job Bulletins/SENIOR LOAD DISPATCHER 5235 060118.txt\n",
      "CityofLA/Job Bulletins/SENIOR MACHINIST SUPERVISOR 3768 051016.txt\n",
      "CityofLA/Job Bulletins/SENIOR MANAGEMENT ANALYST 9171 040618.txt\n",
      "CityofLA/Job Bulletins/SENIOR MECHANICAL ENGINEERING DRAFTING TECHNICIAN 7210 110416.txt\n",
      "CityofLA/Job Bulletins/SENIOR MECHANICAL REPAIRER 3772 030416.txt\n",
      "CityofLA/Job Bulletins/SENIOR PAINTER 3424 041318.txt\n",
      "CityofLA/Job Bulletins/SENIOR PARK MAINTENANCE SUPERVISOR 3146 101416.txt\n",
      "CityofLA/Job Bulletins/SENIOR PARK RANGER 1967 091815.txt\n",
      "CityofLA/Job Bulletins/SENIOR PARKING ATTENDANT 3529 032417.txt\n",
      "CityofLA/Job Bulletins/SENIOR PHOTOGRAPHER 1795 041516 REVISED 042816.txt\n",
      "CityofLA/Job Bulletins/SENIOR PLUMBER 3444 020516.txt\n",
      "CityofLA/Job Bulletins/SENIOR PLUMBING INSPECTOR 4233 051818.txt\n",
      "CityofLA/Job Bulletins/SENIOR POLICE SERVICE REPRESENTATIVE 2209 020918.txt\n",
      "CityofLA/Job Bulletins/SENIOR PROPERTY OFFICER 3209 012618.txt\n",
      "CityofLA/Job Bulletins/SENIOR RECREATION DIRECTOR 2446 050517 REV 051117.txt\n",
      "CityofLA/Job Bulletins/SENIOR ROOFER 3477 101708 REV 110608.txt\n",
      "CityofLA/Job Bulletins/SENIOR SAFETY ENGINEER ELEVATORS 4264  042718.txt\n",
      "CityofLA/Job Bulletins/SENIOR SECURITY OFFICER 3184 122818.txt\n",
      "CityofLA/Job Bulletins/SENIOR STOREKEEPER 1837 052518.txt\n",
      "CityofLA/Job Bulletins/SENIOR SYSTEMS ANALYST 1597 100617.txt\n",
      "CityofLA/Job Bulletins/SENIOR TITLE EXAMINER 1947 121517.txt\n",
      "CityofLA/Job Bulletins/SENIOR TRAFFIC SUPERVISOR 3218 121517.txt\n",
      "CityofLA/Job Bulletins/SENIOR TRANSPORTATION INVESTIGATOR 4273 070717 (2).txt\n",
      "CityofLA/Job Bulletins/SENIOR UNDERGROUND DISTRIBUTION CONSTRUCTION SUPERVISOR 3815 072817.txt\n",
      "CityofLA/Job Bulletins/SENIOR UTILITY ACCOUNTANT 1521 100716.txt\n",
      "CityofLA/Job Bulletins/SENIOR UTILITY BUYER 1862 052518.txt\n",
      "CityofLA/Job Bulletins/SENIOR UTILITY SERVICES SPECIALIST 3573 113018.txt\n",
      "CityofLA/Job Bulletins/SENIOR UTILITY SERVICES SPECIALIST 3753 121815 (1).txt\n",
      "CityofLA/Job Bulletins/SENIOR WINDOW CLEANER 3174 013114 Rev021314.txt\n",
      "CityofLA/Job Bulletins/SHEET METAL SUPERVISOR 3777 061314.txt\n",
      "CityofLA/Job Bulletins/SHEET METAL WORKER 3775 093016.txt\n",
      "CityofLA/Job Bulletins/SHIFT SUPERINTENDENT WASTEWATER TREATMENT 7242 072415.txt\n",
      "CityofLA/Job Bulletins/SHOPS SUPERINTENDENT 3780 051118.txt\n",
      "CityofLA/Job Bulletins/SIGN PAINTER 3428 121214.txt\n",
      "CityofLA/Job Bulletins/SIGN SHOP SUPERVISOR 3419 030615.txt\n",
      "CityofLA/Job Bulletins/SIGNAL SYSTEMS SUPERINTENDENT 3832 110416.txt\n",
      "CityofLA/Job Bulletins/SIGNAL SYSTEMS SUPERVISOR 3839 092818.txt\n",
      "CityofLA/Job Bulletins/SOCIAL WORKER 2385 102717  revised.txt\n",
      "CityofLA/Job Bulletins/SOLID RESOURCES SUPERINTENDENT 4102 031017 REV 032317 (2).txt\n",
      "CityofLA/Job Bulletins/SPECIAL INVESTIGATOR 0602 042216.txt\n",
      "CityofLA/Job Bulletins/SR CRIME _ INTELLIGENCE ANALYST 2241 011516.txt\n",
      "CityofLA/Job Bulletins/STAFF ASSISTANT TO GENERAL MANAGER WATER AND POWER 9185 032715.txt\n",
      "CityofLA/Job Bulletins/STEAM PLANT MAINTENANCE MECHANIC 5630 0902116.txt\n",
      "CityofLA/Job Bulletins/STEAM PLANT MAINTENANCE SUPERVISOR 3786 033117.txt\n",
      "CityofLA/Job Bulletins/STEAM PLANT OPERATOR 5624 101416.txt\n",
      "CityofLA/Job Bulletins/STORES SUPERVISOR 1866 122917.txt\n",
      "CityofLA/Job Bulletins/STREET LIGHTING CONSTRUCTION AND MAINTENANCE SUPERINTENDENT 3820 051818.txt\n",
      "CityofLA/Job Bulletins/STREET LIGHTING ELECTRICIAN SUPERVISOR 3840 031717.txt\n",
      "CityofLA/Job Bulletins/STREET LIGHTING ENGINEERING ASSOCIATE 7527 101102 REV 032916.txt\n",
      "CityofLA/Job Bulletins/STREET SERVICES GENERAL SUPERINTENDENT 4160 042916.txt\n",
      "CityofLA/Job Bulletins/STREET SERVICES INVESTIGATOR 4283 102315 REV 110315.txt\n",
      "CityofLA/Job Bulletins/STREET SERVICES SUPERVISOR 4152 082815.txt\n",
      "CityofLA/Job Bulletins/STREET SERVICES WORKER 4150 032318.txt\n",
      "CityofLA/Job Bulletins/STREET TREE SUPERINTENDENT 3160 060917.txt\n",
      "CityofLA/Job Bulletins/STRUCTURAL ENGINEER 7956 101918.txt\n",
      "CityofLA/Job Bulletins/STRUCTURAL STEEL FABRICATOR 3793 122316.txt\n",
      "CityofLA/Job Bulletins/STRUCTURAL STEEL FABRICATOR SUPERVISOR 3794 060217.txt\n",
      "CityofLA/Job Bulletins/SUPERINTENDENT OF RECREATION AND PARKS OPERATIONS 2472 012618.txt\n",
      "CityofLA/Job Bulletins/SUPERVISING CRIMINALIST 2235 030416.txt\n",
      "CityofLA/Job Bulletins/SUPERVISING OCCUPATIONAL HEALTH  2315 111414.txt\n",
      "CityofLA/Job Bulletins/SUPERVISING TRANSPORTATION PLANNER 2481 072216.txt\n",
      "CityofLA/Job Bulletins/SUPERVISING WATER SERVICE REPRESENTATIVE 1697 081318.txt\n",
      "CityofLA/Job Bulletins/SURVEY PARTY CHIEF 7286 093016.txt\n",
      "CityofLA/Job Bulletins/SURVEY SUPERVISOR 7287 110918.txt\n",
      "CityofLA/Job Bulletins/SYSTEMS AIDE 1599 070116.txt\n",
      "CityofLA/Job Bulletins/SYSTEMS PROGRAMMER 1455 091616 REV 100416.txt\n",
      "CityofLA/Job Bulletins/TAX COMPLIANCE AIDE 1173 061215 (1).txt\n",
      "CityofLA/Job Bulletins/TAX COMPLIANCE OFFICER 1179 111816.txt\n",
      "CityofLA/Job Bulletins/TILE SETTER 3493 090415.txt\n",
      "CityofLA/Job Bulletins/TITLE EXAMINER 1943 032318 REV 040518.txt\n",
      "CityofLA/Job Bulletins/TRAFFIC MARKING AND SIGN SUPERINTENDENT 3430 032219.txt\n",
      "CityofLA/Job Bulletins/TRAFFIC OFFICER 3214 040116.txt\n",
      "CityofLA/Job Bulletins/TRAFFIC PAINTER AND SIGN POSTER 3421 033117.txt\n",
      "CityofLA/Job Bulletins/TRANSMISSION AND DISTRIBUTION DISTRICT SUPERVISOR 3875 050418 REV 051718.txt\n",
      "CityofLA/Job Bulletins/TRANSPORTATION ENGINEER 7278 092917.txt\n",
      "CityofLA/Job Bulletins/TRANSPORTATION ENGINEERING AIDE 7285 100915.txt\n",
      "CityofLA/Job Bulletins/TRANSPORTATION ENGINEERING ASSOCIATE 7280 072415.txt\n",
      "CityofLA/Job Bulletins/TRANSPORTATION INVESTIGATOR 4271 061016.txt\n",
      "CityofLA/Job Bulletins/TRANSPORTATION PLANNING ASSOCIATE 2480 072018.txt\n",
      "CityofLA/Job Bulletins/TREE SURGEON ASSISTANT 3151 060316.txt\n",
      "CityofLA/Job Bulletins/TRUCK OPERATOR 3583 012618.txt\n",
      "CityofLA/Job Bulletins/UNDERGROUND DISTRIBUTION CONSTRUCTION SUPERVISOR 3814 121418 REV 122718 (1).txt\n",
      "CityofLA/Job Bulletins/UPHOLSTERER 3723 041715.txt\n",
      "CityofLA/Job Bulletins/UTILITIES SERVICE INVESTIGATOR 1631 101615 (1).txt\n",
      "CityofLA/Job Bulletins/UTILITY ACCOUNTANT 1511 092818.txt\n",
      "CityofLA/Job Bulletins/UTILITY ADMINISTRATOR 9105 060217.txt\n",
      "CityofLA/Job Bulletins/UTILITY BUYER 1861 090718.txt\n",
      "CityofLA/Job Bulletins/UTILITY EXECUTIVE SECRETARY 1336 042817 (1).txt\n",
      "CityofLA/Job Bulletins/UTILITY SERVICES SPECIALIST 3755 072117 (1).txt\n",
      "CityofLA/Job Bulletins/VETERINARY TECHNICIAN 2369 020599 REV 120417.txt\n",
      "CityofLA/Job Bulletins/VIDEO TECHNICIAN 6145 012717.txt\n",
      "CityofLA/Job Bulletins/Vocational Worker  DEPARTMENT OF PUBLIC 0 WORKS.txt\n",
      "CityofLA/Job Bulletins/WASTEWATER TREATMENT ELECTRICIAN SUPERVISOR 5613 060515.txt\n",
      "CityofLA/Job Bulletins/WATER BIOLOGIST 7856 120216.txt\n",
      "CityofLA/Job Bulletins/WATER MICROBIOLOGIST  7857 072514 rev073114.txt\n",
      "CityofLA/Job Bulletins/WATER SERVICE REPRESENTATIVE 1693 111717.txt\n",
      "CityofLA/Job Bulletins/WATER SERVICE SUPERVISOR 3930 012717.txt\n",
      "CityofLA/Job Bulletins/WATER TREATMENT OPERATOR 5885 122118.txt\n",
      "CityofLA/Job Bulletins/WATER TREATMENT SUPERVISOR 5887 072018.txt\n",
      "CityofLA/Job Bulletins/WATER UTILITY SUPERINTENDENT 3980 121418.txt\n",
      "CityofLA/Job Bulletins/WATERSHED RESOURCES SPECIALIST  7862 080516 (1).txt\n",
      "CityofLA/Job Bulletins/WATERWORKS ENGINEER 7248 071516 (1).txt\n",
      "CityofLA/Job Bulletins/WATERWORKS MECHANIC SUPERVISOR 3987 051614 (1).txt\n",
      "CityofLA/Job Bulletins/WELDER SUPERVISOR 3798 120817.txt\n",
      "CityofLA/Job Bulletins/WORKERS_ COMPENSATION ANALYST 1774 032417R.txt\n",
      "CityofLA/Job Bulletins/WORKERS_ COMPENSATION CLAIMS ASSISTANT 1775 041114.txt\n",
      "CityofLA/Job Bulletins/X-RAY AND LABORATORY TECHNICIAN 2358 012916.txt\n",
      "CityofLA/Job Bulletins/ZOO CURATOR 4297 040816.txt\n"
     ]
    }
   ],
   "source": [
    "# When I did this at home, it has some UnicodeDecodeError (look at my physical copy)\n",
    "# But when I did this from the computer at school, it didn't. Hmmm...\n",
    "for file_name in all_jobs:\n",
    "    # Find path\n",
    "    job_path = path + file_name\n",
    "    # Read in job as string based on job_path\n",
    "    job      = open(job_path, 'rt').read()\n",
    "    # Verify if 'REQUIREMENTS/MINIMUM QUALIFICATIONS' in job\n",
    "    if 'REQUIREMENTS/MINIMUM QUALIFICATIONS' not in job.split('\\n'):\n",
    "        print(job_path)"
   ]
  },
  {
   "cell_type": "markdown",
   "metadata": {},
   "source": [
    "<font size=8>NOTE:</font>\n",
    "\n",
    "This has been one of the weirdest things I've ever seen since learning how to program. This code runs perfectly fine on a PC (I tested it on a desktop at my school) but yields a <font color='red'>UnicdeDecodeError</font>. See this [discussion](https://stackoverflow.com/questions/33114999/python-unicodedecodeerror-on-mac-but-not-on-pc) for further detail. It basically says that there are some weird chracters in the string so Python can't read it. On a PC, it silently ignores the error, while on a Mac, it raises the error and stops the program.\n",
    "\n",
    "Thus, an extra step to clean the data, if you're using MAC, is to detect which file causes the trouble and hopefully, you can manually fix it. Otherwise, we either have to ignore that text file or use try/except.\n",
    "\n",
    "Let's first find what file is causing the decoding trouble."
   ]
  },
  {
   "cell_type": "code",
   "execution_count": 8,
   "metadata": {},
   "outputs": [],
   "source": [
    "# Which file Python on Mac cannot decode?\n",
    "for file_name in all_jobs:\n",
    "    # Find path\n",
    "    job_path = path + file_name\n",
    "    # Read in job as string based on job_path\n",
    "    try:\n",
    "        job      = open(job_path, 'rt').read()\n",
    "    except:\n",
    "        print(job_path)"
   ]
  },
  {
   "cell_type": "markdown",
   "metadata": {},
   "source": [
    "The file that causes the decoding problem is `POLICE COMMANDER 2251 092917.txt`. Upon opening this file and read through it, we'll see the culprit, rÈsumÈ. Manually find/replace this word with *resume* will fix the problem!"
   ]
  },
  {
   "cell_type": "markdown",
   "metadata": {},
   "source": [
    "**Identify trouble maker, Round 2.**\n",
    "\n",
    "Save the printouts to a word file called, *TroubleMakers_Type1_2*.\n",
    "\n",
    "When this code first ran, there were a couple of files that I missed in Round 1 (human error during manual fix). Hence, I did it again in Round 3 and got the result I wanted."
   ]
  },
  {
   "cell_type": "code",
   "execution_count": 9,
   "metadata": {
    "scrolled": true
   },
   "outputs": [
    {
     "name": "stdout",
     "output_type": "stream",
     "text": [
      "CityofLA/JobBulletins_cleaned/Vocational Worker  DEPARTMENT OF PUBLIC WORKS.txt\n"
     ]
    }
   ],
   "source": [
    "# Define path to look at\n",
    "path = 'CityofLA/JobBulletins_cleaned/'\n",
    "\n",
    "# Get a list of all txt files in this path\n",
    "all_jobs = os.listdir(path)\n",
    "all_jobs.sort() # WARNING: this mutates the list\n",
    "\n",
    "for file_name in all_jobs:\n",
    "    # Find path\n",
    "    job_path = path + file_name\n",
    "    # Read in job as string based on job_path\n",
    "    job      = open(job_path, 'rt').read()\n",
    "    # Verify if 'REQUIREMENTS/MINIMUM QUALIFICATIONS' in job\n",
    "    if 'REQUIREMENTS/MINIMUM QUALIFICATIONS' not in job.split('\\n'):\n",
    "        print(job_path)"
   ]
  },
  {
   "cell_type": "markdown",
   "metadata": {},
   "source": [
    "**Identify trouble makers, Round 3.**"
   ]
  },
  {
   "cell_type": "code",
   "execution_count": 10,
   "metadata": {},
   "outputs": [
    {
     "name": "stdout",
     "output_type": "stream",
     "text": [
      "CityofLA/JobBulletins_cleaned/Vocational Worker  DEPARTMENT OF PUBLIC WORKS.txt\n"
     ]
    }
   ],
   "source": [
    "# Define path to look at\n",
    "path = 'CityofLA/JobBulletins_cleaned/'\n",
    "\n",
    "# Get a list of all txt files in this path\n",
    "all_jobs = os.listdir(path)\n",
    "all_jobs.sort() # WARNING: this mutates the list\n",
    "\n",
    "for file_name in all_jobs:\n",
    "    # Find path\n",
    "    job_path = path + file_name\n",
    "    # Read in job as string based on job_path\n",
    "    job      = open(job_path, 'rt').read()\n",
    "    # Verify if 'REQUIREMENTS/MINIMUM QUALIFICATIONS' in job\n",
    "    if 'REQUIREMENTS/MINIMUM QUALIFICATIONS' not in job.split('\\n'):\n",
    "        print(job_path)"
   ]
  },
  {
   "cell_type": "markdown",
   "metadata": {},
   "source": [
    "<font size=5, color='red'> Well done!</font>\n",
    "\n",
    "Note that the job above follow a completely different format from the rest, so for now, we'll ignore it."
   ]
  },
  {
   "cell_type": "markdown",
   "metadata": {},
   "source": [
    "## 2. Normalize `PROCESS NOTES`\n",
    "Some variations that were found:\n",
    "* PROCESS NOTES\n",
    "* PROCESS NOTES:\n",
    "* NOTES\n",
    "* NOTES:\n",
    "* NOTE\n",
    "* NOTE:\n",
    "* Sometimes missing completely. Ex: `POLICE OFFICER 2214 110906 Rev 060115.txt`\n",
    "* Most of the times this key come before WHERE TO APPLY, but there are ocassions it comes after. Ex: `CHIEF CLERK POLICE 1219 061215.txt`\n",
    "And with no exception :(, they can come with any combination of redundant whitespaces."
   ]
  },
  {
   "cell_type": "code",
   "execution_count": 11,
   "metadata": {},
   "outputs": [
    {
     "name": "stdout",
     "output_type": "stream",
     "text": [
      "True\n",
      "False\n"
     ]
    }
   ],
   "source": [
    "# First, take a look at how this is done with sa\n",
    "print('PROCESS NOTES' in sa.split('\\n'))\n",
    "print('PROCESS' in sa.split('\\n'))"
   ]
  },
  {
   "cell_type": "markdown",
   "metadata": {},
   "source": [
    "It seems good. Thus, we'll stick to this approach.\n",
    "\n",
    "**Identify the trouble makers, Round 1.**\n",
    "\n",
    "Save the printouts to a word file called, *TroubleMakers_Type2_1*.\n",
    "\n",
    "When this code first ran, there were a couple of files that I missed in Round 1 and Round 2 (human error during manual fix). Hence, I did it again in Round 3 and got the result I wanted."
   ]
  },
  {
   "cell_type": "code",
   "execution_count": 12,
   "metadata": {
    "scrolled": true
   },
   "outputs": [
    {
     "name": "stdout",
     "output_type": "stream",
     "text": [
      "CityofLA/JobBulletins_cleaned/Vocational Worker  DEPARTMENT OF PUBLIC WORKS.txt\n"
     ]
    }
   ],
   "source": [
    "# Define path to look at\n",
    "path = 'CityofLA/JobBulletins_cleaned/'\n",
    "\n",
    "# Get a list of all txt files in this path\n",
    "all_jobs = os.listdir(path)\n",
    "all_jobs.sort() # WARNING: this mutates the list\n",
    "\n",
    "for file_name in all_jobs:\n",
    "    # Find path\n",
    "    job_path = path + file_name\n",
    "    # Read in job as string based on job_path\n",
    "    job      = open(job_path, 'rt').read()\n",
    "    # Verify if 'REQUIREMENTS/MINIMUM QUALIFICATIONS' in job\n",
    "    if 'PROCESS NOTES' not in job.split('\\n'):\n",
    "        print(job_path)"
   ]
  },
  {
   "cell_type": "markdown",
   "metadata": {},
   "source": [
    "**Identify the trouble makers, Round 2.**\n",
    "\n",
    "Save the printouts to a word file called, *TroubleMakers_Type2_2*."
   ]
  },
  {
   "cell_type": "code",
   "execution_count": 13,
   "metadata": {},
   "outputs": [
    {
     "name": "stdout",
     "output_type": "stream",
     "text": [
      "CityofLA/JobBulletins_cleaned/Vocational Worker  DEPARTMENT OF PUBLIC WORKS.txt\n"
     ]
    }
   ],
   "source": [
    "# Define path to look at\n",
    "path = 'CityofLA/JobBulletins_cleaned/'\n",
    "\n",
    "# Get a list of all txt files in this path\n",
    "all_jobs = os.listdir(path)\n",
    "all_jobs.sort() # WARNING: this mutates the list\n",
    "\n",
    "for file_name in all_jobs:\n",
    "    # Find path\n",
    "    job_path = path + file_name\n",
    "    # Read in job as string based on job_path\n",
    "    job      = open(job_path, 'rt').read()\n",
    "    # Verify if 'REQUIREMENTS/MINIMUM QUALIFICATIONS' in job\n",
    "    if 'PROCESS NOTES' not in job.split('\\n'):\n",
    "        print(job_path)"
   ]
  },
  {
   "cell_type": "markdown",
   "metadata": {},
   "source": [
    "**Identify the trouble makers, Round 2.**"
   ]
  },
  {
   "cell_type": "code",
   "execution_count": 14,
   "metadata": {},
   "outputs": [
    {
     "name": "stdout",
     "output_type": "stream",
     "text": [
      "CityofLA/JobBulletins_cleaned/Vocational Worker  DEPARTMENT OF PUBLIC WORKS.txt\n"
     ]
    }
   ],
   "source": [
    "# Define path to look at\n",
    "path = 'CityofLA/JobBulletins_cleaned/'\n",
    "\n",
    "# Get a list of all txt files in this path\n",
    "all_jobs = os.listdir(path)\n",
    "all_jobs.sort() # WARNING: this mutates the list\n",
    "\n",
    "for file_name in all_jobs:\n",
    "    # Find path\n",
    "    job_path = path + file_name\n",
    "    # Read in job as string based on job_path\n",
    "    job      = open(job_path, 'rt').read()\n",
    "    # Verify if 'REQUIREMENTS/MINIMUM QUALIFICATIONS' in job\n",
    "    if 'PROCESS NOTES' not in job.split('\\n'):\n",
    "        print(job_path)"
   ]
  },
  {
   "cell_type": "markdown",
   "metadata": {},
   "source": [
    "<font size=5, color='red'> Well done!</font>\n",
    "\n",
    "Again, note that the job above follow a completely different format from the rest, so for now, we'll ignore it."
   ]
  },
  {
   "cell_type": "markdown",
   "metadata": {},
   "source": [
    "## 3. Normalize the order\n",
    "Most of the jobs have the following order of sections: REQUIREMENTS/MINIMUM QUALIFICATIONS, PROCESS NOTES, WHERE TO APPLY, etc. However, as mentioned in the openning of this notebook, some jobs mess this up: REQUIREMENTS/MINIMUM QUALIFICATIONS, WHERE TO APPLY, PROCESS NOTES, or any incorrect order that we don't know yet. Thus, we need to fix this.\n",
    "\n",
    "Fortunately, we can use a histogram to plot the distributions of the length of extracted texts between REQUIREMENTS/MINIMUM QUALIFICATIONS and PROCESS NOTES. Of course, a removal of `Vocational Worker  DEPARTMENT OF PUBLIC WORKS.txt` is first needed."
   ]
  },
  {
   "cell_type": "code",
   "execution_count": 15,
   "metadata": {},
   "outputs": [
    {
     "name": "stdout",
     "output_type": "stream",
     "text": [
      "False\n",
      "682\n"
     ]
    }
   ],
   "source": [
    "# Remove `Vocational Worker  DEPARTMENT OF PUBLIC WORKS.txt` \n",
    "# as it doesn't share the same job description pattern of the City of LA\n",
    "all_jobs.remove('Vocational Worker  DEPARTMENT OF PUBLIC WORKS.txt')\n",
    "\n",
    "# Sanity double check\n",
    "print('Vocational Worker  DEPARTMENT OF PUBLIC WORKS.txt' in all_jobs) # should be True\n",
    "print(len(all_jobs)) # should be 682"
   ]
  },
  {
   "cell_type": "code",
   "execution_count": 16,
   "metadata": {},
   "outputs": [
    {
     "name": "stdout",
     "output_type": "stream",
     "text": [
      "682\n"
     ]
    }
   ],
   "source": [
    "# Histogram of length of extracted texts between two key words\n",
    "length_of_extracted_txts = [] # container that holds all strings' lengths\n",
    "\n",
    "for file_name in all_jobs:\n",
    "     # Find path\n",
    "    job_path = path + file_name\n",
    "    # Read in job as string based on job_path\n",
    "    job      = open(job_path, 'rt').read()\n",
    "    # Use index, not find as a last-ditched attempt to catch any error\n",
    "    txt      = job[job.index('REQUIREMENTS/MINIMUM QUALIFICATIONS'):job.index('PROCESS NOTES')]\n",
    "    # Simplify txt a little bit\n",
    "    txt      = (txt.replace('\\n', ' ')\n",
    "                   .replace(';', ' ')\n",
    "                   .replace(',', ' ')\n",
    "                   .replace('.', ' ')\n",
    "                   .replace(')', ' ')\n",
    "                   .replace('*', ' ')).split()\n",
    "    # Append length to the list\n",
    "    length_of_extracted_txts.append(len(txt))\n",
    "\n",
    "# Verify if length of the list is still 682\n",
    "print(len(length_of_extracted_txts))"
   ]
  },
  {
   "cell_type": "code",
   "execution_count": 17,
   "metadata": {},
   "outputs": [
    {
     "data": {
      "image/png": "[encoded data removed]",
      "text/plain": [
       "<Figure size 432x288 with 1 Axes>"
      ]
     },
     "metadata": {
      "needs_background": "light"
     },
     "output_type": "display_data"
    }
   ],
   "source": [
    "plt.hist(length_of_extracted_txts)\n",
    "plt.suptitle('Distributions of Lengths of Extracted Texts' + \n",
    "             ' Between REQUIREMENTS/MINIMUM QUALIFICATIONS AND PROCESS NOTES')\n",
    "plt.xlabel('Lengths of Texts')\n",
    "plt.ylabel('Frequency')\n",
    "plt.show()"
   ]
  },
  {
   "cell_type": "markdown",
   "metadata": {},
   "source": [
    "Oops! Looks like we have quite a few jobs with the order of sections messed up. Now, we can use the logic described in part 1 (or 2) to catch these jobs. Let's assume that the requirement section for a job can't be greater than or equal to 150 words."
   ]
  },
  {
   "cell_type": "markdown",
   "metadata": {},
   "source": [
    "**Identify the trouble makers, Round 1.**\n",
    "\n",
    "Save the printouts to a word file called, *TroubleMakers_Type3_1*."
   ]
  },
  {
   "cell_type": "code",
   "execution_count": 18,
   "metadata": {
    "scrolled": true
   },
   "outputs": [
    {
     "name": "stdout",
     "output_type": "stream",
     "text": [
      "CityofLA/JobBulletins_cleaned/311 DIRECTOR  9206 041814.txt\n",
      "CityofLA/JobBulletins_cleaned/ARTS ASSOCIATE 2454 072117 REV 072817.txt\n",
      "CityofLA/JobBulletins_cleaned/ARTS MANAGER 2455 092818.txt\n",
      "CityofLA/JobBulletins_cleaned/ASSISTANT INSPECTOR 4208 111315.txt\n",
      "CityofLA/JobBulletins_cleaned/AVIONICS SPECIALIST 3565 103114revised.txt\n",
      "CityofLA/JobBulletins_cleaned/CONSTRUCTION INSPECTOR 7291 042117.txt\n",
      "CityofLA/JobBulletins_cleaned/DATABASE ARCHITECT 1470 083118.txt\n",
      "CityofLA/JobBulletins_cleaned/DETENTION OFFICER 3211 113018.txt\n",
      "CityofLA/JobBulletins_cleaned/ELECTRIC DISTRIBUTION MECHANIC 3879 040717.txt\n",
      "CityofLA/JobBulletins_cleaned/ELECTRIC STATION OPERATOR  5224 070717 (3).txt\n",
      "CityofLA/JobBulletins_cleaned/ELECTRICAL CRAFT HELPER 3799 092818.txt\n",
      "CityofLA/JobBulletins_cleaned/ELECTRICAL MECHANIC 3841 012017.txt\n",
      "CityofLA/JobBulletins_cleaned/ELECTRICAL REPAIRER 3853 122917 updated.txt\n",
      "CityofLA/JobBulletins_cleaned/EMERGENCY MANAGEMENT COORDINATOR 1702 102618.txt\n",
      "CityofLA/JobBulletins_cleaned/EMS ADVANCED PROVIDER 2341 111618 REV 122018.txt\n",
      "CityofLA/JobBulletins_cleaned/EMS NURSE PRACTITIONER SUPERVISOR 2340 031116 REV 032316 (1).txt\n",
      "CityofLA/JobBulletins_cleaned/ENVIRONMENTAL AFFAIRS OFFICER 7320 061518.txt\n",
      "CityofLA/JobBulletins_cleaned/ENVIRONMENTAL SPECIALIST 7310 012916.txt\n",
      "CityofLA/JobBulletins_cleaned/EQUIPMENT SPECIALIST 3734 111717 revised 11.21.txt\n",
      "CityofLA/JobBulletins_cleaned/FINANCIAL MANAGER 1557 070116 Rev.txt\n",
      "CityofLA/JobBulletins_cleaned/FIRE ASSISTANT CHIEF 2166 011218.txt\n",
      "CityofLA/JobBulletins_cleaned/FIRE BATTALION CHIEF 2152 030918.txt\n",
      "CityofLA/JobBulletins_cleaned/FISCAL SYSTEMS SPECIALIST 1555 101918.txt\n",
      "CityofLA/JobBulletins_cleaned/HOUSING INSPECTOR 4243 070618 REV 010819.txt\n",
      "CityofLA/JobBulletins_cleaned/INSTRUMENT MECHANIC 3843 060818 2.txt\n",
      "CityofLA/JobBulletins_cleaned/MANAGEMENT ANALYST 9184 092118.txt\n",
      "CityofLA/JobBulletins_cleaned/PARK RANGER 1966 072718 REV 073118 (1).txt\n",
      "CityofLA/JobBulletins_cleaned/POLICE OFFICER 2214 110906 Rev 060115.txt\n",
      "CityofLA/JobBulletins_cleaned/PORT PILOT 5151 081817 REV 090717.txt\n",
      "CityofLA/JobBulletins_cleaned/PRE-PRESS OPERATOR 1481 072817 (4).txt\n",
      "CityofLA/JobBulletins_cleaned/PROPERTY MANAGER 1964 090916 (1).txt\n",
      "CityofLA/JobBulletins_cleaned/PUBLIC INFORMATION DIRECTOR 1800 030317.txt\n",
      "CityofLA/JobBulletins_cleaned/REAL ESTATE ASSOCIATE 1941 052716.txt\n",
      "CityofLA/JobBulletins_cleaned/REFUSE COLLECTION TRUCK OPERATOR 021717.txt\n",
      "CityofLA/JobBulletins_cleaned/SANITATION WASTEWATER MANAGER 4128 090916.txt\n",
      "CityofLA/JobBulletins_cleaned/SENIOR HOUSING INVESTIGATOR 8517 020317 REVISED 021617.txt\n",
      "CityofLA/JobBulletins_cleaned/SENIOR REAL ESTATE OFFICER 1961 0413018 (2).txt\n",
      "CityofLA/JobBulletins_cleaned/STEAM PLANT ASSISTANT 5622 051118 (1).txt\n",
      "CityofLA/JobBulletins_cleaned/SYSTEMS ANALYST 1596 102717.txt\n",
      "CityofLA/JobBulletins_cleaned/SYSTEMS PROGRAMMER 1455 091616 REV 100416.txt\n",
      "CityofLA/JobBulletins_cleaned/UTILITY SERVICES MANAGER 9106 110416.txt\n",
      "CityofLA/JobBulletins_cleaned/WASTEWATER TREATMENT ELECTRICIAN 5615 060812 REV 011218.txt\n"
     ]
    }
   ],
   "source": [
    "# Catch jobs with sections' order messing up\n",
    "for file_name in all_jobs:\n",
    "    # Find path\n",
    "    job_path = path + file_name\n",
    "    # Read in job as string based on job_path\n",
    "    job      = open(job_path, 'rt').read()\n",
    "    # Print out jobs that have more than 150 words in their requirement sections\n",
    "    txt      = job[job.index('REQUIREMENTS/MINIMUM QUALIFICATIONS'):job.index('PROCESS NOTES')]\n",
    "    txt      = (txt.replace('\\n', ' ')\n",
    "                   .replace(';', ' ')\n",
    "                   .replace(',', ' ')\n",
    "                   .replace('.', ' ')\n",
    "                   .replace(')', ' ') # add '(' and ':' if wish\n",
    "                   .replace('*', ' ')).split()\n",
    "    if len(txt) >= 150:\n",
    "        print(job_path)"
   ]
  },
  {
   "cell_type": "markdown",
   "metadata": {},
   "source": [
    "Great, let's have a look at these ones...\n",
    "\n",
    "Here are the found culprits:\n",
    "* ENVIRONMENTAL COMPLIANCE INSPECTOR 4292 080516 REV 081616.txt\n",
    "* FIRE CAPTAIN 2142 033018.txt\n",
    "* GEOGRAPHIC INFORMATION SYSTEMS SUPERVISOR 7214 031717 REV 033017.txt\n",
    "* STEAM PLANT ASSISTANT 5622 051118 (1).txt. This job actually had two requirements! A lookup in the actual pdf file showed that the first `REQUIREMENTS/MINIMUM QUALIFICATIONS` was a typo and it should have been `SPECIAL INFORMATION`.\n",
    "\n",
    "Let's rerun the code in our histogram one more time, just to make sure!"
   ]
  },
  {
   "cell_type": "code",
   "execution_count": 19,
   "metadata": {},
   "outputs": [
    {
     "name": "stdout",
     "output_type": "stream",
     "text": [
      "682\n"
     ]
    },
    {
     "data": {
      "image/png": "[encoded data removed]",
      "text/plain": [
       "<Figure size 432x288 with 1 Axes>"
      ]
     },
     "metadata": {
      "needs_background": "light"
     },
     "output_type": "display_data"
    }
   ],
   "source": [
    "# Histogram of length of extracted texts between two key words\n",
    "length_of_extracted_txts = [] # container that holds all strings' lengths\n",
    "\n",
    "for file_name in all_jobs:\n",
    "     # Find path\n",
    "    job_path = path + file_name\n",
    "    # Read in job as string based on job_path\n",
    "    job      = open(job_path, 'rt').read()\n",
    "    # Use index, not find as a last-ditched attempt to catch any error\n",
    "    txt      = job[job.index('REQUIREMENTS/MINIMUM QUALIFICATIONS'):job.index('PROCESS NOTES')]\n",
    "    # Simplify txt a little bit\n",
    "    txt      = (txt.replace('\\n', ' ')\n",
    "                   .replace(';', ' ')\n",
    "                   .replace(',', ' ')\n",
    "                   .replace('.', ' ')\n",
    "                   .replace(')', ' ')\n",
    "                   .replace('*', ' ')).split()\n",
    "    # Append length to the list\n",
    "    length_of_extracted_txts.append(len(txt))\n",
    "\n",
    "# Verify if length of the list is still 682\n",
    "print(len(length_of_extracted_txts))\n",
    "\n",
    "plt.hist(length_of_extracted_txts)\n",
    "plt.suptitle('Distributions of Lengths of Extracted Texts' + \n",
    "             ' Between REQUIREMENTS/MINIMUM QUALIFICATIONS AND PROCESS NOTES')\n",
    "plt.xlabel('Lengths of Texts')\n",
    "plt.ylabel('Frequency')\n",
    "plt.show()"
   ]
  },
  {
   "cell_type": "markdown",
   "metadata": {},
   "source": [
    "While fixing files, I realized that some of the jobs have the following mess-up order: REQUIREMENTS/MINIMUM QUALIFICATIONS, SELECTIVE CERTIFICATION/WHERE TO APPLY, PROCESS NOTES. Thus, we can use this as a final check for the quality of our data by catching the jobs that have the word, SELECTIVE or WHERE, in the *extracted* text."
   ]
  },
  {
   "cell_type": "markdown",
   "metadata": {},
   "source": [
    "**Identify the trouble makers, Round 2.**\n",
    "\n",
    "Save the printouts to a word file called, *TroubleMakers_Type3_2*."
   ]
  },
  {
   "cell_type": "code",
   "execution_count": 20,
   "metadata": {},
   "outputs": [],
   "source": [
    "# Re-catch jobs with sections' order messing up: these jobs will have the word \n",
    "for file_name in all_jobs:\n",
    "    # Find path\n",
    "    job_path = path + file_name\n",
    "    # Read in job as string based on job_path\n",
    "    job      = open(job_path, 'rt').read()\n",
    "    # Print out jobs that have more SELECTIVE or WHERE in the extracted text\n",
    "    txt      = job[job.index('REQUIREMENTS/MINIMUM QUALIFICATIONS'):job.index('PROCESS NOTES')]\n",
    "    txt      = (txt.replace('\\n', ' ')\n",
    "                   .replace(';', ' ')\n",
    "                   .replace(',', ' ')\n",
    "                   .replace('.', ' ')\n",
    "                   .replace(')', ' ') # add '(' and ':' if wish\n",
    "                   .replace('*', ' ')).split()\n",
    "    if ('SELECTIVE' in txt) or ('WHERE' in txt):\n",
    "        print(job_path)"
   ]
  },
  {
   "cell_type": "markdown",
   "metadata": {},
   "source": [
    "Here's the final culprit found:\n",
    "* CHIEF STREET SERVICES INVESTIGATOR 4286 2017Revised 11.21.txt"
   ]
  },
  {
   "cell_type": "markdown",
   "metadata": {},
   "source": [
    "## 4. Normalize itemizers\n",
    "\n",
    "Some jobs, such as ACCOUNTING RECORDS SUPERVISOR 1119 072718.txt, don't have an itemizer in the front. We wish to look at them and manually add itemizers, such as 1."
   ]
  },
  {
   "cell_type": "markdown",
   "metadata": {},
   "source": [
    "**Identify the trouble makers, Round 1.**\n",
    "\n",
    "Save the printouts to a word file called, *TroubleMakers_Type4_1*."
   ]
  },
  {
   "cell_type": "code",
   "execution_count": 26,
   "metadata": {
    "scrolled": true
   },
   "outputs": [
    {
     "name": "stdout",
     "output_type": "stream",
     "text": [
      "CityofLA/JobBulletins_cleaned/311 DIRECTOR  9206 041814.txt\n",
      "CityofLA/JobBulletins_cleaned/ACCOUNTANT 1513 062218.txt\n",
      "CityofLA/JobBulletins_cleaned/ACCOUNTING CLERK 1223 071318.txt\n",
      "CityofLA/JobBulletins_cleaned/ACCOUNTING RECORDS SUPERVISOR 1119 072718.txt\n",
      "CityofLA/JobBulletins_cleaned/ADMINISTRATIVE ANALYST 1590 060118.txt\n",
      "CityofLA/JobBulletins_cleaned/ADMINISTRATIVE CLERK 1358 033018 (2).txt\n",
      "CityofLA/JobBulletins_cleaned/ADMINISTRATIVE HEARING EXAMINER 9135 100915.txt\n",
      "CityofLA/JobBulletins_cleaned/ADVANCE PRACTICE PROVIDER CORRECTIONAL CARE 2325 020808 REV 111214.txt\n",
      "CityofLA/JobBulletins_cleaned/AIR CONDITIONING MECHANIC 3774 041417.txt\n",
      "CityofLA/JobBulletins_cleaned/AIR CONDITIONING MECHANIC SUPERVISOR 3781 111618 2.txt\n",
      "CityofLA/JobBulletins_cleaned/AIRPORT AIDE 1540 081018.txt\n",
      "CityofLA/JobBulletins_cleaned/AIRPORT CHIEF INFORMATION SECURITY OFFICER 1404 120415_Modified.txt\n",
      "CityofLA/JobBulletins_cleaned/AIRPORT ENGINEER 7256 070618.txt\n",
      "CityofLA/JobBulletins_cleaned/AIRPORT GUIDE 0845 042018.txt\n",
      "CityofLA/JobBulletins_cleaned/AIRPORT INFORMATION SPECIALIST 1783 121115.txt\n",
      "CityofLA/JobBulletins_cleaned/AIRPORT LABOR RELATIONS ADVOCATE 9210 020119.txt\n",
      "CityofLA/JobBulletins_cleaned/AIRPORT MANAGER 7260 120216.txt\n",
      "CityofLA/JobBulletins_cleaned/AIRPORT POLICE CAPTAIN 3228 021618.txt\n",
      "CityofLA/JobBulletins_cleaned/AIRPORT POLICE LIEUTENANT 3227 091616.txt\n",
      "CityofLA/JobBulletins_cleaned/AIRPORT POLICE OFFICER 3225 110906 Rev 060115.txt\n",
      "CityofLA/JobBulletins_cleaned/AIRPORT POLICE SPECIALIST 3236 063017 (2).txt\n",
      "CityofLA/JobBulletins_cleaned/AIRPORT SUPERINTENDENT OF OPERATIONS 7268 121815 (1).txt\n",
      "CityofLA/JobBulletins_cleaned/AIRPORTS MAINTENANCE SUPERINTENDENT 3331 021518.txt\n",
      "CityofLA/JobBulletins_cleaned/AIRPORTS MAINTENANCE SUPERVISOR 3336 111618.txt\n",
      "CityofLA/JobBulletins_cleaned/AIRPORTS PUBLIC AND COMMUNITY RELATIONS DIRECTOR 1788 120817.txt\n",
      "CityofLA/JobBulletins_cleaned/ANIMAL CARE ASSISTANT 4323 020119.txt\n",
      "CityofLA/JobBulletins_cleaned/ANIMAL CARE TECHNICIAN 4310 040116 REV 041416.txt\n",
      "CityofLA/JobBulletins_cleaned/ANIMAL CARE TECHNICIAN SUPERVISOR 4313 122118.txt\n",
      "CityofLA/JobBulletins_cleaned/ANIMAL CONTROL OFFICER  4311 061518.txt\n",
      "CityofLA/JobBulletins_cleaned/ANIMAL KEEPER 4304 083118.txt\n",
      "CityofLA/JobBulletins_cleaned/APPARATUS OPERATOR 2121 071417 (1).txt\n",
      "CityofLA/JobBulletins_cleaned/APPLICATIONS PROGRAMMER 1429 062918.txt\n",
      "CityofLA/JobBulletins_cleaned/APPRENTICE - METAL TRADES 3789 070816.txt\n",
      "CityofLA/JobBulletins_cleaned/APPRENTICE MACHINIST 3764 071516.txt\n",
      "CityofLA/JobBulletins_cleaned/AQUARIST 2400 050214.txt\n",
      "CityofLA/JobBulletins_cleaned/AQUARIUM EDUCATOR 2493 010816.txt\n",
      "CityofLA/JobBulletins_cleaned/AQUATIC DIRECTOR 2419  082517 REV 0090717.txt\n",
      "CityofLA/JobBulletins_cleaned/AQUATIC FACILITY MANAGER 2423 052915 REVISED 060915.txt\n"
     ]
    },
    {
     "ename": "IndexError",
     "evalue": "string index out of range",
     "output_type": "error",
     "traceback": [
      "\u001b[0;31m---------------------------------------------------------------------------\u001b[0m",
      "\u001b[0;31mIndexError\u001b[0m                                Traceback (most recent call last)",
      "\u001b[0;32m<ipython-input-26-7836534fd9fe>\u001b[0m in \u001b[0;36m<module>\u001b[0;34m\u001b[0m\n\u001b[1;32m     13\u001b[0m     \u001b[0;31m# Print out jobs that don't have itemizers in the requirement section\u001b[0m\u001b[0;34m\u001b[0m\u001b[0;34m\u001b[0m\u001b[0;34m\u001b[0m\u001b[0m\n\u001b[1;32m     14\u001b[0m     \u001b[0mtxt\u001b[0m      \u001b[0;34m=\u001b[0m \u001b[0mjob\u001b[0m\u001b[0;34m[\u001b[0m\u001b[0mjob\u001b[0m\u001b[0;34m.\u001b[0m\u001b[0mindex\u001b[0m\u001b[0;34m(\u001b[0m\u001b[0;34m'REQUIREMENTS/MINIMUM QUALIFICATIONS'\u001b[0m\u001b[0;34m)\u001b[0m\u001b[0;34m:\u001b[0m\u001b[0mjob\u001b[0m\u001b[0;34m.\u001b[0m\u001b[0mindex\u001b[0m\u001b[0;34m(\u001b[0m\u001b[0;34m'PROCESS NOTES'\u001b[0m\u001b[0;34m)\u001b[0m\u001b[0;34m]\u001b[0m\u001b[0;34m\u001b[0m\u001b[0;34m\u001b[0m\u001b[0m\n\u001b[0;32m---> 15\u001b[0;31m     \u001b[0mdigits_as_str\u001b[0m \u001b[0;34m=\u001b[0m \u001b[0;34m[\u001b[0m\u001b[0msentence\u001b[0m\u001b[0;34m[\u001b[0m\u001b[0;34m-\u001b[0m\u001b[0;36m1\u001b[0m\u001b[0;34m]\u001b[0m \u001b[0;32mfor\u001b[0m \u001b[0msentence\u001b[0m \u001b[0;32min\u001b[0m \u001b[0mtxt\u001b[0m\u001b[0;34m.\u001b[0m\u001b[0msplit\u001b[0m\u001b[0;34m(\u001b[0m\u001b[0;34m'.'\u001b[0m\u001b[0;34m)\u001b[0m \u001b[0;32mif\u001b[0m \u001b[0msentence\u001b[0m\u001b[0;34m[\u001b[0m\u001b[0;34m-\u001b[0m\u001b[0;36m1\u001b[0m\u001b[0;34m]\u001b[0m\u001b[0;34m.\u001b[0m\u001b[0misdigit\u001b[0m\u001b[0;34m(\u001b[0m\u001b[0;34m)\u001b[0m\u001b[0;34m]\u001b[0m\u001b[0;34m\u001b[0m\u001b[0;34m\u001b[0m\u001b[0m\n\u001b[0m\u001b[1;32m     16\u001b[0m     \u001b[0;32mif\u001b[0m \u001b[0mlen\u001b[0m\u001b[0;34m(\u001b[0m\u001b[0mu\u001b[0m\u001b[0;34m)\u001b[0m \u001b[0;34m==\u001b[0m \u001b[0;36m0\u001b[0m\u001b[0;34m:\u001b[0m\u001b[0;34m\u001b[0m\u001b[0;34m\u001b[0m\u001b[0m\n\u001b[1;32m     17\u001b[0m         \u001b[0mprint\u001b[0m\u001b[0;34m(\u001b[0m\u001b[0mjob_path\u001b[0m\u001b[0;34m)\u001b[0m\u001b[0;34m\u001b[0m\u001b[0;34m\u001b[0m\u001b[0m\n",
      "\u001b[0;32m<ipython-input-26-7836534fd9fe>\u001b[0m in \u001b[0;36m<listcomp>\u001b[0;34m(.0)\u001b[0m\n\u001b[1;32m     13\u001b[0m     \u001b[0;31m# Print out jobs that don't have itemizers in the requirement section\u001b[0m\u001b[0;34m\u001b[0m\u001b[0;34m\u001b[0m\u001b[0;34m\u001b[0m\u001b[0m\n\u001b[1;32m     14\u001b[0m     \u001b[0mtxt\u001b[0m      \u001b[0;34m=\u001b[0m \u001b[0mjob\u001b[0m\u001b[0;34m[\u001b[0m\u001b[0mjob\u001b[0m\u001b[0;34m.\u001b[0m\u001b[0mindex\u001b[0m\u001b[0;34m(\u001b[0m\u001b[0;34m'REQUIREMENTS/MINIMUM QUALIFICATIONS'\u001b[0m\u001b[0;34m)\u001b[0m\u001b[0;34m:\u001b[0m\u001b[0mjob\u001b[0m\u001b[0;34m.\u001b[0m\u001b[0mindex\u001b[0m\u001b[0;34m(\u001b[0m\u001b[0;34m'PROCESS NOTES'\u001b[0m\u001b[0;34m)\u001b[0m\u001b[0;34m]\u001b[0m\u001b[0;34m\u001b[0m\u001b[0;34m\u001b[0m\u001b[0m\n\u001b[0;32m---> 15\u001b[0;31m     \u001b[0mdigits_as_str\u001b[0m \u001b[0;34m=\u001b[0m \u001b[0;34m[\u001b[0m\u001b[0msentence\u001b[0m\u001b[0;34m[\u001b[0m\u001b[0;34m-\u001b[0m\u001b[0;36m1\u001b[0m\u001b[0;34m]\u001b[0m \u001b[0;32mfor\u001b[0m \u001b[0msentence\u001b[0m \u001b[0;32min\u001b[0m \u001b[0mtxt\u001b[0m\u001b[0;34m.\u001b[0m\u001b[0msplit\u001b[0m\u001b[0;34m(\u001b[0m\u001b[0;34m'.'\u001b[0m\u001b[0;34m)\u001b[0m \u001b[0;32mif\u001b[0m \u001b[0msentence\u001b[0m\u001b[0;34m[\u001b[0m\u001b[0;34m-\u001b[0m\u001b[0;36m1\u001b[0m\u001b[0;34m]\u001b[0m\u001b[0;34m.\u001b[0m\u001b[0misdigit\u001b[0m\u001b[0;34m(\u001b[0m\u001b[0;34m)\u001b[0m\u001b[0;34m]\u001b[0m\u001b[0;34m\u001b[0m\u001b[0;34m\u001b[0m\u001b[0m\n\u001b[0m\u001b[1;32m     16\u001b[0m     \u001b[0;32mif\u001b[0m \u001b[0mlen\u001b[0m\u001b[0;34m(\u001b[0m\u001b[0mu\u001b[0m\u001b[0;34m)\u001b[0m \u001b[0;34m==\u001b[0m \u001b[0;36m0\u001b[0m\u001b[0;34m:\u001b[0m\u001b[0;34m\u001b[0m\u001b[0;34m\u001b[0m\u001b[0m\n\u001b[1;32m     17\u001b[0m         \u001b[0mprint\u001b[0m\u001b[0;34m(\u001b[0m\u001b[0mjob_path\u001b[0m\u001b[0;34m)\u001b[0m\u001b[0;34m\u001b[0m\u001b[0;34m\u001b[0m\u001b[0m\n",
      "\u001b[0;31mIndexError\u001b[0m: string index out of range"
     ]
    }
   ],
   "source": [
    "# Define path to look at\n",
    "path = 'CityofLA/JobBulletins_cleaned/'\n",
    "\n",
    "# Get a list of all txt files in this path\n",
    "all_jobs = os.listdir(path)\n",
    "all_jobs.sort() # WARNING: this mutates the list\n",
    "\n",
    "for file_name in all_jobs:\n",
    "    # Find path\n",
    "    job_path = path + file_name\n",
    "    # Read in job as string based on job_path\n",
    "    job      = open(job_path, 'rt').read()\n",
    "    # Print out jobs that don't have itemizers in the requirement section\n",
    "    txt      = job[job.index('REQUIREMENTS/MINIMUM QUALIFICATIONS'):job.index('PROCESS NOTES')]\n",
    "    digits_as_str = [sentence[-1] for sentence in txt.split('.') if sentence[-1].isdigit()]\n",
    "    if len(u) == 0:\n",
    "        print(job_path)"
   ]
  },
  {
   "cell_type": "markdown",
   "metadata": {},
   "source": [
    "Oops, the above code yields error <font color='red'>IndexError </font>, so let's switch to try/except."
   ]
  },
  {
   "cell_type": "code",
   "execution_count": 33,
   "metadata": {},
   "outputs": [
    {
     "name": "stdout",
     "output_type": "stream",
     "text": [
      "CityofLA/JobBulletins_cleaned/ACCOUNTANT 1513 062218.txt\n",
      "CityofLA/JobBulletins_cleaned/ACCOUNTING CLERK 1223 071318.txt\n",
      "CityofLA/JobBulletins_cleaned/ACCOUNTING RECORDS SUPERVISOR 1119 072718.txt\n",
      "CityofLA/JobBulletins_cleaned/ADMINISTRATIVE CLERK 1358 033018 (2).txt\n",
      "CityofLA/JobBulletins_cleaned/AIR CONDITIONING MECHANIC SUPERVISOR 3781 111618 2.txt\n",
      "CityofLA/JobBulletins_cleaned/AIRPORT AIDE 1540 081018.txt\n",
      "CityofLA/JobBulletins_cleaned/AIRPORT GUIDE 0845 042018.txt\n",
      "CityofLA/JobBulletins_cleaned/AIRPORT POLICE CAPTAIN 3228 021618.txt\n",
      "CityofLA/JobBulletins_cleaned/AIRPORT POLICE LIEUTENANT 3227 091616.txt\n",
      "CityofLA/JobBulletins_cleaned/ANIMAL CARE TECHNICIAN SUPERVISOR 4313 122118.txt\n",
      "CityofLA/JobBulletins_cleaned/AQUATIC FACILITY MANAGER 2423 052915 REVISED 060915.txt\n",
      "##########################################################\n",
      "CityofLA/JobBulletins_cleaned/AQUEDUCT AND RESERVOIR KEEPER 5813 063017 (1).txt\n",
      "##########################################################\n",
      "CityofLA/JobBulletins_cleaned/AQUEDUCT AND RESERVOIR SUPERVISOR 5816 091115.txt\n",
      "CityofLA/JobBulletins_cleaned/ASBESTOS SUPERVISOR 3440 012916.txt\n",
      "CityofLA/JobBulletins_cleaned/ASSISTANT DIRECTOR INFORMATION SYSTEMS 9377 030218.txt\n",
      "CityofLA/JobBulletins_cleaned/ASSISTANT STREET LIGHTING ELECTRICIAN 3809 072117 REV 080818.txt\n",
      "CityofLA/JobBulletins_cleaned/AUTO BODY REPAIR SUPERVISOR 3706 051515.txt\n",
      "CityofLA/JobBulletins_cleaned/AUTOMOTIVE DISPATCHER 3595 102017 revised.txt\n",
      "CityofLA/JobBulletins_cleaned/AUTOMOTIVE SUPERVISOR 3714 062416.txt\n",
      "CityofLA/JobBulletins_cleaned/BENEFITS SPECIALIST 1203 011918.txt\n",
      "CityofLA/JobBulletins_cleaned/BUILDING CIVIL ENGINEER 7244 032318.txt\n",
      "CityofLA/JobBulletins_cleaned/BUILDING CONSTRUCTION AND MAINTENANCE SUPERINTENDENT 3124 122818.txt\n",
      "CityofLA/JobBulletins_cleaned/BUILDING OPERATING ENGINEER 5923 111618 REV 112818.txt\n",
      "CityofLA/JobBulletins_cleaned/BUILDING REPAIR SUPERVISOR 3338 111816.txt\n",
      "CityofLA/JobBulletins_cleaned/BUILDING REPAIRER 3333 030218.txt\n",
      "CityofLA/JobBulletins_cleaned/CARPENTER SUPERVISOR 3346 051316.txt\n",
      "CityofLA/JobBulletins_cleaned/CEMENT FINISHER SUPERVISOR 3354 120916.txt\n",
      "CityofLA/JobBulletins_cleaned/CHEMIST  7833 102017.txt\n",
      "CityofLA/JobBulletins_cleaned/CHIEF BUILDING OPERATING ENGINEER 5927 080516.txt\n",
      "CityofLA/JobBulletins_cleaned/CHIEF CLERK 1253 012017.txt\n",
      "CityofLA/JobBulletins_cleaned/CHIEF CLERK PERSONNEL 1260 042117.txt\n",
      "CityofLA/JobBulletins_cleaned/CHIEF CLERK POLICE 1219 061215.txt\n",
      "CityofLA/JobBulletins_cleaned/CHIEF CLERK POLICE 1249 083118.txt\n",
      "CityofLA/JobBulletins_cleaned/CHIEF CONSTRUCTION INSPECTOR 7296 122818.txt\n",
      "CityofLA/JobBulletins_cleaned/CHIEF ELECTRIC PLANT OPERATOR 5237 121115.txt\n",
      "CityofLA/JobBulletins_cleaned/CHIEF ENVIRONMENTAL COMPLIANCE INSPECTOR 4289 033018.txt\n",
      "CityofLA/JobBulletins_cleaned/CHIEF HARBOR ENGINEER 9286 112015.txt\n",
      "CityofLA/JobBulletins_cleaned/CHIEF MANAGEMENT ANALYST 9182 020918.txt\n",
      "CityofLA/JobBulletins_cleaned/CHIEF OF DRAFTING OPERATIONS 7271  042018.txt\n",
      "CityofLA/JobBulletins_cleaned/CHIEF PARK RANGER 1968 120106 REV 121306.txt\n",
      "CityofLA/JobBulletins_cleaned/CHIEF TRANSPORTATION INVESTIGATOR 4275 103114.txt\n",
      "CityofLA/JobBulletins_cleaned/CIVIL ENGINEER 7237 020918.txt\n",
      "CityofLA/JobBulletins_cleaned/CLAIMS AGENT 1767 020317.txt\n",
      "CityofLA/JobBulletins_cleaned/COMMERCIAL SERVICE SUPERVISOR  1213 061617.txt\n",
      "CityofLA/JobBulletins_cleaned/COMMISSION EXECUTIVE ASSISTANT 9734 092118.txt\n",
      "CityofLA/JobBulletins_cleaned/COMMUNICATIONS CABLE SUPERVISOR 3800 051917 REVISED 060117.txt\n",
      "CityofLA/JobBulletins_cleaned/COMMUNICATIONS CABLE WORKER 3802 11816.txt\n",
      "CityofLA/JobBulletins_cleaned/COMMUNITY HOUSING PROGRAMS MANAGER 8500 072018 REV 080918 (2).txt\n",
      "CityofLA/JobBulletins_cleaned/CONSTRUCTION AND MAINTENANCE SUPERINTENDENT 3129 082616 REV 090816.txt\n",
      "CityofLA/JobBulletins_cleaned/CRIMINALIST 2234 030918.txt\n",
      "##########################################################\n",
      "CityofLA/JobBulletins_cleaned/CUSTODIAL SERVICES ASSISTANT 3149 012017.txt\n",
      "##########################################################\n",
      "CityofLA/JobBulletins_cleaned/CUSTOMER SERVICE REPRESENTATIVE 1230 020918.txt\n",
      "CityofLA/JobBulletins_cleaned/DECK HAND 5131 093016.txt\n",
      "CityofLA/JobBulletins_cleaned/DEPARTMENTAL CHIEF ACCOUNTANT 1593 111717 revised 11.21.txt\n",
      "CityofLA/JobBulletins_cleaned/DIRECTOR OF HOUSING 1568 062317.txt\n",
      "CityofLA/JobBulletins_cleaned/DIRECTOR OF MAINTENANCE AIRPORTS 7270 041516.txt\n",
      "CityofLA/JobBulletins_cleaned/ELECTRIC DISTRIBUTION MECHANIC SUPERVISOR 3873 102816.txt\n",
      "CityofLA/JobBulletins_cleaned/ELECTRIC SERVICE REPRESENTATIVE 020317.txt\n",
      "CityofLA/JobBulletins_cleaned/ELECTRIC TROUBLE DISPATCHER 3828 063017 (1).txt\n",
      "CityofLA/JobBulletins_cleaned/ELECTRICAL MECHANIC SUPERVISOR 3835 072216 REVISED 080416.txt\n",
      "CityofLA/JobBulletins_cleaned/ELECTRICAL REPAIR SUPERVISOR 3855 092217 (7).txt\n",
      "CityofLA/JobBulletins_cleaned/ELEVATOR MECHANIC 3866 012717 REV 080718.txt\n",
      "CityofLA/JobBulletins_cleaned/ENGINEERING DESIGNER 7217 082517 REV 090717.txt\n",
      "CityofLA/JobBulletins_cleaned/ENGINEERING GEOLOGIST 7255 022318.txt\n",
      "CityofLA/JobBulletins_cleaned/ENGINEERING GEOLOGIST ASSOCIATE 7253 082517.txt\n",
      "CityofLA/JobBulletins_cleaned/ENVIRONMENTAL ENGINEER  7872 082616 REV 090116.txt\n",
      "CityofLA/JobBulletins_cleaned/EQUIPMENT REPAIR SUPERVISOR 3746 012717.txt\n",
      "CityofLA/JobBulletins_cleaned/EQUIPMENT SUPERINTENDENT 3750 121914.txt\n",
      "CityofLA/JobBulletins_cleaned/EQUIPMENT SUPERVISOR 3527 041318.txt\n",
      "CityofLA/JobBulletins_cleaned/EXAMINER OF QUESTIONED DOCUMENTS 3229 120415.txt\n",
      "CityofLA/JobBulletins_cleaned/EXECUTIVE ADMINISTRATIVE ASSISTANT 1117 083118.txt\n",
      "CityofLA/JobBulletins_cleaned/EXECUTIVE ASSISTANT AIRPORTS 9186 060917 (1).txt\n",
      "CityofLA/JobBulletins_cleaned/EXHIBIT PREPARATOR 2444 062416.txt\n",
      "CityofLA/JobBulletins_cleaned/GALLERY ATTENDANT 2442 092515.txt\n",
      "CityofLA/JobBulletins_cleaned/GARAGE ATTENDANT 3531 013015.txt\n",
      "CityofLA/JobBulletins_cleaned/GENERAL AUTOMOTIVE SUPERVISOR 3718 061915.txt\n",
      "CityofLA/JobBulletins_cleaned/GENERAL SERVICES MANAGER  9601 042117.txt\n",
      "CityofLA/JobBulletins_cleaned/GEOGRAPHIC INFORMATION SYSTEMS CHIEF  7211 030416.txt\n",
      "CityofLA/JobBulletins_cleaned/GOLF STARTER SUPERVISOR 2479 120817.txt\n",
      "CityofLA/JobBulletins_cleaned/GRAPHICS SUPERVISOR 7935 052617 (4).txt\n",
      "CityofLA/JobBulletins_cleaned/HEATING AND REFRIGERATION INSPECTOR 4245 121115.txt\n",
      "CityofLA/JobBulletins_cleaned/HELICOPTER MECHANIC SUPERVISOR 3749 121616 REV 122216.txt\n",
      "CityofLA/JobBulletins_cleaned/HYDROGRAPHER 7263 012717.txt\n",
      "CityofLA/JobBulletins_cleaned/INDUSTRIAL CHEMIST 7834 020714.txt\n",
      "CityofLA/JobBulletins_cleaned/INFORMATION SYSTEMS MANAGER 1409 090117 (2).txt\n",
      "CityofLA/JobBulletins_cleaned/INSTRUMENT MECHANIC SUPERVISOR 3844 051917 final.txt\n",
      "CityofLA/JobBulletins_cleaned/INTERNAL AUDITOR 1625 011918.txt\n",
      "CityofLA/JobBulletins_cleaned/LANDSCAPE ARCHITECT 7929 090718.txt\n",
      "CityofLA/JobBulletins_cleaned/LEGISLATIVE ASSISTANT 1182 091815.txt\n",
      "CityofLA/JobBulletins_cleaned/LIBRARIAN 6152 051217 REV 020218.txt\n",
      "CityofLA/JobBulletins_cleaned/LIBRARY ASSISTANT 1172 051118 (2).txt\n",
      "CityofLA/JobBulletins_cleaned/LINE MAINTENANCE ASSISTANT 3882 122818.txt\n",
      "CityofLA/JobBulletins_cleaned/MACHINIST SUPERVISOR 3766 121815.txt\n",
      "CityofLA/JobBulletins_cleaned/MANAGEMENT ASSISTANT 1539 032318.txt\n",
      "CityofLA/JobBulletins_cleaned/MARINE ENVIRONMENTAL MANAGER 9437 060614.txt\n",
      "CityofLA/JobBulletins_cleaned/MATERIALS TESTING TECHNICIAN 7968 081318.txt\n",
      "CityofLA/JobBulletins_cleaned/MECHANICAL REPAIR GENERAL SUPERVISOR 3731 040116 REV 041416.txt\n",
      "CityofLA/JobBulletins_cleaned/MECHANICAL REPAIR SUPERVISOR 3795 051818.txt\n",
      "CityofLA/JobBulletins_cleaned/MECHANICAL REPAIRER 3773 092118.txt\n",
      "CityofLA/JobBulletins_cleaned/METER READER 1611 080715.txt\n",
      "CityofLA/JobBulletins_cleaned/OFFICE ENGINEERING TECHNICIAN 7212 110218.txt\n",
      "CityofLA/JobBulletins_cleaned/PAINTER SUPERVISOR 3426 120514.txt\n",
      "CityofLA/JobBulletins_cleaned/PARK SERVICES ATTENDANT 2412 032219.txt\n",
      "CityofLA/JobBulletins_cleaned/PARK SERVICES SUPERVISOR 2426 072018.txt\n",
      "CityofLA/JobBulletins_cleaned/PARKING METER TECHNICIAN 3738 110615 (1).txt\n",
      "CityofLA/JobBulletins_cleaned/PARKING METER TECHNICIAN SUPERVISOR 3757 2017.txt\n",
      "CityofLA/JobBulletins_cleaned/PAYROLL SUPERVISOR 1170 102618.txt\n",
      "CityofLA/JobBulletins_cleaned/PERSONNEL DIRECTOR 1714 050418.txt\n",
      "CityofLA/JobBulletins_cleaned/PERSONNEL RECORDS SUPERVISOR 1129 041318.txt\n",
      "CityofLA/JobBulletins_cleaned/PHOTOGRAPHER 1793 041516.txt\n",
      "CityofLA/JobBulletins_cleaned/PILE DRIVER WORKER 3553 041417.txt\n",
      "CityofLA/JobBulletins_cleaned/PIPEFITTER SUPERVISOR 3438 081216.txt\n",
      "CityofLA/JobBulletins_cleaned/POLICE PERFORMANCE AUDITOR 1627 120216.txt\n",
      "CityofLA/JobBulletins_cleaned/PORT ELECTRICAL MECHANIC SUPERVISOR 3759 031816.txt\n",
      "CityofLA/JobBulletins_cleaned/PORT POLICE CAPTAIN 3224 110416.txt\n",
      "CityofLA/JobBulletins_cleaned/PORT POLICE LIEUTENANT 3223 120916.txt\n",
      "CityofLA/JobBulletins_cleaned/PORT POLICE SERGEANT 3222 121616.txt\n",
      "CityofLA/JobBulletins_cleaned/PRINCIPAL ACCOUNTANT 1525 121517.txt\n",
      "CityofLA/JobBulletins_cleaned/PRINCIPAL ANIMAL KEEPER 4312 070618.txt\n",
      "CityofLA/JobBulletins_cleaned/PRINCIPAL CIVIL ENGINEER 9489 022318.txt\n",
      "CityofLA/JobBulletins_cleaned/PRINCIPAL CIVIL ENGINEERING DRAFTING TECHNICIAN 7219 110218.txt\n",
      "CityofLA/JobBulletins_cleaned/PRINCIPAL CLERK 1201 021618.txt\n",
      "CityofLA/JobBulletins_cleaned/PRINCIPAL COMMUNICATIONS OPERATOR 1458 072514.txt\n",
      "CityofLA/JobBulletins_cleaned/PRINCIPAL CONSTRUCTION INSPECTOR 7297 021618.txt\n",
      "CityofLA/JobBulletins_cleaned/PRINCIPAL DETENTION OFFICER 3215 101218.txt\n",
      "CityofLA/JobBulletins_cleaned/PRINCIPAL ELECTRICAL ENGINEERING DRAFTING TECHNICIAN 7531 090916 TRACK CHANGES.txt\n",
      "CityofLA/JobBulletins_cleaned/PRINCIPAL INSPECTOR 4226 061617.txt\n"
     ]
    },
    {
     "name": "stdout",
     "output_type": "stream",
     "text": [
      "CityofLA/JobBulletins_cleaned/PRINCIPAL MECHANICAL ENGINEERING DRAFTING TECHNICIAN 7550 081415.txt\n",
      "CityofLA/JobBulletins_cleaned/PRINCIPAL PROPERTY OFFICER 3210 121517.txt\n",
      "CityofLA/JobBulletins_cleaned/PRINCIPAL RECREATION SUPERVISOR 2464 021618.txt\n",
      "CityofLA/JobBulletins_cleaned/PRINCIPAL SECURITY OFFICER 3200 110218.txt\n",
      "CityofLA/JobBulletins_cleaned/PRINCIPAL STOREKEEPER 1839 072718.txt\n",
      "CityofLA/JobBulletins_cleaned/PRINCIPAL TAX AUDITOR 1524 110416.txt\n",
      "CityofLA/JobBulletins_cleaned/PRINCIPAL TAX COMPLIANCE OFFICER 1195 030218.txt\n",
      "CityofLA/JobBulletins_cleaned/PRINCIPAL UTILITY ACCOUNTANT 1589 030218 updated.txt\n",
      "CityofLA/JobBulletins_cleaned/PRINCIPAL WORKERS_ COMPENSATION ANALYST 1777 071814.txt\n",
      "CityofLA/JobBulletins_cleaned/PROCUREMENT SUPERVISOR 1852 050517.txt\n",
      "CityofLA/JobBulletins_cleaned/PROPERTY OFFICER 3207 071417 (1).txt\n",
      "CityofLA/JobBulletins_cleaned/PUBLIC RELATIONS SPECIALIST 1785 012017.txt\n",
      "CityofLA/JobBulletins_cleaned/RATES MANAGER 5601 012017.txt\n",
      "CityofLA/JobBulletins_cleaned/RECREATION SUPERVISOR 2460 101416 REVISED 102716.txt\n",
      "CityofLA/JobBulletins_cleaned/REFUSE COLLECTION SUPERVISOR 4101 033117.txt\n",
      "CityofLA/JobBulletins_cleaned/REHABILITATION PROJECT COORDINATOR 8502 032715.txt\n",
      "CityofLA/JobBulletins_cleaned/REINFORCING STEEL WORKER 3483 022318.txt\n",
      "CityofLA/JobBulletins_cleaned/REPROGRAPHICS OPERATOR 3162 110615.txt\n",
      "CityofLA/JobBulletins_cleaned/REPROGRAPHICS SUPERVISOR  3163 091517.txt\n",
      "CityofLA/JobBulletins_cleaned/RISK AND INSURANCE ASSISTANT 1645 072718.txt\n",
      "CityofLA/JobBulletins_cleaned/SAFETY ENGINEER 1727 021717.txt\n",
      "CityofLA/JobBulletins_cleaned/SAFETY ENGINEER ELEVATORS 4263 112015 REV 120215.txt\n",
      "CityofLA/JobBulletins_cleaned/SECRETARY 1116 030317.txt\n",
      "CityofLA/JobBulletins_cleaned/SECRETARY LEGAL  1924 081718.txt\n",
      "CityofLA/JobBulletins_cleaned/SENIOR ACCOUNTANT 1523 030218.txt\n",
      "CityofLA/JobBulletins_cleaned/SENIOR ADMINISTRATIVE CLERK 1368 062918 REV 091718.txt\n",
      "CityofLA/JobBulletins_cleaned/SENIOR ANIMAL CONTROL OFFICER 4316 111618.txt\n",
      "CityofLA/JobBulletins_cleaned/SENIOR ANIMAL KEEPER 4305 022616.txt\n",
      "CityofLA/JobBulletins_cleaned/SENIOR ARCHITECTURAL DRAFTING TECHNICIAN 7208 091418.txt\n",
      "CityofLA/JobBulletins_cleaned/SENIOR AUDITOR 1518 102618.txt\n",
      "CityofLA/JobBulletins_cleaned/SENIOR AUTOMOTIVE SUPERVISOR 3716 112015.txt\n",
      "CityofLA/JobBulletins_cleaned/SENIOR BUILDING INSPECTOR 4213 010816.txt\n",
      "CityofLA/JobBulletins_cleaned/SENIOR BUILDING MECHANICAL INSPECTOR 4253 2017 REV (1).txt\n",
      "CityofLA/JobBulletins_cleaned/SENIOR CARPENTER  3345 081117 REV 082417.txt\n",
      "CityofLA/JobBulletins_cleaned/SENIOR CHEMIST 7830 030416.txt\n",
      "CityofLA/JobBulletins_cleaned/SENIOR CIVIL ENGINEERING DRAFTING TECHNICIAN 7207 081718.txt\n",
      "CityofLA/JobBulletins_cleaned/SENIOR CLAIMS REPRESENTATIVE 1770 070717 (1).txt\n",
      "CityofLA/JobBulletins_cleaned/SENIOR COMMUNICATIONS CABLE WORKER 3801 102116 draft.txt\n",
      "CityofLA/JobBulletins_cleaned/SENIOR COMMUNICATIONS ELECTRICIAN 3638 030317 (1).txt\n",
      "CityofLA/JobBulletins_cleaned/SENIOR COMMUNICATIONS ELECTRICIAN SUPERVISOR 3691 041318.txt\n",
      "CityofLA/JobBulletins_cleaned/SENIOR COMMUNICATIONS OPERATOR 1467 122118.txt\n",
      "CityofLA/JobBulletins_cleaned/SENIOR DATA PROCESSING TECHNICIAN 1139 081117.txt\n",
      "CityofLA/JobBulletins_cleaned/SENIOR DETENTION OFFICER 3212 012017.txt\n",
      "CityofLA/JobBulletins_cleaned/SENIOR ELECTRIC SERVICE REPRESENTATIVE 7521 092917 (2).txt\n",
      "CityofLA/JobBulletins_cleaned/SENIOR ELECTRIC TROUBLE DISPATCHER 3829 100716.txt\n",
      "CityofLA/JobBulletins_cleaned/SENIOR ELECTRICAL ENGINEERING DRAFTING TECHNICIAN 7209 042817 REV 051117.txt\n",
      "CityofLA/JobBulletins_cleaned/SENIOR ELECTRICAL MECHANIC SUPERVISOR 3836 080417.txt\n",
      "CityofLA/JobBulletins_cleaned/SENIOR ELECTRICAL REPAIR SUPERVISOR 3856 060118.txt\n",
      "CityofLA/JobBulletins_cleaned/SENIOR ELECTRICAL TEST TECHNICIAN  7515 092917 REV 101117.txt\n",
      "CityofLA/JobBulletins_cleaned/SENIOR ELECTRICIAN  3864 102116 Rev 110216.txt\n",
      "CityofLA/JobBulletins_cleaned/SENIOR ENVIRONMENTAL COMPLIANCE INSPECTOR 4293 042916 REV 051916.txt\n",
      "CityofLA/JobBulletins_cleaned/SENIOR EQUIPMENT MECHANIC 3712 010518 REV 080718.txt\n",
      "CityofLA/JobBulletins_cleaned/SENIOR EXAMINER OF QUESTIONED DOCUMENTS 3231 072216 REVISED 072716.txt\n",
      "CityofLA/JobBulletins_cleaned/SENIOR FORENSIC PRINT SPECIALIST 2201 090718.txt\n",
      "CityofLA/JobBulletins_cleaned/SENIOR HEAVY DUTY EQUIPMENT MECHANIC 3745 012017.txt\n",
      "CityofLA/JobBulletins_cleaned/SENIOR HYDROGRAPHER 7264 030714.txt\n",
      "CityofLA/JobBulletins_cleaned/SENIOR LIBRARIAN 6153 033117.txt\n",
      "CityofLA/JobBulletins_cleaned/SENIOR MACHINIST SUPERVISOR 3768 051016.txt\n",
      "CityofLA/JobBulletins_cleaned/SENIOR MANAGEMENT ANALYST 9171 040618.txt\n",
      "CityofLA/JobBulletins_cleaned/SENIOR MECHANICAL ENGINEERING DRAFTING TECHNICIAN 7210 110416.txt\n",
      "CityofLA/JobBulletins_cleaned/SENIOR MECHANICAL REPAIRER 3772 030416.txt\n",
      "CityofLA/JobBulletins_cleaned/SENIOR PAINTER 3424 041318.txt\n",
      "CityofLA/JobBulletins_cleaned/SENIOR PARK MAINTENANCE SUPERVISOR 3146 101416.txt\n",
      "CityofLA/JobBulletins_cleaned/SENIOR PARK RANGER 1967 091815.txt\n",
      "CityofLA/JobBulletins_cleaned/SENIOR PARKING ATTENDANT 3529 032417.txt\n",
      "CityofLA/JobBulletins_cleaned/SENIOR POLICE SERVICE REPRESENTATIVE 2209 020918.txt\n",
      "CityofLA/JobBulletins_cleaned/SENIOR PORT ELECTRICAL MECHANIC 3847 072916 REV 081116 (1).txt\n",
      "CityofLA/JobBulletins_cleaned/SENIOR PROPERTY OFFICER 3209 012618.txt\n",
      "CityofLA/JobBulletins_cleaned/SENIOR RECREATION DIRECTOR 2446 050517 REV 051117.txt\n",
      "CityofLA/JobBulletins_cleaned/SENIOR ROOFER 3477 101708 REV 110608.txt\n",
      "CityofLA/JobBulletins_cleaned/SENIOR SAFETY ENGINEER ELEVATORS 4264  042718.txt\n",
      "CityofLA/JobBulletins_cleaned/SENIOR SECURITY OFFICER 3184 122818.txt\n",
      "CityofLA/JobBulletins_cleaned/SENIOR STOREKEEPER 1837 052518.txt\n",
      "CityofLA/JobBulletins_cleaned/SENIOR SYSTEMS ANALYST 1597 100617.txt\n",
      "CityofLA/JobBulletins_cleaned/SENIOR TITLE EXAMINER 1947 121517.txt\n",
      "CityofLA/JobBulletins_cleaned/SENIOR TRAFFIC SUPERVISOR 3218 121517.txt\n",
      "CityofLA/JobBulletins_cleaned/SENIOR TRANSPORTATION INVESTIGATOR 4273 070717 (2).txt\n",
      "CityofLA/JobBulletins_cleaned/SENIOR UNDERGROUND DISTRIBUTION CONSTRUCTION SUPERVISOR 3815 072817.txt\n",
      "CityofLA/JobBulletins_cleaned/SENIOR UTILITY ACCOUNTANT 1521 100716.txt\n",
      "CityofLA/JobBulletins_cleaned/SENIOR UTILITY BUYER 1862 052518.txt\n",
      "CityofLA/JobBulletins_cleaned/SENIOR UTILITY SERVICES SPECIALIST 3573 113018.txt\n",
      "CityofLA/JobBulletins_cleaned/SENIOR UTILITY SERVICES SPECIALIST 3753 121815 (1).txt\n",
      "CityofLA/JobBulletins_cleaned/SENIOR WINDOW CLEANER 3174 013114 Rev021314.txt\n",
      "CityofLA/JobBulletins_cleaned/SHEET METAL SUPERVISOR 3777 061314.txt\n",
      "CityofLA/JobBulletins_cleaned/SHOPS SUPERINTENDENT 3780 051118.txt\n",
      "CityofLA/JobBulletins_cleaned/SIGN SHOP SUPERVISOR 3419 030615.txt\n",
      "CityofLA/JobBulletins_cleaned/SIGNAL SYSTEMS SUPERINTENDENT 3832 110416.txt\n",
      "CityofLA/JobBulletins_cleaned/SIGNAL SYSTEMS SUPERVISOR 3839 092818.txt\n",
      "CityofLA/JobBulletins_cleaned/SOCIAL WORKER 2385 102717  revised.txt\n",
      "CityofLA/JobBulletins_cleaned/SOLID RESOURCES SUPERINTENDENT 4102 031017 REV 032317 (2).txt\n",
      "CityofLA/JobBulletins_cleaned/SOLID WASTE DISPOSAL SUPERINTENDENT 4108 020218.txt\n",
      "CityofLA/JobBulletins_cleaned/SPECIAL INVESTIGATOR 0602 042216.txt\n",
      "CityofLA/JobBulletins_cleaned/SR CRIME _ INTELLIGENCE ANALYST 2241 011516.txt\n",
      "CityofLA/JobBulletins_cleaned/STEAM PLANT MAINTENANCE MECHANIC 5630 0902116.txt\n",
      "CityofLA/JobBulletins_cleaned/STEAM PLANT MAINTENANCE SUPERVISOR 3786 033117.txt\n",
      "CityofLA/JobBulletins_cleaned/STEAM PLANT OPERATOR 5624 101416.txt\n",
      "CityofLA/JobBulletins_cleaned/STREET LIGHTING CONSTRUCTION AND MAINTENANCE SUPERINTENDENT 3820 051818.txt\n",
      "CityofLA/JobBulletins_cleaned/STREET LIGHTING ELECTRICIAN SUPERVISOR 3840 031717.txt\n",
      "CityofLA/JobBulletins_cleaned/STREET SERVICES SUPERVISOR 4152 082815.txt\n",
      "CityofLA/JobBulletins_cleaned/STREET SERVICES WORKER 4150 032318.txt\n",
      "CityofLA/JobBulletins_cleaned/STREET TREE SUPERINTENDENT 3160 060917.txt\n",
      "CityofLA/JobBulletins_cleaned/STRUCTURAL ENGINEER 7956 101918.txt\n",
      "CityofLA/JobBulletins_cleaned/STRUCTURAL STEEL FABRICATOR 3793 122316.txt\n",
      "CityofLA/JobBulletins_cleaned/STRUCTURAL STEEL FABRICATOR SUPERVISOR 3794 060217.txt\n",
      "CityofLA/JobBulletins_cleaned/SUPERVISING CRIMINALIST 2235 030416.txt\n",
      "CityofLA/JobBulletins_cleaned/SUPERVISING TRANSPORTATION PLANNER 2481 072216.txt\n",
      "CityofLA/JobBulletins_cleaned/SUPERVISING WATER SERVICE REPRESENTATIVE 1697 081318.txt\n",
      "CityofLA/JobBulletins_cleaned/SURVEY PARTY CHIEF 7286 093016.txt\n",
      "CityofLA/JobBulletins_cleaned/SURVEY SUPERVISOR 7287 110918.txt\n",
      "CityofLA/JobBulletins_cleaned/TAX COMPLIANCE AIDE 1173 061215 (1).txt\n",
      "CityofLA/JobBulletins_cleaned/TITLE EXAMINER 1943 032318 REV 040518.txt\n",
      "CityofLA/JobBulletins_cleaned/TRAFFIC MARKING AND SIGN SUPERINTENDENT 3430 032219.txt\n",
      "CityofLA/JobBulletins_cleaned/TRAFFIC PAINTER AND SIGN POSTER 3421 033117.txt\n",
      "CityofLA/JobBulletins_cleaned/TRANSMISSION AND DISTRIBUTION DISTRICT SUPERVISOR 3875 050418 REV 051718.txt\n",
      "CityofLA/JobBulletins_cleaned/TREE SURGEON ASSISTANT 3151 060316.txt\n",
      "CityofLA/JobBulletins_cleaned/UNDERGROUND DISTRIBUTION CONSTRUCTION SUPERVISOR 3814 121418 REV 122718 (1).txt\n",
      "CityofLA/JobBulletins_cleaned/UPHOLSTERER 3723 041715.txt\n",
      "CityofLA/JobBulletins_cleaned/UTILITY ACCOUNTANT 1511 092818.txt\n",
      "CityofLA/JobBulletins_cleaned/UTILITY ADMINISTRATOR 9105 060217.txt\n",
      "CityofLA/JobBulletins_cleaned/UTILITY BUYER 1861 090718.txt\n",
      "CityofLA/JobBulletins_cleaned/UTILITY EXECUTIVE SECRETARY 1336 042817 (1).txt\n",
      "CityofLA/JobBulletins_cleaned/UTILITY SERVICES SPECIALIST 3755 072117 (1).txt\n",
      "CityofLA/JobBulletins_cleaned/VETERINARY TECHNICIAN 2369 020599 REV 120417.txt\n",
      "CityofLA/JobBulletins_cleaned/VIDEO PRODUCTION COORDINATOR 1802 012717.txt\n",
      "CityofLA/JobBulletins_cleaned/VIDEO TECHNICIAN 6145 012717.txt\n",
      "##########################################################\n",
      "CityofLA/JobBulletins_cleaned/Vocational Worker  DEPARTMENT OF PUBLIC WORKS.txt\n",
      "##########################################################\n",
      "CityofLA/JobBulletins_cleaned/WATER BIOLOGIST 7856 120216.txt\n",
      "CityofLA/JobBulletins_cleaned/WATER SERVICE REPRESENTATIVE 1693 111717.txt\n",
      "CityofLA/JobBulletins_cleaned/WATER SERVICE SUPERVISOR 3930 012717.txt\n",
      "CityofLA/JobBulletins_cleaned/WATER TREATMENT OPERATOR 5885 122118.txt\n",
      "CityofLA/JobBulletins_cleaned/WATER TREATMENT SUPERVISOR 5887 072018.txt\n",
      "CityofLA/JobBulletins_cleaned/WATER UTILITY SUPERINTENDENT 3980 121418.txt\n",
      "CityofLA/JobBulletins_cleaned/WATERWORKS MECHANIC SUPERVISOR 3987 051614 (1).txt\n",
      "CityofLA/JobBulletins_cleaned/WELDER SUPERVISOR 3798 120817.txt\n",
      "CityofLA/JobBulletins_cleaned/WORKERS_ COMPENSATION CLAIMS ASSISTANT 1775 041114.txt\n"
     ]
    }
   ],
   "source": [
    "# Define path to look at\n",
    "path = 'CityofLA/JobBulletins_cleaned/'\n",
    "\n",
    "# Get a list of all txt files in this path\n",
    "all_jobs = os.listdir(path)\n",
    "all_jobs.sort() # WARNING: this mutates the list\n",
    "\n",
    "for file_name in all_jobs:\n",
    "    # Find path\n",
    "    job_path = path + file_name\n",
    "    # Read in job as string based on job_path\n",
    "    job      = open(job_path, 'rt').read()\n",
    "    try:\n",
    "        # Print out jobs that don't have itemizers in the requirement section\n",
    "        txt      = job[job.index('REQUIREMENTS/MINIMUM QUALIFICATIONS'):job.index('PROCESS NOTES')]\n",
    "        digits_as_str = [sentence[-1] for sentence in txt.split('.') if sentence[-1].isdigit()]\n",
    "        if len(digits_as_str) == 0:\n",
    "            print(job_path)\n",
    "    except:\n",
    "        print('##########################################################')\n",
    "        print(job_path)\n",
    "        print('##########################################################')"
   ]
  },
  {
   "cell_type": "code",
   "execution_count": 40,
   "metadata": {
    "scrolled": true
   },
   "outputs": [
    {
     "data": {
      "text/plain": [
       "'REQUIREMENTS/MINIMUM QUALIFICATIONS\\n\\n1. Two years of full-time paid experience with water systems facilities in construction, maintenance, or operations; or\\n2. Two years of full-time paid experience operating or maintaining large irrigation systems.\\n\\n'"
      ]
     },
     "execution_count": 40,
     "metadata": {},
     "output_type": "execute_result"
    }
   ],
   "source": [
    "# Search logic\n",
    "\n",
    "i = all_jobs.index('AQUEDUCT AND RESERVOIR KEEPER 5813 063017 (1).txt')\n",
    "\n",
    "p = path + all_jobs[i]\n",
    "j = open(p, 'rt').read()\n",
    "t = j[j.index('REQUIREMENTS/MINIMUM QUALIFICATIONS'):j.index('PROCESS NOTES')]\n",
    "t"
   ]
  },
  {
   "cell_type": "code",
   "execution_count": 37,
   "metadata": {},
   "outputs": [
    {
     "data": {
      "text/plain": [
       "'AQUEDUCT AND RESERVOIR KEEPER       \\nClass Code:       5813\\nOpen Date:  06-30-17\\n(Exam Open to All, including Current City Employees)\\nANNUAL SALARY\\n\\n$55,415 to $68,841; $61,491 to $76,379; $64,352 to $79,949 \\n\\nNOTES:  \\n\\n1. For information regarding reciprocity between the City of Los Angeles departments and LADWP, go to http://per.lacity.org/Reciprocity_CityDepts_and_DWP.pdf.\\n2. The current salary range is subject to change. You may confirm the starting salary with the hiring department before accepting a job offer.\\n3. Candidates from the eligible list are normally appointed to vacancies in the lower pay grade position.\\n\\nDUTIES\\n\\nAn Aqueduct and Reservoir Keeper patrols and inspects a reservoir, a section of an aqueduct, or water shed to locate actual or potentially unsafe or unsanitary conditions; operates gates and valves as instructed to control the flow of water; monitors pressure, flow and various alarm systems; operates remote valves through electrical control panels; and maintains reservoir grounds.\\n\\nVACANCIES\\n\\nIt is expected that most appointments made from the eligible list resulting from this examination will be to positions that are located in the Owens Valley near Bishop, Independence, and Lone Pine, California and Antelope Valley near Mojave, California.\\n\\nPROCESS NOTES\\n\\nSome positions in the Owens Valley may require at least one year of data entry experience.\\n\\nREQUIREMENTS/MINIMUM QUALIFICATIONS\\n\\n1. Two years of full-time paid experience with water systems facilities in construction, maintenance, or operations; or\\n2. Two years of full-time paid experience operating or maintaining large irrigation systems.\\n\\nPROCESS NOTES \\t\\n\\n1. Applicants who lack six months or less of the above experience may file for this examination.  However, they cannot be appointed until the full experience requirement is met.\\n2. Some positions may require a valid California driver\\'s license. Candidates may not be eligible for appointment to these positions if their record within the last 36 months reflects three or more moving violations and/or at-fault accidents, or a conviction of a major moving violation (such as DUI).\\n3. Candidates must possess and maintain the physical stamina and agility to be able to climb ladders, walk on top of pipelines and work in cramped and confined spaces.\\n\\nWHERE TO APPLY\\n\\nApplications will only be accepted on-line. When you are viewing the on-line job bulletin of your choice, simply scroll to the top of the page and select the \"Apply\" icon. On-line job bulletins are also available at https://www.governmentjobs.com/careers/lacity  for Open Competitive Examinations and at https://www.governmentjobs.com/careers/lacity/promotionaljobs for Promotional Examinations. \\n\\n\\nNOTE:\\n\\n Applicants are urged to apply early to ensure you have time to resolve any technical issues you may encounter.\\n\\nAPPLICATION DEADLINE\\n\\nApplications must be received by THURSDAY, JULY 13, 2017.\\n\\n\\n\\nIn accordance with Civil Service Rule 4.2, all applicants who apply may not be tested in this examination. To meet anticipated hiring needs, only a limited number of qualified applicants will be invited to participate in the written test in the following order: 1) Los Angeles City Promotional applicants who meet the minimum requirements. You must have received a regular appointment to a City position or be on a reserve list to apply for this examination as a promotional candidate; 2) Applicants currently employed by the City of Los Angeles on a part-time or exempt basis who meet the minimum requirements; 3) Remaining applicants who meet the minimum requirements in sufficient numbers to meet hiring needs in the order that applications were received. Applications submitted during the filing period will be kept on file for two years from June 30, 2017 in the event that additional applicants need to be tested to meet hiring needs.\\n\\nSELECTION PROCESS\\n\\nAfter meeting minimum qualifications, and in accordance with Rule 4.2, candidates will be scheduled for the following:\\n\\nExamination Weight:  Written Test . . . . . . . . . . . . . . . . . . . . . . . . . . . . . . . . . . . . . . . . . . . . . . . . . . . . . . . . . . . . . . . . . . . .100%\\n\\nThis examination will consist entirely of a written test comprised of multiple-choice questions, in which candidates may be examined for knowledge of:  operation, function, and nomenclature of equipment including gates, screen systems, pumps, drainage systems, irrigation systems, tower gates, and related equipment and facilities  elementary hydraulics theory involving the flow and storage of water as well as techniques for measuring water flow and pressure stage capacity;  procedures for reading and interpreting various instruments such as flow meters, manometers, staff gauges, pressure gauges, and miscellaneous weather gauges;  elementary mathematics such as basic algebra, adding, subtracting, multiplying, dividing, and measurement and unit conversion;  safety procedures and practices including first aid, accident prevention, firefighting techniques, safe driving and boating techniques, applicable Cal/OSHA and DWP safety laws, rules, and lock out and tag out procedures supervision including planning and directing the work of subordinates and providing instructions techniques for relating effectively to the public; and the ability to: complete and maintain logs and records; and other necessary skills, knowledge and abilities; ability to read and interpret prints for piping system.\\n\\nCandidates will be notified later by e-mail of the time and location of the written test, which will be administered in a single half-day session on SATURDAY, SEPTEMBER 9, 2017 in Los Angeles and Bishop, California.  \\n\\nNOTES:\\n\\n1.   This examination is based on a validation study, and as provided by Civil Service Commission Rule 4.20, the written test will not be subject to candidate inspection.\\n2.    As a covered entity under the Fair Employment and Housing Act and Title II of the Americans with Disabilities Act, the City of Los Angeles does not discriminate on the basis of disability and, upon request, will provide reasonable accommodations to ensure equal access to its programs, services, and activities. To request a disability accommodation, please complete the Disability Accommodation Form within 14 calendar days of the submittal of the City application.  The Disability Accommodation Form can be obtained at http://per.lacity.org/exams/verify_disability.pdf. \\n3.     Applications are accepted subject to review to ensure that minimum qualifications are met.  Candidates may be disqualified at any time if it is determined they do not possess the minimum qualifications stated on this bulletin.\\n4.     The promotional list will ordinarily be used ahead of the open competitive list.  However, if open competitive candidates receive a higher score, without military credits, than the highest available promotional candidate, after adding seniority credit at the rate of 0.25 of a point for each year of continuous classified City service, the Civil Service Commission, upon request of the appointing authority, may approve certification of such open competitive candidates ahead of the promotional candidates.  \\n5.     A final average score of 70% is required to be placed on the eligible list.\\n6.     In conjunction with Civil Service rules, applicants who have received a regular appointment to a City position or are on a reserve list will be considered Promotional candidates while all other applicants will be considered Open candidates.\\n7.     In accordance with Civil Service Rule, Sec. 4.24, review periods may be combined. Candidates in the examination process may file protests as provided in Sec. 4.20, 4.22 and 4.23 as applicable and within the required time frame; however, the Personnel Department may respond to and resolve protests prior to the establishment of the eligible list.\\n\\nNOTICE:\\n\\nIf you receive and accept an offer of employment to a regular position with the City of Los Angeles, your employee benefit coverage (including health and dental coverage as well as life insurance) will commence approximately six weeks after your original regular appointment.  Not all positions in the City receive benefit coverage; you should inquire regarding the availability of employee benefits prior to accepting a position.\\n\\nTHIS EXAMINATION IS TO BE GIVEN BOTH ON AN\\nINTERDEPARTMENTAL PROMOTIONAL AND OPEN COMPETITIVE BASIS\\n\\nThe City of Los Angeles does not discriminate on the basis of race, religion, national origin, sex, age, marital status, sexual orientation, gender identity, gender expression, disability, creed, color, ancestry, medical condition (cancer), or Acquired Immune Deficiency Syndrome.\\nClass Code 5813 . . . . . . . . . . . . . . . . . . . . . . . . . . . . . . . . . . . . . . . . . . . . . . . . . . . . . . . . . . . . . . . . . . . . . . . . . . . 06-30-17 \\n\\nAN EQUAL EMPLOYMENT OPPORTUNITY EMPLOYER\\n\\n'"
      ]
     },
     "execution_count": 37,
     "metadata": {},
     "output_type": "execute_result"
    }
   ],
   "source": [
    "j.index"
   ]
  },
  {
   "cell_type": "code",
   "execution_count": null,
   "metadata": {},
   "outputs": [],
   "source": []
  }
 ],
 "metadata": {
  "kernelspec": {
   "display_name": "Python 3",
   "language": "python",
   "name": "python3"
  },
  "language_info": {
   "codemirror_mode": {
    "name": "ipython",
    "version": 3
   },
   "file_extension": ".py",
   "mimetype": "text/x-python",
   "name": "python",
   "nbconvert_exporter": "python",
   "pygments_lexer": "ipython3",
   "version": "3.7.1"
  }
 },
 "nbformat": 4,
 "nbformat_minor": 2
}
